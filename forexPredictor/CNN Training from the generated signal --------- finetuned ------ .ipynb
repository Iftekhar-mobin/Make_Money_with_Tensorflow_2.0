{
 "cells": [
  {
   "cell_type": "code",
   "execution_count": 2,
   "id": "77730f54-8cda-4a1d-a7e4-c85611ae9dc0",
   "metadata": {},
   "outputs": [],
   "source": [
    "import pandas as pd\n",
    "import os"
   ]
  },
  {
   "cell_type": "code",
   "execution_count": 3,
   "id": "4ee2bb26-03f9-41b2-a4b2-783951667c2d",
   "metadata": {},
   "outputs": [],
   "source": [
    "raw_data = pd.read_csv(os.path.join(os.getcwd(), 'Cleaned_Signal_EURUSD_for_training.csv'))"
   ]
  },
  {
   "cell_type": "code",
   "execution_count": 4,
   "id": "82f5a890-f749-46c7-b28e-09cb881d64ca",
   "metadata": {},
   "outputs": [
    {
     "data": {
      "text/html": [
       "<div>\n",
       "<style scoped>\n",
       "    .dataframe tbody tr th:only-of-type {\n",
       "        vertical-align: middle;\n",
       "    }\n",
       "\n",
       "    .dataframe tbody tr th {\n",
       "        vertical-align: top;\n",
       "    }\n",
       "\n",
       "    .dataframe thead th {\n",
       "        text-align: right;\n",
       "    }\n",
       "</style>\n",
       "<table border=\"1\" class=\"dataframe\">\n",
       "  <thead>\n",
       "    <tr style=\"text-align: right;\">\n",
       "      <th></th>\n",
       "      <th>Open</th>\n",
       "      <th>High</th>\n",
       "      <th>Low</th>\n",
       "      <th>Close</th>\n",
       "      <th>Volume</th>\n",
       "      <th>Signal</th>\n",
       "    </tr>\n",
       "    <tr>\n",
       "      <th>Date</th>\n",
       "      <th></th>\n",
       "      <th></th>\n",
       "      <th></th>\n",
       "      <th></th>\n",
       "      <th></th>\n",
       "      <th></th>\n",
       "    </tr>\n",
       "  </thead>\n",
       "  <tbody>\n",
       "    <tr>\n",
       "      <th>2014-12-31 18:00:00</th>\n",
       "      <td>1.20997</td>\n",
       "      <td>1.21089</td>\n",
       "      <td>1.20966</td>\n",
       "      <td>1.20999</td>\n",
       "      <td>3237</td>\n",
       "      <td>0</td>\n",
       "    </tr>\n",
       "    <tr>\n",
       "      <th>2015-01-02 08:00:00</th>\n",
       "      <td>1.20481</td>\n",
       "      <td>1.20569</td>\n",
       "      <td>1.20479</td>\n",
       "      <td>1.20538</td>\n",
       "      <td>1254</td>\n",
       "      <td>0</td>\n",
       "    </tr>\n",
       "    <tr>\n",
       "      <th>2015-01-02 09:00:00</th>\n",
       "      <td>1.20537</td>\n",
       "      <td>1.20574</td>\n",
       "      <td>1.20341</td>\n",
       "      <td>1.20553</td>\n",
       "      <td>3394</td>\n",
       "      <td>0</td>\n",
       "    </tr>\n",
       "    <tr>\n",
       "      <th>2015-01-02 10:00:00</th>\n",
       "      <td>1.20556</td>\n",
       "      <td>1.20689</td>\n",
       "      <td>1.20442</td>\n",
       "      <td>1.20469</td>\n",
       "      <td>4590</td>\n",
       "      <td>0</td>\n",
       "    </tr>\n",
       "    <tr>\n",
       "      <th>2015-01-02 11:00:00</th>\n",
       "      <td>1.20468</td>\n",
       "      <td>1.20599</td>\n",
       "      <td>1.20380</td>\n",
       "      <td>1.20573</td>\n",
       "      <td>4335</td>\n",
       "      <td>0</td>\n",
       "    </tr>\n",
       "    <tr>\n",
       "      <th>...</th>\n",
       "      <td>...</td>\n",
       "      <td>...</td>\n",
       "      <td>...</td>\n",
       "      <td>...</td>\n",
       "      <td>...</td>\n",
       "      <td>...</td>\n",
       "    </tr>\n",
       "    <tr>\n",
       "      <th>2024-12-20 10:00:00</th>\n",
       "      <td>1.03816</td>\n",
       "      <td>1.03974</td>\n",
       "      <td>1.03770</td>\n",
       "      <td>1.03913</td>\n",
       "      <td>5104</td>\n",
       "      <td>1</td>\n",
       "    </tr>\n",
       "    <tr>\n",
       "      <th>2024-12-20 11:00:00</th>\n",
       "      <td>1.03913</td>\n",
       "      <td>1.03915</td>\n",
       "      <td>1.03749</td>\n",
       "      <td>1.03817</td>\n",
       "      <td>4389</td>\n",
       "      <td>1</td>\n",
       "    </tr>\n",
       "    <tr>\n",
       "      <th>2024-12-20 12:00:00</th>\n",
       "      <td>1.03818</td>\n",
       "      <td>1.03921</td>\n",
       "      <td>1.03803</td>\n",
       "      <td>1.03908</td>\n",
       "      <td>3521</td>\n",
       "      <td>1</td>\n",
       "    </tr>\n",
       "    <tr>\n",
       "      <th>2024-12-20 13:00:00</th>\n",
       "      <td>1.03908</td>\n",
       "      <td>1.03964</td>\n",
       "      <td>1.03785</td>\n",
       "      <td>1.03906</td>\n",
       "      <td>3663</td>\n",
       "      <td>1</td>\n",
       "    </tr>\n",
       "    <tr>\n",
       "      <th>2024-12-20 14:00:00</th>\n",
       "      <td>1.03906</td>\n",
       "      <td>1.03992</td>\n",
       "      <td>1.03869</td>\n",
       "      <td>1.03885</td>\n",
       "      <td>3749</td>\n",
       "      <td>1</td>\n",
       "    </tr>\n",
       "  </tbody>\n",
       "</table>\n",
       "<p>61938 rows × 6 columns</p>\n",
       "</div>"
      ],
      "text/plain": [
       "                        Open     High      Low    Close  Volume  Signal\n",
       "Date                                                                   \n",
       "2014-12-31 18:00:00  1.20997  1.21089  1.20966  1.20999    3237       0\n",
       "2015-01-02 08:00:00  1.20481  1.20569  1.20479  1.20538    1254       0\n",
       "2015-01-02 09:00:00  1.20537  1.20574  1.20341  1.20553    3394       0\n",
       "2015-01-02 10:00:00  1.20556  1.20689  1.20442  1.20469    4590       0\n",
       "2015-01-02 11:00:00  1.20468  1.20599  1.20380  1.20573    4335       0\n",
       "...                      ...      ...      ...      ...     ...     ...\n",
       "2024-12-20 10:00:00  1.03816  1.03974  1.03770  1.03913    5104       1\n",
       "2024-12-20 11:00:00  1.03913  1.03915  1.03749  1.03817    4389       1\n",
       "2024-12-20 12:00:00  1.03818  1.03921  1.03803  1.03908    3521       1\n",
       "2024-12-20 13:00:00  1.03908  1.03964  1.03785  1.03906    3663       1\n",
       "2024-12-20 14:00:00  1.03906  1.03992  1.03869  1.03885    3749       1\n",
       "\n",
       "[61938 rows x 6 columns]"
      ]
     },
     "execution_count": 4,
     "metadata": {},
     "output_type": "execute_result"
    }
   ],
   "source": [
    "df = raw_data\n",
    "if 'Unnamed: 0' in df.columns:\n",
    "    df.drop(columns=['Unnamed: 0'], inplace=True)\n",
    "df['Date'] = pd.to_datetime(df['time'], unit='s')   \n",
    "df = df[['Date', 'Open', 'High', 'Low', 'Close', 'Volume', 'Signal']]\n",
    "df.set_index('Date', inplace=True)\n",
    "df"
   ]
  },
  {
   "cell_type": "code",
   "execution_count": 6,
   "id": "19864d2a-c40b-4e16-8b95-c4f43444e4a1",
   "metadata": {},
   "outputs": [],
   "source": [
    "raw_data = df"
   ]
  },
  {
   "cell_type": "code",
   "execution_count": 5,
   "id": "fe71446b",
   "metadata": {},
   "outputs": [],
   "source": [
    "import pandas as pd\n",
    "from pathlib import Path\n",
    "import os\n",
    "import numpy as np\n",
    "import matplotlib.pyplot as plt\n",
    "import seaborn as sns\n",
    "\n",
    "\n",
    "from sklearn.model_selection import train_test_split\n",
    "from imblearn.over_sampling import RandomOverSampler, SMOTE\n",
    "from sklearn.utils.class_weight import compute_class_weight\n",
    "from collections import Counter\n",
    "from sklearn.preprocessing import MinMaxScaler, OneHotEncoder\n",
    "from sklearn.model_selection import train_test_split\n",
    "# from imblearn.over_sampling import SMOTE, ADASYN, RandomOverSampler\n",
    "from collections import Counter\n",
    "from sklearn.metrics import confusion_matrix\n",
    "\n",
    "from operator import itemgetter\n",
    "from sklearn.feature_selection import SelectKBest, f_classif, mutual_info_classif, RFE\n",
    "from sklearn.linear_model import LassoCV\n",
    "from sklearn.ensemble import RandomForestClassifier\n",
    "from sklearn.preprocessing import StandardScaler\n",
    "\n",
    "import tensorflow as tf\n",
    "from tensorflow.keras.models import Sequential\n",
    "from tensorflow.keras.layers import Conv1D, MaxPooling1D, Flatten, Dense, Dropout\n",
    "from tensorflow.keras.utils import to_categorical\n",
    "from tensorflow.keras.models import load_model\n",
    "from sklearn.metrics import classification_report"
   ]
  },
  {
   "cell_type": "code",
   "execution_count": 6,
   "id": "cebe1c09",
   "metadata": {},
   "outputs": [
    {
     "data": {
      "text/html": [
       "<div>\n",
       "<style scoped>\n",
       "    .dataframe tbody tr th:only-of-type {\n",
       "        vertical-align: middle;\n",
       "    }\n",
       "\n",
       "    .dataframe tbody tr th {\n",
       "        vertical-align: top;\n",
       "    }\n",
       "\n",
       "    .dataframe thead th {\n",
       "        text-align: right;\n",
       "    }\n",
       "</style>\n",
       "<table border=\"1\" class=\"dataframe\">\n",
       "  <thead>\n",
       "    <tr style=\"text-align: right;\">\n",
       "      <th></th>\n",
       "      <th>Open</th>\n",
       "      <th>High</th>\n",
       "      <th>Low</th>\n",
       "      <th>Close</th>\n",
       "      <th>Volume</th>\n",
       "      <th>Time</th>\n",
       "      <th>Date</th>\n",
       "      <th>Signal</th>\n",
       "      <th>Moving_Avg</th>\n",
       "      <th>Upper_Band</th>\n",
       "      <th>Lower_Band</th>\n",
       "    </tr>\n",
       "  </thead>\n",
       "  <tbody>\n",
       "    <tr>\n",
       "      <th>0</th>\n",
       "      <td>1.20997</td>\n",
       "      <td>1.21089</td>\n",
       "      <td>1.20966</td>\n",
       "      <td>1.20999</td>\n",
       "      <td>3237</td>\n",
       "      <td>2014-12-31 18:00:00</td>\n",
       "      <td>2014-12-31 18:00:00</td>\n",
       "      <td>0</td>\n",
       "      <td>NaN</td>\n",
       "      <td>NaN</td>\n",
       "      <td>NaN</td>\n",
       "    </tr>\n",
       "    <tr>\n",
       "      <th>1</th>\n",
       "      <td>1.20481</td>\n",
       "      <td>1.20569</td>\n",
       "      <td>1.20479</td>\n",
       "      <td>1.20538</td>\n",
       "      <td>1254</td>\n",
       "      <td>2015-01-02 08:00:00</td>\n",
       "      <td>2015-01-02 08:00:00</td>\n",
       "      <td>0</td>\n",
       "      <td>NaN</td>\n",
       "      <td>NaN</td>\n",
       "      <td>NaN</td>\n",
       "    </tr>\n",
       "    <tr>\n",
       "      <th>2</th>\n",
       "      <td>1.20537</td>\n",
       "      <td>1.20574</td>\n",
       "      <td>1.20341</td>\n",
       "      <td>1.20553</td>\n",
       "      <td>3394</td>\n",
       "      <td>2015-01-02 09:00:00</td>\n",
       "      <td>2015-01-02 09:00:00</td>\n",
       "      <td>0</td>\n",
       "      <td>NaN</td>\n",
       "      <td>NaN</td>\n",
       "      <td>NaN</td>\n",
       "    </tr>\n",
       "    <tr>\n",
       "      <th>3</th>\n",
       "      <td>1.20556</td>\n",
       "      <td>1.20689</td>\n",
       "      <td>1.20442</td>\n",
       "      <td>1.20469</td>\n",
       "      <td>4590</td>\n",
       "      <td>2015-01-02 10:00:00</td>\n",
       "      <td>2015-01-02 10:00:00</td>\n",
       "      <td>0</td>\n",
       "      <td>NaN</td>\n",
       "      <td>NaN</td>\n",
       "      <td>NaN</td>\n",
       "    </tr>\n",
       "    <tr>\n",
       "      <th>4</th>\n",
       "      <td>1.20468</td>\n",
       "      <td>1.20599</td>\n",
       "      <td>1.20380</td>\n",
       "      <td>1.20573</td>\n",
       "      <td>4335</td>\n",
       "      <td>2015-01-02 11:00:00</td>\n",
       "      <td>2015-01-02 11:00:00</td>\n",
       "      <td>0</td>\n",
       "      <td>NaN</td>\n",
       "      <td>NaN</td>\n",
       "      <td>NaN</td>\n",
       "    </tr>\n",
       "  </tbody>\n",
       "</table>\n",
       "</div>"
      ],
      "text/plain": [
       "      Open     High      Low    Close  Volume                 Time   \n",
       "0  1.20997  1.21089  1.20966  1.20999    3237  2014-12-31 18:00:00  \\\n",
       "1  1.20481  1.20569  1.20479  1.20538    1254  2015-01-02 08:00:00   \n",
       "2  1.20537  1.20574  1.20341  1.20553    3394  2015-01-02 09:00:00   \n",
       "3  1.20556  1.20689  1.20442  1.20469    4590  2015-01-02 10:00:00   \n",
       "4  1.20468  1.20599  1.20380  1.20573    4335  2015-01-02 11:00:00   \n",
       "\n",
       "                  Date  Signal  Moving_Avg  Upper_Band  Lower_Band  \n",
       "0  2014-12-31 18:00:00       0         NaN         NaN         NaN  \n",
       "1  2015-01-02 08:00:00       0         NaN         NaN         NaN  \n",
       "2  2015-01-02 09:00:00       0         NaN         NaN         NaN  \n",
       "3  2015-01-02 10:00:00       0         NaN         NaN         NaN  \n",
       "4  2015-01-02 11:00:00       0         NaN         NaN         NaN  "
      ]
     },
     "execution_count": 6,
     "metadata": {},
     "output_type": "execute_result"
    }
   ],
   "source": [
    "# file_name = 'merged_data.csv'\n",
    "file_name = '0_61938.csv'\n",
    "data_dir = 'ohlc_data'\n",
    "data_path = os.path.join(os.getcwd(), data_dir, file_name)\n",
    "\n",
    "data = pd.read_csv(data_path, index_col=0)\n",
    "data.reset_index(drop=True, inplace=True)\n",
    "data.head()"
   ]
  },
  {
   "cell_type": "code",
   "execution_count": 7,
   "id": "bafde5df-174e-451e-8abd-fa962a83fcdf",
   "metadata": {},
   "outputs": [],
   "source": [
    "data = df"
   ]
  },
  {
   "cell_type": "code",
   "execution_count": 8,
   "id": "5c81dd83",
   "metadata": {},
   "outputs": [
    {
     "data": {
      "text/plain": [
       "Signal\n",
       " 0    27544\n",
       "-1    17503\n",
       " 1    16891\n",
       "Name: count, dtype: int64"
      ]
     },
     "execution_count": 8,
     "metadata": {},
     "output_type": "execute_result"
    }
   ],
   "source": [
    "data['Signal'].value_counts()"
   ]
  },
  {
   "cell_type": "markdown",
   "id": "f79841eb",
   "metadata": {},
   "source": [
    "###  Desired logic:\n",
    "#### Initially all zeros.\n",
    "#### When you hit a 1 or 2, keep repeating that value until the next non-zero (different) signal appears.\n",
    "#### If 0 appears after a 1 or 2, treat it as \"repeat the last non-zero\". \n",
    "#### Propagate the last non-zero signal forward until a new one appears.\n",
    "#### If any span of a propagated signal (1 or 2) is less than 10 in length, replace it with 0."
   ]
  },
  {
   "cell_type": "code",
   "execution_count": 26,
   "id": "14444480",
   "metadata": {},
   "outputs": [
    {
     "name": "stdout",
     "output_type": "stream",
     "text": [
      "Before [0 0 0 ... 1 1 1]\n"
     ]
    }
   ],
   "source": [
    "# import numpy as np\n",
    "\n",
    "# # Input signal (replace with your actual data)\n",
    "# signal = np.array([\n",
    "#     0, 0, 0, 0, 2, 0, 0, 0, 1, 0, 0, 2, 0, 1, 0, 0, 0, 0, 0, 0,\n",
    "#     0, 2, 2, 2, 2, 2, 2, 2, 2, 2, 2, 1, 1, 1, 1, 1, 1, 1, 1, 1,\n",
    "#     1, 0, 0, 0\n",
    "# ], dtype=int)\n",
    "\n",
    "signal = data.Signal.values\n",
    "Threshold = 100\n",
    "\n",
    "# Step 1: Propagate signals forward\n",
    "output = np.zeros_like(signal)\n",
    "last = 0\n",
    "for i, val in enumerate(signal):\n",
    "    if val != 0:\n",
    "        last = val\n",
    "    output[i] = last\n",
    "print('Before', output)\n",
    "# Step 2: Remove short signal spans (less than 10)\n",
    "i = 0\n",
    "while i < len(output):\n",
    "    val = output[i]\n",
    "    if val == 0:\n",
    "        i += 1\n",
    "        continue\n",
    "    # Count span length\n",
    "    start = i\n",
    "    while i < len(output) and output[i] == val:\n",
    "        i += 1\n",
    "    end = i\n",
    "    span = end - start\n",
    "    if span < Threshold:\n",
    "        output[start:end] = 0\n",
    "\n",
    "# print(output)\n"
   ]
  },
  {
   "cell_type": "code",
   "execution_count": 27,
   "id": "2d710861",
   "metadata": {},
   "outputs": [],
   "source": [
    "data['signal_balanced'] = output"
   ]
  },
  {
   "cell_type": "code",
   "execution_count": 28,
   "id": "39b6b0a3",
   "metadata": {},
   "outputs": [
    {
     "data": {
      "text/plain": [
       "signal_balanced\n",
       "1    23616\n",
       "2    21962\n",
       "0    16360\n",
       "Name: count, dtype: int64"
      ]
     },
     "execution_count": 28,
     "metadata": {},
     "output_type": "execute_result"
    }
   ],
   "source": [
    "data['signal_balanced'].value_counts()"
   ]
  },
  {
   "cell_type": "code",
   "execution_count": 16,
   "id": "a2b8ec95",
   "metadata": {},
   "outputs": [
    {
     "ename": "NameError",
     "evalue": "name 'feature_generate' is not defined",
     "output_type": "error",
     "traceback": [
      "\u001b[1;31m---------------------------------------------------------------------------\u001b[0m",
      "\u001b[1;31mNameError\u001b[0m                                 Traceback (most recent call last)",
      "Cell \u001b[1;32mIn[16], line 10\u001b[0m\n\u001b[0;32m      6\u001b[0m data \u001b[38;5;241m=\u001b[39m pd\u001b[38;5;241m.\u001b[39mread_csv(data_path, index_col\u001b[38;5;241m=\u001b[39m\u001b[38;5;241m0\u001b[39m)\n\u001b[0;32m      7\u001b[0m data\u001b[38;5;241m.\u001b[39mreset_index(drop\u001b[38;5;241m=\u001b[39m\u001b[38;5;28;01mTrue\u001b[39;00m, inplace\u001b[38;5;241m=\u001b[39m\u001b[38;5;28;01mTrue\u001b[39;00m)\n\u001b[1;32m---> 10\u001b[0m features_df \u001b[38;5;241m=\u001b[39m \u001b[43mfeature_generate\u001b[49m(data)\n\u001b[0;32m     12\u001b[0m features_df_nonan \u001b[38;5;241m=\u001b[39m features_df\u001b[38;5;241m.\u001b[39mdropna()\u001b[38;5;241m.\u001b[39mreset_index()\u001b[38;5;241m.\u001b[39mdrop(columns\u001b[38;5;241m=\u001b[39m[\u001b[38;5;124m'\u001b[39m\u001b[38;5;124mindex\u001b[39m\u001b[38;5;124m'\u001b[39m])\n\u001b[0;32m     14\u001b[0m features_df_nonan[\u001b[38;5;124m'\u001b[39m\u001b[38;5;124mSignal\u001b[39m\u001b[38;5;124m'\u001b[39m]\u001b[38;5;241m.\u001b[39mvalue_counts()\n",
      "\u001b[1;31mNameError\u001b[0m: name 'feature_generate' is not defined"
     ]
    }
   ],
   "source": [
    "# file_name = 'merged_data.csv'\n",
    "file_name = '0_61938.csv'\n",
    "data_dir = 'ohlc_data'\n",
    "data_path = os.path.join(os.getcwd(), data_dir, file_name)\n",
    "\n",
    "data = pd.read_csv(data_path, index_col=0)\n",
    "data.reset_index(drop=True, inplace=True)\n",
    "\n",
    "\n"
   ]
  },
  {
   "cell_type": "code",
   "execution_count": 16,
   "id": "46774bdd-04e5-4198-a2d4-9b96cdc1cfa2",
   "metadata": {},
   "outputs": [],
   "source": [
    "data = raw_data"
   ]
  },
  {
   "cell_type": "code",
   "execution_count": 17,
   "id": "758c88d8-ee59-4519-b027-ad0c041daca0",
   "metadata": {},
   "outputs": [],
   "source": [
    "features_df = feature_generate(data)"
   ]
  },
  {
   "cell_type": "code",
   "execution_count": 19,
   "id": "f3898a40-92c3-479d-84d2-eba40cb89462",
   "metadata": {},
   "outputs": [
    {
     "data": {
      "text/plain": [
       "Index(['Open', 'High', 'Low', 'Close', 'Volume', 'Signal', 'SMA_5', 'EMA_5',\n",
       "       'SMA_10', 'EMA_10', 'SMA_20', 'EMA_20', 'SMA_50', 'EMA_50', 'SMA_100',\n",
       "       'EMA_100', 'SMA_200', 'EMA_200', 'RSI_14', 'Stochastic_K',\n",
       "       'Stochastic_D', 'Williams_%R', 'MACD', 'MACD_Signal', 'MACD_Hist',\n",
       "       'ATR', 'Plus_DI', 'Minus_DI', 'ADX', 'CCI', 'Bollinger_Mid',\n",
       "       'Bollinger_Upper', 'Bollinger_Lower', 'ROC', 'OBV', 'Force_Index',\n",
       "       'ADL', 'MFI', 'ASI', 'Chaikin_Oscillator', 'RS', 'Keltner_Mid',\n",
       "       'Keltner_Upper', 'Keltner_Lower', 'Donchian_Upper', 'Donchian_Lower',\n",
       "       'Tenkan_Sen', 'Kijun_Sen', 'Senkou_Span_A', 'Senkou_Span_B', 'Fib_0',\n",
       "       'Fib_100', 'Fib_50', 'Fib_61.8', 'Fib_38.2', 'Double_Top',\n",
       "       'Double_Bottom', 'Channel_High', 'Channel_Low', 'Channel_Mid',\n",
       "       'LR_Center', 'LR_Upper', 'LR_Lower', 'SAR', 'Std_Dev_Upper',\n",
       "       'Std_Dev_Lower', 'VWAP', 'VWAP_Upper', 'VWAP_Lower', 'Adaptive_Upper',\n",
       "       'Adaptive_Lower', 'HA_Close', 'HA_Open', 'Pivot_Point', 'Pivot_R1',\n",
       "       'Pivot_S1'],\n",
       "      dtype='object')"
      ]
     },
     "execution_count": 19,
     "metadata": {},
     "output_type": "execute_result"
    }
   ],
   "source": [
    "features_df.columns"
   ]
  },
  {
   "cell_type": "code",
   "execution_count": 23,
   "id": "cd604ad9-3000-4ec4-a8fe-22c3f382fa77",
   "metadata": {},
   "outputs": [
    {
     "data": {
      "text/plain": [
       "61938"
      ]
     },
     "execution_count": 23,
     "metadata": {},
     "output_type": "execute_result"
    }
   ],
   "source": [
    "features_df.isna().any(axis=1).sum()"
   ]
  },
  {
   "cell_type": "code",
   "execution_count": 24,
   "id": "011a60b6-462c-4f2d-9de1-d7d8138c496e",
   "metadata": {},
   "outputs": [],
   "source": [
    "features_df = features_df.fillna(method='ffill').fillna(method='bfill')"
   ]
  },
  {
   "cell_type": "code",
   "execution_count": 27,
   "id": "81af77ee-8992-4fab-bef0-113c48cc7fef",
   "metadata": {},
   "outputs": [
    {
     "data": {
      "text/plain": [
       "Index(['Plus_DI', 'Minus_DI', 'ADX', 'MFI'], dtype='object')"
      ]
     },
     "execution_count": 27,
     "metadata": {},
     "output_type": "execute_result"
    }
   ],
   "source": [
    "features_df.columns[features_df.isna().all()]"
   ]
  },
  {
   "cell_type": "code",
   "execution_count": 14,
   "id": "4ad91a63-ad71-4427-a87e-fed9d0aca123",
   "metadata": {},
   "outputs": [
    {
     "name": "stdout",
     "output_type": "stream",
     "text": [
      "Features removed due to high correlation: []\n"
     ]
    },
    {
     "ename": "ValueError",
     "evalue": "Found array with 0 sample(s) (shape=(0, 75)) while a minimum of 1 is required by StandardScaler.",
     "output_type": "error",
     "traceback": [
      "\u001b[1;31m---------------------------------------------------------------------------\u001b[0m",
      "\u001b[1;31mValueError\u001b[0m                                Traceback (most recent call last)",
      "Cell \u001b[1;32mIn[14], line 7\u001b[0m\n\u001b[0;32m      3\u001b[0m features_df_nonan \u001b[38;5;241m=\u001b[39m features_df\u001b[38;5;241m.\u001b[39mdropna()\u001b[38;5;241m.\u001b[39mreset_index(drop\u001b[38;5;241m=\u001b[39m\u001b[38;5;28;01mTrue\u001b[39;00m)\n\u001b[0;32m      5\u001b[0m features_df_nonan[\u001b[38;5;124m'\u001b[39m\u001b[38;5;124mSignal\u001b[39m\u001b[38;5;124m'\u001b[39m]\u001b[38;5;241m.\u001b[39mvalue_counts()\n\u001b[1;32m----> 7\u001b[0m selected_features_, feat_idx_ \u001b[38;5;241m=\u001b[39m \u001b[43mfeatures_selection\u001b[49m\u001b[43m(\u001b[49m\u001b[43mfeatures_df_nonan\u001b[49m\u001b[43m)\u001b[49m\n",
      "Cell \u001b[1;32mIn[9], line 203\u001b[0m, in \u001b[0;36mfeatures_selection\u001b[1;34m(df, selection_method, topk, num_features)\u001b[0m\n\u001b[0;32m    200\u001b[0m \u001b[38;5;66;03m# Step 2: Feature Selection with Lasso\u001b[39;00m\n\u001b[0;32m    201\u001b[0m \u001b[38;5;66;03m# Scale the data before Lasso\u001b[39;00m\n\u001b[0;32m    202\u001b[0m scaler \u001b[38;5;241m=\u001b[39m StandardScaler()\n\u001b[1;32m--> 203\u001b[0m X_scaled \u001b[38;5;241m=\u001b[39m \u001b[43mscaler\u001b[49m\u001b[38;5;241;43m.\u001b[39;49m\u001b[43mfit_transform\u001b[49m\u001b[43m(\u001b[49m\u001b[43mX\u001b[49m\u001b[43m)\u001b[49m\n\u001b[0;32m    205\u001b[0m \u001b[38;5;66;03m# Apply LassoCV for feature selection\u001b[39;00m\n\u001b[0;32m    206\u001b[0m lasso \u001b[38;5;241m=\u001b[39m LassoCV(cv\u001b[38;5;241m=\u001b[39m\u001b[38;5;241m5\u001b[39m, random_state\u001b[38;5;241m=\u001b[39m\u001b[38;5;241m0\u001b[39m)\u001b[38;5;241m.\u001b[39mfit(X_scaled, y)\n",
      "File \u001b[1;32m~\\AppData\\Local\\Programs\\Python\\Python310\\lib\\site-packages\\sklearn\\utils\\_set_output.py:140\u001b[0m, in \u001b[0;36m_wrap_method_output.<locals>.wrapped\u001b[1;34m(self, X, *args, **kwargs)\u001b[0m\n\u001b[0;32m    138\u001b[0m \u001b[38;5;129m@wraps\u001b[39m(f)\n\u001b[0;32m    139\u001b[0m \u001b[38;5;28;01mdef\u001b[39;00m\u001b[38;5;250m \u001b[39m\u001b[38;5;21mwrapped\u001b[39m(\u001b[38;5;28mself\u001b[39m, X, \u001b[38;5;241m*\u001b[39margs, \u001b[38;5;241m*\u001b[39m\u001b[38;5;241m*\u001b[39mkwargs):\n\u001b[1;32m--> 140\u001b[0m     data_to_wrap \u001b[38;5;241m=\u001b[39m f(\u001b[38;5;28mself\u001b[39m, X, \u001b[38;5;241m*\u001b[39margs, \u001b[38;5;241m*\u001b[39m\u001b[38;5;241m*\u001b[39mkwargs)\n\u001b[0;32m    141\u001b[0m     \u001b[38;5;28;01mif\u001b[39;00m \u001b[38;5;28misinstance\u001b[39m(data_to_wrap, \u001b[38;5;28mtuple\u001b[39m):\n\u001b[0;32m    142\u001b[0m         \u001b[38;5;66;03m# only wrap the first output for cross decomposition\u001b[39;00m\n\u001b[0;32m    143\u001b[0m         \u001b[38;5;28;01mreturn\u001b[39;00m (\n\u001b[0;32m    144\u001b[0m             _wrap_data_with_container(method, data_to_wrap[\u001b[38;5;241m0\u001b[39m], X, \u001b[38;5;28mself\u001b[39m),\n\u001b[0;32m    145\u001b[0m             \u001b[38;5;241m*\u001b[39mdata_to_wrap[\u001b[38;5;241m1\u001b[39m:],\n\u001b[0;32m    146\u001b[0m         )\n",
      "File \u001b[1;32m~\\AppData\\Local\\Programs\\Python\\Python310\\lib\\site-packages\\sklearn\\base.py:878\u001b[0m, in \u001b[0;36mTransformerMixin.fit_transform\u001b[1;34m(self, X, y, **fit_params)\u001b[0m\n\u001b[0;32m    874\u001b[0m \u001b[38;5;66;03m# non-optimized default implementation; override when a better\u001b[39;00m\n\u001b[0;32m    875\u001b[0m \u001b[38;5;66;03m# method is possible for a given clustering algorithm\u001b[39;00m\n\u001b[0;32m    876\u001b[0m \u001b[38;5;28;01mif\u001b[39;00m y \u001b[38;5;129;01mis\u001b[39;00m \u001b[38;5;28;01mNone\u001b[39;00m:\n\u001b[0;32m    877\u001b[0m     \u001b[38;5;66;03m# fit method of arity 1 (unsupervised transformation)\u001b[39;00m\n\u001b[1;32m--> 878\u001b[0m     \u001b[38;5;28;01mreturn\u001b[39;00m \u001b[38;5;28mself\u001b[39m\u001b[38;5;241m.\u001b[39mfit(X, \u001b[38;5;241m*\u001b[39m\u001b[38;5;241m*\u001b[39mfit_params)\u001b[38;5;241m.\u001b[39mtransform(X)\n\u001b[0;32m    879\u001b[0m \u001b[38;5;28;01melse\u001b[39;00m:\n\u001b[0;32m    880\u001b[0m     \u001b[38;5;66;03m# fit method of arity 2 (supervised transformation)\u001b[39;00m\n\u001b[0;32m    881\u001b[0m     \u001b[38;5;28;01mreturn\u001b[39;00m \u001b[38;5;28mself\u001b[39m\u001b[38;5;241m.\u001b[39mfit(X, y, \u001b[38;5;241m*\u001b[39m\u001b[38;5;241m*\u001b[39mfit_params)\u001b[38;5;241m.\u001b[39mtransform(X)\n",
      "File \u001b[1;32m~\\AppData\\Local\\Programs\\Python\\Python310\\lib\\site-packages\\sklearn\\preprocessing\\_data.py:824\u001b[0m, in \u001b[0;36mStandardScaler.fit\u001b[1;34m(self, X, y, sample_weight)\u001b[0m\n\u001b[0;32m    822\u001b[0m \u001b[38;5;66;03m# Reset internal state before fitting\u001b[39;00m\n\u001b[0;32m    823\u001b[0m \u001b[38;5;28mself\u001b[39m\u001b[38;5;241m.\u001b[39m_reset()\n\u001b[1;32m--> 824\u001b[0m \u001b[38;5;28;01mreturn\u001b[39;00m \u001b[38;5;28;43mself\u001b[39;49m\u001b[38;5;241;43m.\u001b[39;49m\u001b[43mpartial_fit\u001b[49m\u001b[43m(\u001b[49m\u001b[43mX\u001b[49m\u001b[43m,\u001b[49m\u001b[43m \u001b[49m\u001b[43my\u001b[49m\u001b[43m,\u001b[49m\u001b[43m \u001b[49m\u001b[43msample_weight\u001b[49m\u001b[43m)\u001b[49m\n",
      "File \u001b[1;32m~\\AppData\\Local\\Programs\\Python\\Python310\\lib\\site-packages\\sklearn\\preprocessing\\_data.py:861\u001b[0m, in \u001b[0;36mStandardScaler.partial_fit\u001b[1;34m(self, X, y, sample_weight)\u001b[0m\n\u001b[0;32m    858\u001b[0m \u001b[38;5;28mself\u001b[39m\u001b[38;5;241m.\u001b[39m_validate_params()\n\u001b[0;32m    860\u001b[0m first_call \u001b[38;5;241m=\u001b[39m \u001b[38;5;129;01mnot\u001b[39;00m \u001b[38;5;28mhasattr\u001b[39m(\u001b[38;5;28mself\u001b[39m, \u001b[38;5;124m\"\u001b[39m\u001b[38;5;124mn_samples_seen_\u001b[39m\u001b[38;5;124m\"\u001b[39m)\n\u001b[1;32m--> 861\u001b[0m X \u001b[38;5;241m=\u001b[39m \u001b[38;5;28;43mself\u001b[39;49m\u001b[38;5;241;43m.\u001b[39;49m\u001b[43m_validate_data\u001b[49m\u001b[43m(\u001b[49m\n\u001b[0;32m    862\u001b[0m \u001b[43m    \u001b[49m\u001b[43mX\u001b[49m\u001b[43m,\u001b[49m\n\u001b[0;32m    863\u001b[0m \u001b[43m    \u001b[49m\u001b[43maccept_sparse\u001b[49m\u001b[38;5;241;43m=\u001b[39;49m\u001b[43m(\u001b[49m\u001b[38;5;124;43m\"\u001b[39;49m\u001b[38;5;124;43mcsr\u001b[39;49m\u001b[38;5;124;43m\"\u001b[39;49m\u001b[43m,\u001b[49m\u001b[43m \u001b[49m\u001b[38;5;124;43m\"\u001b[39;49m\u001b[38;5;124;43mcsc\u001b[39;49m\u001b[38;5;124;43m\"\u001b[39;49m\u001b[43m)\u001b[49m\u001b[43m,\u001b[49m\n\u001b[0;32m    864\u001b[0m \u001b[43m    \u001b[49m\u001b[43mdtype\u001b[49m\u001b[38;5;241;43m=\u001b[39;49m\u001b[43mFLOAT_DTYPES\u001b[49m\u001b[43m,\u001b[49m\n\u001b[0;32m    865\u001b[0m \u001b[43m    \u001b[49m\u001b[43mforce_all_finite\u001b[49m\u001b[38;5;241;43m=\u001b[39;49m\u001b[38;5;124;43m\"\u001b[39;49m\u001b[38;5;124;43mallow-nan\u001b[39;49m\u001b[38;5;124;43m\"\u001b[39;49m\u001b[43m,\u001b[49m\n\u001b[0;32m    866\u001b[0m \u001b[43m    \u001b[49m\u001b[43mreset\u001b[49m\u001b[38;5;241;43m=\u001b[39;49m\u001b[43mfirst_call\u001b[49m\u001b[43m,\u001b[49m\n\u001b[0;32m    867\u001b[0m \u001b[43m\u001b[49m\u001b[43m)\u001b[49m\n\u001b[0;32m    868\u001b[0m n_features \u001b[38;5;241m=\u001b[39m X\u001b[38;5;241m.\u001b[39mshape[\u001b[38;5;241m1\u001b[39m]\n\u001b[0;32m    870\u001b[0m \u001b[38;5;28;01mif\u001b[39;00m sample_weight \u001b[38;5;129;01mis\u001b[39;00m \u001b[38;5;129;01mnot\u001b[39;00m \u001b[38;5;28;01mNone\u001b[39;00m:\n",
      "File \u001b[1;32m~\\AppData\\Local\\Programs\\Python\\Python310\\lib\\site-packages\\sklearn\\base.py:565\u001b[0m, in \u001b[0;36mBaseEstimator._validate_data\u001b[1;34m(self, X, y, reset, validate_separately, **check_params)\u001b[0m\n\u001b[0;32m    563\u001b[0m     \u001b[38;5;28;01mraise\u001b[39;00m \u001b[38;5;167;01mValueError\u001b[39;00m(\u001b[38;5;124m\"\u001b[39m\u001b[38;5;124mValidation should be done on X, y or both.\u001b[39m\u001b[38;5;124m\"\u001b[39m)\n\u001b[0;32m    564\u001b[0m \u001b[38;5;28;01melif\u001b[39;00m \u001b[38;5;129;01mnot\u001b[39;00m no_val_X \u001b[38;5;129;01mand\u001b[39;00m no_val_y:\n\u001b[1;32m--> 565\u001b[0m     X \u001b[38;5;241m=\u001b[39m check_array(X, input_name\u001b[38;5;241m=\u001b[39m\u001b[38;5;124m\"\u001b[39m\u001b[38;5;124mX\u001b[39m\u001b[38;5;124m\"\u001b[39m, \u001b[38;5;241m*\u001b[39m\u001b[38;5;241m*\u001b[39mcheck_params)\n\u001b[0;32m    566\u001b[0m     out \u001b[38;5;241m=\u001b[39m X\n\u001b[0;32m    567\u001b[0m \u001b[38;5;28;01melif\u001b[39;00m no_val_X \u001b[38;5;129;01mand\u001b[39;00m \u001b[38;5;129;01mnot\u001b[39;00m no_val_y:\n",
      "File \u001b[1;32m~\\AppData\\Local\\Programs\\Python\\Python310\\lib\\site-packages\\sklearn\\utils\\validation.py:931\u001b[0m, in \u001b[0;36mcheck_array\u001b[1;34m(array, accept_sparse, accept_large_sparse, dtype, order, copy, force_all_finite, ensure_2d, allow_nd, ensure_min_samples, ensure_min_features, estimator, input_name)\u001b[0m\n\u001b[0;32m    929\u001b[0m     n_samples \u001b[38;5;241m=\u001b[39m _num_samples(array)\n\u001b[0;32m    930\u001b[0m     \u001b[38;5;28;01mif\u001b[39;00m n_samples \u001b[38;5;241m<\u001b[39m ensure_min_samples:\n\u001b[1;32m--> 931\u001b[0m         \u001b[38;5;28;01mraise\u001b[39;00m \u001b[38;5;167;01mValueError\u001b[39;00m(\n\u001b[0;32m    932\u001b[0m             \u001b[38;5;124m\"\u001b[39m\u001b[38;5;124mFound array with \u001b[39m\u001b[38;5;132;01m%d\u001b[39;00m\u001b[38;5;124m sample(s) (shape=\u001b[39m\u001b[38;5;132;01m%s\u001b[39;00m\u001b[38;5;124m) while a\u001b[39m\u001b[38;5;124m\"\u001b[39m\n\u001b[0;32m    933\u001b[0m             \u001b[38;5;124m\"\u001b[39m\u001b[38;5;124m minimum of \u001b[39m\u001b[38;5;132;01m%d\u001b[39;00m\u001b[38;5;124m is required\u001b[39m\u001b[38;5;132;01m%s\u001b[39;00m\u001b[38;5;124m.\u001b[39m\u001b[38;5;124m\"\u001b[39m\n\u001b[0;32m    934\u001b[0m             \u001b[38;5;241m%\u001b[39m (n_samples, array\u001b[38;5;241m.\u001b[39mshape, ensure_min_samples, context)\n\u001b[0;32m    935\u001b[0m         )\n\u001b[0;32m    937\u001b[0m \u001b[38;5;28;01mif\u001b[39;00m ensure_min_features \u001b[38;5;241m>\u001b[39m \u001b[38;5;241m0\u001b[39m \u001b[38;5;129;01mand\u001b[39;00m array\u001b[38;5;241m.\u001b[39mndim \u001b[38;5;241m==\u001b[39m \u001b[38;5;241m2\u001b[39m:\n\u001b[0;32m    938\u001b[0m     n_features \u001b[38;5;241m=\u001b[39m array\u001b[38;5;241m.\u001b[39mshape[\u001b[38;5;241m1\u001b[39m]\n",
      "\u001b[1;31mValueError\u001b[0m: Found array with 0 sample(s) (shape=(0, 75)) while a minimum of 1 is required by StandardScaler."
     ]
    }
   ],
   "source": [
    "\n",
    "\n",
    "features_df_nonan = features_df.dropna().reset_index(drop=True)\n",
    "\n",
    "features_df_nonan['Signal'].value_counts()\n",
    "\n",
    "selected_features_, feat_idx_ = features_selection(features_df_nonan)"
   ]
  },
  {
   "cell_type": "code",
   "execution_count": 11,
   "id": "118de025-b0f2-4a1f-8d59-fa23f797babe",
   "metadata": {},
   "outputs": [
    {
     "data": {
      "text/html": [
       "<div>\n",
       "<style scoped>\n",
       "    .dataframe tbody tr th:only-of-type {\n",
       "        vertical-align: middle;\n",
       "    }\n",
       "\n",
       "    .dataframe tbody tr th {\n",
       "        vertical-align: top;\n",
       "    }\n",
       "\n",
       "    .dataframe thead th {\n",
       "        text-align: right;\n",
       "    }\n",
       "</style>\n",
       "<table border=\"1\" class=\"dataframe\">\n",
       "  <thead>\n",
       "    <tr style=\"text-align: right;\">\n",
       "      <th></th>\n",
       "      <th>Open</th>\n",
       "      <th>High</th>\n",
       "      <th>Low</th>\n",
       "      <th>Close</th>\n",
       "      <th>Volume</th>\n",
       "      <th>Signal</th>\n",
       "      <th>SMA_5</th>\n",
       "      <th>EMA_5</th>\n",
       "      <th>SMA_10</th>\n",
       "      <th>EMA_10</th>\n",
       "      <th>...</th>\n",
       "      <th>VWAP</th>\n",
       "      <th>VWAP_Upper</th>\n",
       "      <th>VWAP_Lower</th>\n",
       "      <th>Adaptive_Upper</th>\n",
       "      <th>Adaptive_Lower</th>\n",
       "      <th>HA_Close</th>\n",
       "      <th>HA_Open</th>\n",
       "      <th>Pivot_Point</th>\n",
       "      <th>Pivot_R1</th>\n",
       "      <th>Pivot_S1</th>\n",
       "    </tr>\n",
       "    <tr>\n",
       "      <th>Date</th>\n",
       "      <th></th>\n",
       "      <th></th>\n",
       "      <th></th>\n",
       "      <th></th>\n",
       "      <th></th>\n",
       "      <th></th>\n",
       "      <th></th>\n",
       "      <th></th>\n",
       "      <th></th>\n",
       "      <th></th>\n",
       "      <th></th>\n",
       "      <th></th>\n",
       "      <th></th>\n",
       "      <th></th>\n",
       "      <th></th>\n",
       "      <th></th>\n",
       "      <th></th>\n",
       "      <th></th>\n",
       "      <th></th>\n",
       "      <th></th>\n",
       "      <th></th>\n",
       "    </tr>\n",
       "  </thead>\n",
       "  <tbody>\n",
       "    <tr>\n",
       "      <th>2014-12-31 18:00:00</th>\n",
       "      <td>1.20997</td>\n",
       "      <td>1.21089</td>\n",
       "      <td>1.20966</td>\n",
       "      <td>1.20999</td>\n",
       "      <td>3237</td>\n",
       "      <td>0</td>\n",
       "      <td>NaN</td>\n",
       "      <td>1.209990</td>\n",
       "      <td>NaN</td>\n",
       "      <td>1.209990</td>\n",
       "      <td>...</td>\n",
       "      <td>1.209990</td>\n",
       "      <td>NaN</td>\n",
       "      <td>NaN</td>\n",
       "      <td>NaN</td>\n",
       "      <td>NaN</td>\n",
       "      <td>1.210128</td>\n",
       "      <td>NaN</td>\n",
       "      <td>1.210180</td>\n",
       "      <td>1.210700</td>\n",
       "      <td>1.209470</td>\n",
       "    </tr>\n",
       "    <tr>\n",
       "      <th>2015-01-02 08:00:00</th>\n",
       "      <td>1.20481</td>\n",
       "      <td>1.20569</td>\n",
       "      <td>1.20479</td>\n",
       "      <td>1.20538</td>\n",
       "      <td>1254</td>\n",
       "      <td>0</td>\n",
       "      <td>NaN</td>\n",
       "      <td>1.208453</td>\n",
       "      <td>NaN</td>\n",
       "      <td>1.209152</td>\n",
       "      <td>...</td>\n",
       "      <td>1.208703</td>\n",
       "      <td>NaN</td>\n",
       "      <td>NaN</td>\n",
       "      <td>NaN</td>\n",
       "      <td>NaN</td>\n",
       "      <td>1.205167</td>\n",
       "      <td>1.210128</td>\n",
       "      <td>1.205287</td>\n",
       "      <td>1.205783</td>\n",
       "      <td>1.204883</td>\n",
       "    </tr>\n",
       "    <tr>\n",
       "      <th>2015-01-02 09:00:00</th>\n",
       "      <td>1.20537</td>\n",
       "      <td>1.20574</td>\n",
       "      <td>1.20341</td>\n",
       "      <td>1.20553</td>\n",
       "      <td>3394</td>\n",
       "      <td>0</td>\n",
       "      <td>NaN</td>\n",
       "      <td>1.207479</td>\n",
       "      <td>NaN</td>\n",
       "      <td>1.208493</td>\n",
       "      <td>...</td>\n",
       "      <td>1.207337</td>\n",
       "      <td>NaN</td>\n",
       "      <td>NaN</td>\n",
       "      <td>NaN</td>\n",
       "      <td>NaN</td>\n",
       "      <td>1.205013</td>\n",
       "      <td>1.205167</td>\n",
       "      <td>1.204893</td>\n",
       "      <td>1.206377</td>\n",
       "      <td>1.204047</td>\n",
       "    </tr>\n",
       "    <tr>\n",
       "      <th>2015-01-02 10:00:00</th>\n",
       "      <td>1.20556</td>\n",
       "      <td>1.20689</td>\n",
       "      <td>1.20442</td>\n",
       "      <td>1.20469</td>\n",
       "      <td>4590</td>\n",
       "      <td>0</td>\n",
       "      <td>NaN</td>\n",
       "      <td>1.206549</td>\n",
       "      <td>NaN</td>\n",
       "      <td>1.207802</td>\n",
       "      <td>...</td>\n",
       "      <td>1.206363</td>\n",
       "      <td>NaN</td>\n",
       "      <td>NaN</td>\n",
       "      <td>NaN</td>\n",
       "      <td>NaN</td>\n",
       "      <td>1.205390</td>\n",
       "      <td>1.205013</td>\n",
       "      <td>1.205333</td>\n",
       "      <td>1.206247</td>\n",
       "      <td>1.203777</td>\n",
       "    </tr>\n",
       "    <tr>\n",
       "      <th>2015-01-02 11:00:00</th>\n",
       "      <td>1.20468</td>\n",
       "      <td>1.20599</td>\n",
       "      <td>1.20380</td>\n",
       "      <td>1.20573</td>\n",
       "      <td>4335</td>\n",
       "      <td>0</td>\n",
       "      <td>1.206264</td>\n",
       "      <td>1.206276</td>\n",
       "      <td>NaN</td>\n",
       "      <td>1.207425</td>\n",
       "      <td>...</td>\n",
       "      <td>1.206200</td>\n",
       "      <td>NaN</td>\n",
       "      <td>NaN</td>\n",
       "      <td>NaN</td>\n",
       "      <td>NaN</td>\n",
       "      <td>1.205050</td>\n",
       "      <td>1.205390</td>\n",
       "      <td>1.205173</td>\n",
       "      <td>1.206547</td>\n",
       "      <td>1.204357</td>\n",
       "    </tr>\n",
       "    <tr>\n",
       "      <th>...</th>\n",
       "      <td>...</td>\n",
       "      <td>...</td>\n",
       "      <td>...</td>\n",
       "      <td>...</td>\n",
       "      <td>...</td>\n",
       "      <td>...</td>\n",
       "      <td>...</td>\n",
       "      <td>...</td>\n",
       "      <td>...</td>\n",
       "      <td>...</td>\n",
       "      <td>...</td>\n",
       "      <td>...</td>\n",
       "      <td>...</td>\n",
       "      <td>...</td>\n",
       "      <td>...</td>\n",
       "      <td>...</td>\n",
       "      <td>...</td>\n",
       "      <td>...</td>\n",
       "      <td>...</td>\n",
       "      <td>...</td>\n",
       "      <td>...</td>\n",
       "    </tr>\n",
       "    <tr>\n",
       "      <th>2024-12-20 10:00:00</th>\n",
       "      <td>1.03816</td>\n",
       "      <td>1.03974</td>\n",
       "      <td>1.03770</td>\n",
       "      <td>1.03913</td>\n",
       "      <td>5104</td>\n",
       "      <td>1</td>\n",
       "      <td>1.037396</td>\n",
       "      <td>1.037799</td>\n",
       "      <td>1.036832</td>\n",
       "      <td>1.037288</td>\n",
       "      <td>...</td>\n",
       "      <td>1.112626</td>\n",
       "      <td>1.113907</td>\n",
       "      <td>1.111346</td>\n",
       "      <td>1.041044</td>\n",
       "      <td>1.037216</td>\n",
       "      <td>1.038683</td>\n",
       "      <td>1.037777</td>\n",
       "      <td>1.038857</td>\n",
       "      <td>1.040013</td>\n",
       "      <td>1.037973</td>\n",
       "    </tr>\n",
       "    <tr>\n",
       "      <th>2024-12-20 11:00:00</th>\n",
       "      <td>1.03913</td>\n",
       "      <td>1.03915</td>\n",
       "      <td>1.03749</td>\n",
       "      <td>1.03817</td>\n",
       "      <td>4389</td>\n",
       "      <td>1</td>\n",
       "      <td>1.037874</td>\n",
       "      <td>1.037923</td>\n",
       "      <td>1.037015</td>\n",
       "      <td>1.037449</td>\n",
       "      <td>...</td>\n",
       "      <td>1.112624</td>\n",
       "      <td>1.113761</td>\n",
       "      <td>1.111488</td>\n",
       "      <td>1.040206</td>\n",
       "      <td>1.036134</td>\n",
       "      <td>1.038485</td>\n",
       "      <td>1.038683</td>\n",
       "      <td>1.038270</td>\n",
       "      <td>1.039050</td>\n",
       "      <td>1.037390</td>\n",
       "    </tr>\n",
       "    <tr>\n",
       "      <th>2024-12-20 12:00:00</th>\n",
       "      <td>1.03818</td>\n",
       "      <td>1.03921</td>\n",
       "      <td>1.03803</td>\n",
       "      <td>1.03908</td>\n",
       "      <td>3521</td>\n",
       "      <td>1</td>\n",
       "      <td>1.038386</td>\n",
       "      <td>1.038309</td>\n",
       "      <td>1.037282</td>\n",
       "      <td>1.037745</td>\n",
       "      <td>...</td>\n",
       "      <td>1.112623</td>\n",
       "      <td>1.113716</td>\n",
       "      <td>1.111530</td>\n",
       "      <td>1.041447</td>\n",
       "      <td>1.036713</td>\n",
       "      <td>1.038625</td>\n",
       "      <td>1.038485</td>\n",
       "      <td>1.038773</td>\n",
       "      <td>1.039517</td>\n",
       "      <td>1.038337</td>\n",
       "    </tr>\n",
       "    <tr>\n",
       "      <th>2024-12-20 13:00:00</th>\n",
       "      <td>1.03908</td>\n",
       "      <td>1.03964</td>\n",
       "      <td>1.03785</td>\n",
       "      <td>1.03906</td>\n",
       "      <td>3663</td>\n",
       "      <td>1</td>\n",
       "      <td>1.038722</td>\n",
       "      <td>1.038559</td>\n",
       "      <td>1.037564</td>\n",
       "      <td>1.037984</td>\n",
       "      <td>...</td>\n",
       "      <td>1.112622</td>\n",
       "      <td>1.113800</td>\n",
       "      <td>1.111443</td>\n",
       "      <td>1.041545</td>\n",
       "      <td>1.036575</td>\n",
       "      <td>1.038907</td>\n",
       "      <td>1.038625</td>\n",
       "      <td>1.038850</td>\n",
       "      <td>1.039850</td>\n",
       "      <td>1.038060</td>\n",
       "    </tr>\n",
       "    <tr>\n",
       "      <th>2024-12-20 14:00:00</th>\n",
       "      <td>1.03906</td>\n",
       "      <td>1.03992</td>\n",
       "      <td>1.03869</td>\n",
       "      <td>1.03885</td>\n",
       "      <td>3749</td>\n",
       "      <td>1</td>\n",
       "      <td>1.038858</td>\n",
       "      <td>1.038656</td>\n",
       "      <td>1.037823</td>\n",
       "      <td>1.038142</td>\n",
       "      <td>...</td>\n",
       "      <td>1.112620</td>\n",
       "      <td>1.113828</td>\n",
       "      <td>1.111412</td>\n",
       "      <td>1.041435</td>\n",
       "      <td>1.036265</td>\n",
       "      <td>1.039130</td>\n",
       "      <td>1.038907</td>\n",
       "      <td>1.039153</td>\n",
       "      <td>1.039617</td>\n",
       "      <td>1.038387</td>\n",
       "    </tr>\n",
       "  </tbody>\n",
       "</table>\n",
       "<p>61938 rows × 76 columns</p>\n",
       "</div>"
      ],
      "text/plain": [
       "                        Open     High      Low    Close  Volume  Signal   \n",
       "Date                                                                      \n",
       "2014-12-31 18:00:00  1.20997  1.21089  1.20966  1.20999    3237       0  \\\n",
       "2015-01-02 08:00:00  1.20481  1.20569  1.20479  1.20538    1254       0   \n",
       "2015-01-02 09:00:00  1.20537  1.20574  1.20341  1.20553    3394       0   \n",
       "2015-01-02 10:00:00  1.20556  1.20689  1.20442  1.20469    4590       0   \n",
       "2015-01-02 11:00:00  1.20468  1.20599  1.20380  1.20573    4335       0   \n",
       "...                      ...      ...      ...      ...     ...     ...   \n",
       "2024-12-20 10:00:00  1.03816  1.03974  1.03770  1.03913    5104       1   \n",
       "2024-12-20 11:00:00  1.03913  1.03915  1.03749  1.03817    4389       1   \n",
       "2024-12-20 12:00:00  1.03818  1.03921  1.03803  1.03908    3521       1   \n",
       "2024-12-20 13:00:00  1.03908  1.03964  1.03785  1.03906    3663       1   \n",
       "2024-12-20 14:00:00  1.03906  1.03992  1.03869  1.03885    3749       1   \n",
       "\n",
       "                        SMA_5     EMA_5    SMA_10    EMA_10  ...      VWAP   \n",
       "Date                                                         ...             \n",
       "2014-12-31 18:00:00       NaN  1.209990       NaN  1.209990  ...  1.209990  \\\n",
       "2015-01-02 08:00:00       NaN  1.208453       NaN  1.209152  ...  1.208703   \n",
       "2015-01-02 09:00:00       NaN  1.207479       NaN  1.208493  ...  1.207337   \n",
       "2015-01-02 10:00:00       NaN  1.206549       NaN  1.207802  ...  1.206363   \n",
       "2015-01-02 11:00:00  1.206264  1.206276       NaN  1.207425  ...  1.206200   \n",
       "...                       ...       ...       ...       ...  ...       ...   \n",
       "2024-12-20 10:00:00  1.037396  1.037799  1.036832  1.037288  ...  1.112626   \n",
       "2024-12-20 11:00:00  1.037874  1.037923  1.037015  1.037449  ...  1.112624   \n",
       "2024-12-20 12:00:00  1.038386  1.038309  1.037282  1.037745  ...  1.112623   \n",
       "2024-12-20 13:00:00  1.038722  1.038559  1.037564  1.037984  ...  1.112622   \n",
       "2024-12-20 14:00:00  1.038858  1.038656  1.037823  1.038142  ...  1.112620   \n",
       "\n",
       "                     VWAP_Upper  VWAP_Lower  Adaptive_Upper  Adaptive_Lower   \n",
       "Date                                                                          \n",
       "2014-12-31 18:00:00         NaN         NaN             NaN             NaN  \\\n",
       "2015-01-02 08:00:00         NaN         NaN             NaN             NaN   \n",
       "2015-01-02 09:00:00         NaN         NaN             NaN             NaN   \n",
       "2015-01-02 10:00:00         NaN         NaN             NaN             NaN   \n",
       "2015-01-02 11:00:00         NaN         NaN             NaN             NaN   \n",
       "...                         ...         ...             ...             ...   \n",
       "2024-12-20 10:00:00    1.113907    1.111346        1.041044        1.037216   \n",
       "2024-12-20 11:00:00    1.113761    1.111488        1.040206        1.036134   \n",
       "2024-12-20 12:00:00    1.113716    1.111530        1.041447        1.036713   \n",
       "2024-12-20 13:00:00    1.113800    1.111443        1.041545        1.036575   \n",
       "2024-12-20 14:00:00    1.113828    1.111412        1.041435        1.036265   \n",
       "\n",
       "                     HA_Close   HA_Open  Pivot_Point  Pivot_R1  Pivot_S1  \n",
       "Date                                                                      \n",
       "2014-12-31 18:00:00  1.210128       NaN     1.210180  1.210700  1.209470  \n",
       "2015-01-02 08:00:00  1.205167  1.210128     1.205287  1.205783  1.204883  \n",
       "2015-01-02 09:00:00  1.205013  1.205167     1.204893  1.206377  1.204047  \n",
       "2015-01-02 10:00:00  1.205390  1.205013     1.205333  1.206247  1.203777  \n",
       "2015-01-02 11:00:00  1.205050  1.205390     1.205173  1.206547  1.204357  \n",
       "...                       ...       ...          ...       ...       ...  \n",
       "2024-12-20 10:00:00  1.038683  1.037777     1.038857  1.040013  1.037973  \n",
       "2024-12-20 11:00:00  1.038485  1.038683     1.038270  1.039050  1.037390  \n",
       "2024-12-20 12:00:00  1.038625  1.038485     1.038773  1.039517  1.038337  \n",
       "2024-12-20 13:00:00  1.038907  1.038625     1.038850  1.039850  1.038060  \n",
       "2024-12-20 14:00:00  1.039130  1.038907     1.039153  1.039617  1.038387  \n",
       "\n",
       "[61938 rows x 76 columns]"
      ]
     },
     "execution_count": 11,
     "metadata": {},
     "output_type": "execute_result"
    }
   ],
   "source": [
    "features_df"
   ]
  },
  {
   "cell_type": "code",
   "execution_count": 5,
   "id": "2d121d0d",
   "metadata": {},
   "outputs": [
    {
     "data": {
      "text/plain": [
       "Index(['High', 'Low', 'Close', 'Volume', 'Time', 'Date', 'SMA_5', 'SMA_10',\n",
       "       'SMA_20', 'EMA_20', 'SMA_50', 'SMA_100', 'EMA_100', 'SMA_200',\n",
       "       'EMA_200', 'RSI_14', 'Stochastic_K', 'Stochastic_D', 'MACD_Signal',\n",
       "       'MACD_Hist', 'ATR', 'Plus_DI', 'Minus_DI', 'ADX', 'CCI',\n",
       "       'Bollinger_Mid', 'ROC', 'OBV', 'Force_Index', 'ADL', 'MFI', 'ASI',\n",
       "       'Chaikin_Oscillator', 'RS', 'Keltner_Mid', 'Keltner_Upper',\n",
       "       'Keltner_Lower', 'Donchian_Lower', 'Kijun_Sen', 'Senkou_Span_A',\n",
       "       'Senkou_Span_B', 'Fib_0'],\n",
       "      dtype='object')"
      ]
     },
     "execution_count": 5,
     "metadata": {},
     "output_type": "execute_result"
    }
   ],
   "source": [
    "features_df_nonan.iloc[:, feat_idx_].columns"
   ]
  },
  {
   "cell_type": "code",
   "execution_count": 6,
   "id": "732943d5",
   "metadata": {},
   "outputs": [
    {
     "name": "stdout",
     "output_type": "stream",
     "text": [
      "train_split = 0.8\n",
      "Shape of x, y train/cv/test: (114547, 42) (114547,) (28637, 42) (28637,) (12348, 42) (12348,)\n",
      "Unique class labels before encoding: [0 1 2]\n",
      "Class Label: 0 -> One-Hot Encoding: [1. 0. 0.]\n",
      "Class Label: 1 -> One-Hot Encoding: [0. 1. 0.]\n",
      "Class Label: 2 -> One-Hot Encoding: [0. 0. 1.]\n",
      "Epoch 1/10\n",
      "3580/3580 [==============================] - 15s 4ms/step - loss: 0.0253 - accuracy: 0.9908 - val_loss: 3.4009e-07 - val_accuracy: 1.0000\n",
      "Epoch 2/10\n",
      "3580/3580 [==============================] - 13s 4ms/step - loss: 0.0015 - accuracy: 0.9996 - val_loss: 5.0979e-07 - val_accuracy: 1.0000\n",
      "Epoch 3/10\n",
      "3580/3580 [==============================] - 14s 4ms/step - loss: 8.8737e-04 - accuracy: 0.9997 - val_loss: 3.8093e-08 - val_accuracy: 1.0000\n",
      "Epoch 4/10\n",
      "3580/3580 [==============================] - 13s 4ms/step - loss: 6.4998e-04 - accuracy: 0.9998 - val_loss: 9.1330e-09 - val_accuracy: 1.0000\n",
      "Epoch 5/10\n",
      "3580/3580 [==============================] - 13s 4ms/step - loss: 1.7164e-04 - accuracy: 1.0000 - val_loss: 1.6651e-11 - val_accuracy: 1.0000\n",
      "Epoch 6/10\n",
      "3580/3580 [==============================] - 13s 4ms/step - loss: 4.8430e-04 - accuracy: 0.9999 - val_loss: 6.6186e-09 - val_accuracy: 1.0000\n",
      "Epoch 7/10\n",
      "3580/3580 [==============================] - 13s 4ms/step - loss: 4.2519e-04 - accuracy: 0.9999 - val_loss: 6.0360e-10 - val_accuracy: 1.0000\n",
      "Epoch 8/10\n",
      "3580/3580 [==============================] - 13s 4ms/step - loss: 6.9992e-04 - accuracy: 0.9999 - val_loss: 5.8359e-07 - val_accuracy: 1.0000\n",
      "Epoch 9/10\n",
      "3580/3580 [==============================] - 13s 4ms/step - loss: 1.0377e-04 - accuracy: 1.0000 - val_loss: 4.4125e-10 - val_accuracy: 1.0000\n",
      "Epoch 10/10\n",
      "3580/3580 [==============================] - 14s 4ms/step - loss: 1.9212e-04 - accuracy: 1.0000 - val_loss: 1.5332e-05 - val_accuracy: 1.0000\n",
      "386/386 [==============================] - 0s 1ms/step - loss: 2.8683e-07 - accuracy: 1.0000\n",
      "Test Loss: 0.0000\n",
      "Test Accuracy: 1.0000\n",
      "INFO:tensorflow:Assets written to: D:\\Repos_git\\Make_Money_with_Tensorflow_2.0\\forexPredictor\\ohlc_data\\model.hd5\\assets\n"
     ]
    },
    {
     "name": "stderr",
     "output_type": "stream",
     "text": [
      "INFO:tensorflow:Assets written to: D:\\Repos_git\\Make_Money_with_Tensorflow_2.0\\forexPredictor\\ohlc_data\\model.hd5\\assets\n"
     ]
    }
   ],
   "source": [
    "if 'Date' in features_df_nonan.iloc[:, feat_idx_].columns:\n",
    "    features_df_nonan = features_df_nonan.drop(columns=['Date'])\n",
    "elif 'Time' in features_df_nonan.iloc[:, feat_idx_].columns:\n",
    "    features_df_nonan = features_df_nonan.drop(columns=['Time'])\n",
    "\n",
    "features_df_nonan = features_df_nonan.select_dtypes(exclude=['object'])\n",
    "\n",
    "epoch = 10\n",
    "\n",
    "model_name = os.path.join(os.getcwd(), data_dir)\n",
    "xTest, yTest_onehot, history_, model_path = prepare_train_model(\n",
    "    features_df_nonan.iloc[:, feat_idx_], \n",
    "    features_df_nonan['Signal'],\n",
    "    epoch,\n",
    "    model_name)\n",
    "\n"
   ]
  },
  {
   "cell_type": "code",
   "execution_count": 20,
   "id": "780d7555",
   "metadata": {},
   "outputs": [
    {
     "data": {
      "text/plain": [
       "42"
      ]
     },
     "execution_count": 20,
     "metadata": {},
     "output_type": "execute_result"
    }
   ],
   "source": [
    "len(feat_idx_)"
   ]
  },
  {
   "cell_type": "code",
   "execution_count": 15,
   "id": "1ab8a27f",
   "metadata": {},
   "outputs": [
    {
     "data": {
      "text/plain": [
       "(12348, 42, 1)"
      ]
     },
     "execution_count": 15,
     "metadata": {},
     "output_type": "execute_result"
    }
   ],
   "source": [
    "xTest.shape"
   ]
  },
  {
   "cell_type": "code",
   "execution_count": 14,
   "id": "decc3d0c",
   "metadata": {},
   "outputs": [
    {
     "data": {
      "text/plain": [
       "'D:\\\\git_repos\\\\Make_Money_with_Tensorflow_2.0\\\\forexPredictor\\\\ohlc_data'"
      ]
     },
     "execution_count": 14,
     "metadata": {},
     "output_type": "execute_result"
    }
   ],
   "source": [
    "model_path"
   ]
  },
  {
   "cell_type": "code",
   "execution_count": 7,
   "id": "2b342e42",
   "metadata": {},
   "outputs": [
    {
     "name": "stdout",
     "output_type": "stream",
     "text": [
      "386/386 [==============================] - 1s 1ms/step\n",
      "Predicted one hot: [0 0 0 0 0 0 0 0 0 0 0 0 0 0 0 0 0 0 0 0 0 0 0 0 0 0 0 0 0 0 0 0 0 0 0 0 0\n",
      " 2 0 0 0 0 0 0 0 0 0 0 0 0]\n",
      "Actual one hot: [0 0 0 0 0 0 0 0 0 0 0 0 0 0 0 0 0 0 0 0 0 0 0 0 0 0 0 0 0 0 0 0 0 0 0 0 0\n",
      " 2 0 0 0 0 0 0 0 0 0 0 0 0]\n",
      "[[11932     0     0]\n",
      " [    0   204     0]\n",
      " [    0     0   212]]\n",
      "              precision    recall  f1-score   support\n",
      "\n",
      "           0       1.00      1.00      1.00     11932\n",
      "           1       1.00      1.00      1.00       204\n",
      "           2       1.00      1.00      1.00       212\n",
      "\n",
      "    accuracy                           1.00     12348\n",
      "   macro avg       1.00      1.00      1.00     12348\n",
      "weighted avg       1.00      1.00      1.00     12348\n",
      "\n"
     ]
    },
    {
     "data": {
      "image/png": "[encoded data removed]",
      "text/plain": [
       "<Figure size 640x480 with 1 Axes>"
      ]
     },
     "metadata": {},
     "output_type": "display_data"
    },
    {
     "data": {
      "image/png": "[encoded data removed]",
      "text/plain": [
       "<Figure size 640x480 with 1 Axes>"
      ]
     },
     "metadata": {},
     "output_type": "display_data"
    },
    {
     "data": {
      "image/png": "[encoded data removed]",
      "text/plain": [
       "<Figure size 800x600 with 2 Axes>"
      ]
     },
     "metadata": {},
     "output_type": "display_data"
    }
   ],
   "source": [
    "predictions_accuracy_plot(xTest, yTest_onehot, history_, model_path)  "
   ]
  },
  {
   "cell_type": "code",
   "execution_count": 9,
   "id": "adba2762",
   "metadata": {},
   "outputs": [],
   "source": [
    "def prepare_train_model(df, df_signal, epc, model_saved_path):\n",
    "    # Exclude the 'Signal' column and select only numeric data\n",
    "#     X = df.drop(columns=['Signal']).select_dtypes(include=[np.number]).values\n",
    "#     y = df['Signal'].values  # Target variable\n",
    "    X = df.values\n",
    "    y = df_signal.values\n",
    "    # Splitting the data into train and test sets\n",
    "    x_train, x_test, y_train, y_test = train_test_split(\n",
    "        X, y, \n",
    "        train_size=0.8, \n",
    "        test_size=0.2, \n",
    "        random_state=2, \n",
    "        shuffle=True, \n",
    "        stratify=y\n",
    "    )\n",
    "\n",
    "    # Uncomment the following lines if you want to handle class imbalance\n",
    "    # 'not majority': resample all classes but the majority class\n",
    "#     smote = RandomOverSampler(random_state=42, sampling_strategy='not majority')\n",
    "#     x_train, y_train = smote.fit_resample(x_train, y_train)\n",
    "#     print('Resampled dataset shape:', Counter(y_train))\n",
    "\n",
    "    smote = SMOTE(random_state=42, sampling_strategy='not majority')\n",
    "    x_train, y_train = smote.fit_resample(x_train, y_train)\n",
    "\n",
    "\n",
    "    # Dynamic train-validation split\n",
    "    train_split = 0.9 if 0.8 * x_train.shape[0] < 2500 else 0.8\n",
    "    print('train_split =', train_split)\n",
    "\n",
    "    # Split the training set further into training and cross-validation sets\n",
    "    x_train, x_cv, y_train, y_cv = train_test_split(\n",
    "        x_train, y_train, \n",
    "        train_size=train_split, \n",
    "        test_size=1-train_split, \n",
    "        random_state=2, \n",
    "        shuffle=True, \n",
    "        stratify=y_train\n",
    "    )\n",
    "\n",
    "    # Choose between MinMaxScaler or StandardScaler\n",
    "    scaler = MinMaxScaler(feature_range=(0, 1))  # For Min-Max scaling\n",
    "    # scaler = StandardScaler()                   # For Standard scaling\n",
    "\n",
    "    # Apply scaling to training, cross-validation, and test sets\n",
    "    x_train = scaler.fit_transform(x_train)\n",
    "    x_cv = scaler.transform(x_cv)\n",
    "    x_test = scaler.transform(x_test)\n",
    "\n",
    "    # Copying the main training set for further operations if needed\n",
    "    x_main = x_train.copy()\n",
    "\n",
    "    # Printing the shapes of train, cross-validation, and test sets\n",
    "    print(\"Shape of x, y train/cv/test:\", \n",
    "          x_train.shape, y_train.shape, x_cv.shape, y_cv.shape, x_test.shape, y_test.shape)\n",
    "\n",
    "\n",
    "    # Ensure reproducibility\n",
    "    np.random.seed(42)\n",
    "    tf.random.set_seed(42)\n",
    "\n",
    "    # Reshape inputs for CNN\n",
    "    x_train = x_train.reshape((x_train.shape[0], x_train.shape[1], 1))  # Add channel dimension\n",
    "    x_cv = x_cv.reshape((x_cv.shape[0], x_cv.shape[1], 1))\n",
    "    x_test = x_test.reshape((x_test.shape[0], x_test.shape[1], 1))\n",
    "\n",
    "    # Normalize data if not already normalized\n",
    "    x_train = x_train / np.max(x_train)\n",
    "    x_cv = x_cv / np.max(x_cv)\n",
    "    x_test = x_test / np.max(x_test)\n",
    "    \n",
    "    # Print unique labels before encoding\n",
    "    print(\"Unique class labels before encoding:\", np.unique(y_train))\n",
    "    \n",
    "    y_train_onehot = to_categorical(y_train, num_classes=3)\n",
    "    y_cv_onehot = to_categorical(y_cv, num_classes=3)\n",
    "    y_test_onehot = to_categorical(y_test, num_classes=3)\n",
    "    \n",
    "    # Get unique class labels in y_train\n",
    "    unique_labels = np.unique(y_train)\n",
    "\n",
    "    # Print one-hot encoding for each unique label\n",
    "    for label in unique_labels:\n",
    "        onehot = to_categorical([label], num_classes=3)[0]  # Convert single label to one-hot\n",
    "        print(f\"Class Label: {label} -> One-Hot Encoding: {onehot}\")\n",
    "\n",
    "\n",
    "    model = Sequential([\n",
    "        Conv1D(filters=64, kernel_size=3, activation='relu', input_shape=(x_train.shape[1], 1)),\n",
    "        MaxPooling1D(pool_size=2),\n",
    "        Dropout(0.2),\n",
    "        Conv1D(filters=128, kernel_size=3, activation='relu'),\n",
    "        MaxPooling1D(pool_size=2),\n",
    "        Flatten(),\n",
    "        Dense(64, activation='relu'),\n",
    "        Dropout(0.5),\n",
    "        Dense(3, activation='softmax')  # 3 classes: 0, 1, 2\n",
    "    ])\n",
    "\n",
    "    ## If One hot encoded\n",
    "    model.compile(optimizer='adam', \n",
    "                  loss='categorical_crossentropy', \n",
    "                  metrics=['accuracy'])\n",
    "\n",
    "\n",
    "    class_weights = compute_class_weight(\n",
    "    class_weight='balanced',\n",
    "    classes=np.unique(y_train),\n",
    "    y=y_train)\n",
    "    \n",
    "    class_weight_dict = {i: class_weights[i] for i in range(len(class_weights))}\n",
    "\n",
    "    ### If one hot encoded\n",
    "    history = model.fit(x_train, y_train_onehot, \n",
    "                        epochs=epc, \n",
    "                        batch_size=32, \n",
    "                        validation_data=(x_cv, y_cv_onehot),\n",
    "                        class_weight=class_weight_dict)\n",
    "\n",
    "    # if One hot the Evaluate the model like below\n",
    "    test_loss, test_accuracy = model.evaluate(x_test, y_test_onehot)\n",
    "    print(f\"Test Loss: {test_loss:.4f}\")\n",
    "    print(f\"Test Accuracy: {test_accuracy:.4f}\")\n",
    "\n",
    "    # Save the model to a file\n",
    "    model.save(os.path.join(model_saved_path, 'model.hd5'))  # Saves the model in HDF5 format (recommended for compatibility)\n",
    "    # model = load_model(\"my_model.h5\")\n",
    "    \n",
    "    return x_test, y_test_onehot, history, model_saved_path\n",
    "\n",
    "def predictions_accuracy_plot(x_test, y_test_onehot, history, model_saved_path):\n",
    "    \n",
    "    model = load_model(os.path.join(model_saved_path, 'model.hd5'))\n",
    "    \n",
    "    # Get predictions\n",
    "    y_pred = model.predict(x_test)  # This returns probabilities\n",
    "    y_pred_classes = np.argmax(y_pred, axis=1)  # Convert probabilities to class indices\n",
    "\n",
    "    # Convert one-hot encoded y_test back to class indices for comparison\n",
    "    y_test_classes = np.argmax(y_test_onehot, axis=1)\n",
    "        \n",
    "    # Convert predictions back to original labels\n",
    "#     mapping = {0: 0, 1: 1, 2: 2}  # Reverse mapping\n",
    "#     y_pred_original = np.vectorize(mapping.get)(y_pred_classes)\n",
    "    \n",
    "    # Check some predictions\n",
    "    print(\"Predicted one hot:\", y_pred_classes[:50])\n",
    "    print(\"Actual one hot:\", y_test_classes[:50])\n",
    "#     print(\"Original:\", y_pred_original[:50])\n",
    "\n",
    "    conf_matrix = confusion_matrix(y_test_classes, y_pred_classes)\n",
    "    print(conf_matrix)\n",
    "    print(classification_report(y_test_classes, y_pred_classes))\n",
    "\n",
    "    import matplotlib.pyplot as plt\n",
    "\n",
    "    plt.plot(history.history['accuracy'], label='Train Accuracy')\n",
    "    plt.plot(history.history['val_accuracy'], label='Validation Accuracy')\n",
    "    plt.xlabel('Epochs')\n",
    "    plt.ylabel('Accuracy')\n",
    "    plt.legend()\n",
    "    plt.show()\n",
    "\n",
    "    plt.plot(history.history['loss'], label='Train Loss')\n",
    "    plt.plot(history.history['val_loss'], label='Validation Loss')\n",
    "    plt.legend()\n",
    "    plt.show()\n",
    "\n",
    "    # one hot encoded Create a heatmap\n",
    "    plt.figure(figsize=(8, 6))\n",
    "    sns.heatmap(conf_matrix, annot=True, fmt=\"d\", cmap=\"Blues\", xticklabels=[0, 1, 2], yticklabels=[0, 1, 2])\n",
    "    plt.xlabel('Predicted')\n",
    "    plt.ylabel('Actual')\n",
    "    plt.title('Confusion Matrix')\n",
    "    plt.show()\n",
    "    \n",
    "\n",
    "    \n",
    "\n",
    "def features_selection(df, selection_method='all', topk=10, num_features=225):\n",
    "    \n",
    "    # Check if the columns exist before dropping\n",
    "    columns_to_drop = ['Time', 'Date', 'Signal']\n",
    "    X = df.drop(columns=[col for col in columns_to_drop if col in df.columns])\n",
    "    \n",
    "    # Separate features and target variable\n",
    "    y = df['Signal']  # Target variable\n",
    "    \n",
    "    # Ensure that only numeric columns are used for correlation\n",
    "    X_numeric = X.select_dtypes(include=[np.number])\n",
    "\n",
    "    # Step 1: Correlation Matrix\n",
    "    # Remove highly correlated features\n",
    "    cor_matrix = X_numeric.corr().abs()\n",
    "    upper_triangle = cor_matrix.where(np.triu(np.ones(cor_matrix.shape), k=1).astype(bool))\n",
    "    high_corr_features = [column for column in upper_triangle.columns if any(upper_triangle[column] > 0.9999)]\n",
    "    X.drop(columns=high_corr_features, inplace=True)\n",
    "    print(f\"Features removed due to high correlation: {high_corr_features}\")\n",
    "\n",
    "    # Step 2: Feature Selection with Lasso\n",
    "    # Scale the data before Lasso\n",
    "    scaler = StandardScaler()\n",
    "    X_scaled = scaler.fit_transform(X)\n",
    "    \n",
    "    # Apply LassoCV for feature selection\n",
    "    lasso = LassoCV(cv=5, random_state=0).fit(X_scaled, y)\n",
    "    lasso_selected_features = X.columns[lasso.coef_ != 0]\n",
    "    print(f\"Features selected by Lasso: {list(lasso_selected_features)}\")\n",
    "\n",
    "    list_features = X.columns.tolist()  # List of all feature names\n",
    "\n",
    "    # Get indices of common features\n",
    "    feat_idx = sorted([list_features.index(c) for c in lasso_selected_features][:num_features])\n",
    "    print(\"Feature indices for common features:\", feat_idx)\n",
    "\n",
    "    return lasso_selected_features, feat_idx\n",
    "\n",
    "def feature_generate(indicators_df):    \n",
    "    # Moving Averages (Simple and Exponential)\n",
    "    for window in [5, 10, 20, 50, 100, 200]:\n",
    "        indicators_df[f'SMA_{window}'] = indicators_df['Close'].rolling(window=window).mean()\n",
    "        indicators_df[f'EMA_{window}'] = indicators_df['Close'].ewm(span=window, adjust=False).mean()\n",
    "\n",
    "    # Momentum Indicators\n",
    "    indicators_df['RSI_14'] = 100 - (100 / (1 + (indicators_df['Close'].diff().clip(lower=0).rolling(window=14).mean() / \n",
    "                                                  indicators_df['Close'].diff().clip(upper=0).abs().rolling(window=14).mean())))\n",
    "\n",
    "    indicators_df['Stochastic_K'] = ((indicators_df['Close'] - indicators_df['Low'].rolling(14).min()) /\n",
    "                                      (indicators_df['High'].rolling(14).max() - indicators_df['Low'].rolling(14).min())) * 100\n",
    "\n",
    "    indicators_df['Stochastic_D'] = indicators_df['Stochastic_K'].rolling(3).mean()\n",
    "\n",
    "    # Williams %R\n",
    "    indicators_df['Williams_%R'] = ((indicators_df['High'].rolling(14).max() - indicators_df['Close']) /\n",
    "                                     (indicators_df['High'].rolling(14).max() - indicators_df['Low'].rolling(14).min())) * -100\n",
    "\n",
    "    # Moving Average Convergence Divergence (MACD)\n",
    "    indicators_df['MACD'] = indicators_df['Close'].ewm(span=12, adjust=False).mean() - indicators_df['Close'].ewm(span=26, adjust=False).mean()\n",
    "    indicators_df['MACD_Signal'] = indicators_df['MACD'].ewm(span=9, adjust=False).mean()\n",
    "    indicators_df['MACD_Hist'] = indicators_df['MACD'] - indicators_df['MACD_Signal']\n",
    "\n",
    "    # Average Directional Index (ADX)\n",
    "    high_diff = indicators_df['High'].diff()\n",
    "    low_diff = indicators_df['Low'].diff()\n",
    "    plus_dm = np.where((high_diff > low_diff) & (high_diff > 0), high_diff, 0)\n",
    "    minus_dm = np.where((low_diff > high_diff) & (low_diff > 0), low_diff, 0)\n",
    "    true_range = pd.DataFrame({\n",
    "        'hl': indicators_df['High'] - indicators_df['Low'],\n",
    "        'hc': (indicators_df['High'] - indicators_df['Close'].shift()).abs(),\n",
    "        'lc': (indicators_df['Low'] - indicators_df['Close'].shift()).abs()\n",
    "    }).max(axis=1)\n",
    "    indicators_df['ATR'] = true_range.rolling(window=14).mean()\n",
    "    indicators_df['Plus_DI'] = 100 * pd.Series(plus_dm).rolling(window=14).mean() / indicators_df['ATR']\n",
    "    indicators_df['Minus_DI'] = 100 * pd.Series(minus_dm).rolling(window=14).mean() / indicators_df['ATR']\n",
    "    indicators_df['ADX'] = 100 * abs(indicators_df['Plus_DI'] - indicators_df['Minus_DI']).rolling(window=14).mean() / (indicators_df['Plus_DI'] + indicators_df['Minus_DI'])\n",
    "\n",
    "    # Commodity Channel Index (CCI)\n",
    "    typical_price = (indicators_df['High'] + indicators_df['Low'] + indicators_df['Close']) / 3\n",
    "    indicators_df['CCI'] = (typical_price - typical_price.rolling(20).mean()) / (0.015 * typical_price.rolling(20).std())\n",
    "\n",
    "    # Bollinger Bands\n",
    "    indicators_df['Bollinger_Mid'] = indicators_df['Close'].rolling(window=20).mean()\n",
    "    indicators_df['Bollinger_Upper'] = indicators_df['Bollinger_Mid'] + 2 * indicators_df['Close'].rolling(window=20).std()\n",
    "    indicators_df['Bollinger_Lower'] = indicators_df['Bollinger_Mid'] - 2 * indicators_df['Close'].rolling(window=20).std()\n",
    "\n",
    "    # Rate of Change (ROC)\n",
    "    indicators_df['ROC'] = indicators_df['Close'].pct_change(periods=12) * 100\n",
    "\n",
    "    # On-Balance Volume (OBV)\n",
    "    obv = np.where(indicators_df['Close'] > indicators_df['Close'].shift(1), indicators_df['Volume'],\n",
    "                   np.where(indicators_df['Close'] < indicators_df['Close'].shift(1), -indicators_df['Volume'], 0))\n",
    "    indicators_df['OBV'] = obv.cumsum()\n",
    "\n",
    "    # Force Index\n",
    "    indicators_df['Force_Index'] = indicators_df['Close'].diff(1) * indicators_df['Volume']\n",
    "\n",
    "    # Accumulation/Distribution Line (ADL)\n",
    "    adl = ((indicators_df['Close'] - indicators_df['Low']) - (indicators_df['High'] - indicators_df['Close'])) / \\\n",
    "           (indicators_df['High'] - indicators_df['Low']) * indicators_df['Volume']\n",
    "    indicators_df['ADL'] = adl.cumsum()\n",
    "\n",
    "    # Money Flow Index (MFI)\n",
    "    money_flow = typical_price * indicators_df['Volume']\n",
    "    positive_flow = np.where(typical_price > typical_price.shift(1), money_flow, 0)\n",
    "    negative_flow = np.where(typical_price < typical_price.shift(1), money_flow, 0)\n",
    "    mfi_ratio = pd.Series(positive_flow).rolling(14).sum() / pd.Series(negative_flow).rolling(14).sum()\n",
    "    indicators_df['MFI'] = 100 - (100 / (1 + mfi_ratio))\n",
    "\n",
    "    # Accumulation Swing Index (ASI)\n",
    "    indicators_df['ASI'] = ((indicators_df['Close'] - indicators_df['Close'].shift()) +\n",
    "                            (0.5 * (indicators_df['Close'] - indicators_df['Open'])) +\n",
    "                            (0.25 * (indicators_df['Close'].shift() - indicators_df['Open'].shift()))) / indicators_df['ATR']\n",
    "\n",
    "    # Chaikin Oscillator\n",
    "    indicators_df['Chaikin_Oscillator'] = indicators_df['ADL'].ewm(span=3, adjust=False).mean() - indicators_df['ADL'].ewm(span=10, adjust=False).mean()\n",
    "\n",
    "    # Relative Strength (RS)\n",
    "    indicators_df['RS'] = indicators_df['Close'] / indicators_df['Close'].rolling(14).mean()\n",
    "\n",
    "    # Keltner Channels\n",
    "    indicators_df['Keltner_Mid'] = indicators_df['Close'].rolling(window=20).mean()\n",
    "    indicators_df['Keltner_Upper'] = indicators_df['Keltner_Mid'] + 1.5 * indicators_df['ATR']\n",
    "    indicators_df['Keltner_Lower'] = indicators_df['Keltner_Mid'] - 1.5 * indicators_df['ATR']\n",
    "\n",
    "    # Donchian Channels\n",
    "    indicators_df['Donchian_Upper'] = indicators_df['High'].rolling(window=20).max()\n",
    "    indicators_df['Donchian_Lower'] = indicators_df['Low'].rolling(window=20).min()\n",
    "\n",
    "    # Ichimoku Cloud\n",
    "    indicators_df['Tenkan_Sen'] = (indicators_df['High'].rolling(9).max() + indicators_df['Low'].rolling(9).min()) / 2\n",
    "    indicators_df['Kijun_Sen'] = (indicators_df['High'].rolling(26).max() + indicators_df['Low'].rolling(26).min()) / 2\n",
    "    indicators_df['Senkou_Span_A'] = ((indicators_df['Tenkan_Sen'] + indicators_df['Kijun_Sen']) / 2).shift(26)\n",
    "    indicators_df['Senkou_Span_B'] = ((indicators_df['High'].rolling(52).max() + indicators_df['Low'].rolling(52).min()) / 2).shift(26)\n",
    "\n",
    "    # Fibonacci Retracement Levels\n",
    "    indicators_df['Fib_0'] = indicators_df['Close'].rolling(window=20).min()\n",
    "    indicators_df['Fib_100'] = indicators_df['Close'].rolling(window=20).max()\n",
    "    indicators_df['Fib_50'] = (indicators_df['Fib_0'] + indicators_df['Fib_100']) / 2\n",
    "    indicators_df['Fib_61.8'] = indicators_df['Fib_0'] + ((indicators_df['Fib_100'] - indicators_df['Fib_0']) * 0.618)\n",
    "    indicators_df['Fib_38.2'] = indicators_df['Fib_0'] + ((indicators_df['Fib_100'] - indicators_df['Fib_0']) * 0.382)\n",
    "\n",
    "        # Double/Triple Tops and Bottoms\n",
    "    indicators_df['Double_Top'] = (indicators_df['High'].rolling(window=3).max() == indicators_df['High'])\n",
    "    indicators_df['Double_Bottom'] = (indicators_df['Low'].rolling(window=3).min() == indicators_df['Low'])\n",
    "\n",
    "    # Price Channels\n",
    "    indicators_df['Channel_High'] = indicators_df['High'].rolling(window=20).max()\n",
    "    indicators_df['Channel_Low'] = indicators_df['Low'].rolling(window=20).min()\n",
    "    indicators_df['Channel_Mid'] = (indicators_df['Channel_High'] + indicators_df['Channel_Low']) / 2\n",
    "\n",
    "    # Linear Regression Channels\n",
    "    def linear_regression_channel(series, window):\n",
    "        x = np.arange(window)\n",
    "        fit = lambda y: np.polyfit(x, y, 1)\n",
    "        slope, intercept = series.rolling(window).apply(lambda y: fit(y)[0], raw=False), series.rolling(window).apply(lambda y: fit(y)[1], raw=False)\n",
    "        center = slope * (window - 1) + intercept\n",
    "        std = series.rolling(window).std()\n",
    "        return center, center + 2 * std, center - 2 * std\n",
    "\n",
    "    lr_center, lr_upper, lr_lower = linear_regression_channel(indicators_df['Close'], 20)\n",
    "    indicators_df['LR_Center'] = lr_center\n",
    "    indicators_df['LR_Upper'] = lr_upper\n",
    "    indicators_df['LR_Lower'] = lr_lower\n",
    "\n",
    "    # Parabolic SAR (Modified for Channels)\n",
    "    sar = indicators_df['Low'].rolling(window=14).min()\n",
    "    indicators_df['SAR'] = sar.shift(1)\n",
    "\n",
    "    # Standard Deviation Channels\n",
    "    std = indicators_df['Close'].rolling(window=20).std()\n",
    "    mean = indicators_df['Close'].rolling(window=20).mean()\n",
    "    indicators_df['Std_Dev_Upper'] = mean + 2 * std\n",
    "    indicators_df['Std_Dev_Lower'] = mean - 2 * std\n",
    "\n",
    "    # VWAP Bands\n",
    "    indicators_df['VWAP'] = (indicators_df['Close'] * indicators_df['Volume']).cumsum() / indicators_df['Volume'].cumsum()\n",
    "    indicators_df['VWAP_Upper'] = indicators_df['VWAP'] + std\n",
    "    indicators_df['VWAP_Lower'] = indicators_df['VWAP'] - std\n",
    "\n",
    "    # Adaptive Channels\n",
    "    atr = indicators_df['Close'].rolling(window=14).std()\n",
    "    indicators_df['Adaptive_Upper'] = indicators_df['Close'] + (2 * atr)\n",
    "    indicators_df['Adaptive_Lower'] = indicators_df['Close'] - (2 * atr)\n",
    "\n",
    "    # Heikin-Ashi\n",
    "    ha_close = (indicators_df['Open'] + indicators_df['High'] + indicators_df['Low'] + indicators_df['Close']) / 4\n",
    "    indicators_df['HA_Close'] = ha_close\n",
    "    indicators_df['HA_Open'] = ha_close.shift(1)\n",
    "\n",
    "    # Pivot Points\n",
    "    pivot = (indicators_df['High'] + indicators_df['Low'] + indicators_df['Close']) / 3\n",
    "    indicators_df['Pivot_Point'] = pivot\n",
    "    indicators_df['Pivot_R1'] = (2 * pivot) - indicators_df['Low']\n",
    "    indicators_df['Pivot_S1'] = (2 * pivot) - indicators_df['High']\n",
    "\n",
    "    \n",
    "    return indicators_df\n"
   ]
  },
  {
   "cell_type": "code",
   "execution_count": 24,
   "id": "7ce779fc",
   "metadata": {},
   "outputs": [
    {
     "name": "stdout",
     "output_type": "stream",
     "text": [
      "386/386 [==============================] - 1s 2ms/step\n"
     ]
    },
    {
     "name": "stderr",
     "output_type": "stream",
     "text": [
      "C:\\Users\\Teacher\\AppData\\Local\\Programs\\Python\\Python310\\lib\\site-packages\\sklearn\\metrics\\_classification.py:1344: UndefinedMetricWarning: Precision and F-score are ill-defined and being set to 0.0 in labels with no predicted samples. Use `zero_division` parameter to control this behavior.\n",
      "  _warn_prf(average, modifier, msg_start, len(result))\n",
      "C:\\Users\\Teacher\\AppData\\Local\\Programs\\Python\\Python310\\lib\\site-packages\\sklearn\\metrics\\_classification.py:1344: UndefinedMetricWarning: Recall and F-score are ill-defined and being set to 0.0 in labels with no true samples. Use `zero_division` parameter to control this behavior.\n",
      "  _warn_prf(average, modifier, msg_start, len(result))\n",
      "C:\\Users\\Teacher\\AppData\\Local\\Programs\\Python\\Python310\\lib\\site-packages\\sklearn\\metrics\\_classification.py:1344: UndefinedMetricWarning: Precision and F-score are ill-defined and being set to 0.0 in labels with no predicted samples. Use `zero_division` parameter to control this behavior.\n",
      "  _warn_prf(average, modifier, msg_start, len(result))\n",
      "C:\\Users\\Teacher\\AppData\\Local\\Programs\\Python\\Python310\\lib\\site-packages\\sklearn\\metrics\\_classification.py:1344: UndefinedMetricWarning: Recall and F-score are ill-defined and being set to 0.0 in labels with no true samples. Use `zero_division` parameter to control this behavior.\n",
      "  _warn_prf(average, modifier, msg_start, len(result))\n",
      "C:\\Users\\Teacher\\AppData\\Local\\Programs\\Python\\Python310\\lib\\site-packages\\sklearn\\metrics\\_classification.py:1344: UndefinedMetricWarning: Precision and F-score are ill-defined and being set to 0.0 in labels with no predicted samples. Use `zero_division` parameter to control this behavior.\n",
      "  _warn_prf(average, modifier, msg_start, len(result))\n",
      "C:\\Users\\Teacher\\AppData\\Local\\Programs\\Python\\Python310\\lib\\site-packages\\sklearn\\metrics\\_classification.py:1344: UndefinedMetricWarning: Recall and F-score are ill-defined and being set to 0.0 in labels with no true samples. Use `zero_division` parameter to control this behavior.\n",
      "  _warn_prf(average, modifier, msg_start, len(result))\n"
     ]
    },
    {
     "name": "stdout",
     "output_type": "stream",
     "text": [
      "Method: Original, Test Accuracy: 0.9270\n",
      "Random Oversampling dataset shape: Counter({0: 45356, 1: 45356, -1: 45356})\n",
      "386/386 [==============================] - 1s 2ms/step\n",
      "Method: Random Oversampling, Test Accuracy: 0.7772\n",
      "Random Undersampling dataset shape: Counter({-1: 2009, 0: 2009, 1: 2009})\n"
     ]
    },
    {
     "name": "stderr",
     "output_type": "stream",
     "text": [
      "C:\\Users\\Teacher\\AppData\\Local\\Programs\\Python\\Python310\\lib\\site-packages\\sklearn\\metrics\\_classification.py:1344: UndefinedMetricWarning: Precision and F-score are ill-defined and being set to 0.0 in labels with no predicted samples. Use `zero_division` parameter to control this behavior.\n",
      "  _warn_prf(average, modifier, msg_start, len(result))\n",
      "C:\\Users\\Teacher\\AppData\\Local\\Programs\\Python\\Python310\\lib\\site-packages\\sklearn\\metrics\\_classification.py:1344: UndefinedMetricWarning: Recall and F-score are ill-defined and being set to 0.0 in labels with no true samples. Use `zero_division` parameter to control this behavior.\n",
      "  _warn_prf(average, modifier, msg_start, len(result))\n",
      "C:\\Users\\Teacher\\AppData\\Local\\Programs\\Python\\Python310\\lib\\site-packages\\sklearn\\metrics\\_classification.py:1344: UndefinedMetricWarning: Precision and F-score are ill-defined and being set to 0.0 in labels with no predicted samples. Use `zero_division` parameter to control this behavior.\n",
      "  _warn_prf(average, modifier, msg_start, len(result))\n",
      "C:\\Users\\Teacher\\AppData\\Local\\Programs\\Python\\Python310\\lib\\site-packages\\sklearn\\metrics\\_classification.py:1344: UndefinedMetricWarning: Recall and F-score are ill-defined and being set to 0.0 in labels with no true samples. Use `zero_division` parameter to control this behavior.\n",
      "  _warn_prf(average, modifier, msg_start, len(result))\n",
      "C:\\Users\\Teacher\\AppData\\Local\\Programs\\Python\\Python310\\lib\\site-packages\\sklearn\\metrics\\_classification.py:1344: UndefinedMetricWarning: Precision and F-score are ill-defined and being set to 0.0 in labels with no predicted samples. Use `zero_division` parameter to control this behavior.\n",
      "  _warn_prf(average, modifier, msg_start, len(result))\n",
      "C:\\Users\\Teacher\\AppData\\Local\\Programs\\Python\\Python310\\lib\\site-packages\\sklearn\\metrics\\_classification.py:1344: UndefinedMetricWarning: Recall and F-score are ill-defined and being set to 0.0 in labels with no true samples. Use `zero_division` parameter to control this behavior.\n",
      "  _warn_prf(average, modifier, msg_start, len(result))\n"
     ]
    },
    {
     "name": "stdout",
     "output_type": "stream",
     "text": [
      "386/386 [==============================] - 1s 2ms/step\n"
     ]
    },
    {
     "name": "stderr",
     "output_type": "stream",
     "text": [
      "C:\\Users\\Teacher\\AppData\\Local\\Programs\\Python\\Python310\\lib\\site-packages\\sklearn\\metrics\\_classification.py:1344: UndefinedMetricWarning: Precision and F-score are ill-defined and being set to 0.0 in labels with no predicted samples. Use `zero_division` parameter to control this behavior.\n",
      "  _warn_prf(average, modifier, msg_start, len(result))\n",
      "C:\\Users\\Teacher\\AppData\\Local\\Programs\\Python\\Python310\\lib\\site-packages\\sklearn\\metrics\\_classification.py:1344: UndefinedMetricWarning: Recall and F-score are ill-defined and being set to 0.0 in labels with no true samples. Use `zero_division` parameter to control this behavior.\n",
      "  _warn_prf(average, modifier, msg_start, len(result))\n",
      "C:\\Users\\Teacher\\AppData\\Local\\Programs\\Python\\Python310\\lib\\site-packages\\sklearn\\metrics\\_classification.py:1344: UndefinedMetricWarning: Precision and F-score are ill-defined and being set to 0.0 in labels with no predicted samples. Use `zero_division` parameter to control this behavior.\n",
      "  _warn_prf(average, modifier, msg_start, len(result))\n",
      "C:\\Users\\Teacher\\AppData\\Local\\Programs\\Python\\Python310\\lib\\site-packages\\sklearn\\metrics\\_classification.py:1344: UndefinedMetricWarning: Recall and F-score are ill-defined and being set to 0.0 in labels with no true samples. Use `zero_division` parameter to control this behavior.\n",
      "  _warn_prf(average, modifier, msg_start, len(result))\n",
      "C:\\Users\\Teacher\\AppData\\Local\\Programs\\Python\\Python310\\lib\\site-packages\\sklearn\\metrics\\_classification.py:1344: UndefinedMetricWarning: Precision and F-score are ill-defined and being set to 0.0 in labels with no predicted samples. Use `zero_division` parameter to control this behavior.\n",
      "  _warn_prf(average, modifier, msg_start, len(result))\n",
      "C:\\Users\\Teacher\\AppData\\Local\\Programs\\Python\\Python310\\lib\\site-packages\\sklearn\\metrics\\_classification.py:1344: UndefinedMetricWarning: Recall and F-score are ill-defined and being set to 0.0 in labels with no true samples. Use `zero_division` parameter to control this behavior.\n",
      "  _warn_prf(average, modifier, msg_start, len(result))\n"
     ]
    },
    {
     "name": "stdout",
     "output_type": "stream",
     "text": [
      "Method: Random Undersampling, Test Accuracy: 0.7332\n",
      "SMOTE dataset shape: Counter({0: 45356, 1: 45356, -1: 45356})\n",
      "386/386 [==============================] - 1s 3ms/step\n"
     ]
    },
    {
     "name": "stderr",
     "output_type": "stream",
     "text": [
      "C:\\Users\\Teacher\\AppData\\Local\\Programs\\Python\\Python310\\lib\\site-packages\\sklearn\\metrics\\_classification.py:1344: UndefinedMetricWarning: Precision and F-score are ill-defined and being set to 0.0 in labels with no predicted samples. Use `zero_division` parameter to control this behavior.\n",
      "  _warn_prf(average, modifier, msg_start, len(result))\n",
      "C:\\Users\\Teacher\\AppData\\Local\\Programs\\Python\\Python310\\lib\\site-packages\\sklearn\\metrics\\_classification.py:1344: UndefinedMetricWarning: Recall and F-score are ill-defined and being set to 0.0 in labels with no true samples. Use `zero_division` parameter to control this behavior.\n",
      "  _warn_prf(average, modifier, msg_start, len(result))\n",
      "C:\\Users\\Teacher\\AppData\\Local\\Programs\\Python\\Python310\\lib\\site-packages\\sklearn\\metrics\\_classification.py:1344: UndefinedMetricWarning: Precision and F-score are ill-defined and being set to 0.0 in labels with no predicted samples. Use `zero_division` parameter to control this behavior.\n",
      "  _warn_prf(average, modifier, msg_start, len(result))\n",
      "C:\\Users\\Teacher\\AppData\\Local\\Programs\\Python\\Python310\\lib\\site-packages\\sklearn\\metrics\\_classification.py:1344: UndefinedMetricWarning: Recall and F-score are ill-defined and being set to 0.0 in labels with no true samples. Use `zero_division` parameter to control this behavior.\n",
      "  _warn_prf(average, modifier, msg_start, len(result))\n",
      "C:\\Users\\Teacher\\AppData\\Local\\Programs\\Python\\Python310\\lib\\site-packages\\sklearn\\metrics\\_classification.py:1344: UndefinedMetricWarning: Precision and F-score are ill-defined and being set to 0.0 in labels with no predicted samples. Use `zero_division` parameter to control this behavior.\n",
      "  _warn_prf(average, modifier, msg_start, len(result))\n",
      "C:\\Users\\Teacher\\AppData\\Local\\Programs\\Python\\Python310\\lib\\site-packages\\sklearn\\metrics\\_classification.py:1344: UndefinedMetricWarning: Recall and F-score are ill-defined and being set to 0.0 in labels with no true samples. Use `zero_division` parameter to control this behavior.\n",
      "  _warn_prf(average, modifier, msg_start, len(result))\n"
     ]
    },
    {
     "name": "stdout",
     "output_type": "stream",
     "text": [
      "Method: SMOTE, Test Accuracy: 0.7428\n",
      "ADASYN dataset shape: Counter({-1: 45403, 0: 45356, 1: 45331})\n",
      "386/386 [==============================] - 1s 3ms/step\n",
      "Method: ADASYN, Test Accuracy: 0.6856\n"
     ]
    },
    {
     "name": "stderr",
     "output_type": "stream",
     "text": [
      "C:\\Users\\Teacher\\AppData\\Local\\Programs\\Python\\Python310\\lib\\site-packages\\sklearn\\metrics\\_classification.py:1344: UndefinedMetricWarning: Precision and F-score are ill-defined and being set to 0.0 in labels with no predicted samples. Use `zero_division` parameter to control this behavior.\n",
      "  _warn_prf(average, modifier, msg_start, len(result))\n",
      "C:\\Users\\Teacher\\AppData\\Local\\Programs\\Python\\Python310\\lib\\site-packages\\sklearn\\metrics\\_classification.py:1344: UndefinedMetricWarning: Recall and F-score are ill-defined and being set to 0.0 in labels with no true samples. Use `zero_division` parameter to control this behavior.\n",
      "  _warn_prf(average, modifier, msg_start, len(result))\n",
      "C:\\Users\\Teacher\\AppData\\Local\\Programs\\Python\\Python310\\lib\\site-packages\\sklearn\\metrics\\_classification.py:1344: UndefinedMetricWarning: Precision and F-score are ill-defined and being set to 0.0 in labels with no predicted samples. Use `zero_division` parameter to control this behavior.\n",
      "  _warn_prf(average, modifier, msg_start, len(result))\n",
      "C:\\Users\\Teacher\\AppData\\Local\\Programs\\Python\\Python310\\lib\\site-packages\\sklearn\\metrics\\_classification.py:1344: UndefinedMetricWarning: Recall and F-score are ill-defined and being set to 0.0 in labels with no true samples. Use `zero_division` parameter to control this behavior.\n",
      "  _warn_prf(average, modifier, msg_start, len(result))\n",
      "C:\\Users\\Teacher\\AppData\\Local\\Programs\\Python\\Python310\\lib\\site-packages\\sklearn\\metrics\\_classification.py:1344: UndefinedMetricWarning: Precision and F-score are ill-defined and being set to 0.0 in labels with no predicted samples. Use `zero_division` parameter to control this behavior.\n",
      "  _warn_prf(average, modifier, msg_start, len(result))\n",
      "C:\\Users\\Teacher\\AppData\\Local\\Programs\\Python\\Python310\\lib\\site-packages\\sklearn\\metrics\\_classification.py:1344: UndefinedMetricWarning: Recall and F-score are ill-defined and being set to 0.0 in labels with no true samples. Use `zero_division` parameter to control this behavior.\n",
      "  _warn_prf(average, modifier, msg_start, len(result))\n"
     ]
    },
    {
     "name": "stdout",
     "output_type": "stream",
     "text": [
      "INFO:tensorflow:Assets written to: D:\\Repos_git\\Make_Money_with_Tensorflow_2.0\\forexPredictor\\ohlc_data\\assets\n"
     ]
    },
    {
     "name": "stderr",
     "output_type": "stream",
     "text": [
      "INFO:tensorflow:Assets written to: D:\\Repos_git\\Make_Money_with_Tensorflow_2.0\\forexPredictor\\ohlc_data\\assets\n"
     ]
    },
    {
     "name": "stdout",
     "output_type": "stream",
     "text": [
      "Best Method: Original, Accuracy: 0.9270\n"
     ]
    },
    {
     "ename": "ValueError",
     "evalue": "too many values to unpack (expected 4)",
     "output_type": "error",
     "traceback": [
      "\u001b[1;31m---------------------------------------------------------------------------\u001b[0m",
      "\u001b[1;31mValueError\u001b[0m                                Traceback (most recent call last)",
      "Cell \u001b[1;32mIn[24], line 2\u001b[0m\n\u001b[0;32m      1\u001b[0m model_name \u001b[38;5;241m=\u001b[39m os\u001b[38;5;241m.\u001b[39mpath\u001b[38;5;241m.\u001b[39mjoin(os\u001b[38;5;241m.\u001b[39mgetcwd(), data_dir)\n\u001b[1;32m----> 2\u001b[0m xTest, yTest_onehot, history_, model_path \u001b[38;5;241m=\u001b[39m prepare_train_model_with_comparison(\n\u001b[0;32m      3\u001b[0m     features_df_nonan\u001b[38;5;241m.\u001b[39miloc[:, feat_idx_], \n\u001b[0;32m      4\u001b[0m     features_df_nonan[\u001b[38;5;124m'\u001b[39m\u001b[38;5;124mSignal\u001b[39m\u001b[38;5;124m'\u001b[39m],\n\u001b[0;32m      5\u001b[0m     model_name)\n",
      "\u001b[1;31mValueError\u001b[0m: too many values to unpack (expected 4)"
     ]
    }
   ],
   "source": [
    "model_name = os.path.join(os.getcwd(), data_dir)\n",
    "xTest, yTest_onehot, history_, model_path = prepare_train_model_with_comparison(\n",
    "    features_df_nonan.iloc[:, feat_idx_], \n",
    "    features_df_nonan['Signal'],\n",
    "    model_name)"
   ]
  },
  {
   "cell_type": "code",
   "execution_count": 2,
   "id": "f6a90198",
   "metadata": {},
   "outputs": [],
   "source": [
    "from sklearn.metrics import classification_report, confusion_matrix\n",
    "from imblearn.over_sampling import RandomOverSampler, SMOTE, ADASYN\n",
    "from imblearn.under_sampling import RandomUnderSampler\n",
    "from collections import Counter\n",
    "\n",
    "def prepare_train_model_with_comparison(df, df_signal, model_saved_path):\n",
    "    X = df.values\n",
    "    y = df_signal.values\n",
    "\n",
    "    # Splitting the data into train and test sets\n",
    "    x_train, x_test, y_train, y_test = train_test_split(\n",
    "        X, y, \n",
    "        train_size=0.8, \n",
    "        test_size=0.2, \n",
    "        random_state=42, \n",
    "        shuffle=True, \n",
    "        stratify=y\n",
    "    )\n",
    "\n",
    "    # Different imbalance handling methods\n",
    "    methods = {\n",
    "        'Original': None,\n",
    "        'Random Oversampling': RandomOverSampler(sampling_strategy='minority'),\n",
    "        'Random Undersampling': RandomUnderSampler(sampling_strategy='majority'),\n",
    "        'SMOTE': SMOTE(random_state=42),\n",
    "        'ADASYN': ADASYN(random_state=42),\n",
    "    }\n",
    "\n",
    "    results = {}\n",
    "    for method_name, sampler in methods.items():\n",
    "        if sampler:\n",
    "            x_train_resampled, y_train_resampled = sampler.fit_resample(x_train, y_train)\n",
    "            print(f'{method_name} dataset shape:', Counter(y_train_resampled))\n",
    "        else:\n",
    "            x_train_resampled, y_train_resampled = x_train, y_train\n",
    "\n",
    "        # Normalize the data\n",
    "        scaler = MinMaxScaler()\n",
    "        x_train_resampled = scaler.fit_transform(x_train_resampled)\n",
    "        x_test_scaled = scaler.transform(x_test)\n",
    "\n",
    "        # Reshape inputs for CNN\n",
    "        x_train_resampled = x_train_resampled.reshape((x_train_resampled.shape[0], x_train_resampled.shape[1], 1))\n",
    "        x_test_scaled = x_test_scaled.reshape((x_test_scaled.shape[0], x_test_scaled.shape[1], 1))\n",
    "\n",
    "        # One-hot encoding for the target variable\n",
    "        y_train_onehot = to_categorical(y_train_resampled, num_classes=3)\n",
    "        y_test_onehot = to_categorical(y_test, num_classes=3)\n",
    "\n",
    "        # Define the CNN model\n",
    "        model = Sequential([\n",
    "            Conv1D(filters=64, kernel_size=3, activation='relu', input_shape=(x_train_resampled.shape[1], 1)),\n",
    "            MaxPooling1D(pool_size=2),\n",
    "            Dropout(0.2),\n",
    "            Conv1D(filters=128, kernel_size=3, activation='relu'),\n",
    "            MaxPooling1D(pool_size=2),\n",
    "            Flatten(),\n",
    "            Dense(64, activation='relu'),\n",
    "            Dropout(0.5),\n",
    "            Dense(3, activation='softmax')\n",
    "        ])\n",
    "\n",
    "        # Compile and train the model\n",
    "        model.compile(optimizer='adam', loss='categorical_crossentropy', metrics=['accuracy'])\n",
    "        history = model.fit(x_train_resampled, y_train_onehot, epochs=10, batch_size=32, verbose=0)\n",
    "\n",
    "        # Evaluate the model\n",
    "        test_loss, test_accuracy = model.evaluate(x_test_scaled, y_test_onehot, verbose=0)\n",
    "        y_pred = np.argmax(model.predict(x_test_scaled), axis=1)\n",
    "        classification_report_str = classification_report(y_test, y_pred, output_dict=True)\n",
    "\n",
    "        results[method_name] = {\n",
    "            'Test Accuracy': test_accuracy,\n",
    "            'Classification Report': classification_report_str,\n",
    "            'Confusion Matrix': confusion_matrix(y_test, y_pred),\n",
    "        }\n",
    "        print(f'Method: {method_name}, Test Accuracy: {test_accuracy:.4f}')\n",
    "\n",
    "    # Save the best model if needed\n",
    "    best_method = max(results, key=lambda m: results[m]['Test Accuracy'])\n",
    "    model.save(model_saved_path)\n",
    "\n",
    "    print(f\"Best Method: {best_method}, Accuracy: {results[best_method]['Test Accuracy']:.4f}\")\n",
    "    return results\n"
   ]
  },
  {
   "cell_type": "code",
   "execution_count": 58,
   "id": "3f2b1a23",
   "metadata": {
    "collapsed": true,
    "jupyter": {
     "outputs_hidden": true
    }
   },
   "outputs": [
    {
     "name": "stdout",
     "output_type": "stream",
     "text": [
      "Fold 1/5\n",
      "Resampled dataset shape: Counter({0: 48756, 1: 48756, -1: 48756})\n",
      "4571/4571 [==============================] - 17s 4ms/step - loss: 0.4930 - accuracy: 0.7855 - val_loss: 0.6619 - val_accuracy: 0.6410\n",
      "Fold 1 - Test Loss: 0.6619, Test Accuracy: 0.6410\n",
      "Fold 2/5\n",
      "Resampled dataset shape: Counter({0: 48757, 1: 48757, -1: 48757})\n"
     ]
    },
    {
     "name": "stderr",
     "output_type": "stream",
     "text": [
      "C:\\Users\\Teacher\\AppData\\Local\\Programs\\Python\\Python310\\lib\\site-packages\\keras\\src\\engine\\training.py:3079: UserWarning: You are saving your model as an HDF5 file via `model.save()`. This file format is considered legacy. We recommend using instead the native Keras format, e.g. `model.save('my_model.keras')`.\n",
      "  saving_api.save_model(\n"
     ]
    },
    {
     "name": "stdout",
     "output_type": "stream",
     "text": [
      "4571/4571 [==============================] - 17s 4ms/step - loss: 0.4796 - accuracy: 0.7938 - val_loss: 0.6229 - val_accuracy: 0.6153\n",
      "Fold 2 - Test Loss: 0.6229, Test Accuracy: 0.6153\n",
      "Fold 3/5\n",
      "Resampled dataset shape: Counter({0: 48757, -1: 48757, 1: 48757})\n"
     ]
    },
    {
     "name": "stderr",
     "output_type": "stream",
     "text": [
      "C:\\Users\\Teacher\\AppData\\Local\\Programs\\Python\\Python310\\lib\\site-packages\\keras\\src\\engine\\training.py:3079: UserWarning: You are saving your model as an HDF5 file via `model.save()`. This file format is considered legacy. We recommend using instead the native Keras format, e.g. `model.save('my_model.keras')`.\n",
      "  saving_api.save_model(\n"
     ]
    },
    {
     "name": "stdout",
     "output_type": "stream",
     "text": [
      "4571/4571 [==============================] - 17s 4ms/step - loss: 0.4906 - accuracy: 0.7874 - val_loss: 0.6263 - val_accuracy: 0.6351\n",
      "Fold 3 - Test Loss: 0.6263, Test Accuracy: 0.6351\n",
      "Fold 4/5\n",
      "Resampled dataset shape: Counter({0: 48757, 1: 48757, -1: 48757})\n"
     ]
    },
    {
     "name": "stderr",
     "output_type": "stream",
     "text": [
      "C:\\Users\\Teacher\\AppData\\Local\\Programs\\Python\\Python310\\lib\\site-packages\\keras\\src\\engine\\training.py:3079: UserWarning: You are saving your model as an HDF5 file via `model.save()`. This file format is considered legacy. We recommend using instead the native Keras format, e.g. `model.save('my_model.keras')`.\n",
      "  saving_api.save_model(\n"
     ]
    },
    {
     "name": "stdout",
     "output_type": "stream",
     "text": [
      "4571/4571 [==============================] - 16s 3ms/step - loss: 0.5027 - accuracy: 0.7816 - val_loss: 0.6072 - val_accuracy: 0.6356\n",
      "Fold 4 - Test Loss: 0.6072, Test Accuracy: 0.6356\n",
      "Fold 5/5\n",
      "Resampled dataset shape: Counter({0: 48757, 1: 48757, -1: 48757})\n"
     ]
    },
    {
     "name": "stderr",
     "output_type": "stream",
     "text": [
      "C:\\Users\\Teacher\\AppData\\Local\\Programs\\Python\\Python310\\lib\\site-packages\\keras\\src\\engine\\training.py:3079: UserWarning: You are saving your model as an HDF5 file via `model.save()`. This file format is considered legacy. We recommend using instead the native Keras format, e.g. `model.save('my_model.keras')`.\n",
      "  saving_api.save_model(\n"
     ]
    },
    {
     "name": "stdout",
     "output_type": "stream",
     "text": [
      "4571/4571 [==============================] - 17s 4ms/step - loss: 0.4836 - accuracy: 0.7935 - val_loss: 0.5778 - val_accuracy: 0.6739\n",
      "Fold 5 - Test Loss: 0.5778, Test Accuracy: 0.6739\n",
      "Average Accuracy across 5 folds: 0.6402\n",
      "Accuracy per fold: [0.6409944891929626, 0.6153222918510437, 0.6350826025009155, 0.6356495022773743, 0.6739289164543152]\n",
      "Accuracy:  [0.6409944891929626, 0.6153222918510437, 0.6350826025009155, 0.6356495022773743, 0.6739289164543152]\n"
     ]
    },
    {
     "name": "stderr",
     "output_type": "stream",
     "text": [
      "C:\\Users\\Teacher\\AppData\\Local\\Programs\\Python\\Python310\\lib\\site-packages\\keras\\src\\engine\\training.py:3079: UserWarning: You are saving your model as an HDF5 file via `model.save()`. This file format is considered legacy. We recommend using instead the native Keras format, e.g. `model.save('my_model.keras')`.\n",
      "  saving_api.save_model(\n"
     ]
    }
   ],
   "source": [
    "model_dir = 'models'\n",
    "fold = True\n",
    "\n",
    "dataset_feature_engineered = features_df_nonan.iloc[:, feat_idx_]\n",
    "dataset_feature_engineered_no = features_df_nonan\n",
    "\n",
    "\n",
    "if fold is True:\n",
    "    model_dir_name = os.path.join(os.getcwd(), data_dir, model_dir)\n",
    "    accuracies, histories = prepare_train_model_with_kfold(dataset_feature_engineered, model_dir_name)\n",
    "# #         predictions_accuracy_plot(xTest, yTest_onehot, history_, model_path)\n",
    "    print('Accuracy: ', accuracies)\n",
    "# else:\n",
    "#     model_name = os.path.join(os.getcwd(), data_dir, i)\n",
    "#     xTest, yTest_onehot, history_, model_path = prepare_train_model(features_df_nonan, \n",
    "#                                                                     model_name)\n",
    "#     predictions_accuracy_plot(xTest, yTest_onehot, history_, model_path)        \n",
    "        \n",
    "        "
   ]
  },
  {
   "cell_type": "code",
   "execution_count": 15,
   "id": "de5e0180",
   "metadata": {
    "collapsed": true,
    "jupyter": {
     "outputs_hidden": true
    }
   },
   "outputs": [
    {
     "data": {
      "text/html": [
       "<div>\n",
       "<style scoped>\n",
       "    .dataframe tbody tr th:only-of-type {\n",
       "        vertical-align: middle;\n",
       "    }\n",
       "\n",
       "    .dataframe tbody tr th {\n",
       "        vertical-align: top;\n",
       "    }\n",
       "\n",
       "    .dataframe thead th {\n",
       "        text-align: right;\n",
       "    }\n",
       "</style>\n",
       "<table border=\"1\" class=\"dataframe\">\n",
       "  <thead>\n",
       "    <tr style=\"text-align: right;\">\n",
       "      <th></th>\n",
       "      <th>Open</th>\n",
       "      <th>High</th>\n",
       "      <th>Low</th>\n",
       "      <th>Close</th>\n",
       "      <th>Volume</th>\n",
       "      <th>Date</th>\n",
       "      <th>Signal</th>\n",
       "      <th>SMA_5</th>\n",
       "      <th>EMA_5</th>\n",
       "      <th>SMA_10</th>\n",
       "      <th>...</th>\n",
       "      <th>VWAP</th>\n",
       "      <th>VWAP_Upper</th>\n",
       "      <th>VWAP_Lower</th>\n",
       "      <th>Adaptive_Upper</th>\n",
       "      <th>Adaptive_Lower</th>\n",
       "      <th>HA_Close</th>\n",
       "      <th>HA_Open</th>\n",
       "      <th>Pivot_Point</th>\n",
       "      <th>Pivot_R1</th>\n",
       "      <th>Pivot_S1</th>\n",
       "    </tr>\n",
       "  </thead>\n",
       "  <tbody>\n",
       "    <tr>\n",
       "      <th>0</th>\n",
       "      <td>1.13379</td>\n",
       "      <td>1.13386</td>\n",
       "      <td>1.13234</td>\n",
       "      <td>1.13258</td>\n",
       "      <td>5489</td>\n",
       "      <td>8/19/2016 15:59</td>\n",
       "      <td>0</td>\n",
       "      <td>1.133356</td>\n",
       "      <td>1.133310</td>\n",
       "      <td>1.133501</td>\n",
       "      <td>...</td>\n",
       "      <td>1.126293</td>\n",
       "      <td>1.127106</td>\n",
       "      <td>1.125480</td>\n",
       "      <td>1.133765</td>\n",
       "      <td>1.131395</td>\n",
       "      <td>1.133142</td>\n",
       "      <td>1.133997</td>\n",
       "      <td>1.132927</td>\n",
       "      <td>1.133513</td>\n",
       "      <td>1.131993</td>\n",
       "    </tr>\n",
       "    <tr>\n",
       "      <th>1</th>\n",
       "      <td>1.13257</td>\n",
       "      <td>1.13344</td>\n",
       "      <td>1.13195</td>\n",
       "      <td>1.13218</td>\n",
       "      <td>6931</td>\n",
       "      <td>8/19/2016 16:59</td>\n",
       "      <td>0</td>\n",
       "      <td>1.133226</td>\n",
       "      <td>1.132933</td>\n",
       "      <td>1.133343</td>\n",
       "      <td>...</td>\n",
       "      <td>1.126350</td>\n",
       "      <td>1.127171</td>\n",
       "      <td>1.125528</td>\n",
       "      <td>1.133450</td>\n",
       "      <td>1.130910</td>\n",
       "      <td>1.132535</td>\n",
       "      <td>1.133142</td>\n",
       "      <td>1.132523</td>\n",
       "      <td>1.133097</td>\n",
       "      <td>1.131607</td>\n",
       "    </tr>\n",
       "    <tr>\n",
       "      <th>2</th>\n",
       "      <td>1.13218</td>\n",
       "      <td>1.13243</td>\n",
       "      <td>1.13064</td>\n",
       "      <td>1.13065</td>\n",
       "      <td>5163</td>\n",
       "      <td>8/19/2016 17:59</td>\n",
       "      <td>0</td>\n",
       "      <td>1.132714</td>\n",
       "      <td>1.132172</td>\n",
       "      <td>1.133034</td>\n",
       "      <td>...</td>\n",
       "      <td>1.126380</td>\n",
       "      <td>1.127328</td>\n",
       "      <td>1.125432</td>\n",
       "      <td>1.132559</td>\n",
       "      <td>1.128741</td>\n",
       "      <td>1.131475</td>\n",
       "      <td>1.132535</td>\n",
       "      <td>1.131240</td>\n",
       "      <td>1.131840</td>\n",
       "      <td>1.130050</td>\n",
       "    </tr>\n",
       "    <tr>\n",
       "      <th>3</th>\n",
       "      <td>1.13064</td>\n",
       "      <td>1.13182</td>\n",
       "      <td>1.13045</td>\n",
       "      <td>1.13172</td>\n",
       "      <td>3541</td>\n",
       "      <td>8/19/2016 18:59</td>\n",
       "      <td>0</td>\n",
       "      <td>1.132184</td>\n",
       "      <td>1.132021</td>\n",
       "      <td>1.132882</td>\n",
       "      <td>...</td>\n",
       "      <td>1.126406</td>\n",
       "      <td>1.127365</td>\n",
       "      <td>1.125447</td>\n",
       "      <td>1.133773</td>\n",
       "      <td>1.129667</td>\n",
       "      <td>1.131158</td>\n",
       "      <td>1.131475</td>\n",
       "      <td>1.131330</td>\n",
       "      <td>1.132210</td>\n",
       "      <td>1.130840</td>\n",
       "    </tr>\n",
       "    <tr>\n",
       "      <th>4</th>\n",
       "      <td>1.13171</td>\n",
       "      <td>1.13216</td>\n",
       "      <td>1.13100</td>\n",
       "      <td>1.13108</td>\n",
       "      <td>2591</td>\n",
       "      <td>8/19/2016 19:59</td>\n",
       "      <td>0</td>\n",
       "      <td>1.131642</td>\n",
       "      <td>1.131708</td>\n",
       "      <td>1.132551</td>\n",
       "      <td>...</td>\n",
       "      <td>1.126423</td>\n",
       "      <td>1.127442</td>\n",
       "      <td>1.125403</td>\n",
       "      <td>1.133385</td>\n",
       "      <td>1.128775</td>\n",
       "      <td>1.131487</td>\n",
       "      <td>1.131158</td>\n",
       "      <td>1.131413</td>\n",
       "      <td>1.131827</td>\n",
       "      <td>1.130667</td>\n",
       "    </tr>\n",
       "    <tr>\n",
       "      <th>...</th>\n",
       "      <td>...</td>\n",
       "      <td>...</td>\n",
       "      <td>...</td>\n",
       "      <td>...</td>\n",
       "      <td>...</td>\n",
       "      <td>...</td>\n",
       "      <td>...</td>\n",
       "      <td>...</td>\n",
       "      <td>...</td>\n",
       "      <td>...</td>\n",
       "      <td>...</td>\n",
       "      <td>...</td>\n",
       "      <td>...</td>\n",
       "      <td>...</td>\n",
       "      <td>...</td>\n",
       "      <td>...</td>\n",
       "      <td>...</td>\n",
       "      <td>...</td>\n",
       "      <td>...</td>\n",
       "      <td>...</td>\n",
       "      <td>...</td>\n",
       "    </tr>\n",
       "    <tr>\n",
       "      <th>61734</th>\n",
       "      <td>1.03816</td>\n",
       "      <td>1.03974</td>\n",
       "      <td>1.03770</td>\n",
       "      <td>1.03913</td>\n",
       "      <td>5104</td>\n",
       "      <td>9/4/2023 21:54</td>\n",
       "      <td>0</td>\n",
       "      <td>1.037396</td>\n",
       "      <td>1.037799</td>\n",
       "      <td>1.036832</td>\n",
       "      <td>...</td>\n",
       "      <td>1.112626</td>\n",
       "      <td>1.113907</td>\n",
       "      <td>1.111346</td>\n",
       "      <td>1.041044</td>\n",
       "      <td>1.037216</td>\n",
       "      <td>1.038683</td>\n",
       "      <td>1.037777</td>\n",
       "      <td>1.038857</td>\n",
       "      <td>1.040013</td>\n",
       "      <td>1.037973</td>\n",
       "    </tr>\n",
       "    <tr>\n",
       "      <th>61735</th>\n",
       "      <td>1.03913</td>\n",
       "      <td>1.03915</td>\n",
       "      <td>1.03749</td>\n",
       "      <td>1.03817</td>\n",
       "      <td>4389</td>\n",
       "      <td>9/4/2023 22:54</td>\n",
       "      <td>0</td>\n",
       "      <td>1.037874</td>\n",
       "      <td>1.037923</td>\n",
       "      <td>1.037015</td>\n",
       "      <td>...</td>\n",
       "      <td>1.112624</td>\n",
       "      <td>1.113761</td>\n",
       "      <td>1.111488</td>\n",
       "      <td>1.040206</td>\n",
       "      <td>1.036134</td>\n",
       "      <td>1.038485</td>\n",
       "      <td>1.038683</td>\n",
       "      <td>1.038270</td>\n",
       "      <td>1.039050</td>\n",
       "      <td>1.037390</td>\n",
       "    </tr>\n",
       "    <tr>\n",
       "      <th>61736</th>\n",
       "      <td>1.03818</td>\n",
       "      <td>1.03921</td>\n",
       "      <td>1.03803</td>\n",
       "      <td>1.03908</td>\n",
       "      <td>3521</td>\n",
       "      <td>9/4/2023 23:54</td>\n",
       "      <td>0</td>\n",
       "      <td>1.038386</td>\n",
       "      <td>1.038309</td>\n",
       "      <td>1.037282</td>\n",
       "      <td>...</td>\n",
       "      <td>1.112623</td>\n",
       "      <td>1.113716</td>\n",
       "      <td>1.111530</td>\n",
       "      <td>1.041447</td>\n",
       "      <td>1.036713</td>\n",
       "      <td>1.038625</td>\n",
       "      <td>1.038485</td>\n",
       "      <td>1.038773</td>\n",
       "      <td>1.039517</td>\n",
       "      <td>1.038337</td>\n",
       "    </tr>\n",
       "    <tr>\n",
       "      <th>61737</th>\n",
       "      <td>1.03908</td>\n",
       "      <td>1.03964</td>\n",
       "      <td>1.03785</td>\n",
       "      <td>1.03906</td>\n",
       "      <td>3663</td>\n",
       "      <td>9/5/2023 0:54</td>\n",
       "      <td>0</td>\n",
       "      <td>1.038722</td>\n",
       "      <td>1.038559</td>\n",
       "      <td>1.037564</td>\n",
       "      <td>...</td>\n",
       "      <td>1.112622</td>\n",
       "      <td>1.113800</td>\n",
       "      <td>1.111443</td>\n",
       "      <td>1.041545</td>\n",
       "      <td>1.036575</td>\n",
       "      <td>1.038907</td>\n",
       "      <td>1.038625</td>\n",
       "      <td>1.038850</td>\n",
       "      <td>1.039850</td>\n",
       "      <td>1.038060</td>\n",
       "    </tr>\n",
       "    <tr>\n",
       "      <th>61738</th>\n",
       "      <td>1.03906</td>\n",
       "      <td>1.03992</td>\n",
       "      <td>1.03869</td>\n",
       "      <td>1.03885</td>\n",
       "      <td>3749</td>\n",
       "      <td>9/5/2023 1:54</td>\n",
       "      <td>0</td>\n",
       "      <td>1.038858</td>\n",
       "      <td>1.038656</td>\n",
       "      <td>1.037823</td>\n",
       "      <td>...</td>\n",
       "      <td>1.112620</td>\n",
       "      <td>1.113828</td>\n",
       "      <td>1.111412</td>\n",
       "      <td>1.041435</td>\n",
       "      <td>1.036265</td>\n",
       "      <td>1.039130</td>\n",
       "      <td>1.038907</td>\n",
       "      <td>1.039153</td>\n",
       "      <td>1.039617</td>\n",
       "      <td>1.038387</td>\n",
       "    </tr>\n",
       "  </tbody>\n",
       "</table>\n",
       "<p>61739 rows × 77 columns</p>\n",
       "</div>"
      ],
      "text/plain": [
       "          Open     High      Low    Close  Volume             Date  Signal   \n",
       "0      1.13379  1.13386  1.13234  1.13258    5489  8/19/2016 15:59       0  \\\n",
       "1      1.13257  1.13344  1.13195  1.13218    6931  8/19/2016 16:59       0   \n",
       "2      1.13218  1.13243  1.13064  1.13065    5163  8/19/2016 17:59       0   \n",
       "3      1.13064  1.13182  1.13045  1.13172    3541  8/19/2016 18:59       0   \n",
       "4      1.13171  1.13216  1.13100  1.13108    2591  8/19/2016 19:59       0   \n",
       "...        ...      ...      ...      ...     ...              ...     ...   \n",
       "61734  1.03816  1.03974  1.03770  1.03913    5104   9/4/2023 21:54       0   \n",
       "61735  1.03913  1.03915  1.03749  1.03817    4389   9/4/2023 22:54       0   \n",
       "61736  1.03818  1.03921  1.03803  1.03908    3521   9/4/2023 23:54       0   \n",
       "61737  1.03908  1.03964  1.03785  1.03906    3663    9/5/2023 0:54       0   \n",
       "61738  1.03906  1.03992  1.03869  1.03885    3749    9/5/2023 1:54       0   \n",
       "\n",
       "          SMA_5     EMA_5    SMA_10  ...      VWAP  VWAP_Upper  VWAP_Lower   \n",
       "0      1.133356  1.133310  1.133501  ...  1.126293    1.127106    1.125480  \\\n",
       "1      1.133226  1.132933  1.133343  ...  1.126350    1.127171    1.125528   \n",
       "2      1.132714  1.132172  1.133034  ...  1.126380    1.127328    1.125432   \n",
       "3      1.132184  1.132021  1.132882  ...  1.126406    1.127365    1.125447   \n",
       "4      1.131642  1.131708  1.132551  ...  1.126423    1.127442    1.125403   \n",
       "...         ...       ...       ...  ...       ...         ...         ...   \n",
       "61734  1.037396  1.037799  1.036832  ...  1.112626    1.113907    1.111346   \n",
       "61735  1.037874  1.037923  1.037015  ...  1.112624    1.113761    1.111488   \n",
       "61736  1.038386  1.038309  1.037282  ...  1.112623    1.113716    1.111530   \n",
       "61737  1.038722  1.038559  1.037564  ...  1.112622    1.113800    1.111443   \n",
       "61738  1.038858  1.038656  1.037823  ...  1.112620    1.113828    1.111412   \n",
       "\n",
       "       Adaptive_Upper  Adaptive_Lower  HA_Close   HA_Open  Pivot_Point   \n",
       "0            1.133765        1.131395  1.133142  1.133997     1.132927  \\\n",
       "1            1.133450        1.130910  1.132535  1.133142     1.132523   \n",
       "2            1.132559        1.128741  1.131475  1.132535     1.131240   \n",
       "3            1.133773        1.129667  1.131158  1.131475     1.131330   \n",
       "4            1.133385        1.128775  1.131487  1.131158     1.131413   \n",
       "...               ...             ...       ...       ...          ...   \n",
       "61734        1.041044        1.037216  1.038683  1.037777     1.038857   \n",
       "61735        1.040206        1.036134  1.038485  1.038683     1.038270   \n",
       "61736        1.041447        1.036713  1.038625  1.038485     1.038773   \n",
       "61737        1.041545        1.036575  1.038907  1.038625     1.038850   \n",
       "61738        1.041435        1.036265  1.039130  1.038907     1.039153   \n",
       "\n",
       "       Pivot_R1  Pivot_S1  \n",
       "0      1.133513  1.131993  \n",
       "1      1.133097  1.131607  \n",
       "2      1.131840  1.130050  \n",
       "3      1.132210  1.130840  \n",
       "4      1.131827  1.130667  \n",
       "...         ...       ...  \n",
       "61734  1.040013  1.037973  \n",
       "61735  1.039050  1.037390  \n",
       "61736  1.039517  1.038337  \n",
       "61737  1.039850  1.038060  \n",
       "61738  1.039617  1.038387  \n",
       "\n",
       "[61739 rows x 77 columns]"
      ]
     },
     "execution_count": 15,
     "metadata": {},
     "output_type": "execute_result"
    }
   ],
   "source": [
    "features_df_nonan"
   ]
  },
  {
   "cell_type": "code",
   "execution_count": 20,
   "id": "212b9323",
   "metadata": {},
   "outputs": [
    {
     "name": "stdout",
     "output_type": "stream",
     "text": [
      "D:\\Repos_git\\Make_Money_with_Tensorflow_2.0\\forexPredictor\\ohlc_data\\EURUSD\\Signal_EURUSD.csv\n",
      "Fold 1/5\n",
      "Resampled dataset shape: Counter({1: 48741, 0: 48741, -1: 48741})\n",
      "4570/4570 [==============================] - 15s 3ms/step - loss: 0.2705 - accuracy: 0.9056 - val_loss: 0.1999 - val_accuracy: 0.9258\n",
      "Fold 1 - Test Loss: 0.1999, Test Accuracy: 0.9258\n",
      "Confusion matrix for fold 0 saved at D:\\Repos_git\\Make_Money_with_Tensorflow_2.0\\forexPredictor\\ohlc_data\\EURUSD\\confusion_matrix_fold0.png\n",
      "Fold 2/5\n",
      "Resampled dataset shape: Counter({1: 48741, 0: 48741, -1: 48741})\n"
     ]
    },
    {
     "name": "stderr",
     "output_type": "stream",
     "text": [
      "C:\\Users\\Teacher\\AppData\\Local\\Programs\\Python\\Python310\\lib\\site-packages\\keras\\src\\engine\\training.py:3079: UserWarning: You are saving your model as an HDF5 file via `model.save()`. This file format is considered legacy. We recommend using instead the native Keras format, e.g. `model.save('my_model.keras')`.\n",
      "  saving_api.save_model(\n"
     ]
    },
    {
     "name": "stdout",
     "output_type": "stream",
     "text": [
      "4570/4570 [==============================] - 15s 3ms/step - loss: 0.2624 - accuracy: 0.9081 - val_loss: 0.3491 - val_accuracy: 0.8763\n",
      "Fold 2 - Test Loss: 0.3491, Test Accuracy: 0.8763\n",
      "Confusion matrix for fold 1 saved at D:\\Repos_git\\Make_Money_with_Tensorflow_2.0\\forexPredictor\\ohlc_data\\EURUSD\\confusion_matrix_fold1.png\n",
      "Fold 3/5\n",
      "Resampled dataset shape: Counter({0: 48742, 1: 48742, -1: 48742})\n"
     ]
    },
    {
     "name": "stderr",
     "output_type": "stream",
     "text": [
      "C:\\Users\\Teacher\\AppData\\Local\\Programs\\Python\\Python310\\lib\\site-packages\\keras\\src\\engine\\training.py:3079: UserWarning: You are saving your model as an HDF5 file via `model.save()`. This file format is considered legacy. We recommend using instead the native Keras format, e.g. `model.save('my_model.keras')`.\n",
      "  saving_api.save_model(\n"
     ]
    },
    {
     "name": "stdout",
     "output_type": "stream",
     "text": [
      "4570/4570 [==============================] - 15s 3ms/step - loss: 0.2659 - accuracy: 0.9079 - val_loss: 0.1875 - val_accuracy: 0.9347\n",
      "Fold 3 - Test Loss: 0.1875, Test Accuracy: 0.9347\n",
      "Confusion matrix for fold 2 saved at D:\\Repos_git\\Make_Money_with_Tensorflow_2.0\\forexPredictor\\ohlc_data\\EURUSD\\confusion_matrix_fold2.png\n",
      "Fold 4/5\n",
      "Resampled dataset shape: Counter({1: 48742, 0: 48742, -1: 48742})\n"
     ]
    },
    {
     "name": "stderr",
     "output_type": "stream",
     "text": [
      "C:\\Users\\Teacher\\AppData\\Local\\Programs\\Python\\Python310\\lib\\site-packages\\keras\\src\\engine\\training.py:3079: UserWarning: You are saving your model as an HDF5 file via `model.save()`. This file format is considered legacy. We recommend using instead the native Keras format, e.g. `model.save('my_model.keras')`.\n",
      "  saving_api.save_model(\n"
     ]
    },
    {
     "name": "stdout",
     "output_type": "stream",
     "text": [
      "4570/4570 [==============================] - 15s 3ms/step - loss: 0.2680 - accuracy: 0.9057 - val_loss: 0.2534 - val_accuracy: 0.9244\n",
      "Fold 4 - Test Loss: 0.2534, Test Accuracy: 0.9244\n",
      "Confusion matrix for fold 3 saved at D:\\Repos_git\\Make_Money_with_Tensorflow_2.0\\forexPredictor\\ohlc_data\\EURUSD\\confusion_matrix_fold3.png\n",
      "Fold 5/5\n",
      "Resampled dataset shape: Counter({1: 48742, 0: 48742, -1: 48742})\n"
     ]
    },
    {
     "name": "stderr",
     "output_type": "stream",
     "text": [
      "C:\\Users\\Teacher\\AppData\\Local\\Programs\\Python\\Python310\\lib\\site-packages\\keras\\src\\engine\\training.py:3079: UserWarning: You are saving your model as an HDF5 file via `model.save()`. This file format is considered legacy. We recommend using instead the native Keras format, e.g. `model.save('my_model.keras')`.\n",
      "  saving_api.save_model(\n"
     ]
    },
    {
     "name": "stdout",
     "output_type": "stream",
     "text": [
      "4570/4570 [==============================] - 15s 3ms/step - loss: 0.2671 - accuracy: 0.9061 - val_loss: 0.1706 - val_accuracy: 0.9435\n",
      "Fold 5 - Test Loss: 0.1706, Test Accuracy: 0.9435\n",
      "Confusion matrix for fold 4 saved at D:\\Repos_git\\Make_Money_with_Tensorflow_2.0\\forexPredictor\\ohlc_data\\EURUSD\\confusion_matrix_fold4.png\n",
      "Average Accuracy across 5 folds: 0.9210\n",
      "Accuracy per fold: [0.9258179664611816, 0.8763362765312195, 0.9347209930419922, 0.9244350790977478, 0.9434680342674255]\n",
      "Accuracy:  [0.9258179664611816, 0.8763362765312195, 0.9347209930419922, 0.9244350790977478, 0.9434680342674255]\n",
      "D:\\Repos_git\\Make_Money_with_Tensorflow_2.0\\forexPredictor\\ohlc_data\\AUDUSD\\Signal_AUDUSD.csv\n"
     ]
    },
    {
     "name": "stderr",
     "output_type": "stream",
     "text": [
      "C:\\Users\\Teacher\\AppData\\Local\\Programs\\Python\\Python310\\lib\\site-packages\\keras\\src\\engine\\training.py:3079: UserWarning: You are saving your model as an HDF5 file via `model.save()`. This file format is considered legacy. We recommend using instead the native Keras format, e.g. `model.save('my_model.keras')`.\n",
      "  saving_api.save_model(\n"
     ]
    },
    {
     "name": "stdout",
     "output_type": "stream",
     "text": [
      "Fold 1/5\n",
      "Resampled dataset shape: Counter({0: 48162, 1: 48162, -1: 48162})\n",
      "4516/4516 [==============================] - 16s 3ms/step - loss: 0.3202 - accuracy: 0.8899 - val_loss: 0.2721 - val_accuracy: 0.9004\n",
      "Fold 1 - Test Loss: 0.2721, Test Accuracy: 0.9004\n",
      "Confusion matrix for fold 0 saved at D:\\Repos_git\\Make_Money_with_Tensorflow_2.0\\forexPredictor\\ohlc_data\\AUDUSD\\confusion_matrix_fold0.png\n",
      "Fold 2/5\n",
      "Resampled dataset shape: Counter({1: 48162, 0: 48162, -1: 48162})\n"
     ]
    },
    {
     "name": "stderr",
     "output_type": "stream",
     "text": [
      "C:\\Users\\Teacher\\AppData\\Local\\Programs\\Python\\Python310\\lib\\site-packages\\keras\\src\\engine\\training.py:3079: UserWarning: You are saving your model as an HDF5 file via `model.save()`. This file format is considered legacy. We recommend using instead the native Keras format, e.g. `model.save('my_model.keras')`.\n",
      "  saving_api.save_model(\n"
     ]
    },
    {
     "name": "stdout",
     "output_type": "stream",
     "text": [
      "4516/4516 [==============================] - 15s 3ms/step - loss: 0.3227 - accuracy: 0.8889 - val_loss: 0.2584 - val_accuracy: 0.9095\n",
      "Fold 2 - Test Loss: 0.2584, Test Accuracy: 0.9095\n",
      "Confusion matrix for fold 1 saved at D:\\Repos_git\\Make_Money_with_Tensorflow_2.0\\forexPredictor\\ohlc_data\\AUDUSD\\confusion_matrix_fold1.png\n",
      "Fold 3/5\n",
      "Resampled dataset shape: Counter({1: 48161, 0: 48161, -1: 48161})\n"
     ]
    },
    {
     "name": "stderr",
     "output_type": "stream",
     "text": [
      "C:\\Users\\Teacher\\AppData\\Local\\Programs\\Python\\Python310\\lib\\site-packages\\keras\\src\\engine\\training.py:3079: UserWarning: You are saving your model as an HDF5 file via `model.save()`. This file format is considered legacy. We recommend using instead the native Keras format, e.g. `model.save('my_model.keras')`.\n",
      "  saving_api.save_model(\n"
     ]
    },
    {
     "name": "stdout",
     "output_type": "stream",
     "text": [
      "4516/4516 [==============================] - 15s 3ms/step - loss: 0.3352 - accuracy: 0.8844 - val_loss: 0.1452 - val_accuracy: 0.9526\n",
      "Fold 3 - Test Loss: 0.1452, Test Accuracy: 0.9526\n",
      "Confusion matrix for fold 2 saved at D:\\Repos_git\\Make_Money_with_Tensorflow_2.0\\forexPredictor\\ohlc_data\\AUDUSD\\confusion_matrix_fold2.png\n",
      "Fold 4/5\n",
      "Resampled dataset shape: Counter({1: 48161, 0: 48161, -1: 48161})\n"
     ]
    },
    {
     "name": "stderr",
     "output_type": "stream",
     "text": [
      "C:\\Users\\Teacher\\AppData\\Local\\Programs\\Python\\Python310\\lib\\site-packages\\keras\\src\\engine\\training.py:3079: UserWarning: You are saving your model as an HDF5 file via `model.save()`. This file format is considered legacy. We recommend using instead the native Keras format, e.g. `model.save('my_model.keras')`.\n",
      "  saving_api.save_model(\n"
     ]
    },
    {
     "name": "stdout",
     "output_type": "stream",
     "text": [
      "4516/4516 [==============================] - 15s 3ms/step - loss: 0.3166 - accuracy: 0.8934 - val_loss: 3.6671 - val_accuracy: 0.0398\n",
      "Fold 4 - Test Loss: 3.6671, Test Accuracy: 0.0398\n",
      "Confusion matrix for fold 3 saved at D:\\Repos_git\\Make_Money_with_Tensorflow_2.0\\forexPredictor\\ohlc_data\\AUDUSD\\confusion_matrix_fold3.png\n",
      "Fold 5/5\n",
      "Resampled dataset shape: Counter({1: 48162, 0: 48162, -1: 48162})\n"
     ]
    },
    {
     "name": "stderr",
     "output_type": "stream",
     "text": [
      "C:\\Users\\Teacher\\AppData\\Local\\Programs\\Python\\Python310\\lib\\site-packages\\keras\\src\\engine\\training.py:3079: UserWarning: You are saving your model as an HDF5 file via `model.save()`. This file format is considered legacy. We recommend using instead the native Keras format, e.g. `model.save('my_model.keras')`.\n",
      "  saving_api.save_model(\n"
     ]
    },
    {
     "name": "stdout",
     "output_type": "stream",
     "text": [
      "4516/4516 [==============================] - 16s 3ms/step - loss: 0.3241 - accuracy: 0.8890 - val_loss: 0.2692 - val_accuracy: 0.9059\n",
      "Fold 5 - Test Loss: 0.2692, Test Accuracy: 0.9059\n",
      "Confusion matrix for fold 4 saved at D:\\Repos_git\\Make_Money_with_Tensorflow_2.0\\forexPredictor\\ohlc_data\\AUDUSD\\confusion_matrix_fold4.png\n",
      "Average Accuracy across 5 folds: 0.7416\n",
      "Accuracy per fold: [0.9003887176513672, 0.9094589948654175, 0.9526200890541077, 0.039766743779182434, 0.9058880805969238]\n",
      "Accuracy:  [0.9003887176513672, 0.9094589948654175, 0.9526200890541077, 0.039766743779182434, 0.9058880805969238]\n",
      "D:\\Repos_git\\Make_Money_with_Tensorflow_2.0\\forexPredictor\\ohlc_data\\GBPUSD\\Signal_GBPUSD.csv\n"
     ]
    },
    {
     "name": "stderr",
     "output_type": "stream",
     "text": [
      "C:\\Users\\Teacher\\AppData\\Local\\Programs\\Python\\Python310\\lib\\site-packages\\keras\\src\\engine\\training.py:3079: UserWarning: You are saving your model as an HDF5 file via `model.save()`. This file format is considered legacy. We recommend using instead the native Keras format, e.g. `model.save('my_model.keras')`.\n",
      "  saving_api.save_model(\n"
     ]
    },
    {
     "name": "stdout",
     "output_type": "stream",
     "text": [
      "Fold 1/5\n",
      "Resampled dataset shape: Counter({1: 48501, 0: 48501, -1: 48501})\n",
      "4547/4547 [==============================] - 15s 3ms/step - loss: 0.3249 - accuracy: 0.8916 - val_loss: 0.5494 - val_accuracy: 0.7792\n",
      "Fold 1 - Test Loss: 0.5494, Test Accuracy: 0.7792\n",
      "Confusion matrix for fold 0 saved at D:\\Repos_git\\Make_Money_with_Tensorflow_2.0\\forexPredictor\\ohlc_data\\GBPUSD\\confusion_matrix_fold0.png\n",
      "Fold 2/5\n",
      "Resampled dataset shape: Counter({1: 48501, 0: 48501, -1: 48501})\n"
     ]
    },
    {
     "name": "stderr",
     "output_type": "stream",
     "text": [
      "C:\\Users\\Teacher\\AppData\\Local\\Programs\\Python\\Python310\\lib\\site-packages\\keras\\src\\engine\\training.py:3079: UserWarning: You are saving your model as an HDF5 file via `model.save()`. This file format is considered legacy. We recommend using instead the native Keras format, e.g. `model.save('my_model.keras')`.\n",
      "  saving_api.save_model(\n"
     ]
    },
    {
     "name": "stdout",
     "output_type": "stream",
     "text": [
      "4547/4547 [==============================] - 16s 3ms/step - loss: 0.3205 - accuracy: 0.8934 - val_loss: 0.2511 - val_accuracy: 0.9124\n",
      "Fold 2 - Test Loss: 0.2511, Test Accuracy: 0.9124\n",
      "Confusion matrix for fold 1 saved at D:\\Repos_git\\Make_Money_with_Tensorflow_2.0\\forexPredictor\\ohlc_data\\GBPUSD\\confusion_matrix_fold1.png\n",
      "Fold 3/5\n",
      "Resampled dataset shape: Counter({1: 48502, 0: 48502, -1: 48502})\n"
     ]
    },
    {
     "name": "stderr",
     "output_type": "stream",
     "text": [
      "C:\\Users\\Teacher\\AppData\\Local\\Programs\\Python\\Python310\\lib\\site-packages\\keras\\src\\engine\\training.py:3079: UserWarning: You are saving your model as an HDF5 file via `model.save()`. This file format is considered legacy. We recommend using instead the native Keras format, e.g. `model.save('my_model.keras')`.\n",
      "  saving_api.save_model(\n"
     ]
    },
    {
     "name": "stdout",
     "output_type": "stream",
     "text": [
      "4548/4548 [==============================] - 16s 3ms/step - loss: 0.3030 - accuracy: 0.8994 - val_loss: 0.2099 - val_accuracy: 0.9328\n",
      "Fold 3 - Test Loss: 0.2099, Test Accuracy: 0.9328\n",
      "Confusion matrix for fold 2 saved at D:\\Repos_git\\Make_Money_with_Tensorflow_2.0\\forexPredictor\\ohlc_data\\GBPUSD\\confusion_matrix_fold2.png\n",
      "Fold 4/5\n",
      "Resampled dataset shape: Counter({1: 48502, 0: 48502, -1: 48502})\n"
     ]
    },
    {
     "name": "stderr",
     "output_type": "stream",
     "text": [
      "C:\\Users\\Teacher\\AppData\\Local\\Programs\\Python\\Python310\\lib\\site-packages\\keras\\src\\engine\\training.py:3079: UserWarning: You are saving your model as an HDF5 file via `model.save()`. This file format is considered legacy. We recommend using instead the native Keras format, e.g. `model.save('my_model.keras')`.\n",
      "  saving_api.save_model(\n"
     ]
    },
    {
     "name": "stdout",
     "output_type": "stream",
     "text": [
      "4548/4548 [==============================] - 16s 3ms/step - loss: 0.3329 - accuracy: 0.8870 - val_loss: 0.2569 - val_accuracy: 0.9158\n",
      "Fold 4 - Test Loss: 0.2569, Test Accuracy: 0.9158\n",
      "Confusion matrix for fold 3 saved at D:\\Repos_git\\Make_Money_with_Tensorflow_2.0\\forexPredictor\\ohlc_data\\GBPUSD\\confusion_matrix_fold3.png\n",
      "Fold 5/5\n",
      "Resampled dataset shape: Counter({0: 48502, 1: 48502, -1: 48502})\n"
     ]
    },
    {
     "name": "stderr",
     "output_type": "stream",
     "text": [
      "C:\\Users\\Teacher\\AppData\\Local\\Programs\\Python\\Python310\\lib\\site-packages\\keras\\src\\engine\\training.py:3079: UserWarning: You are saving your model as an HDF5 file via `model.save()`. This file format is considered legacy. We recommend using instead the native Keras format, e.g. `model.save('my_model.keras')`.\n",
      "  saving_api.save_model(\n"
     ]
    },
    {
     "name": "stdout",
     "output_type": "stream",
     "text": [
      "4548/4548 [==============================] - 16s 3ms/step - loss: 0.3221 - accuracy: 0.8921 - val_loss: 0.1947 - val_accuracy: 0.9376\n",
      "Fold 5 - Test Loss: 0.1947, Test Accuracy: 0.9376\n",
      "Confusion matrix for fold 4 saved at D:\\Repos_git\\Make_Money_with_Tensorflow_2.0\\forexPredictor\\ohlc_data\\GBPUSD\\confusion_matrix_fold4.png\n",
      "Average Accuracy across 5 folds: 0.8955\n",
      "Accuracy per fold: [0.7792354822158813, 0.9123674035072327, 0.9327771663665771, 0.9157690405845642, 0.9375556707382202]\n",
      "Accuracy:  [0.7792354822158813, 0.9123674035072327, 0.9327771663665771, 0.9157690405845642, 0.9375556707382202]\n",
      "D:\\Repos_git\\Make_Money_with_Tensorflow_2.0\\forexPredictor\\ohlc_data\\USDCAD\\Signal_USDCAD.csv\n"
     ]
    },
    {
     "name": "stderr",
     "output_type": "stream",
     "text": [
      "C:\\Users\\Teacher\\AppData\\Local\\Programs\\Python\\Python310\\lib\\site-packages\\keras\\src\\engine\\training.py:3079: UserWarning: You are saving your model as an HDF5 file via `model.save()`. This file format is considered legacy. We recommend using instead the native Keras format, e.g. `model.save('my_model.keras')`.\n",
      "  saving_api.save_model(\n"
     ]
    },
    {
     "name": "stdout",
     "output_type": "stream",
     "text": [
      "Fold 1/5\n",
      "Resampled dataset shape: Counter({0: 48868, -1: 48868, 1: 48868})\n",
      "4582/4582 [==============================] - 15s 3ms/step - loss: 0.2608 - accuracy: 0.9038 - val_loss: 1.3475 - val_accuracy: 0.3804\n",
      "Fold 1 - Test Loss: 1.3475, Test Accuracy: 0.3804\n",
      "Confusion matrix for fold 0 saved at D:\\Repos_git\\Make_Money_with_Tensorflow_2.0\\forexPredictor\\ohlc_data\\USDCAD\\confusion_matrix_fold0.png\n",
      "Fold 2/5\n",
      "Resampled dataset shape: Counter({0: 48869, -1: 48869, 1: 48869})\n"
     ]
    },
    {
     "name": "stderr",
     "output_type": "stream",
     "text": [
      "C:\\Users\\Teacher\\AppData\\Local\\Programs\\Python\\Python310\\lib\\site-packages\\keras\\src\\engine\\training.py:3079: UserWarning: You are saving your model as an HDF5 file via `model.save()`. This file format is considered legacy. We recommend using instead the native Keras format, e.g. `model.save('my_model.keras')`.\n",
      "  saving_api.save_model(\n"
     ]
    },
    {
     "name": "stdout",
     "output_type": "stream",
     "text": [
      "4582/4582 [==============================] - 15s 3ms/step - loss: 0.2775 - accuracy: 0.8948 - val_loss: 0.2733 - val_accuracy: 0.9117\n",
      "Fold 2 - Test Loss: 0.2733, Test Accuracy: 0.9117\n",
      "Confusion matrix for fold 1 saved at D:\\Repos_git\\Make_Money_with_Tensorflow_2.0\\forexPredictor\\ohlc_data\\USDCAD\\confusion_matrix_fold1.png\n",
      "Fold 3/5\n",
      "Resampled dataset shape: Counter({0: 48869, -1: 48869, 1: 48869})\n"
     ]
    },
    {
     "name": "stderr",
     "output_type": "stream",
     "text": [
      "C:\\Users\\Teacher\\AppData\\Local\\Programs\\Python\\Python310\\lib\\site-packages\\keras\\src\\engine\\training.py:3079: UserWarning: You are saving your model as an HDF5 file via `model.save()`. This file format is considered legacy. We recommend using instead the native Keras format, e.g. `model.save('my_model.keras')`.\n",
      "  saving_api.save_model(\n"
     ]
    },
    {
     "name": "stdout",
     "output_type": "stream",
     "text": [
      "4582/4582 [==============================] - 15s 3ms/step - loss: 0.2729 - accuracy: 0.8985 - val_loss: 0.1691 - val_accuracy: 0.9308\n",
      "Fold 3 - Test Loss: 0.1691, Test Accuracy: 0.9308\n",
      "Confusion matrix for fold 2 saved at D:\\Repos_git\\Make_Money_with_Tensorflow_2.0\\forexPredictor\\ohlc_data\\USDCAD\\confusion_matrix_fold2.png\n",
      "Fold 4/5\n",
      "Resampled dataset shape: Counter({0: 48869, -1: 48869, 1: 48869})\n"
     ]
    },
    {
     "name": "stderr",
     "output_type": "stream",
     "text": [
      "C:\\Users\\Teacher\\AppData\\Local\\Programs\\Python\\Python310\\lib\\site-packages\\keras\\src\\engine\\training.py:3079: UserWarning: You are saving your model as an HDF5 file via `model.save()`. This file format is considered legacy. We recommend using instead the native Keras format, e.g. `model.save('my_model.keras')`.\n",
      "  saving_api.save_model(\n"
     ]
    },
    {
     "name": "stdout",
     "output_type": "stream",
     "text": [
      "4582/4582 [==============================] - 16s 3ms/step - loss: 0.2935 - accuracy: 0.8915 - val_loss: 0.1989 - val_accuracy: 0.9082\n",
      "Fold 4 - Test Loss: 0.1989, Test Accuracy: 0.9082\n",
      "Confusion matrix for fold 3 saved at D:\\Repos_git\\Make_Money_with_Tensorflow_2.0\\forexPredictor\\ohlc_data\\USDCAD\\confusion_matrix_fold3.png\n",
      "Fold 5/5\n",
      "Resampled dataset shape: Counter({0: 48869, 1: 48869, -1: 48869})\n"
     ]
    },
    {
     "name": "stderr",
     "output_type": "stream",
     "text": [
      "C:\\Users\\Teacher\\AppData\\Local\\Programs\\Python\\Python310\\lib\\site-packages\\keras\\src\\engine\\training.py:3079: UserWarning: You are saving your model as an HDF5 file via `model.save()`. This file format is considered legacy. We recommend using instead the native Keras format, e.g. `model.save('my_model.keras')`.\n",
      "  saving_api.save_model(\n"
     ]
    },
    {
     "name": "stdout",
     "output_type": "stream",
     "text": [
      "4582/4582 [==============================] - 15s 3ms/step - loss: 0.2717 - accuracy: 0.8990 - val_loss: 0.3119 - val_accuracy: 0.8961\n",
      "Fold 5 - Test Loss: 0.3119, Test Accuracy: 0.8961\n",
      "Confusion matrix for fold 4 saved at D:\\Repos_git\\Make_Money_with_Tensorflow_2.0\\forexPredictor\\ohlc_data\\USDCAD\\confusion_matrix_fold4.png\n",
      "Average Accuracy across 5 folds: 0.8055\n",
      "Accuracy per fold: [0.38038548827171326, 0.9117265939712524, 0.9308333992958069, 0.9082368016242981, 0.8960881233215332]\n",
      "Accuracy:  [0.38038548827171326, 0.9117265939712524, 0.9308333992958069, 0.9082368016242981, 0.8960881233215332]\n",
      "D:\\Repos_git\\Make_Money_with_Tensorflow_2.0\\forexPredictor\\ohlc_data\\USDCHF\\Signal_USDCHF.csv\n"
     ]
    },
    {
     "name": "stderr",
     "output_type": "stream",
     "text": [
      "C:\\Users\\Teacher\\AppData\\Local\\Programs\\Python\\Python310\\lib\\site-packages\\keras\\src\\engine\\training.py:3079: UserWarning: You are saving your model as an HDF5 file via `model.save()`. This file format is considered legacy. We recommend using instead the native Keras format, e.g. `model.save('my_model.keras')`.\n",
      "  saving_api.save_model(\n"
     ]
    },
    {
     "name": "stdout",
     "output_type": "stream",
     "text": [
      "Fold 1/5\n",
      "Resampled dataset shape: Counter({-1: 48732, 0: 48732, 1: 48732})\n",
      "4569/4569 [==============================] - 16s 3ms/step - loss: 0.3497 - accuracy: 0.8763 - val_loss: 0.2169 - val_accuracy: 0.9287\n",
      "Fold 1 - Test Loss: 0.2169, Test Accuracy: 0.9287\n",
      "Confusion matrix for fold 0 saved at D:\\Repos_git\\Make_Money_with_Tensorflow_2.0\\forexPredictor\\ohlc_data\\USDCHF\\confusion_matrix_fold0.png\n",
      "Fold 2/5\n",
      "Resampled dataset shape: Counter({-1: 48732, 0: 48732, 1: 48732})\n"
     ]
    },
    {
     "name": "stderr",
     "output_type": "stream",
     "text": [
      "C:\\Users\\Teacher\\AppData\\Local\\Programs\\Python\\Python310\\lib\\site-packages\\keras\\src\\engine\\training.py:3079: UserWarning: You are saving your model as an HDF5 file via `model.save()`. This file format is considered legacy. We recommend using instead the native Keras format, e.g. `model.save('my_model.keras')`.\n",
      "  saving_api.save_model(\n"
     ]
    },
    {
     "name": "stdout",
     "output_type": "stream",
     "text": [
      "4569/4569 [==============================] - 16s 3ms/step - loss: 0.3449 - accuracy: 0.8732 - val_loss: 0.2200 - val_accuracy: 0.9197\n",
      "Fold 2 - Test Loss: 0.2200, Test Accuracy: 0.9197\n",
      "Confusion matrix for fold 1 saved at D:\\Repos_git\\Make_Money_with_Tensorflow_2.0\\forexPredictor\\ohlc_data\\USDCHF\\confusion_matrix_fold1.png\n",
      "Fold 3/5\n",
      "Resampled dataset shape: Counter({-1: 48732, 0: 48732, 1: 48732})\n"
     ]
    },
    {
     "name": "stderr",
     "output_type": "stream",
     "text": [
      "C:\\Users\\Teacher\\AppData\\Local\\Programs\\Python\\Python310\\lib\\site-packages\\keras\\src\\engine\\training.py:3079: UserWarning: You are saving your model as an HDF5 file via `model.save()`. This file format is considered legacy. We recommend using instead the native Keras format, e.g. `model.save('my_model.keras')`.\n",
      "  saving_api.save_model(\n"
     ]
    },
    {
     "name": "stdout",
     "output_type": "stream",
     "text": [
      "4569/4569 [==============================] - 16s 3ms/step - loss: 0.3270 - accuracy: 0.8832 - val_loss: 0.1405 - val_accuracy: 0.9514\n",
      "Fold 3 - Test Loss: 0.1405, Test Accuracy: 0.9514\n",
      "Confusion matrix for fold 2 saved at D:\\Repos_git\\Make_Money_with_Tensorflow_2.0\\forexPredictor\\ohlc_data\\USDCHF\\confusion_matrix_fold2.png\n",
      "Fold 4/5\n",
      "Resampled dataset shape: Counter({0: 48732, -1: 48732, 1: 48732})\n"
     ]
    },
    {
     "name": "stderr",
     "output_type": "stream",
     "text": [
      "C:\\Users\\Teacher\\AppData\\Local\\Programs\\Python\\Python310\\lib\\site-packages\\keras\\src\\engine\\training.py:3079: UserWarning: You are saving your model as an HDF5 file via `model.save()`. This file format is considered legacy. We recommend using instead the native Keras format, e.g. `model.save('my_model.keras')`.\n",
      "  saving_api.save_model(\n"
     ]
    },
    {
     "name": "stdout",
     "output_type": "stream",
     "text": [
      "4569/4569 [==============================] - 15s 3ms/step - loss: 0.3438 - accuracy: 0.8750 - val_loss: 0.1882 - val_accuracy: 0.9427\n",
      "Fold 4 - Test Loss: 0.1882, Test Accuracy: 0.9427\n",
      "Confusion matrix for fold 3 saved at D:\\Repos_git\\Make_Money_with_Tensorflow_2.0\\forexPredictor\\ohlc_data\\USDCHF\\confusion_matrix_fold3.png\n",
      "Fold 5/5\n",
      "Resampled dataset shape: Counter({-1: 48732, 0: 48732, 1: 48732})\n"
     ]
    },
    {
     "name": "stderr",
     "output_type": "stream",
     "text": [
      "C:\\Users\\Teacher\\AppData\\Local\\Programs\\Python\\Python310\\lib\\site-packages\\keras\\src\\engine\\training.py:3079: UserWarning: You are saving your model as an HDF5 file via `model.save()`. This file format is considered legacy. We recommend using instead the native Keras format, e.g. `model.save('my_model.keras')`.\n",
      "  saving_api.save_model(\n"
     ]
    },
    {
     "name": "stdout",
     "output_type": "stream",
     "text": [
      "4569/4569 [==============================] - 15s 3ms/step - loss: 0.3637 - accuracy: 0.8692 - val_loss: 0.1996 - val_accuracy: 0.9352\n",
      "Fold 5 - Test Loss: 0.1996, Test Accuracy: 0.9352\n",
      "Confusion matrix for fold 4 saved at D:\\Repos_git\\Make_Money_with_Tensorflow_2.0\\forexPredictor\\ohlc_data\\USDCHF\\confusion_matrix_fold4.png\n",
      "Average Accuracy across 5 folds: 0.9355\n",
      "Accuracy per fold: [0.9286524057388306, 0.9197375774383545, 0.9514052271842957, 0.9427391290664673, 0.935206949710846]\n",
      "Accuracy:  [0.9286524057388306, 0.9197375774383545, 0.9514052271842957, 0.9427391290664673, 0.935206949710846]\n",
      "D:\\Repos_git\\Make_Money_with_Tensorflow_2.0\\forexPredictor\\ohlc_data\\USDJPY\\Signal_USDJPY.csv\n"
     ]
    },
    {
     "name": "stderr",
     "output_type": "stream",
     "text": [
      "C:\\Users\\Teacher\\AppData\\Local\\Programs\\Python\\Python310\\lib\\site-packages\\keras\\src\\engine\\training.py:3079: UserWarning: You are saving your model as an HDF5 file via `model.save()`. This file format is considered legacy. We recommend using instead the native Keras format, e.g. `model.save('my_model.keras')`.\n",
      "  saving_api.save_model(\n"
     ]
    },
    {
     "name": "stdout",
     "output_type": "stream",
     "text": [
      "Fold 1/5\n",
      "Resampled dataset shape: Counter({-1: 48599, 0: 48599, 1: 48599})\n",
      "4557/4557 [==============================] - 16s 3ms/step - loss: 0.3117 - accuracy: 0.8931 - val_loss: 0.2037 - val_accuracy: 0.9287\n",
      "Fold 1 - Test Loss: 0.2037, Test Accuracy: 0.9287\n",
      "Confusion matrix for fold 0 saved at D:\\Repos_git\\Make_Money_with_Tensorflow_2.0\\forexPredictor\\ohlc_data\\USDJPY\\confusion_matrix_fold0.png\n",
      "Fold 2/5\n",
      "Resampled dataset shape: Counter({0: 48599, -1: 48599, 1: 48599})\n"
     ]
    },
    {
     "name": "stderr",
     "output_type": "stream",
     "text": [
      "C:\\Users\\Teacher\\AppData\\Local\\Programs\\Python\\Python310\\lib\\site-packages\\keras\\src\\engine\\training.py:3079: UserWarning: You are saving your model as an HDF5 file via `model.save()`. This file format is considered legacy. We recommend using instead the native Keras format, e.g. `model.save('my_model.keras')`.\n",
      "  saving_api.save_model(\n"
     ]
    },
    {
     "name": "stdout",
     "output_type": "stream",
     "text": [
      "4557/4557 [==============================] - 16s 3ms/step - loss: 0.3169 - accuracy: 0.8902 - val_loss: 0.1854 - val_accuracy: 0.9383\n",
      "Fold 2 - Test Loss: 0.1854, Test Accuracy: 0.9383\n",
      "Confusion matrix for fold 1 saved at D:\\Repos_git\\Make_Money_with_Tensorflow_2.0\\forexPredictor\\ohlc_data\\USDJPY\\confusion_matrix_fold1.png\n",
      "Fold 3/5\n",
      "Resampled dataset shape: Counter({-1: 48599, 0: 48599, 1: 48599})\n"
     ]
    },
    {
     "name": "stderr",
     "output_type": "stream",
     "text": [
      "C:\\Users\\Teacher\\AppData\\Local\\Programs\\Python\\Python310\\lib\\site-packages\\keras\\src\\engine\\training.py:3079: UserWarning: You are saving your model as an HDF5 file via `model.save()`. This file format is considered legacy. We recommend using instead the native Keras format, e.g. `model.save('my_model.keras')`.\n",
      "  saving_api.save_model(\n"
     ]
    },
    {
     "name": "stdout",
     "output_type": "stream",
     "text": [
      "4557/4557 [==============================] - 15s 3ms/step - loss: 0.3248 - accuracy: 0.8868 - val_loss: 0.2096 - val_accuracy: 0.9217\n",
      "Fold 3 - Test Loss: 0.2096, Test Accuracy: 0.9217\n",
      "Confusion matrix for fold 2 saved at D:\\Repos_git\\Make_Money_with_Tensorflow_2.0\\forexPredictor\\ohlc_data\\USDJPY\\confusion_matrix_fold2.png\n",
      "Fold 4/5\n",
      "Resampled dataset shape: Counter({-1: 48600, 0: 48600, 1: 48600})\n"
     ]
    },
    {
     "name": "stderr",
     "output_type": "stream",
     "text": [
      "C:\\Users\\Teacher\\AppData\\Local\\Programs\\Python\\Python310\\lib\\site-packages\\keras\\src\\engine\\training.py:3079: UserWarning: You are saving your model as an HDF5 file via `model.save()`. This file format is considered legacy. We recommend using instead the native Keras format, e.g. `model.save('my_model.keras')`.\n",
      "  saving_api.save_model(\n"
     ]
    },
    {
     "name": "stdout",
     "output_type": "stream",
     "text": [
      "4557/4557 [==============================] - 15s 3ms/step - loss: 0.3055 - accuracy: 0.8943 - val_loss: 0.2179 - val_accuracy: 0.9302\n",
      "Fold 4 - Test Loss: 0.2179, Test Accuracy: 0.9302\n",
      "Confusion matrix for fold 3 saved at D:\\Repos_git\\Make_Money_with_Tensorflow_2.0\\forexPredictor\\ohlc_data\\USDJPY\\confusion_matrix_fold3.png\n",
      "Fold 5/5\n",
      "Resampled dataset shape: Counter({-1: 48599, 0: 48599, 1: 48599})\n"
     ]
    },
    {
     "name": "stderr",
     "output_type": "stream",
     "text": [
      "C:\\Users\\Teacher\\AppData\\Local\\Programs\\Python\\Python310\\lib\\site-packages\\keras\\src\\engine\\training.py:3079: UserWarning: You are saving your model as an HDF5 file via `model.save()`. This file format is considered legacy. We recommend using instead the native Keras format, e.g. `model.save('my_model.keras')`.\n",
      "  saving_api.save_model(\n"
     ]
    },
    {
     "name": "stdout",
     "output_type": "stream",
     "text": [
      "4557/4557 [==============================] - 16s 3ms/step - loss: 0.3121 - accuracy: 0.8916 - val_loss: 0.2345 - val_accuracy: 0.9286\n",
      "Fold 5 - Test Loss: 0.2345, Test Accuracy: 0.9286\n",
      "Confusion matrix for fold 4 saved at D:\\Repos_git\\Make_Money_with_Tensorflow_2.0\\forexPredictor\\ohlc_data\\USDJPY\\confusion_matrix_fold4.png\n",
      "Average Accuracy across 5 folds: 0.9295\n",
      "Accuracy per fold: [0.9286524057388306, 0.9382895827293396, 0.9216814041137695, 0.9301854968070984, 0.9285656213760376]\n",
      "Accuracy:  [0.9286524057388306, 0.9382895827293396, 0.9216814041137695, 0.9301854968070984, 0.9285656213760376]\n"
     ]
    },
    {
     "name": "stderr",
     "output_type": "stream",
     "text": [
      "C:\\Users\\Teacher\\AppData\\Local\\Programs\\Python\\Python310\\lib\\site-packages\\keras\\src\\engine\\training.py:3079: UserWarning: You are saving your model as an HDF5 file via `model.save()`. This file format is considered legacy. We recommend using instead the native Keras format, e.g. `model.save('my_model.keras')`.\n",
      "  saving_api.save_model(\n"
     ]
    }
   ],
   "source": [
    "data_dir = 'ohlc_data'\n",
    "symbols = ['EURUSD', 'AUDUSD', 'GBPUSD', 'USDCAD', 'USDCHF', 'USDJPY']\n",
    "dataset = []\n",
    "\n",
    "# break point\n",
    "fold = True\n",
    "\n",
    "for i in symbols:\n",
    "    data_path = os.path.join(os.getcwd(), data_dir, i, 'Signal_'+i+'.csv')\n",
    "    print(data_path)\n",
    "    \n",
    "    data = pd.read_csv(data_path, index_col=0)\n",
    "    data['Signal'] = data['Signal'].map({'Buy': 1, 'Sell': -1, 'Hold': 0})\n",
    "    \n",
    "    features_df = feature_generate(data)\n",
    "    features_df_nonan = features_df.dropna().reset_index().drop(columns=['index'])\n",
    "    \n",
    "    if fold is True:\n",
    "        model_name = os.path.join(os.getcwd(), data_dir, i, 'Model_'+i+'.h5')\n",
    "        accuracies, histories = prepare_train_model_with_kfold(features_df_nonan, model_name)\n",
    "#         predictions_accuracy_plot(xTest, yTest_onehot, history_, model_path)\n",
    "        print('Accuracy: ', accuracies)\n",
    "    else:\n",
    "        model_name = os.path.join(os.getcwd(), data_dir, i)\n",
    "        xTest, yTest_onehot, history_, model_path = prepare_train_model(features_df_nonan, \n",
    "                                                                        model_name)\n",
    "        predictions_accuracy_plot(xTest, yTest_onehot, history_, model_path)        \n",
    "        \n",
    "        "
   ]
  },
  {
   "cell_type": "code",
   "execution_count": 1,
   "id": "e0bc2659",
   "metadata": {},
   "outputs": [],
   "source": [
    "from sklearn.model_selection import StratifiedKFold\n",
    "from sklearn.metrics import accuracy_score, confusion_matrix, classification_report\n",
    "\n",
    "def prepare_train_model_with_kfold(df, model_saved_path, k=5):\n",
    "    # Exclude the 'Signal' column and select only numeric data\n",
    "    X = df.drop(columns=['Signal']).select_dtypes(include=[np.number]).values\n",
    "    y = df['Signal'].values  # Target variable\n",
    "    \n",
    "    # K-fold cross-validation setup\n",
    "    skf = StratifiedKFold(n_splits=k, shuffle=True, random_state=42)\n",
    "    fold_accuracies = []\n",
    "    fold_histories = []\n",
    "\n",
    "    for fold, (train_index, test_index) in enumerate(skf.split(X, y)):\n",
    "        print(f\"Fold {fold + 1}/{k}\")\n",
    "\n",
    "        x_train, x_test = X[train_index], X[test_index]\n",
    "        y_train, y_test = y[train_index], y[test_index]\n",
    "\n",
    "        # Handle class imbalance using SMOTE or other techniques (optional)\n",
    "        smote = RandomOverSampler(random_state=42, sampling_strategy='not majority')\n",
    "        x_train, y_train = smote.fit_resample(x_train, y_train)\n",
    "        print('Resampled dataset shape:', Counter(y_train))\n",
    "\n",
    "        # Scaling\n",
    "        scaler = MinMaxScaler(feature_range=(0, 1))\n",
    "        x_train = scaler.fit_transform(x_train)\n",
    "        x_test = scaler.transform(x_test)\n",
    "\n",
    "        # Reshape inputs for CNN\n",
    "        x_train = x_train.reshape((x_train.shape[0], x_train.shape[1], 1))\n",
    "        x_test = x_test.reshape((x_test.shape[0], x_test.shape[1], 1))\n",
    "\n",
    "        # Normalize data if needed\n",
    "        x_train = x_train / np.max(x_train)\n",
    "        x_test = x_test / np.max(x_test)\n",
    "\n",
    "        # Convert labels to one-hot encoding\n",
    "        y_train_onehot = to_categorical(y_train, num_classes=3)\n",
    "        y_test_onehot = to_categorical(y_test, num_classes=3)\n",
    "\n",
    "        # Define the model\n",
    "        model = Sequential([\n",
    "            Conv1D(filters=64, kernel_size=3, activation='relu', input_shape=(x_train.shape[1], 1)),\n",
    "            MaxPooling1D(pool_size=2),\n",
    "            Dropout(0.2),\n",
    "            Conv1D(filters=128, kernel_size=3, activation='relu'),\n",
    "            MaxPooling1D(pool_size=2),\n",
    "            Flatten(),\n",
    "            Dense(64, activation='relu'),\n",
    "            Dropout(0.5),\n",
    "            Dense(3, activation='softmax')  # 3 classes: 0, 1, 2\n",
    "        ])\n",
    "\n",
    "        # Compile the model\n",
    "        model.compile(optimizer='adam', \n",
    "                      loss='categorical_crossentropy', \n",
    "                      metrics=['accuracy'])\n",
    "\n",
    "        # Train the model\n",
    "        history = model.fit(\n",
    "            x_train, y_train_onehot, \n",
    "            epochs=1, \n",
    "            batch_size=32, \n",
    "            validation_data=(x_test, y_test_onehot),\n",
    "            verbose=1\n",
    "        )\n",
    "\n",
    "        # Evaluate the model on the test set\n",
    "        test_loss, test_accuracy = model.evaluate(x_test, y_test_onehot, verbose=0)\n",
    "        print(f\"Fold {fold + 1} - Test Loss: {test_loss:.4f}, Test Accuracy: {test_accuracy:.4f}\")\n",
    "\n",
    "        # Save fold results\n",
    "        fold_accuracies.append(test_accuracy)\n",
    "        fold_histories.append(history)\n",
    "\n",
    "        # Ensure the directory exists before saving the model\n",
    "        model_dir = os.path.dirname(model_saved_path)\n",
    "        if not os.path.exists(model_dir):\n",
    "            os.makedirs(model_dir)\n",
    "        \n",
    "        saved_path = os.path.join(model_dir, f\"model_fold{fold + 1}.h5\")\n",
    "        \n",
    "        # Save the model in the specified directory with a fold-specific name\n",
    "        model.save(saved_path)\n",
    "        \n",
    "        # Save the plot as an image\n",
    "#         file_path = os.path.join(model_dir, f\"confusion_matrix_fold{fold}.png\")\n",
    "#         plt.savefig(file_path)\n",
    "#         plt.close()  # Close the plot to free memory\n",
    "#         print(f\"Confusion matrix for fold {fold} saved at {file_path}\")\n",
    "        \n",
    "        \n",
    "    # Final evaluation metrics\n",
    "    print(f\"Average Accuracy across {k} folds: {np.mean(fold_accuracies):.4f}\")\n",
    "    print(f\"Accuracy per fold: {fold_accuracies}\")\n",
    "    \n",
    "    return fold_accuracies, fold_histories\n"
   ]
  },
  {
   "cell_type": "code",
   "execution_count": 12,
   "id": "c0556de1",
   "metadata": {},
   "outputs": [],
   "source": []
  },
  {
   "cell_type": "code",
   "execution_count": 21,
   "id": "61628c8d",
   "metadata": {},
   "outputs": [
    {
     "data": {
      "image/png": "[encoded data removed]",
      "text/plain": [
       "<Figure size 1000x600 with 1 Axes>"
      ]
     },
     "metadata": {},
     "output_type": "display_data"
    }
   ],
   "source": [
    "import matplotlib.pyplot as plt\n",
    "import numpy as np\n",
    "\n",
    "# Data extracted from the lines\n",
    "lines = [\n",
    "    [0.9258179664611816, 0.8763362765312195, 0.9347209930419922, 0.9244350790977478, 0.9434680342674255],\n",
    "    [0.9003887176513672, 0.9094589948654175, 0.9526200890541077, 0.039766743779182434, 0.9058880805969238],\n",
    "    [0.7792354822158813, 0.9123674035072327, 0.9327771663665771, 0.9157690405845642, 0.9375556707382202],\n",
    "    [0.38038548827171326, 0.9117265939712524, 0.9308333992958069, 0.9082368016242981, 0.8960881233215332],\n",
    "    [0.9286524057388306, 0.9197375774383545, 0.9514052271842957, 0.9427391290664673, 0.935206949710846],\n",
    "    [0.9286524057388306, 0.9382895827293396, 0.9216814041137695, 0.9301854968070984, 0.9285656213760376]\n",
    "]\n",
    "\n",
    "# Line numbers corresponding to each set of accuracies\n",
    "line_numbers = [37, 76, 115, 154, 193, 232]\n",
    "\n",
    "# Generate the chart\n",
    "plt.figure(figsize=(10, 6))\n",
    "\n",
    "# Plot each line of accuracies\n",
    "for i, acc in enumerate(lines):\n",
    "    plt.plot(range(1, len(acc) + 1), acc, marker='o', label=f'Line {line_numbers[i]}')\n",
    "\n",
    "# Add labels, title, and legend\n",
    "plt.xlabel('Epochs (or indices within each set)')\n",
    "plt.ylabel('Accuracy')\n",
    "plt.title('Accuracy Values from Different Lines')\n",
    "plt.legend(title=\"Lines\", loc='lower right')\n",
    "plt.grid(alpha=0.3)\n",
    "plt.tight_layout()\n",
    "\n",
    "# Display the chart\n",
    "plt.show()\n"
   ]
  }
 ],
 "metadata": {
  "kernelspec": {
   "display_name": "Python 3 (ipykernel)",
   "language": "python",
   "name": "python3"
  },
  "language_info": {
   "codemirror_mode": {
    "name": "ipython",
    "version": 3
   },
   "file_extension": ".py",
   "mimetype": "text/x-python",
   "name": "python",
   "nbconvert_exporter": "python",
   "pygments_lexer": "ipython3",
   "version": "3.10.0"
  }
 },
 "nbformat": 4,
 "nbformat_minor": 5
}
