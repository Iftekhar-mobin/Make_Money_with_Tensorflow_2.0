{
 "cells": [
  {
   "cell_type": "code",
   "execution_count": 1,
   "id": "fe71446b",
   "metadata": {},
   "outputs": [],
   "source": [
    "import pandas as pd\n",
    "from pathlib import Path\n",
    "import os\n",
    "import numpy as np\n",
    "import matplotlib.pyplot as plt\n",
    "import seaborn as sns\n",
    "\n",
    "\n",
    "from sklearn.model_selection import train_test_split\n",
    "from imblearn.over_sampling import RandomOverSampler, SMOTE\n",
    "from sklearn.utils.class_weight import compute_class_weight\n",
    "from collections import Counter\n",
    "from sklearn.preprocessing import MinMaxScaler, OneHotEncoder\n",
    "from sklearn.model_selection import train_test_split\n",
    "# from imblearn.over_sampling import SMOTE, ADASYN, RandomOverSampler\n",
    "from collections import Counter\n",
    "from sklearn.metrics import confusion_matrix\n",
    "\n",
    "from operator import itemgetter\n",
    "from sklearn.feature_selection import SelectKBest, f_classif, mutual_info_classif, RFE\n",
    "from sklearn.linear_model import LassoCV\n",
    "from sklearn.ensemble import RandomForestClassifier\n",
    "from sklearn.preprocessing import StandardScaler\n",
    "\n",
    "import tensorflow as tf\n",
    "from tensorflow.keras.models import Sequential\n",
    "from tensorflow.keras.layers import Conv1D, MaxPooling1D, Flatten, Dense, Dropout\n",
    "from tensorflow.keras.utils import to_categorical\n",
    "from tensorflow.keras.models import load_model\n",
    "from sklearn.metrics import classification_report"
   ]
  },
  {
   "cell_type": "code",
   "execution_count": 3,
   "id": "a2b8ec95",
   "metadata": {},
   "outputs": [
    {
     "name": "stdout",
     "output_type": "stream",
     "text": [
      "Features removed due to high correlation: ['SMA_5', 'EMA_5', 'SMA_10', 'EMA_10', 'EMA_20', 'Williams_%R', 'Bollinger_Mid', 'Keltner_Mid', 'Tenkan_Sen', 'Fib_0', 'Fib_61.8', 'Fib_38.2', 'Channel_High', 'Channel_Low', 'Channel_Mid', 'Std_Dev_Upper', 'Std_Dev_Lower', 'HA_Close', 'HA_Open', 'Pivot_Point', 'Pivot_R1', 'Pivot_S1']\n"
     ]
    },
    {
     "name": "stderr",
     "output_type": "stream",
     "text": [
      "C:\\Users\\iftek\\AppData\\Local\\Programs\\Python\\Python310\\lib\\site-packages\\sklearn\\linear_model\\_coordinate_descent.py:617: ConvergenceWarning: Objective did not converge. You might want to increase the number of iterations. Duality gap: 4.844718161046785, tolerance: 0.3987370533093082\n",
      "  model = cd_fast.enet_coordinate_descent_gram(\n",
      "C:\\Users\\iftek\\AppData\\Local\\Programs\\Python\\Python310\\lib\\site-packages\\sklearn\\linear_model\\_coordinate_descent.py:617: ConvergenceWarning: Objective did not converge. You might want to increase the number of iterations. Duality gap: 42.345306778742724, tolerance: 0.3987370533093082\n",
      "  model = cd_fast.enet_coordinate_descent_gram(\n",
      "C:\\Users\\iftek\\AppData\\Local\\Programs\\Python\\Python310\\lib\\site-packages\\sklearn\\linear_model\\_coordinate_descent.py:617: ConvergenceWarning: Objective did not converge. You might want to increase the number of iterations. Duality gap: 96.00666487354874, tolerance: 0.3987370533093082\n",
      "  model = cd_fast.enet_coordinate_descent_gram(\n",
      "C:\\Users\\iftek\\AppData\\Local\\Programs\\Python\\Python310\\lib\\site-packages\\sklearn\\linear_model\\_coordinate_descent.py:617: ConvergenceWarning: Objective did not converge. You might want to increase the number of iterations. Duality gap: 153.38178026440437, tolerance: 0.3987370533093082\n",
      "  model = cd_fast.enet_coordinate_descent_gram(\n",
      "C:\\Users\\iftek\\AppData\\Local\\Programs\\Python\\Python310\\lib\\site-packages\\sklearn\\linear_model\\_coordinate_descent.py:617: ConvergenceWarning: Objective did not converge. You might want to increase the number of iterations. Duality gap: 209.1405874677398, tolerance: 0.3987370533093082\n",
      "  model = cd_fast.enet_coordinate_descent_gram(\n",
      "C:\\Users\\iftek\\AppData\\Local\\Programs\\Python\\Python310\\lib\\site-packages\\sklearn\\linear_model\\_coordinate_descent.py:617: ConvergenceWarning: Objective did not converge. You might want to increase the number of iterations. Duality gap: 257.3393425792756, tolerance: 0.3987370533093082\n",
      "  model = cd_fast.enet_coordinate_descent_gram(\n",
      "C:\\Users\\iftek\\AppData\\Local\\Programs\\Python\\Python310\\lib\\site-packages\\sklearn\\linear_model\\_coordinate_descent.py:617: ConvergenceWarning: Objective did not converge. You might want to increase the number of iterations. Duality gap: 260.9760727186808, tolerance: 0.3987370533093082\n",
      "  model = cd_fast.enet_coordinate_descent_gram(\n",
      "C:\\Users\\iftek\\AppData\\Local\\Programs\\Python\\Python310\\lib\\site-packages\\sklearn\\linear_model\\_coordinate_descent.py:617: ConvergenceWarning: Objective did not converge. You might want to increase the number of iterations. Duality gap: 268.0403014356475, tolerance: 0.3987370533093082\n",
      "  model = cd_fast.enet_coordinate_descent_gram(\n",
      "C:\\Users\\iftek\\AppData\\Local\\Programs\\Python\\Python310\\lib\\site-packages\\sklearn\\linear_model\\_coordinate_descent.py:617: ConvergenceWarning: Objective did not converge. You might want to increase the number of iterations. Duality gap: 279.9073625042629, tolerance: 0.3987370533093082\n",
      "  model = cd_fast.enet_coordinate_descent_gram(\n",
      "C:\\Users\\iftek\\AppData\\Local\\Programs\\Python\\Python310\\lib\\site-packages\\sklearn\\linear_model\\_coordinate_descent.py:617: ConvergenceWarning: Objective did not converge. You might want to increase the number of iterations. Duality gap: 295.5487832394888, tolerance: 0.3987370533093082\n",
      "  model = cd_fast.enet_coordinate_descent_gram(\n",
      "C:\\Users\\iftek\\AppData\\Local\\Programs\\Python\\Python310\\lib\\site-packages\\sklearn\\linear_model\\_coordinate_descent.py:617: ConvergenceWarning: Objective did not converge. You might want to increase the number of iterations. Duality gap: 317.94798897391183, tolerance: 0.3987370533093082\n",
      "  model = cd_fast.enet_coordinate_descent_gram(\n",
      "C:\\Users\\iftek\\AppData\\Local\\Programs\\Python\\Python310\\lib\\site-packages\\sklearn\\linear_model\\_coordinate_descent.py:617: ConvergenceWarning: Objective did not converge. You might want to increase the number of iterations. Duality gap: 344.9812516029392, tolerance: 0.3987370533093082\n",
      "  model = cd_fast.enet_coordinate_descent_gram(\n",
      "C:\\Users\\iftek\\AppData\\Local\\Programs\\Python\\Python310\\lib\\site-packages\\sklearn\\linear_model\\_coordinate_descent.py:617: ConvergenceWarning: Objective did not converge. You might want to increase the number of iterations. Duality gap: 373.78308585244713, tolerance: 0.3987370533093082\n",
      "  model = cd_fast.enet_coordinate_descent_gram(\n",
      "C:\\Users\\iftek\\AppData\\Local\\Programs\\Python\\Python310\\lib\\site-packages\\sklearn\\linear_model\\_coordinate_descent.py:617: ConvergenceWarning: Objective did not converge. You might want to increase the number of iterations. Duality gap: 402.42477243387634, tolerance: 0.3987370533093082\n",
      "  model = cd_fast.enet_coordinate_descent_gram(\n",
      "C:\\Users\\iftek\\AppData\\Local\\Programs\\Python\\Python310\\lib\\site-packages\\sklearn\\linear_model\\_coordinate_descent.py:617: ConvergenceWarning: Objective did not converge. You might want to increase the number of iterations. Duality gap: 432.89957788487004, tolerance: 0.3987370533093082\n",
      "  model = cd_fast.enet_coordinate_descent_gram(\n",
      "C:\\Users\\iftek\\AppData\\Local\\Programs\\Python\\Python310\\lib\\site-packages\\sklearn\\linear_model\\_coordinate_descent.py:617: ConvergenceWarning: Objective did not converge. You might want to increase the number of iterations. Duality gap: 461.87988972931817, tolerance: 0.3987370533093082\n",
      "  model = cd_fast.enet_coordinate_descent_gram(\n",
      "C:\\Users\\iftek\\AppData\\Local\\Programs\\Python\\Python310\\lib\\site-packages\\sklearn\\linear_model\\_coordinate_descent.py:617: ConvergenceWarning: Objective did not converge. You might want to increase the number of iterations. Duality gap: 485.53383451761215, tolerance: 0.3987370533093082\n",
      "  model = cd_fast.enet_coordinate_descent_gram(\n",
      "C:\\Users\\iftek\\AppData\\Local\\Programs\\Python\\Python310\\lib\\site-packages\\sklearn\\linear_model\\_coordinate_descent.py:617: ConvergenceWarning: Objective did not converge. You might want to increase the number of iterations. Duality gap: 492.6153712759367, tolerance: 0.3987370533093082\n",
      "  model = cd_fast.enet_coordinate_descent_gram(\n",
      "C:\\Users\\iftek\\AppData\\Local\\Programs\\Python\\Python310\\lib\\site-packages\\sklearn\\linear_model\\_coordinate_descent.py:617: ConvergenceWarning: Objective did not converge. You might want to increase the number of iterations. Duality gap: 512.4222544180802, tolerance: 0.3987370533093082\n",
      "  model = cd_fast.enet_coordinate_descent_gram(\n",
      "C:\\Users\\iftek\\AppData\\Local\\Programs\\Python\\Python310\\lib\\site-packages\\sklearn\\linear_model\\_coordinate_descent.py:617: ConvergenceWarning: Objective did not converge. You might want to increase the number of iterations. Duality gap: 533.2678739122293, tolerance: 0.3987370533093082\n",
      "  model = cd_fast.enet_coordinate_descent_gram(\n",
      "C:\\Users\\iftek\\AppData\\Local\\Programs\\Python\\Python310\\lib\\site-packages\\sklearn\\linear_model\\_coordinate_descent.py:617: ConvergenceWarning: Objective did not converge. You might want to increase the number of iterations. Duality gap: 552.8285532013151, tolerance: 0.3987370533093082\n",
      "  model = cd_fast.enet_coordinate_descent_gram(\n",
      "C:\\Users\\iftek\\AppData\\Local\\Programs\\Python\\Python310\\lib\\site-packages\\sklearn\\linear_model\\_coordinate_descent.py:617: ConvergenceWarning: Objective did not converge. You might want to increase the number of iterations. Duality gap: 572.4036793136881, tolerance: 0.3987370533093082\n",
      "  model = cd_fast.enet_coordinate_descent_gram(\n",
      "C:\\Users\\iftek\\AppData\\Local\\Programs\\Python\\Python310\\lib\\site-packages\\sklearn\\linear_model\\_coordinate_descent.py:617: ConvergenceWarning: Objective did not converge. You might want to increase the number of iterations. Duality gap: 593.9641867728346, tolerance: 0.3987370533093082\n",
      "  model = cd_fast.enet_coordinate_descent_gram(\n",
      "C:\\Users\\iftek\\AppData\\Local\\Programs\\Python\\Python310\\lib\\site-packages\\sklearn\\linear_model\\_coordinate_descent.py:617: ConvergenceWarning: Objective did not converge. You might want to increase the number of iterations. Duality gap: 616.6261824049993, tolerance: 0.3987370533093082\n",
      "  model = cd_fast.enet_coordinate_descent_gram(\n",
      "C:\\Users\\iftek\\AppData\\Local\\Programs\\Python\\Python310\\lib\\site-packages\\sklearn\\linear_model\\_coordinate_descent.py:617: ConvergenceWarning: Objective did not converge. You might want to increase the number of iterations. Duality gap: 639.7782658703195, tolerance: 0.3987370533093082\n",
      "  model = cd_fast.enet_coordinate_descent_gram(\n",
      "C:\\Users\\iftek\\AppData\\Local\\Programs\\Python\\Python310\\lib\\site-packages\\sklearn\\linear_model\\_coordinate_descent.py:617: ConvergenceWarning: Objective did not converge. You might want to increase the number of iterations. Duality gap: 663.1037672598559, tolerance: 0.3987370533093082\n",
      "  model = cd_fast.enet_coordinate_descent_gram(\n",
      "C:\\Users\\iftek\\AppData\\Local\\Programs\\Python\\Python310\\lib\\site-packages\\sklearn\\linear_model\\_coordinate_descent.py:617: ConvergenceWarning: Objective did not converge. You might want to increase the number of iterations. Duality gap: 686.0921372229388, tolerance: 0.3987370533093082\n",
      "  model = cd_fast.enet_coordinate_descent_gram(\n",
      "C:\\Users\\iftek\\AppData\\Local\\Programs\\Python\\Python310\\lib\\site-packages\\sklearn\\linear_model\\_coordinate_descent.py:617: ConvergenceWarning: Objective did not converge. You might want to increase the number of iterations. Duality gap: 708.36494364285, tolerance: 0.3987370533093082\n",
      "  model = cd_fast.enet_coordinate_descent_gram(\n",
      "C:\\Users\\iftek\\AppData\\Local\\Programs\\Python\\Python310\\lib\\site-packages\\sklearn\\linear_model\\_coordinate_descent.py:617: ConvergenceWarning: Objective did not converge. You might want to increase the number of iterations. Duality gap: 730.2965333902773, tolerance: 0.3987370533093082\n",
      "  model = cd_fast.enet_coordinate_descent_gram(\n",
      "C:\\Users\\iftek\\AppData\\Local\\Programs\\Python\\Python310\\lib\\site-packages\\sklearn\\linear_model\\_coordinate_descent.py:617: ConvergenceWarning: Objective did not converge. You might want to increase the number of iterations. Duality gap: 751.0371222878032, tolerance: 0.3987370533093082\n",
      "  model = cd_fast.enet_coordinate_descent_gram(\n",
      "C:\\Users\\iftek\\AppData\\Local\\Programs\\Python\\Python310\\lib\\site-packages\\sklearn\\linear_model\\_coordinate_descent.py:617: ConvergenceWarning: Objective did not converge. You might want to increase the number of iterations. Duality gap: 770.1124769118398, tolerance: 0.3987370533093082\n",
      "  model = cd_fast.enet_coordinate_descent_gram(\n",
      "C:\\Users\\iftek\\AppData\\Local\\Programs\\Python\\Python310\\lib\\site-packages\\sklearn\\linear_model\\_coordinate_descent.py:617: ConvergenceWarning: Objective did not converge. You might want to increase the number of iterations. Duality gap: 788.1635841259683, tolerance: 0.3987370533093082\n",
      "  model = cd_fast.enet_coordinate_descent_gram(\n",
      "C:\\Users\\iftek\\AppData\\Local\\Programs\\Python\\Python310\\lib\\site-packages\\sklearn\\linear_model\\_coordinate_descent.py:617: ConvergenceWarning: Objective did not converge. You might want to increase the number of iterations. Duality gap: 805.3460416415146, tolerance: 0.3987370533093082\n",
      "  model = cd_fast.enet_coordinate_descent_gram(\n",
      "C:\\Users\\iftek\\AppData\\Local\\Programs\\Python\\Python310\\lib\\site-packages\\sklearn\\linear_model\\_coordinate_descent.py:617: ConvergenceWarning: Objective did not converge. You might want to increase the number of iterations. Duality gap: 821.560766897353, tolerance: 0.3987370533093082\n",
      "  model = cd_fast.enet_coordinate_descent_gram(\n",
      "C:\\Users\\iftek\\AppData\\Local\\Programs\\Python\\Python310\\lib\\site-packages\\sklearn\\linear_model\\_coordinate_descent.py:617: ConvergenceWarning: Objective did not converge. You might want to increase the number of iterations. Duality gap: 814.8768114890431, tolerance: 0.3987370533093082\n",
      "  model = cd_fast.enet_coordinate_descent_gram(\n",
      "C:\\Users\\iftek\\AppData\\Local\\Programs\\Python\\Python310\\lib\\site-packages\\sklearn\\linear_model\\_coordinate_descent.py:617: ConvergenceWarning: Objective did not converge. You might want to increase the number of iterations. Duality gap: 827.060105326334, tolerance: 0.3987370533093082\n",
      "  model = cd_fast.enet_coordinate_descent_gram(\n",
      "C:\\Users\\iftek\\AppData\\Local\\Programs\\Python\\Python310\\lib\\site-packages\\sklearn\\linear_model\\_coordinate_descent.py:617: ConvergenceWarning: Objective did not converge. You might want to increase the number of iterations. Duality gap: 840.3435759975491, tolerance: 0.3987370533093082\n",
      "  model = cd_fast.enet_coordinate_descent_gram(\n",
      "C:\\Users\\iftek\\AppData\\Local\\Programs\\Python\\Python310\\lib\\site-packages\\sklearn\\linear_model\\_coordinate_descent.py:617: ConvergenceWarning: Objective did not converge. You might want to increase the number of iterations. Duality gap: 857.0052698592119, tolerance: 0.3987370533093082\n",
      "  model = cd_fast.enet_coordinate_descent_gram(\n"
     ]
    },
    {
     "name": "stderr",
     "output_type": "stream",
     "text": [
      "C:\\Users\\iftek\\AppData\\Local\\Programs\\Python\\Python310\\lib\\site-packages\\sklearn\\linear_model\\_coordinate_descent.py:617: ConvergenceWarning: Objective did not converge. You might want to increase the number of iterations. Duality gap: 8.697019637149879, tolerance: 0.40219726670850925\n",
      "  model = cd_fast.enet_coordinate_descent_gram(\n",
      "C:\\Users\\iftek\\AppData\\Local\\Programs\\Python\\Python310\\lib\\site-packages\\sklearn\\linear_model\\_coordinate_descent.py:617: ConvergenceWarning: Objective did not converge. You might want to increase the number of iterations. Duality gap: 44.20423601091261, tolerance: 0.40219726670850925\n",
      "  model = cd_fast.enet_coordinate_descent_gram(\n",
      "C:\\Users\\iftek\\AppData\\Local\\Programs\\Python\\Python310\\lib\\site-packages\\sklearn\\linear_model\\_coordinate_descent.py:617: ConvergenceWarning: Objective did not converge. You might want to increase the number of iterations. Duality gap: 87.19553312472772, tolerance: 0.40219726670850925\n",
      "  model = cd_fast.enet_coordinate_descent_gram(\n",
      "C:\\Users\\iftek\\AppData\\Local\\Programs\\Python\\Python310\\lib\\site-packages\\sklearn\\linear_model\\_coordinate_descent.py:617: ConvergenceWarning: Objective did not converge. You might want to increase the number of iterations. Duality gap: 129.26584227748026, tolerance: 0.40219726670850925\n",
      "  model = cd_fast.enet_coordinate_descent_gram(\n",
      "C:\\Users\\iftek\\AppData\\Local\\Programs\\Python\\Python310\\lib\\site-packages\\sklearn\\linear_model\\_coordinate_descent.py:617: ConvergenceWarning: Objective did not converge. You might want to increase the number of iterations. Duality gap: 176.5579644413624, tolerance: 0.40219726670850925\n",
      "  model = cd_fast.enet_coordinate_descent_gram(\n",
      "C:\\Users\\iftek\\AppData\\Local\\Programs\\Python\\Python310\\lib\\site-packages\\sklearn\\linear_model\\_coordinate_descent.py:617: ConvergenceWarning: Objective did not converge. You might want to increase the number of iterations. Duality gap: 202.11418124549346, tolerance: 0.40219726670850925\n",
      "  model = cd_fast.enet_coordinate_descent_gram(\n",
      "C:\\Users\\iftek\\AppData\\Local\\Programs\\Python\\Python310\\lib\\site-packages\\sklearn\\linear_model\\_coordinate_descent.py:617: ConvergenceWarning: Objective did not converge. You might want to increase the number of iterations. Duality gap: 215.10827041992388, tolerance: 0.40219726670850925\n",
      "  model = cd_fast.enet_coordinate_descent_gram(\n",
      "C:\\Users\\iftek\\AppData\\Local\\Programs\\Python\\Python310\\lib\\site-packages\\sklearn\\linear_model\\_coordinate_descent.py:617: ConvergenceWarning: Objective did not converge. You might want to increase the number of iterations. Duality gap: 216.38918436124823, tolerance: 0.40219726670850925\n",
      "  model = cd_fast.enet_coordinate_descent_gram(\n",
      "C:\\Users\\iftek\\AppData\\Local\\Programs\\Python\\Python310\\lib\\site-packages\\sklearn\\linear_model\\_coordinate_descent.py:617: ConvergenceWarning: Objective did not converge. You might want to increase the number of iterations. Duality gap: 225.31433925822557, tolerance: 0.40219726670850925\n",
      "  model = cd_fast.enet_coordinate_descent_gram(\n",
      "C:\\Users\\iftek\\AppData\\Local\\Programs\\Python\\Python310\\lib\\site-packages\\sklearn\\linear_model\\_coordinate_descent.py:617: ConvergenceWarning: Objective did not converge. You might want to increase the number of iterations. Duality gap: 239.4460821288244, tolerance: 0.40219726670850925\n",
      "  model = cd_fast.enet_coordinate_descent_gram(\n",
      "C:\\Users\\iftek\\AppData\\Local\\Programs\\Python\\Python310\\lib\\site-packages\\sklearn\\linear_model\\_coordinate_descent.py:617: ConvergenceWarning: Objective did not converge. You might want to increase the number of iterations. Duality gap: 261.08497215592524, tolerance: 0.40219726670850925\n",
      "  model = cd_fast.enet_coordinate_descent_gram(\n",
      "C:\\Users\\iftek\\AppData\\Local\\Programs\\Python\\Python310\\lib\\site-packages\\sklearn\\linear_model\\_coordinate_descent.py:617: ConvergenceWarning: Objective did not converge. You might want to increase the number of iterations. Duality gap: 287.8781905638739, tolerance: 0.40219726670850925\n",
      "  model = cd_fast.enet_coordinate_descent_gram(\n",
      "C:\\Users\\iftek\\AppData\\Local\\Programs\\Python\\Python310\\lib\\site-packages\\sklearn\\linear_model\\_coordinate_descent.py:617: ConvergenceWarning: Objective did not converge. You might want to increase the number of iterations. Duality gap: 295.1194493709845, tolerance: 0.40219726670850925\n",
      "  model = cd_fast.enet_coordinate_descent_gram(\n",
      "C:\\Users\\iftek\\AppData\\Local\\Programs\\Python\\Python310\\lib\\site-packages\\sklearn\\linear_model\\_coordinate_descent.py:617: ConvergenceWarning: Objective did not converge. You might want to increase the number of iterations. Duality gap: 307.83853997535243, tolerance: 0.40219726670850925\n",
      "  model = cd_fast.enet_coordinate_descent_gram(\n",
      "C:\\Users\\iftek\\AppData\\Local\\Programs\\Python\\Python310\\lib\\site-packages\\sklearn\\linear_model\\_coordinate_descent.py:617: ConvergenceWarning: Objective did not converge. You might want to increase the number of iterations. Duality gap: 310.7047334976005, tolerance: 0.40219726670850925\n",
      "  model = cd_fast.enet_coordinate_descent_gram(\n",
      "C:\\Users\\iftek\\AppData\\Local\\Programs\\Python\\Python310\\lib\\site-packages\\sklearn\\linear_model\\_coordinate_descent.py:617: ConvergenceWarning: Objective did not converge. You might want to increase the number of iterations. Duality gap: 312.1688364280744, tolerance: 0.40219726670850925\n",
      "  model = cd_fast.enet_coordinate_descent_gram(\n",
      "C:\\Users\\iftek\\AppData\\Local\\Programs\\Python\\Python310\\lib\\site-packages\\sklearn\\linear_model\\_coordinate_descent.py:617: ConvergenceWarning: Objective did not converge. You might want to increase the number of iterations. Duality gap: 316.79283340975917, tolerance: 0.40219726670850925\n",
      "  model = cd_fast.enet_coordinate_descent_gram(\n",
      "C:\\Users\\iftek\\AppData\\Local\\Programs\\Python\\Python310\\lib\\site-packages\\sklearn\\linear_model\\_coordinate_descent.py:617: ConvergenceWarning: Objective did not converge. You might want to increase the number of iterations. Duality gap: 323.84728204104476, tolerance: 0.40219726670850925\n",
      "  model = cd_fast.enet_coordinate_descent_gram(\n",
      "C:\\Users\\iftek\\AppData\\Local\\Programs\\Python\\Python310\\lib\\site-packages\\sklearn\\linear_model\\_coordinate_descent.py:617: ConvergenceWarning: Objective did not converge. You might want to increase the number of iterations. Duality gap: 338.3701747905877, tolerance: 0.40219726670850925\n",
      "  model = cd_fast.enet_coordinate_descent_gram(\n",
      "C:\\Users\\iftek\\AppData\\Local\\Programs\\Python\\Python310\\lib\\site-packages\\sklearn\\linear_model\\_coordinate_descent.py:617: ConvergenceWarning: Objective did not converge. You might want to increase the number of iterations. Duality gap: 348.5044016007596, tolerance: 0.40219726670850925\n",
      "  model = cd_fast.enet_coordinate_descent_gram(\n",
      "C:\\Users\\iftek\\AppData\\Local\\Programs\\Python\\Python310\\lib\\site-packages\\sklearn\\linear_model\\_coordinate_descent.py:617: ConvergenceWarning: Objective did not converge. You might want to increase the number of iterations. Duality gap: 358.15197573379305, tolerance: 0.40219726670850925\n",
      "  model = cd_fast.enet_coordinate_descent_gram(\n",
      "C:\\Users\\iftek\\AppData\\Local\\Programs\\Python\\Python310\\lib\\site-packages\\sklearn\\linear_model\\_coordinate_descent.py:617: ConvergenceWarning: Objective did not converge. You might want to increase the number of iterations. Duality gap: 368.6707356240845, tolerance: 0.40219726670850925\n",
      "  model = cd_fast.enet_coordinate_descent_gram(\n",
      "C:\\Users\\iftek\\AppData\\Local\\Programs\\Python\\Python310\\lib\\site-packages\\sklearn\\linear_model\\_coordinate_descent.py:617: ConvergenceWarning: Objective did not converge. You might want to increase the number of iterations. Duality gap: 378.50117639540395, tolerance: 0.40219726670850925\n",
      "  model = cd_fast.enet_coordinate_descent_gram(\n",
      "C:\\Users\\iftek\\AppData\\Local\\Programs\\Python\\Python310\\lib\\site-packages\\sklearn\\linear_model\\_coordinate_descent.py:617: ConvergenceWarning: Objective did not converge. You might want to increase the number of iterations. Duality gap: 387.13749670793527, tolerance: 0.40219726670850925\n",
      "  model = cd_fast.enet_coordinate_descent_gram(\n",
      "C:\\Users\\iftek\\AppData\\Local\\Programs\\Python\\Python310\\lib\\site-packages\\sklearn\\linear_model\\_coordinate_descent.py:617: ConvergenceWarning: Objective did not converge. You might want to increase the number of iterations. Duality gap: 394.39545093488005, tolerance: 0.40219726670850925\n",
      "  model = cd_fast.enet_coordinate_descent_gram(\n",
      "C:\\Users\\iftek\\AppData\\Local\\Programs\\Python\\Python310\\lib\\site-packages\\sklearn\\linear_model\\_coordinate_descent.py:617: ConvergenceWarning: Objective did not converge. You might want to increase the number of iterations. Duality gap: 400.2442247207257, tolerance: 0.40219726670850925\n",
      "  model = cd_fast.enet_coordinate_descent_gram(\n",
      "C:\\Users\\iftek\\AppData\\Local\\Programs\\Python\\Python310\\lib\\site-packages\\sklearn\\linear_model\\_coordinate_descent.py:617: ConvergenceWarning: Objective did not converge. You might want to increase the number of iterations. Duality gap: 404.74499213804006, tolerance: 0.40219726670850925\n",
      "  model = cd_fast.enet_coordinate_descent_gram(\n",
      "C:\\Users\\iftek\\AppData\\Local\\Programs\\Python\\Python310\\lib\\site-packages\\sklearn\\linear_model\\_coordinate_descent.py:617: ConvergenceWarning: Objective did not converge. You might want to increase the number of iterations. Duality gap: 408.0174387994746, tolerance: 0.40219726670850925\n",
      "  model = cd_fast.enet_coordinate_descent_gram(\n",
      "C:\\Users\\iftek\\AppData\\Local\\Programs\\Python\\Python310\\lib\\site-packages\\sklearn\\linear_model\\_coordinate_descent.py:617: ConvergenceWarning: Objective did not converge. You might want to increase the number of iterations. Duality gap: 410.21700974472856, tolerance: 0.40219726670850925\n",
      "  model = cd_fast.enet_coordinate_descent_gram(\n",
      "C:\\Users\\iftek\\AppData\\Local\\Programs\\Python\\Python310\\lib\\site-packages\\sklearn\\linear_model\\_coordinate_descent.py:617: ConvergenceWarning: Objective did not converge. You might want to increase the number of iterations. Duality gap: 410.2269305280943, tolerance: 0.40219726670850925\n",
      "  model = cd_fast.enet_coordinate_descent_gram(\n",
      "C:\\Users\\iftek\\AppData\\Local\\Programs\\Python\\Python310\\lib\\site-packages\\sklearn\\linear_model\\_coordinate_descent.py:617: ConvergenceWarning: Objective did not converge. You might want to increase the number of iterations. Duality gap: 411.31974489105346, tolerance: 0.40219726670850925\n",
      "  model = cd_fast.enet_coordinate_descent_gram(\n",
      "C:\\Users\\iftek\\AppData\\Local\\Programs\\Python\\Python310\\lib\\site-packages\\sklearn\\linear_model\\_coordinate_descent.py:617: ConvergenceWarning: Objective did not converge. You might want to increase the number of iterations. Duality gap: 415.60115129206406, tolerance: 0.40219726670850925\n",
      "  model = cd_fast.enet_coordinate_descent_gram(\n",
      "C:\\Users\\iftek\\AppData\\Local\\Programs\\Python\\Python310\\lib\\site-packages\\sklearn\\linear_model\\_coordinate_descent.py:617: ConvergenceWarning: Objective did not converge. You might want to increase the number of iterations. Duality gap: 422.28701828444787, tolerance: 0.40219726670850925\n",
      "  model = cd_fast.enet_coordinate_descent_gram(\n",
      "C:\\Users\\iftek\\AppData\\Local\\Programs\\Python\\Python310\\lib\\site-packages\\sklearn\\linear_model\\_coordinate_descent.py:617: ConvergenceWarning: Objective did not converge. You might want to increase the number of iterations. Duality gap: 429.87678703145207, tolerance: 0.40219726670850925\n",
      "  model = cd_fast.enet_coordinate_descent_gram(\n",
      "C:\\Users\\iftek\\AppData\\Local\\Programs\\Python\\Python310\\lib\\site-packages\\sklearn\\linear_model\\_coordinate_descent.py:617: ConvergenceWarning: Objective did not converge. You might want to increase the number of iterations. Duality gap: 435.1790306635951, tolerance: 0.40219726670850925\n",
      "  model = cd_fast.enet_coordinate_descent_gram(\n",
      "C:\\Users\\iftek\\AppData\\Local\\Programs\\Python\\Python310\\lib\\site-packages\\sklearn\\linear_model\\_coordinate_descent.py:617: ConvergenceWarning: Objective did not converge. You might want to increase the number of iterations. Duality gap: 441.7257751279112, tolerance: 0.40219726670850925\n",
      "  model = cd_fast.enet_coordinate_descent_gram(\n",
      "C:\\Users\\iftek\\AppData\\Local\\Programs\\Python\\Python310\\lib\\site-packages\\sklearn\\linear_model\\_coordinate_descent.py:617: ConvergenceWarning: Objective did not converge. You might want to increase the number of iterations. Duality gap: 448.6251890204819, tolerance: 0.40219726670850925\n",
      "  model = cd_fast.enet_coordinate_descent_gram(\n",
      "C:\\Users\\iftek\\AppData\\Local\\Programs\\Python\\Python310\\lib\\site-packages\\sklearn\\linear_model\\_coordinate_descent.py:617: ConvergenceWarning: Objective did not converge. You might want to increase the number of iterations. Duality gap: 445.6524863256693, tolerance: 0.40219726670850925\n",
      "  model = cd_fast.enet_coordinate_descent_gram(\n",
      "C:\\Users\\iftek\\AppData\\Local\\Programs\\Python\\Python310\\lib\\site-packages\\sklearn\\linear_model\\_coordinate_descent.py:617: ConvergenceWarning: Objective did not converge. You might want to increase the number of iterations. Duality gap: 416.4831446891312, tolerance: 0.40219726670850925\n",
      "  model = cd_fast.enet_coordinate_descent_gram(\n",
      "C:\\Users\\iftek\\AppData\\Local\\Programs\\Python\\Python310\\lib\\site-packages\\sklearn\\linear_model\\_coordinate_descent.py:617: ConvergenceWarning: Objective did not converge. You might want to increase the number of iterations. Duality gap: 11.98341751690532, tolerance: 0.409860832945273\n",
      "  model = cd_fast.enet_coordinate_descent_gram(\n",
      "C:\\Users\\iftek\\AppData\\Local\\Programs\\Python\\Python310\\lib\\site-packages\\sklearn\\linear_model\\_coordinate_descent.py:617: ConvergenceWarning: Objective did not converge. You might want to increase the number of iterations. Duality gap: 53.165924040958544, tolerance: 0.409860832945273\n",
      "  model = cd_fast.enet_coordinate_descent_gram(\n"
     ]
    },
    {
     "name": "stderr",
     "output_type": "stream",
     "text": [
      "C:\\Users\\iftek\\AppData\\Local\\Programs\\Python\\Python310\\lib\\site-packages\\sklearn\\linear_model\\_coordinate_descent.py:617: ConvergenceWarning: Objective did not converge. You might want to increase the number of iterations. Duality gap: 103.53303962544578, tolerance: 0.409860832945273\n",
      "  model = cd_fast.enet_coordinate_descent_gram(\n",
      "C:\\Users\\iftek\\AppData\\Local\\Programs\\Python\\Python310\\lib\\site-packages\\sklearn\\linear_model\\_coordinate_descent.py:617: ConvergenceWarning: Objective did not converge. You might want to increase the number of iterations. Duality gap: 153.95080788443738, tolerance: 0.409860832945273\n",
      "  model = cd_fast.enet_coordinate_descent_gram(\n",
      "C:\\Users\\iftek\\AppData\\Local\\Programs\\Python\\Python310\\lib\\site-packages\\sklearn\\linear_model\\_coordinate_descent.py:617: ConvergenceWarning: Objective did not converge. You might want to increase the number of iterations. Duality gap: 200.89567642195925, tolerance: 0.409860832945273\n",
      "  model = cd_fast.enet_coordinate_descent_gram(\n",
      "C:\\Users\\iftek\\AppData\\Local\\Programs\\Python\\Python310\\lib\\site-packages\\sklearn\\linear_model\\_coordinate_descent.py:617: ConvergenceWarning: Objective did not converge. You might want to increase the number of iterations. Duality gap: 236.32474037785596, tolerance: 0.409860832945273\n",
      "  model = cd_fast.enet_coordinate_descent_gram(\n",
      "C:\\Users\\iftek\\AppData\\Local\\Programs\\Python\\Python310\\lib\\site-packages\\sklearn\\linear_model\\_coordinate_descent.py:617: ConvergenceWarning: Objective did not converge. You might want to increase the number of iterations. Duality gap: 252.30573604257643, tolerance: 0.409860832945273\n",
      "  model = cd_fast.enet_coordinate_descent_gram(\n",
      "C:\\Users\\iftek\\AppData\\Local\\Programs\\Python\\Python310\\lib\\site-packages\\sklearn\\linear_model\\_coordinate_descent.py:617: ConvergenceWarning: Objective did not converge. You might want to increase the number of iterations. Duality gap: 254.7182833106408, tolerance: 0.409860832945273\n",
      "  model = cd_fast.enet_coordinate_descent_gram(\n",
      "C:\\Users\\iftek\\AppData\\Local\\Programs\\Python\\Python310\\lib\\site-packages\\sklearn\\linear_model\\_coordinate_descent.py:617: ConvergenceWarning: Objective did not converge. You might want to increase the number of iterations. Duality gap: 265.69310556988967, tolerance: 0.409860832945273\n",
      "  model = cd_fast.enet_coordinate_descent_gram(\n",
      "C:\\Users\\iftek\\AppData\\Local\\Programs\\Python\\Python310\\lib\\site-packages\\sklearn\\linear_model\\_coordinate_descent.py:617: ConvergenceWarning: Objective did not converge. You might want to increase the number of iterations. Duality gap: 290.1290421529966, tolerance: 0.409860832945273\n",
      "  model = cd_fast.enet_coordinate_descent_gram(\n",
      "C:\\Users\\iftek\\AppData\\Local\\Programs\\Python\\Python310\\lib\\site-packages\\sklearn\\linear_model\\_coordinate_descent.py:617: ConvergenceWarning: Objective did not converge. You might want to increase the number of iterations. Duality gap: 318.0258138154204, tolerance: 0.409860832945273\n",
      "  model = cd_fast.enet_coordinate_descent_gram(\n",
      "C:\\Users\\iftek\\AppData\\Local\\Programs\\Python\\Python310\\lib\\site-packages\\sklearn\\linear_model\\_coordinate_descent.py:617: ConvergenceWarning: Objective did not converge. You might want to increase the number of iterations. Duality gap: 340.21209802671183, tolerance: 0.409860832945273\n",
      "  model = cd_fast.enet_coordinate_descent_gram(\n",
      "C:\\Users\\iftek\\AppData\\Local\\Programs\\Python\\Python310\\lib\\site-packages\\sklearn\\linear_model\\_coordinate_descent.py:617: ConvergenceWarning: Objective did not converge. You might want to increase the number of iterations. Duality gap: 363.7526476384105, tolerance: 0.409860832945273\n",
      "  model = cd_fast.enet_coordinate_descent_gram(\n",
      "C:\\Users\\iftek\\AppData\\Local\\Programs\\Python\\Python310\\lib\\site-packages\\sklearn\\linear_model\\_coordinate_descent.py:617: ConvergenceWarning: Objective did not converge. You might want to increase the number of iterations. Duality gap: 381.8109248716057, tolerance: 0.409860832945273\n",
      "  model = cd_fast.enet_coordinate_descent_gram(\n",
      "C:\\Users\\iftek\\AppData\\Local\\Programs\\Python\\Python310\\lib\\site-packages\\sklearn\\linear_model\\_coordinate_descent.py:617: ConvergenceWarning: Objective did not converge. You might want to increase the number of iterations. Duality gap: 401.13807788928875, tolerance: 0.409860832945273\n",
      "  model = cd_fast.enet_coordinate_descent_gram(\n",
      "C:\\Users\\iftek\\AppData\\Local\\Programs\\Python\\Python310\\lib\\site-packages\\sklearn\\linear_model\\_coordinate_descent.py:617: ConvergenceWarning: Objective did not converge. You might want to increase the number of iterations. Duality gap: 407.8414254093716, tolerance: 0.409860832945273\n",
      "  model = cd_fast.enet_coordinate_descent_gram(\n",
      "C:\\Users\\iftek\\AppData\\Local\\Programs\\Python\\Python310\\lib\\site-packages\\sklearn\\linear_model\\_coordinate_descent.py:617: ConvergenceWarning: Objective did not converge. You might want to increase the number of iterations. Duality gap: 416.7057835582607, tolerance: 0.409860832945273\n",
      "  model = cd_fast.enet_coordinate_descent_gram(\n",
      "C:\\Users\\iftek\\AppData\\Local\\Programs\\Python\\Python310\\lib\\site-packages\\sklearn\\linear_model\\_coordinate_descent.py:617: ConvergenceWarning: Objective did not converge. You might want to increase the number of iterations. Duality gap: 428.57398913244015, tolerance: 0.409860832945273\n",
      "  model = cd_fast.enet_coordinate_descent_gram(\n",
      "C:\\Users\\iftek\\AppData\\Local\\Programs\\Python\\Python310\\lib\\site-packages\\sklearn\\linear_model\\_coordinate_descent.py:617: ConvergenceWarning: Objective did not converge. You might want to increase the number of iterations. Duality gap: 448.34976451978514, tolerance: 0.409860832945273\n",
      "  model = cd_fast.enet_coordinate_descent_gram(\n",
      "C:\\Users\\iftek\\AppData\\Local\\Programs\\Python\\Python310\\lib\\site-packages\\sklearn\\linear_model\\_coordinate_descent.py:617: ConvergenceWarning: Objective did not converge. You might want to increase the number of iterations. Duality gap: 463.44747983688785, tolerance: 0.409860832945273\n",
      "  model = cd_fast.enet_coordinate_descent_gram(\n",
      "C:\\Users\\iftek\\AppData\\Local\\Programs\\Python\\Python310\\lib\\site-packages\\sklearn\\linear_model\\_coordinate_descent.py:617: ConvergenceWarning: Objective did not converge. You might want to increase the number of iterations. Duality gap: 477.2369578237676, tolerance: 0.409860832945273\n",
      "  model = cd_fast.enet_coordinate_descent_gram(\n",
      "C:\\Users\\iftek\\AppData\\Local\\Programs\\Python\\Python310\\lib\\site-packages\\sklearn\\linear_model\\_coordinate_descent.py:617: ConvergenceWarning: Objective did not converge. You might want to increase the number of iterations. Duality gap: 492.4661319771367, tolerance: 0.409860832945273\n",
      "  model = cd_fast.enet_coordinate_descent_gram(\n",
      "C:\\Users\\iftek\\AppData\\Local\\Programs\\Python\\Python310\\lib\\site-packages\\sklearn\\linear_model\\_coordinate_descent.py:617: ConvergenceWarning: Objective did not converge. You might want to increase the number of iterations. Duality gap: 507.67057363060917, tolerance: 0.409860832945273\n",
      "  model = cd_fast.enet_coordinate_descent_gram(\n",
      "C:\\Users\\iftek\\AppData\\Local\\Programs\\Python\\Python310\\lib\\site-packages\\sklearn\\linear_model\\_coordinate_descent.py:617: ConvergenceWarning: Objective did not converge. You might want to increase the number of iterations. Duality gap: 522.2361776523908, tolerance: 0.409860832945273\n",
      "  model = cd_fast.enet_coordinate_descent_gram(\n",
      "C:\\Users\\iftek\\AppData\\Local\\Programs\\Python\\Python310\\lib\\site-packages\\sklearn\\linear_model\\_coordinate_descent.py:617: ConvergenceWarning: Objective did not converge. You might want to increase the number of iterations. Duality gap: 535.6831515881486, tolerance: 0.409860832945273\n",
      "  model = cd_fast.enet_coordinate_descent_gram(\n",
      "C:\\Users\\iftek\\AppData\\Local\\Programs\\Python\\Python310\\lib\\site-packages\\sklearn\\linear_model\\_coordinate_descent.py:617: ConvergenceWarning: Objective did not converge. You might want to increase the number of iterations. Duality gap: 547.0357094571029, tolerance: 0.409860832945273\n",
      "  model = cd_fast.enet_coordinate_descent_gram(\n",
      "C:\\Users\\iftek\\AppData\\Local\\Programs\\Python\\Python310\\lib\\site-packages\\sklearn\\linear_model\\_coordinate_descent.py:617: ConvergenceWarning: Objective did not converge. You might want to increase the number of iterations. Duality gap: 557.0084900167153, tolerance: 0.409860832945273\n",
      "  model = cd_fast.enet_coordinate_descent_gram(\n",
      "C:\\Users\\iftek\\AppData\\Local\\Programs\\Python\\Python310\\lib\\site-packages\\sklearn\\linear_model\\_coordinate_descent.py:617: ConvergenceWarning: Objective did not converge. You might want to increase the number of iterations. Duality gap: 566.6810406992172, tolerance: 0.409860832945273\n",
      "  model = cd_fast.enet_coordinate_descent_gram(\n",
      "C:\\Users\\iftek\\AppData\\Local\\Programs\\Python\\Python310\\lib\\site-packages\\sklearn\\linear_model\\_coordinate_descent.py:617: ConvergenceWarning: Objective did not converge. You might want to increase the number of iterations. Duality gap: 575.3534604468578, tolerance: 0.409860832945273\n",
      "  model = cd_fast.enet_coordinate_descent_gram(\n",
      "C:\\Users\\iftek\\AppData\\Local\\Programs\\Python\\Python310\\lib\\site-packages\\sklearn\\linear_model\\_coordinate_descent.py:617: ConvergenceWarning: Objective did not converge. You might want to increase the number of iterations. Duality gap: 579.6596888840922, tolerance: 0.409860832945273\n",
      "  model = cd_fast.enet_coordinate_descent_gram(\n",
      "C:\\Users\\iftek\\AppData\\Local\\Programs\\Python\\Python310\\lib\\site-packages\\sklearn\\linear_model\\_coordinate_descent.py:617: ConvergenceWarning: Objective did not converge. You might want to increase the number of iterations. Duality gap: 584.5652669105702, tolerance: 0.409860832945273\n",
      "  model = cd_fast.enet_coordinate_descent_gram(\n",
      "C:\\Users\\iftek\\AppData\\Local\\Programs\\Python\\Python310\\lib\\site-packages\\sklearn\\linear_model\\_coordinate_descent.py:617: ConvergenceWarning: Objective did not converge. You might want to increase the number of iterations. Duality gap: 591.8439740093781, tolerance: 0.409860832945273\n",
      "  model = cd_fast.enet_coordinate_descent_gram(\n",
      "C:\\Users\\iftek\\AppData\\Local\\Programs\\Python\\Python310\\lib\\site-packages\\sklearn\\linear_model\\_coordinate_descent.py:617: ConvergenceWarning: Objective did not converge. You might want to increase the number of iterations. Duality gap: 602.8741314789727, tolerance: 0.409860832945273\n",
      "  model = cd_fast.enet_coordinate_descent_gram(\n",
      "C:\\Users\\iftek\\AppData\\Local\\Programs\\Python\\Python310\\lib\\site-packages\\sklearn\\linear_model\\_coordinate_descent.py:617: ConvergenceWarning: Objective did not converge. You might want to increase the number of iterations. Duality gap: 615.7242432367375, tolerance: 0.409860832945273\n",
      "  model = cd_fast.enet_coordinate_descent_gram(\n",
      "C:\\Users\\iftek\\AppData\\Local\\Programs\\Python\\Python310\\lib\\site-packages\\sklearn\\linear_model\\_coordinate_descent.py:617: ConvergenceWarning: Objective did not converge. You might want to increase the number of iterations. Duality gap: 629.3065057183946, tolerance: 0.409860832945273\n",
      "  model = cd_fast.enet_coordinate_descent_gram(\n",
      "C:\\Users\\iftek\\AppData\\Local\\Programs\\Python\\Python310\\lib\\site-packages\\sklearn\\linear_model\\_coordinate_descent.py:617: ConvergenceWarning: Objective did not converge. You might want to increase the number of iterations. Duality gap: 643.4942217514247, tolerance: 0.409860832945273\n",
      "  model = cd_fast.enet_coordinate_descent_gram(\n",
      "C:\\Users\\iftek\\AppData\\Local\\Programs\\Python\\Python310\\lib\\site-packages\\sklearn\\linear_model\\_coordinate_descent.py:617: ConvergenceWarning: Objective did not converge. You might want to increase the number of iterations. Duality gap: 657.4461846234651, tolerance: 0.409860832945273\n",
      "  model = cd_fast.enet_coordinate_descent_gram(\n",
      "C:\\Users\\iftek\\AppData\\Local\\Programs\\Python\\Python310\\lib\\site-packages\\sklearn\\linear_model\\_coordinate_descent.py:617: ConvergenceWarning: Objective did not converge. You might want to increase the number of iterations. Duality gap: 671.714832317416, tolerance: 0.409860832945273\n",
      "  model = cd_fast.enet_coordinate_descent_gram(\n",
      "C:\\Users\\iftek\\AppData\\Local\\Programs\\Python\\Python310\\lib\\site-packages\\sklearn\\linear_model\\_coordinate_descent.py:617: ConvergenceWarning: Objective did not converge. You might want to increase the number of iterations. Duality gap: 685.9658441153322, tolerance: 0.409860832945273\n",
      "  model = cd_fast.enet_coordinate_descent_gram(\n",
      "C:\\Users\\iftek\\AppData\\Local\\Programs\\Python\\Python310\\lib\\site-packages\\sklearn\\linear_model\\_coordinate_descent.py:617: ConvergenceWarning: Objective did not converge. You might want to increase the number of iterations. Duality gap: 698.2293188390611, tolerance: 0.409860832945273\n",
      "  model = cd_fast.enet_coordinate_descent_gram(\n",
      "C:\\Users\\iftek\\AppData\\Local\\Programs\\Python\\Python310\\lib\\site-packages\\sklearn\\linear_model\\_coordinate_descent.py:617: ConvergenceWarning: Objective did not converge. You might want to increase the number of iterations. Duality gap: 19.78638064385541, tolerance: 0.41700006883845275\n",
      "  model = cd_fast.enet_coordinate_descent_gram(\n",
      "C:\\Users\\iftek\\AppData\\Local\\Programs\\Python\\Python310\\lib\\site-packages\\sklearn\\linear_model\\_coordinate_descent.py:617: ConvergenceWarning: Objective did not converge. You might want to increase the number of iterations. Duality gap: 56.008439977401395, tolerance: 0.41700006883845275\n",
      "  model = cd_fast.enet_coordinate_descent_gram(\n",
      "C:\\Users\\iftek\\AppData\\Local\\Programs\\Python\\Python310\\lib\\site-packages\\sklearn\\linear_model\\_coordinate_descent.py:617: ConvergenceWarning: Objective did not converge. You might want to increase the number of iterations. Duality gap: 93.13919377399816, tolerance: 0.41700006883845275\n",
      "  model = cd_fast.enet_coordinate_descent_gram(\n",
      "C:\\Users\\iftek\\AppData\\Local\\Programs\\Python\\Python310\\lib\\site-packages\\sklearn\\linear_model\\_coordinate_descent.py:617: ConvergenceWarning: Objective did not converge. You might want to increase the number of iterations. Duality gap: 126.39801802453485, tolerance: 0.41700006883845275\n",
      "  model = cd_fast.enet_coordinate_descent_gram(\n"
     ]
    },
    {
     "name": "stderr",
     "output_type": "stream",
     "text": [
      "C:\\Users\\iftek\\AppData\\Local\\Programs\\Python\\Python310\\lib\\site-packages\\sklearn\\linear_model\\_coordinate_descent.py:617: ConvergenceWarning: Objective did not converge. You might want to increase the number of iterations. Duality gap: 154.65516326252418, tolerance: 0.41700006883845275\n",
      "  model = cd_fast.enet_coordinate_descent_gram(\n",
      "C:\\Users\\iftek\\AppData\\Local\\Programs\\Python\\Python310\\lib\\site-packages\\sklearn\\linear_model\\_coordinate_descent.py:617: ConvergenceWarning: Objective did not converge. You might want to increase the number of iterations. Duality gap: 177.98180253879718, tolerance: 0.41700006883845275\n",
      "  model = cd_fast.enet_coordinate_descent_gram(\n",
      "C:\\Users\\iftek\\AppData\\Local\\Programs\\Python\\Python310\\lib\\site-packages\\sklearn\\linear_model\\_coordinate_descent.py:617: ConvergenceWarning: Objective did not converge. You might want to increase the number of iterations. Duality gap: 202.72921774168208, tolerance: 0.41700006883845275\n",
      "  model = cd_fast.enet_coordinate_descent_gram(\n",
      "C:\\Users\\iftek\\AppData\\Local\\Programs\\Python\\Python310\\lib\\site-packages\\sklearn\\linear_model\\_coordinate_descent.py:617: ConvergenceWarning: Objective did not converge. You might want to increase the number of iterations. Duality gap: 201.69122244487926, tolerance: 0.41700006883845275\n",
      "  model = cd_fast.enet_coordinate_descent_gram(\n",
      "C:\\Users\\iftek\\AppData\\Local\\Programs\\Python\\Python310\\lib\\site-packages\\sklearn\\linear_model\\_coordinate_descent.py:617: ConvergenceWarning: Objective did not converge. You might want to increase the number of iterations. Duality gap: 201.11580919858852, tolerance: 0.41700006883845275\n",
      "  model = cd_fast.enet_coordinate_descent_gram(\n",
      "C:\\Users\\iftek\\AppData\\Local\\Programs\\Python\\Python310\\lib\\site-packages\\sklearn\\linear_model\\_coordinate_descent.py:617: ConvergenceWarning: Objective did not converge. You might want to increase the number of iterations. Duality gap: 206.20361606043116, tolerance: 0.41700006883845275\n",
      "  model = cd_fast.enet_coordinate_descent_gram(\n",
      "C:\\Users\\iftek\\AppData\\Local\\Programs\\Python\\Python310\\lib\\site-packages\\sklearn\\linear_model\\_coordinate_descent.py:617: ConvergenceWarning: Objective did not converge. You might want to increase the number of iterations. Duality gap: 218.26985879836684, tolerance: 0.41700006883845275\n",
      "  model = cd_fast.enet_coordinate_descent_gram(\n",
      "C:\\Users\\iftek\\AppData\\Local\\Programs\\Python\\Python310\\lib\\site-packages\\sklearn\\linear_model\\_coordinate_descent.py:617: ConvergenceWarning: Objective did not converge. You might want to increase the number of iterations. Duality gap: 227.96087192872756, tolerance: 0.41700006883845275\n",
      "  model = cd_fast.enet_coordinate_descent_gram(\n",
      "C:\\Users\\iftek\\AppData\\Local\\Programs\\Python\\Python310\\lib\\site-packages\\sklearn\\linear_model\\_coordinate_descent.py:617: ConvergenceWarning: Objective did not converge. You might want to increase the number of iterations. Duality gap: 230.77587430943413, tolerance: 0.41700006883845275\n",
      "  model = cd_fast.enet_coordinate_descent_gram(\n",
      "C:\\Users\\iftek\\AppData\\Local\\Programs\\Python\\Python310\\lib\\site-packages\\sklearn\\linear_model\\_coordinate_descent.py:617: ConvergenceWarning: Objective did not converge. You might want to increase the number of iterations. Duality gap: 228.49992553904667, tolerance: 0.41700006883845275\n",
      "  model = cd_fast.enet_coordinate_descent_gram(\n",
      "C:\\Users\\iftek\\AppData\\Local\\Programs\\Python\\Python310\\lib\\site-packages\\sklearn\\linear_model\\_coordinate_descent.py:617: ConvergenceWarning: Objective did not converge. You might want to increase the number of iterations. Duality gap: 228.58360584212278, tolerance: 0.41700006883845275\n",
      "  model = cd_fast.enet_coordinate_descent_gram(\n",
      "C:\\Users\\iftek\\AppData\\Local\\Programs\\Python\\Python310\\lib\\site-packages\\sklearn\\linear_model\\_coordinate_descent.py:617: ConvergenceWarning: Objective did not converge. You might want to increase the number of iterations. Duality gap: 232.79354068586872, tolerance: 0.41700006883845275\n",
      "  model = cd_fast.enet_coordinate_descent_gram(\n",
      "C:\\Users\\iftek\\AppData\\Local\\Programs\\Python\\Python310\\lib\\site-packages\\sklearn\\linear_model\\_coordinate_descent.py:617: ConvergenceWarning: Objective did not converge. You might want to increase the number of iterations. Duality gap: 241.57525900727023, tolerance: 0.41700006883845275\n",
      "  model = cd_fast.enet_coordinate_descent_gram(\n",
      "C:\\Users\\iftek\\AppData\\Local\\Programs\\Python\\Python310\\lib\\site-packages\\sklearn\\linear_model\\_coordinate_descent.py:617: ConvergenceWarning: Objective did not converge. You might want to increase the number of iterations. Duality gap: 257.5967612643449, tolerance: 0.41700006883845275\n",
      "  model = cd_fast.enet_coordinate_descent_gram(\n",
      "C:\\Users\\iftek\\AppData\\Local\\Programs\\Python\\Python310\\lib\\site-packages\\sklearn\\linear_model\\_coordinate_descent.py:617: ConvergenceWarning: Objective did not converge. You might want to increase the number of iterations. Duality gap: 263.638848825854, tolerance: 0.41700006883845275\n",
      "  model = cd_fast.enet_coordinate_descent_gram(\n",
      "C:\\Users\\iftek\\AppData\\Local\\Programs\\Python\\Python310\\lib\\site-packages\\sklearn\\linear_model\\_coordinate_descent.py:617: ConvergenceWarning: Objective did not converge. You might want to increase the number of iterations. Duality gap: 270.2218672787785, tolerance: 0.41700006883845275\n",
      "  model = cd_fast.enet_coordinate_descent_gram(\n",
      "C:\\Users\\iftek\\AppData\\Local\\Programs\\Python\\Python310\\lib\\site-packages\\sklearn\\linear_model\\_coordinate_descent.py:617: ConvergenceWarning: Objective did not converge. You might want to increase the number of iterations. Duality gap: 276.8029983300585, tolerance: 0.41700006883845275\n",
      "  model = cd_fast.enet_coordinate_descent_gram(\n",
      "C:\\Users\\iftek\\AppData\\Local\\Programs\\Python\\Python310\\lib\\site-packages\\sklearn\\linear_model\\_coordinate_descent.py:617: ConvergenceWarning: Objective did not converge. You might want to increase the number of iterations. Duality gap: 282.60643162198267, tolerance: 0.41700006883845275\n",
      "  model = cd_fast.enet_coordinate_descent_gram(\n",
      "C:\\Users\\iftek\\AppData\\Local\\Programs\\Python\\Python310\\lib\\site-packages\\sklearn\\linear_model\\_coordinate_descent.py:617: ConvergenceWarning: Objective did not converge. You might want to increase the number of iterations. Duality gap: 287.53430418203243, tolerance: 0.41700006883845275\n",
      "  model = cd_fast.enet_coordinate_descent_gram(\n",
      "C:\\Users\\iftek\\AppData\\Local\\Programs\\Python\\Python310\\lib\\site-packages\\sklearn\\linear_model\\_coordinate_descent.py:617: ConvergenceWarning: Objective did not converge. You might want to increase the number of iterations. Duality gap: 292.2874581239812, tolerance: 0.41700006883845275\n",
      "  model = cd_fast.enet_coordinate_descent_gram(\n",
      "C:\\Users\\iftek\\AppData\\Local\\Programs\\Python\\Python310\\lib\\site-packages\\sklearn\\linear_model\\_coordinate_descent.py:617: ConvergenceWarning: Objective did not converge. You might want to increase the number of iterations. Duality gap: 295.7691651999239, tolerance: 0.41700006883845275\n",
      "  model = cd_fast.enet_coordinate_descent_gram(\n",
      "C:\\Users\\iftek\\AppData\\Local\\Programs\\Python\\Python310\\lib\\site-packages\\sklearn\\linear_model\\_coordinate_descent.py:617: ConvergenceWarning: Objective did not converge. You might want to increase the number of iterations. Duality gap: 298.57395913963364, tolerance: 0.41700006883845275\n",
      "  model = cd_fast.enet_coordinate_descent_gram(\n",
      "C:\\Users\\iftek\\AppData\\Local\\Programs\\Python\\Python310\\lib\\site-packages\\sklearn\\linear_model\\_coordinate_descent.py:617: ConvergenceWarning: Objective did not converge. You might want to increase the number of iterations. Duality gap: 300.79796132773754, tolerance: 0.41700006883845275\n",
      "  model = cd_fast.enet_coordinate_descent_gram(\n",
      "C:\\Users\\iftek\\AppData\\Local\\Programs\\Python\\Python310\\lib\\site-packages\\sklearn\\linear_model\\_coordinate_descent.py:617: ConvergenceWarning: Objective did not converge. You might want to increase the number of iterations. Duality gap: 304.7795280817254, tolerance: 0.41700006883845275\n",
      "  model = cd_fast.enet_coordinate_descent_gram(\n",
      "C:\\Users\\iftek\\AppData\\Local\\Programs\\Python\\Python310\\lib\\site-packages\\sklearn\\linear_model\\_coordinate_descent.py:617: ConvergenceWarning: Objective did not converge. You might want to increase the number of iterations. Duality gap: 310.58399809106913, tolerance: 0.41700006883845275\n",
      "  model = cd_fast.enet_coordinate_descent_gram(\n",
      "C:\\Users\\iftek\\AppData\\Local\\Programs\\Python\\Python310\\lib\\site-packages\\sklearn\\linear_model\\_coordinate_descent.py:617: ConvergenceWarning: Objective did not converge. You might want to increase the number of iterations. Duality gap: 317.02589136306824, tolerance: 0.41700006883845275\n",
      "  model = cd_fast.enet_coordinate_descent_gram(\n",
      "C:\\Users\\iftek\\AppData\\Local\\Programs\\Python\\Python310\\lib\\site-packages\\sklearn\\linear_model\\_coordinate_descent.py:617: ConvergenceWarning: Objective did not converge. You might want to increase the number of iterations. Duality gap: 324.57851508573094, tolerance: 0.41700006883845275\n",
      "  model = cd_fast.enet_coordinate_descent_gram(\n",
      "C:\\Users\\iftek\\AppData\\Local\\Programs\\Python\\Python310\\lib\\site-packages\\sklearn\\linear_model\\_coordinate_descent.py:617: ConvergenceWarning: Objective did not converge. You might want to increase the number of iterations. Duality gap: 333.563601113573, tolerance: 0.41700006883845275\n",
      "  model = cd_fast.enet_coordinate_descent_gram(\n",
      "C:\\Users\\iftek\\AppData\\Local\\Programs\\Python\\Python310\\lib\\site-packages\\sklearn\\linear_model\\_coordinate_descent.py:617: ConvergenceWarning: Objective did not converge. You might want to increase the number of iterations. Duality gap: 342.9851199148761, tolerance: 0.41700006883845275\n",
      "  model = cd_fast.enet_coordinate_descent_gram(\n",
      "C:\\Users\\iftek\\AppData\\Local\\Programs\\Python\\Python310\\lib\\site-packages\\sklearn\\linear_model\\_coordinate_descent.py:617: ConvergenceWarning: Objective did not converge. You might want to increase the number of iterations. Duality gap: 356.6937749152951, tolerance: 0.41700006883845275\n",
      "  model = cd_fast.enet_coordinate_descent_gram(\n",
      "C:\\Users\\iftek\\AppData\\Local\\Programs\\Python\\Python310\\lib\\site-packages\\sklearn\\linear_model\\_coordinate_descent.py:617: ConvergenceWarning: Objective did not converge. You might want to increase the number of iterations. Duality gap: 374.47323602745337, tolerance: 0.41700006883845275\n",
      "  model = cd_fast.enet_coordinate_descent_gram(\n",
      "C:\\Users\\iftek\\AppData\\Local\\Programs\\Python\\Python310\\lib\\site-packages\\sklearn\\linear_model\\_coordinate_descent.py:617: ConvergenceWarning: Objective did not converge. You might want to increase the number of iterations. Duality gap: 390.0889496048403, tolerance: 0.41700006883845275\n",
      "  model = cd_fast.enet_coordinate_descent_gram(\n",
      "C:\\Users\\iftek\\AppData\\Local\\Programs\\Python\\Python310\\lib\\site-packages\\sklearn\\linear_model\\_coordinate_descent.py:617: ConvergenceWarning: Objective did not converge. You might want to increase the number of iterations. Duality gap: 403.2073543673009, tolerance: 0.41700006883845275\n",
      "  model = cd_fast.enet_coordinate_descent_gram(\n",
      "C:\\Users\\iftek\\AppData\\Local\\Programs\\Python\\Python310\\lib\\site-packages\\sklearn\\linear_model\\_coordinate_descent.py:617: ConvergenceWarning: Objective did not converge. You might want to increase the number of iterations. Duality gap: 412.3332653752266, tolerance: 0.41700006883845275\n",
      "  model = cd_fast.enet_coordinate_descent_gram(\n",
      "C:\\Users\\iftek\\AppData\\Local\\Programs\\Python\\Python310\\lib\\site-packages\\sklearn\\linear_model\\_coordinate_descent.py:617: ConvergenceWarning: Objective did not converge. You might want to increase the number of iterations. Duality gap: 422.16614744177036, tolerance: 0.41700006883845275\n",
      "  model = cd_fast.enet_coordinate_descent_gram(\n"
     ]
    },
    {
     "name": "stderr",
     "output_type": "stream",
     "text": [
      "C:\\Users\\iftek\\AppData\\Local\\Programs\\Python\\Python310\\lib\\site-packages\\sklearn\\linear_model\\_coordinate_descent.py:617: ConvergenceWarning: Objective did not converge. You might want to increase the number of iterations. Duality gap: 10.806719694821368, tolerance: 0.41079178611920847\n",
      "  model = cd_fast.enet_coordinate_descent_gram(\n",
      "C:\\Users\\iftek\\AppData\\Local\\Programs\\Python\\Python310\\lib\\site-packages\\sklearn\\linear_model\\_coordinate_descent.py:617: ConvergenceWarning: Objective did not converge. You might want to increase the number of iterations. Duality gap: 49.384057067680715, tolerance: 0.41079178611920847\n",
      "  model = cd_fast.enet_coordinate_descent_gram(\n",
      "C:\\Users\\iftek\\AppData\\Local\\Programs\\Python\\Python310\\lib\\site-packages\\sklearn\\linear_model\\_coordinate_descent.py:617: ConvergenceWarning: Objective did not converge. You might want to increase the number of iterations. Duality gap: 96.00359451331042, tolerance: 0.41079178611920847\n",
      "  model = cd_fast.enet_coordinate_descent_gram(\n",
      "C:\\Users\\iftek\\AppData\\Local\\Programs\\Python\\Python310\\lib\\site-packages\\sklearn\\linear_model\\_coordinate_descent.py:617: ConvergenceWarning: Objective did not converge. You might want to increase the number of iterations. Duality gap: 141.90129723609016, tolerance: 0.41079178611920847\n",
      "  model = cd_fast.enet_coordinate_descent_gram(\n",
      "C:\\Users\\iftek\\AppData\\Local\\Programs\\Python\\Python310\\lib\\site-packages\\sklearn\\linear_model\\_coordinate_descent.py:617: ConvergenceWarning: Objective did not converge. You might want to increase the number of iterations. Duality gap: 183.904011107094, tolerance: 0.41079178611920847\n",
      "  model = cd_fast.enet_coordinate_descent_gram(\n",
      "C:\\Users\\iftek\\AppData\\Local\\Programs\\Python\\Python310\\lib\\site-packages\\sklearn\\linear_model\\_coordinate_descent.py:617: ConvergenceWarning: Objective did not converge. You might want to increase the number of iterations. Duality gap: 226.18401545688812, tolerance: 0.41079178611920847\n",
      "  model = cd_fast.enet_coordinate_descent_gram(\n",
      "C:\\Users\\iftek\\AppData\\Local\\Programs\\Python\\Python310\\lib\\site-packages\\sklearn\\linear_model\\_coordinate_descent.py:617: ConvergenceWarning: Objective did not converge. You might want to increase the number of iterations. Duality gap: 245.44848157976048, tolerance: 0.41079178611920847\n",
      "  model = cd_fast.enet_coordinate_descent_gram(\n",
      "C:\\Users\\iftek\\AppData\\Local\\Programs\\Python\\Python310\\lib\\site-packages\\sklearn\\linear_model\\_coordinate_descent.py:617: ConvergenceWarning: Objective did not converge. You might want to increase the number of iterations. Duality gap: 250.07290915855674, tolerance: 0.41079178611920847\n",
      "  model = cd_fast.enet_coordinate_descent_gram(\n",
      "C:\\Users\\iftek\\AppData\\Local\\Programs\\Python\\Python310\\lib\\site-packages\\sklearn\\linear_model\\_coordinate_descent.py:617: ConvergenceWarning: Objective did not converge. You might want to increase the number of iterations. Duality gap: 252.39600791740804, tolerance: 0.41079178611920847\n",
      "  model = cd_fast.enet_coordinate_descent_gram(\n",
      "C:\\Users\\iftek\\AppData\\Local\\Programs\\Python\\Python310\\lib\\site-packages\\sklearn\\linear_model\\_coordinate_descent.py:617: ConvergenceWarning: Objective did not converge. You might want to increase the number of iterations. Duality gap: 261.30270330833673, tolerance: 0.41079178611920847\n",
      "  model = cd_fast.enet_coordinate_descent_gram(\n",
      "C:\\Users\\iftek\\AppData\\Local\\Programs\\Python\\Python310\\lib\\site-packages\\sklearn\\linear_model\\_coordinate_descent.py:617: ConvergenceWarning: Objective did not converge. You might want to increase the number of iterations. Duality gap: 275.10506602928217, tolerance: 0.41079178611920847\n",
      "  model = cd_fast.enet_coordinate_descent_gram(\n",
      "C:\\Users\\iftek\\AppData\\Local\\Programs\\Python\\Python310\\lib\\site-packages\\sklearn\\linear_model\\_coordinate_descent.py:617: ConvergenceWarning: Objective did not converge. You might want to increase the number of iterations. Duality gap: 292.12176485814143, tolerance: 0.41079178611920847\n",
      "  model = cd_fast.enet_coordinate_descent_gram(\n",
      "C:\\Users\\iftek\\AppData\\Local\\Programs\\Python\\Python310\\lib\\site-packages\\sklearn\\linear_model\\_coordinate_descent.py:617: ConvergenceWarning: Objective did not converge. You might want to increase the number of iterations. Duality gap: 311.3751509599424, tolerance: 0.41079178611920847\n",
      "  model = cd_fast.enet_coordinate_descent_gram(\n",
      "C:\\Users\\iftek\\AppData\\Local\\Programs\\Python\\Python310\\lib\\site-packages\\sklearn\\linear_model\\_coordinate_descent.py:617: ConvergenceWarning: Objective did not converge. You might want to increase the number of iterations. Duality gap: 334.4970378288858, tolerance: 0.41079178611920847\n",
      "  model = cd_fast.enet_coordinate_descent_gram(\n",
      "C:\\Users\\iftek\\AppData\\Local\\Programs\\Python\\Python310\\lib\\site-packages\\sklearn\\linear_model\\_coordinate_descent.py:617: ConvergenceWarning: Objective did not converge. You might want to increase the number of iterations. Duality gap: 334.39386609344274, tolerance: 0.41079178611920847\n",
      "  model = cd_fast.enet_coordinate_descent_gram(\n",
      "C:\\Users\\iftek\\AppData\\Local\\Programs\\Python\\Python310\\lib\\site-packages\\sklearn\\linear_model\\_coordinate_descent.py:617: ConvergenceWarning: Objective did not converge. You might want to increase the number of iterations. Duality gap: 342.6152651616121, tolerance: 0.41079178611920847\n",
      "  model = cd_fast.enet_coordinate_descent_gram(\n",
      "C:\\Users\\iftek\\AppData\\Local\\Programs\\Python\\Python310\\lib\\site-packages\\sklearn\\linear_model\\_coordinate_descent.py:617: ConvergenceWarning: Objective did not converge. You might want to increase the number of iterations. Duality gap: 354.05817155617615, tolerance: 0.41079178611920847\n",
      "  model = cd_fast.enet_coordinate_descent_gram(\n",
      "C:\\Users\\iftek\\AppData\\Local\\Programs\\Python\\Python310\\lib\\site-packages\\sklearn\\linear_model\\_coordinate_descent.py:617: ConvergenceWarning: Objective did not converge. You might want to increase the number of iterations. Duality gap: 367.7199194337163, tolerance: 0.41079178611920847\n",
      "  model = cd_fast.enet_coordinate_descent_gram(\n",
      "C:\\Users\\iftek\\AppData\\Local\\Programs\\Python\\Python310\\lib\\site-packages\\sklearn\\linear_model\\_coordinate_descent.py:617: ConvergenceWarning: Objective did not converge. You might want to increase the number of iterations. Duality gap: 382.64720419691685, tolerance: 0.41079178611920847\n",
      "  model = cd_fast.enet_coordinate_descent_gram(\n",
      "C:\\Users\\iftek\\AppData\\Local\\Programs\\Python\\Python310\\lib\\site-packages\\sklearn\\linear_model\\_coordinate_descent.py:617: ConvergenceWarning: Objective did not converge. You might want to increase the number of iterations. Duality gap: 397.8097014472403, tolerance: 0.41079178611920847\n",
      "  model = cd_fast.enet_coordinate_descent_gram(\n",
      "C:\\Users\\iftek\\AppData\\Local\\Programs\\Python\\Python310\\lib\\site-packages\\sklearn\\linear_model\\_coordinate_descent.py:617: ConvergenceWarning: Objective did not converge. You might want to increase the number of iterations. Duality gap: 415.1710710726875, tolerance: 0.41079178611920847\n",
      "  model = cd_fast.enet_coordinate_descent_gram(\n",
      "C:\\Users\\iftek\\AppData\\Local\\Programs\\Python\\Python310\\lib\\site-packages\\sklearn\\linear_model\\_coordinate_descent.py:617: ConvergenceWarning: Objective did not converge. You might want to increase the number of iterations. Duality gap: 433.23110368251287, tolerance: 0.41079178611920847\n",
      "  model = cd_fast.enet_coordinate_descent_gram(\n",
      "C:\\Users\\iftek\\AppData\\Local\\Programs\\Python\\Python310\\lib\\site-packages\\sklearn\\linear_model\\_coordinate_descent.py:617: ConvergenceWarning: Objective did not converge. You might want to increase the number of iterations. Duality gap: 441.9905500240802, tolerance: 0.41079178611920847\n",
      "  model = cd_fast.enet_coordinate_descent_gram(\n",
      "C:\\Users\\iftek\\AppData\\Local\\Programs\\Python\\Python310\\lib\\site-packages\\sklearn\\linear_model\\_coordinate_descent.py:617: ConvergenceWarning: Objective did not converge. You might want to increase the number of iterations. Duality gap: 451.7820258498789, tolerance: 0.41079178611920847\n",
      "  model = cd_fast.enet_coordinate_descent_gram(\n",
      "C:\\Users\\iftek\\AppData\\Local\\Programs\\Python\\Python310\\lib\\site-packages\\sklearn\\linear_model\\_coordinate_descent.py:617: ConvergenceWarning: Objective did not converge. You might want to increase the number of iterations. Duality gap: 461.53192986813247, tolerance: 0.41079178611920847\n",
      "  model = cd_fast.enet_coordinate_descent_gram(\n",
      "C:\\Users\\iftek\\AppData\\Local\\Programs\\Python\\Python310\\lib\\site-packages\\sklearn\\linear_model\\_coordinate_descent.py:617: ConvergenceWarning: Objective did not converge. You might want to increase the number of iterations. Duality gap: 470.1682913385116, tolerance: 0.41079178611920847\n",
      "  model = cd_fast.enet_coordinate_descent_gram(\n",
      "C:\\Users\\iftek\\AppData\\Local\\Programs\\Python\\Python310\\lib\\site-packages\\sklearn\\linear_model\\_coordinate_descent.py:617: ConvergenceWarning: Objective did not converge. You might want to increase the number of iterations. Duality gap: 475.8039594384702, tolerance: 0.41079178611920847\n",
      "  model = cd_fast.enet_coordinate_descent_gram(\n",
      "C:\\Users\\iftek\\AppData\\Local\\Programs\\Python\\Python310\\lib\\site-packages\\sklearn\\linear_model\\_coordinate_descent.py:617: ConvergenceWarning: Objective did not converge. You might want to increase the number of iterations. Duality gap: 480.00547388311566, tolerance: 0.41079178611920847\n",
      "  model = cd_fast.enet_coordinate_descent_gram(\n",
      "C:\\Users\\iftek\\AppData\\Local\\Programs\\Python\\Python310\\lib\\site-packages\\sklearn\\linear_model\\_coordinate_descent.py:617: ConvergenceWarning: Objective did not converge. You might want to increase the number of iterations. Duality gap: 484.3480528626376, tolerance: 0.41079178611920847\n",
      "  model = cd_fast.enet_coordinate_descent_gram(\n",
      "C:\\Users\\iftek\\AppData\\Local\\Programs\\Python\\Python310\\lib\\site-packages\\sklearn\\linear_model\\_coordinate_descent.py:617: ConvergenceWarning: Objective did not converge. You might want to increase the number of iterations. Duality gap: 488.33069474951117, tolerance: 0.41079178611920847\n",
      "  model = cd_fast.enet_coordinate_descent_gram(\n",
      "C:\\Users\\iftek\\AppData\\Local\\Programs\\Python\\Python310\\lib\\site-packages\\sklearn\\linear_model\\_coordinate_descent.py:617: ConvergenceWarning: Objective did not converge. You might want to increase the number of iterations. Duality gap: 491.71197412306446, tolerance: 0.41079178611920847\n",
      "  model = cd_fast.enet_coordinate_descent_gram(\n",
      "C:\\Users\\iftek\\AppData\\Local\\Programs\\Python\\Python310\\lib\\site-packages\\sklearn\\linear_model\\_coordinate_descent.py:617: ConvergenceWarning: Objective did not converge. You might want to increase the number of iterations. Duality gap: 494.6372114615622, tolerance: 0.41079178611920847\n",
      "  model = cd_fast.enet_coordinate_descent_gram(\n",
      "C:\\Users\\iftek\\AppData\\Local\\Programs\\Python\\Python310\\lib\\site-packages\\sklearn\\linear_model\\_coordinate_descent.py:617: ConvergenceWarning: Objective did not converge. You might want to increase the number of iterations. Duality gap: 496.55041299750906, tolerance: 0.41079178611920847\n",
      "  model = cd_fast.enet_coordinate_descent_gram(\n",
      "C:\\Users\\iftek\\AppData\\Local\\Programs\\Python\\Python310\\lib\\site-packages\\sklearn\\linear_model\\_coordinate_descent.py:617: ConvergenceWarning: Objective did not converge. You might want to increase the number of iterations. Duality gap: 494.03211408286825, tolerance: 0.41079178611920847\n",
      "  model = cd_fast.enet_coordinate_descent_gram(\n",
      "C:\\Users\\iftek\\AppData\\Local\\Programs\\Python\\Python310\\lib\\site-packages\\sklearn\\linear_model\\_coordinate_descent.py:617: ConvergenceWarning: Objective did not converge. You might want to increase the number of iterations. Duality gap: 492.7237949573887, tolerance: 0.41079178611920847\n",
      "  model = cd_fast.enet_coordinate_descent_gram(\n",
      "C:\\Users\\iftek\\AppData\\Local\\Programs\\Python\\Python310\\lib\\site-packages\\sklearn\\linear_model\\_coordinate_descent.py:617: ConvergenceWarning: Objective did not converge. You might want to increase the number of iterations. Duality gap: 495.06772639423684, tolerance: 0.41079178611920847\n",
      "  model = cd_fast.enet_coordinate_descent_gram(\n",
      "C:\\Users\\iftek\\AppData\\Local\\Programs\\Python\\Python310\\lib\\site-packages\\sklearn\\linear_model\\_coordinate_descent.py:617: ConvergenceWarning: Objective did not converge. You might want to increase the number of iterations. Duality gap: 500.83101758562, tolerance: 0.41079178611920847\n",
      "  model = cd_fast.enet_coordinate_descent_gram(\n",
      "C:\\Users\\iftek\\AppData\\Local\\Programs\\Python\\Python310\\lib\\site-packages\\sklearn\\linear_model\\_coordinate_descent.py:617: ConvergenceWarning: Objective did not converge. You might want to increase the number of iterations. Duality gap: 507.2135343177606, tolerance: 0.41079178611920847\n",
      "  model = cd_fast.enet_coordinate_descent_gram(\n",
      "C:\\Users\\iftek\\AppData\\Local\\Programs\\Python\\Python310\\lib\\site-packages\\sklearn\\linear_model\\_coordinate_descent.py:617: ConvergenceWarning: Objective did not converge. You might want to increase the number of iterations. Duality gap: 516.6223767285726, tolerance: 0.41079178611920847\n",
      "  model = cd_fast.enet_coordinate_descent_gram(\n",
      "C:\\Users\\iftek\\AppData\\Local\\Programs\\Python\\Python310\\lib\\site-packages\\sklearn\\linear_model\\_coordinate_descent.py:617: ConvergenceWarning: Objective did not converge. You might want to increase the number of iterations. Duality gap: 526.2400281121616, tolerance: 0.41079178611920847\n",
      "  model = cd_fast.enet_coordinate_descent_gram(\n"
     ]
    },
    {
     "name": "stdout",
     "output_type": "stream",
     "text": [
      "Features selected by Lasso: ['High', 'Low', 'Close', 'Volume', 'Moving_Avg', 'Upper_Band', 'SMA_100', 'SMA_200', 'RSI_14', 'Stochastic_K', 'Stochastic_D', 'MACD_Signal', 'MACD_Hist', 'ATR', 'Plus_DI', 'Minus_DI', 'ADX', 'CCI', 'ROC', 'OBV', 'Force_Index', 'ADL', 'MFI', 'ASI', 'Chaikin_Oscillator', 'RS', 'Donchian_Upper', 'Donchian_Lower', 'Kijun_Sen', 'Senkou_Span_A', 'Senkou_Span_B', 'Fib_100', 'Fib_50', 'Double_Top', 'Double_Bottom', 'LR_Center', 'LR_Upper', 'SAR', 'VWAP_Upper', 'VWAP_Lower', 'Adaptive_Upper', 'Adaptive_Lower']\n",
      "Feature indices for common features: [1, 2, 3, 4, 5, 6, 11, 13, 15, 16, 17, 19, 20, 21, 22, 23, 24, 25, 28, 29, 30, 31, 32, 33, 34, 35, 38, 39, 40, 41, 42, 43, 44, 45, 46, 47, 48, 50, 52, 53, 54, 55]\n"
     ]
    },
    {
     "name": "stderr",
     "output_type": "stream",
     "text": [
      "C:\\Users\\iftek\\AppData\\Local\\Programs\\Python\\Python310\\lib\\site-packages\\sklearn\\linear_model\\_coordinate_descent.py:631: ConvergenceWarning: Objective did not converge. You might want to increase the number of iterations, check the scale of the features or consider increasing regularisation. Duality gap: 2.041e+03, tolerance: 5.097e-01\n",
      "  model = cd_fast.enet_coordinate_descent(\n"
     ]
    }
   ],
   "source": [
    "# file_name = 'merged_data.csv'\n",
    "file_name = '0_61938.csv'\n",
    "data_dir = 'ohlc_data'\n",
    "data_path = os.path.join(os.getcwd(), data_dir, file_name)\n",
    "\n",
    "data = pd.read_csv(data_path, index_col=0)\n",
    "data.reset_index(drop=True, inplace=True)\n",
    "\n",
    "\n",
    "features_df = feature_generate(data)\n",
    "\n",
    "features_df_nonan = features_df.dropna().reset_index().drop(columns=['index'])\n",
    "\n",
    "features_df_nonan['Signal'].value_counts()\n",
    "\n",
    "selected_features_, feat_idx_ = features_selection(features_df_nonan)"
   ]
  },
  {
   "cell_type": "code",
   "execution_count": 4,
   "id": "2d121d0d",
   "metadata": {},
   "outputs": [
    {
     "data": {
      "text/plain": [
       "Index(['High', 'Low', 'Close', 'Volume', 'Time', 'Date', 'SMA_5', 'SMA_10',\n",
       "       'SMA_20', 'EMA_20', 'SMA_50', 'SMA_100', 'EMA_100', 'SMA_200',\n",
       "       'EMA_200', 'RSI_14', 'Stochastic_K', 'Stochastic_D', 'MACD_Signal',\n",
       "       'MACD_Hist', 'ATR', 'Plus_DI', 'Minus_DI', 'ADX', 'CCI',\n",
       "       'Bollinger_Mid', 'ROC', 'OBV', 'Force_Index', 'ADL', 'MFI', 'ASI',\n",
       "       'Chaikin_Oscillator', 'RS', 'Keltner_Mid', 'Keltner_Upper',\n",
       "       'Keltner_Lower', 'Donchian_Lower', 'Kijun_Sen', 'Senkou_Span_A',\n",
       "       'Senkou_Span_B', 'Fib_0'],\n",
       "      dtype='object')"
      ]
     },
     "execution_count": 4,
     "metadata": {},
     "output_type": "execute_result"
    }
   ],
   "source": [
    "features_df_nonan.iloc[:, feat_idx_].columns"
   ]
  },
  {
   "cell_type": "code",
   "execution_count": 6,
   "id": "732943d5",
   "metadata": {},
   "outputs": [
    {
     "name": "stdout",
     "output_type": "stream",
     "text": [
      "train_split = 0.8\n",
      "Shape of x, y train/cv/test: (114547, 42) (114547,) (28637, 42) (28637,) (12348, 42) (12348,)\n",
      "Unique class labels before encoding: [0 1 2]\n",
      "Class Label: 0 -> One-Hot Encoding: [1. 0. 0.]\n",
      "Class Label: 1 -> One-Hot Encoding: [0. 1. 0.]\n",
      "Class Label: 2 -> One-Hot Encoding: [0. 0. 1.]\n",
      "Epoch 1/10\n",
      "3580/3580 [==============================] - 21s 6ms/step - loss: 0.0274 - accuracy: 0.9901 - val_loss: 7.1583e-05 - val_accuracy: 1.0000\n",
      "Epoch 2/10\n",
      "3580/3580 [==============================] - 20s 6ms/step - loss: 0.0013 - accuracy: 0.9996 - val_loss: 8.7839e-05 - val_accuracy: 0.9999\n",
      "Epoch 3/10\n",
      "3580/3580 [==============================] - 21s 6ms/step - loss: 7.7891e-04 - accuracy: 0.9998 - val_loss: 8.2048e-09 - val_accuracy: 1.0000\n",
      "Epoch 4/10\n",
      "3580/3580 [==============================] - 21s 6ms/step - loss: 2.5290e-04 - accuracy: 0.9999 - val_loss: 1.5819e-10 - val_accuracy: 1.0000\n",
      "Epoch 5/10\n",
      "3580/3580 [==============================] - 21s 6ms/step - loss: 4.2731e-04 - accuracy: 0.9999 - val_loss: 1.7262e-06 - val_accuracy: 1.0000\n",
      "Epoch 6/10\n",
      "3580/3580 [==============================] - 21s 6ms/step - loss: 5.5793e-04 - accuracy: 0.9999 - val_loss: 0.0000e+00 - val_accuracy: 1.0000\n",
      "Epoch 7/10\n",
      "3580/3580 [==============================] - 21s 6ms/step - loss: 2.4829e-04 - accuracy: 0.9999 - val_loss: 4.1628e-12 - val_accuracy: 1.0000\n",
      "Epoch 8/10\n",
      "3580/3580 [==============================] - 21s 6ms/step - loss: 9.7077e-05 - accuracy: 1.0000 - val_loss: 4.1628e-11 - val_accuracy: 1.0000\n",
      "Epoch 9/10\n",
      "3580/3580 [==============================] - 20s 6ms/step - loss: 6.5515e-04 - accuracy: 0.9999 - val_loss: 8.9916e-10 - val_accuracy: 1.0000\n",
      "Epoch 10/10\n",
      "3580/3580 [==============================] - 20s 6ms/step - loss: 1.6949e-04 - accuracy: 1.0000 - val_loss: 6.0399e-09 - val_accuracy: 1.0000\n",
      "386/386 [==============================] - 1s 2ms/step - loss: 0.0033 - accuracy: 0.9997\n",
      "Test Loss: 0.0033\n",
      "Test Accuracy: 0.9997\n"
     ]
    },
    {
     "name": "stderr",
     "output_type": "stream",
     "text": [
      "WARNING:absl:Found untraced functions such as _jit_compiled_convolution_op, _jit_compiled_convolution_op, _update_step_xla while saving (showing 3 of 3). These functions will not be directly callable after loading.\n"
     ]
    },
    {
     "name": "stdout",
     "output_type": "stream",
     "text": [
      "INFO:tensorflow:Assets written to: D:\\git_repos\\Make_Money_with_Tensorflow_2.0\\forexPredictor\\ohlc_data\\model.hd5\\assets\n"
     ]
    },
    {
     "name": "stderr",
     "output_type": "stream",
     "text": [
      "INFO:tensorflow:Assets written to: D:\\git_repos\\Make_Money_with_Tensorflow_2.0\\forexPredictor\\ohlc_data\\model.hd5\\assets\n"
     ]
    }
   ],
   "source": [
    "if 'Date' in features_df_nonan.iloc[:, feat_idx_].columns:\n",
    "    features_df_nonan = features_df_nonan.drop(columns=['Date'])\n",
    "elif 'Time' in features_df_nonan.iloc[:, feat_idx_].columns:\n",
    "    features_df_nonan = features_df_nonan.drop(columns=['Time'])\n",
    "\n",
    "features_df_nonan = features_df_nonan.select_dtypes(exclude=['object'])\n",
    "\n",
    "epoch = 10\n",
    "\n",
    "model_name = os.path.join(os.getcwd(), data_dir)\n",
    "xTest, yTest_onehot, history_, model_path = prepare_train_model(\n",
    "    features_df_nonan.iloc[:, feat_idx_], \n",
    "    features_df_nonan['Signal'],\n",
    "    epoch,\n",
    "    model_name)\n",
    "\n"
   ]
  },
  {
   "cell_type": "code",
   "execution_count": 20,
   "id": "780d7555",
   "metadata": {},
   "outputs": [
    {
     "data": {
      "text/plain": [
       "42"
      ]
     },
     "execution_count": 20,
     "metadata": {},
     "output_type": "execute_result"
    }
   ],
   "source": [
    "len(feat_idx_)"
   ]
  },
  {
   "cell_type": "code",
   "execution_count": 15,
   "id": "1ab8a27f",
   "metadata": {},
   "outputs": [
    {
     "data": {
      "text/plain": [
       "(12348, 42, 1)"
      ]
     },
     "execution_count": 15,
     "metadata": {},
     "output_type": "execute_result"
    }
   ],
   "source": [
    "xTest.shape"
   ]
  },
  {
   "cell_type": "code",
   "execution_count": 14,
   "id": "decc3d0c",
   "metadata": {},
   "outputs": [
    {
     "data": {
      "text/plain": [
       "'D:\\\\git_repos\\\\Make_Money_with_Tensorflow_2.0\\\\forexPredictor\\\\ohlc_data'"
      ]
     },
     "execution_count": 14,
     "metadata": {},
     "output_type": "execute_result"
    }
   ],
   "source": [
    "model_path"
   ]
  },
  {
   "cell_type": "code",
   "execution_count": 9,
   "id": "2b342e42",
   "metadata": {},
   "outputs": [
    {
     "name": "stdout",
     "output_type": "stream",
     "text": [
      "386/386 [==============================] - 1s 2ms/step\n",
      "Predicted one hot: [0 0 0 0 0 0 0 0 0 0 0 0 0 0 0 0 0 0 0 0 0 0 0 0 0 0 0 0 0 0 0 0 0 0 0 0 0\n",
      " 2 0 0 0 0 0 0 0 0 0 0 0 0]\n",
      "Actual one hot: [0 0 0 0 0 0 0 0 0 0 0 0 0 0 0 0 0 0 0 0 0 0 0 0 0 0 0 0 0 0 0 0 0 0 0 0 0\n",
      " 2 0 0 0 0 0 0 0 0 0 0 0 0]\n",
      "[[11932     0     0]\n",
      " [    0   204     0]\n",
      " [    0     4   208]]\n",
      "              precision    recall  f1-score   support\n",
      "\n",
      "           0       1.00      1.00      1.00     11932\n",
      "           1       0.98      1.00      0.99       204\n",
      "           2       1.00      0.98      0.99       212\n",
      "\n",
      "    accuracy                           1.00     12348\n",
      "   macro avg       0.99      0.99      0.99     12348\n",
      "weighted avg       1.00      1.00      1.00     12348\n",
      "\n"
     ]
    },
    {
     "data": {
      "image/png": "[encoded data removed]",
      "text/plain": [
       "<Figure size 640x480 with 1 Axes>"
      ]
     },
     "metadata": {},
     "output_type": "display_data"
    },
    {
     "data": {
      "image/png": "[encoded data removed]",
      "text/plain": [
       "<Figure size 640x480 with 1 Axes>"
      ]
     },
     "metadata": {},
     "output_type": "display_data"
    },
    {
     "data": {
      "image/png": "[encoded data removed]",
      "text/plain": [
       "<Figure size 800x600 with 2 Axes>"
      ]
     },
     "metadata": {},
     "output_type": "display_data"
    }
   ],
   "source": [
    "predictions_accuracy_plot(xTest, yTest_onehot, history_, model_path)  "
   ]
  },
  {
   "cell_type": "code",
   "execution_count": 8,
   "id": "adba2762",
   "metadata": {},
   "outputs": [],
   "source": [
    "def prepare_train_model(df, df_signal, epc, model_saved_path):\n",
    "    # Exclude the 'Signal' column and select only numeric data\n",
    "#     X = df.drop(columns=['Signal']).select_dtypes(include=[np.number]).values\n",
    "#     y = df['Signal'].values  # Target variable\n",
    "    X = df.values\n",
    "    y = df_signal.values\n",
    "    # Splitting the data into train and test sets\n",
    "    x_train, x_test, y_train, y_test = train_test_split(\n",
    "        X, y, \n",
    "        train_size=0.8, \n",
    "        test_size=0.2, \n",
    "        random_state=2, \n",
    "        shuffle=True, \n",
    "        stratify=y\n",
    "    )\n",
    "\n",
    "    # Uncomment the following lines if you want to handle class imbalance\n",
    "    # 'not majority': resample all classes but the majority class\n",
    "#     smote = RandomOverSampler(random_state=42, sampling_strategy='not majority')\n",
    "#     x_train, y_train = smote.fit_resample(x_train, y_train)\n",
    "#     print('Resampled dataset shape:', Counter(y_train))\n",
    "\n",
    "    smote = SMOTE(random_state=42, sampling_strategy='not majority')\n",
    "    x_train, y_train = smote.fit_resample(x_train, y_train)\n",
    "\n",
    "\n",
    "    # Dynamic train-validation split\n",
    "    train_split = 0.9 if 0.8 * x_train.shape[0] < 2500 else 0.8\n",
    "    print('train_split =', train_split)\n",
    "\n",
    "    # Split the training set further into training and cross-validation sets\n",
    "    x_train, x_cv, y_train, y_cv = train_test_split(\n",
    "        x_train, y_train, \n",
    "        train_size=train_split, \n",
    "        test_size=1-train_split, \n",
    "        random_state=2, \n",
    "        shuffle=True, \n",
    "        stratify=y_train\n",
    "    )\n",
    "\n",
    "    # Choose between MinMaxScaler or StandardScaler\n",
    "    scaler = MinMaxScaler(feature_range=(0, 1))  # For Min-Max scaling\n",
    "    # scaler = StandardScaler()                   # For Standard scaling\n",
    "\n",
    "    # Apply scaling to training, cross-validation, and test sets\n",
    "    x_train = scaler.fit_transform(x_train)\n",
    "    x_cv = scaler.transform(x_cv)\n",
    "    x_test = scaler.transform(x_test)\n",
    "\n",
    "    # Copying the main training set for further operations if needed\n",
    "    x_main = x_train.copy()\n",
    "\n",
    "    # Printing the shapes of train, cross-validation, and test sets\n",
    "    print(\"Shape of x, y train/cv/test:\", \n",
    "          x_train.shape, y_train.shape, x_cv.shape, y_cv.shape, x_test.shape, y_test.shape)\n",
    "\n",
    "\n",
    "    # Ensure reproducibility\n",
    "    np.random.seed(42)\n",
    "    tf.random.set_seed(42)\n",
    "\n",
    "    # Reshape inputs for CNN\n",
    "    x_train = x_train.reshape((x_train.shape[0], x_train.shape[1], 1))  # Add channel dimension\n",
    "    x_cv = x_cv.reshape((x_cv.shape[0], x_cv.shape[1], 1))\n",
    "    x_test = x_test.reshape((x_test.shape[0], x_test.shape[1], 1))\n",
    "\n",
    "    # Normalize data if not already normalized\n",
    "    x_train = x_train / np.max(x_train)\n",
    "    x_cv = x_cv / np.max(x_cv)\n",
    "    x_test = x_test / np.max(x_test)\n",
    "    \n",
    "    # Print unique labels before encoding\n",
    "    print(\"Unique class labels before encoding:\", np.unique(y_train))\n",
    "    \n",
    "    y_train_onehot = to_categorical(y_train, num_classes=3)\n",
    "    y_cv_onehot = to_categorical(y_cv, num_classes=3)\n",
    "    y_test_onehot = to_categorical(y_test, num_classes=3)\n",
    "    \n",
    "    # Get unique class labels in y_train\n",
    "    unique_labels = np.unique(y_train)\n",
    "\n",
    "    # Print one-hot encoding for each unique label\n",
    "    for label in unique_labels:\n",
    "        onehot = to_categorical([label], num_classes=3)[0]  # Convert single label to one-hot\n",
    "        print(f\"Class Label: {label} -> One-Hot Encoding: {onehot}\")\n",
    "\n",
    "\n",
    "    model = Sequential([\n",
    "        Conv1D(filters=64, kernel_size=3, activation='relu', input_shape=(x_train.shape[1], 1)),\n",
    "        MaxPooling1D(pool_size=2),\n",
    "        Dropout(0.2),\n",
    "        Conv1D(filters=128, kernel_size=3, activation='relu'),\n",
    "        MaxPooling1D(pool_size=2),\n",
    "        Flatten(),\n",
    "        Dense(64, activation='relu'),\n",
    "        Dropout(0.5),\n",
    "        Dense(3, activation='softmax')  # 3 classes: 0, 1, 2\n",
    "    ])\n",
    "\n",
    "    ## If One hot encoded\n",
    "    model.compile(optimizer='adam', \n",
    "                  loss='categorical_crossentropy', \n",
    "                  metrics=['accuracy'])\n",
    "\n",
    "\n",
    "    class_weights = compute_class_weight(\n",
    "    class_weight='balanced',\n",
    "    classes=np.unique(y_train),\n",
    "    y=y_train)\n",
    "    \n",
    "    class_weight_dict = {i: class_weights[i] for i in range(len(class_weights))}\n",
    "\n",
    "    ### If one hot encoded\n",
    "    history = model.fit(x_train, y_train_onehot, \n",
    "                        epochs=epc, \n",
    "                        batch_size=32, \n",
    "                        validation_data=(x_cv, y_cv_onehot),\n",
    "                        class_weight=class_weight_dict)\n",
    "\n",
    "    # if One hot the Evaluate the model like below\n",
    "    test_loss, test_accuracy = model.evaluate(x_test, y_test_onehot)\n",
    "    print(f\"Test Loss: {test_loss:.4f}\")\n",
    "    print(f\"Test Accuracy: {test_accuracy:.4f}\")\n",
    "\n",
    "    # Save the model to a file\n",
    "    model.save(os.path.join(model_saved_path, 'model.hd5'))  # Saves the model in HDF5 format (recommended for compatibility)\n",
    "    # model = load_model(\"my_model.h5\")\n",
    "    \n",
    "    return x_test, y_test_onehot, history, model_saved_path\n",
    "\n",
    "def predictions_accuracy_plot(x_test, y_test_onehot, history, model_saved_path):\n",
    "    \n",
    "    model = load_model(os.path.join(model_saved_path, 'model.hd5'))\n",
    "    \n",
    "    # Get predictions\n",
    "    y_pred = model.predict(x_test)  # This returns probabilities\n",
    "    y_pred_classes = np.argmax(y_pred, axis=1)  # Convert probabilities to class indices\n",
    "\n",
    "    # Convert one-hot encoded y_test back to class indices for comparison\n",
    "    y_test_classes = np.argmax(y_test_onehot, axis=1)\n",
    "        \n",
    "    # Convert predictions back to original labels\n",
    "#     mapping = {0: 0, 1: 1, 2: 2}  # Reverse mapping\n",
    "#     y_pred_original = np.vectorize(mapping.get)(y_pred_classes)\n",
    "    \n",
    "    # Check some predictions\n",
    "    print(\"Predicted one hot:\", y_pred_classes[:50])\n",
    "    print(\"Actual one hot:\", y_test_classes[:50])\n",
    "#     print(\"Original:\", y_pred_original[:50])\n",
    "\n",
    "    conf_matrix = confusion_matrix(y_test_classes, y_pred_classes)\n",
    "    print(conf_matrix)\n",
    "    print(classification_report(y_test_classes, y_pred_classes))\n",
    "\n",
    "    import matplotlib.pyplot as plt\n",
    "\n",
    "    plt.plot(history.history['accuracy'], label='Train Accuracy')\n",
    "    plt.plot(history.history['val_accuracy'], label='Validation Accuracy')\n",
    "    plt.xlabel('Epochs')\n",
    "    plt.ylabel('Accuracy')\n",
    "    plt.legend()\n",
    "    plt.show()\n",
    "\n",
    "    plt.plot(history.history['loss'], label='Train Loss')\n",
    "    plt.plot(history.history['val_loss'], label='Validation Loss')\n",
    "    plt.legend()\n",
    "    plt.show()\n",
    "\n",
    "    # one hot encoded Create a heatmap\n",
    "    plt.figure(figsize=(8, 6))\n",
    "    sns.heatmap(conf_matrix, annot=True, fmt=\"d\", cmap=\"Blues\", xticklabels=[0, 1, 2], yticklabels=[0, 1, 2])\n",
    "    plt.xlabel('Predicted')\n",
    "    plt.ylabel('Actual')\n",
    "    plt.title('Confusion Matrix')\n",
    "    plt.show()\n",
    "    \n",
    "\n",
    "    \n",
    "\n",
    "def features_selection(df, selection_method='all', topk=10, num_features=225):\n",
    "    \n",
    "    # Check if the columns exist before dropping\n",
    "    columns_to_drop = ['Time', 'Date', 'Signal']\n",
    "    X = df.drop(columns=[col for col in columns_to_drop if col in df.columns])\n",
    "    \n",
    "    # Separate features and target variable\n",
    "    y = df['Signal']  # Target variable\n",
    "    \n",
    "    # Ensure that only numeric columns are used for correlation\n",
    "    X_numeric = X.select_dtypes(include=[np.number])\n",
    "\n",
    "    # Step 1: Correlation Matrix\n",
    "    # Remove highly correlated features\n",
    "    cor_matrix = X_numeric.corr().abs()\n",
    "    upper_triangle = cor_matrix.where(np.triu(np.ones(cor_matrix.shape), k=1).astype(bool))\n",
    "    high_corr_features = [column for column in upper_triangle.columns if any(upper_triangle[column] > 0.9999)]\n",
    "    X.drop(columns=high_corr_features, inplace=True)\n",
    "    print(f\"Features removed due to high correlation: {high_corr_features}\")\n",
    "\n",
    "    # Step 2: Feature Selection with Lasso\n",
    "    # Scale the data before Lasso\n",
    "    scaler = StandardScaler()\n",
    "    X_scaled = scaler.fit_transform(X)\n",
    "    \n",
    "    # Apply LassoCV for feature selection\n",
    "    lasso = LassoCV(cv=5, random_state=0).fit(X_scaled, y)\n",
    "    lasso_selected_features = X.columns[lasso.coef_ != 0]\n",
    "    print(f\"Features selected by Lasso: {list(lasso_selected_features)}\")\n",
    "\n",
    "    list_features = X.columns.tolist()  # List of all feature names\n",
    "\n",
    "    # Get indices of common features\n",
    "    feat_idx = sorted([list_features.index(c) for c in lasso_selected_features][:num_features])\n",
    "    print(\"Feature indices for common features:\", feat_idx)\n",
    "\n",
    "    return lasso_selected_features, feat_idx\n",
    "\n",
    "def feature_generate(indicators_df):    \n",
    "    # Moving Averages (Simple and Exponential)\n",
    "    for window in [5, 10, 20, 50, 100, 200]:\n",
    "        indicators_df[f'SMA_{window}'] = indicators_df['Close'].rolling(window=window).mean()\n",
    "        indicators_df[f'EMA_{window}'] = indicators_df['Close'].ewm(span=window, adjust=False).mean()\n",
    "\n",
    "    # Momentum Indicators\n",
    "    indicators_df['RSI_14'] = 100 - (100 / (1 + (indicators_df['Close'].diff().clip(lower=0).rolling(window=14).mean() / \n",
    "                                                  indicators_df['Close'].diff().clip(upper=0).abs().rolling(window=14).mean())))\n",
    "\n",
    "    indicators_df['Stochastic_K'] = ((indicators_df['Close'] - indicators_df['Low'].rolling(14).min()) /\n",
    "                                      (indicators_df['High'].rolling(14).max() - indicators_df['Low'].rolling(14).min())) * 100\n",
    "\n",
    "    indicators_df['Stochastic_D'] = indicators_df['Stochastic_K'].rolling(3).mean()\n",
    "\n",
    "    # Williams %R\n",
    "    indicators_df['Williams_%R'] = ((indicators_df['High'].rolling(14).max() - indicators_df['Close']) /\n",
    "                                     (indicators_df['High'].rolling(14).max() - indicators_df['Low'].rolling(14).min())) * -100\n",
    "\n",
    "    # Moving Average Convergence Divergence (MACD)\n",
    "    indicators_df['MACD'] = indicators_df['Close'].ewm(span=12, adjust=False).mean() - indicators_df['Close'].ewm(span=26, adjust=False).mean()\n",
    "    indicators_df['MACD_Signal'] = indicators_df['MACD'].ewm(span=9, adjust=False).mean()\n",
    "    indicators_df['MACD_Hist'] = indicators_df['MACD'] - indicators_df['MACD_Signal']\n",
    "\n",
    "    # Average Directional Index (ADX)\n",
    "    high_diff = indicators_df['High'].diff()\n",
    "    low_diff = indicators_df['Low'].diff()\n",
    "    plus_dm = np.where((high_diff > low_diff) & (high_diff > 0), high_diff, 0)\n",
    "    minus_dm = np.where((low_diff > high_diff) & (low_diff > 0), low_diff, 0)\n",
    "    true_range = pd.DataFrame({\n",
    "        'hl': indicators_df['High'] - indicators_df['Low'],\n",
    "        'hc': (indicators_df['High'] - indicators_df['Close'].shift()).abs(),\n",
    "        'lc': (indicators_df['Low'] - indicators_df['Close'].shift()).abs()\n",
    "    }).max(axis=1)\n",
    "    indicators_df['ATR'] = true_range.rolling(window=14).mean()\n",
    "    indicators_df['Plus_DI'] = 100 * pd.Series(plus_dm).rolling(window=14).mean() / indicators_df['ATR']\n",
    "    indicators_df['Minus_DI'] = 100 * pd.Series(minus_dm).rolling(window=14).mean() / indicators_df['ATR']\n",
    "    indicators_df['ADX'] = 100 * abs(indicators_df['Plus_DI'] - indicators_df['Minus_DI']).rolling(window=14).mean() / (indicators_df['Plus_DI'] + indicators_df['Minus_DI'])\n",
    "\n",
    "    # Commodity Channel Index (CCI)\n",
    "    typical_price = (indicators_df['High'] + indicators_df['Low'] + indicators_df['Close']) / 3\n",
    "    indicators_df['CCI'] = (typical_price - typical_price.rolling(20).mean()) / (0.015 * typical_price.rolling(20).std())\n",
    "\n",
    "    # Bollinger Bands\n",
    "    indicators_df['Bollinger_Mid'] = indicators_df['Close'].rolling(window=20).mean()\n",
    "    indicators_df['Bollinger_Upper'] = indicators_df['Bollinger_Mid'] + 2 * indicators_df['Close'].rolling(window=20).std()\n",
    "    indicators_df['Bollinger_Lower'] = indicators_df['Bollinger_Mid'] - 2 * indicators_df['Close'].rolling(window=20).std()\n",
    "\n",
    "    # Rate of Change (ROC)\n",
    "    indicators_df['ROC'] = indicators_df['Close'].pct_change(periods=12) * 100\n",
    "\n",
    "    # On-Balance Volume (OBV)\n",
    "    obv = np.where(indicators_df['Close'] > indicators_df['Close'].shift(1), indicators_df['Volume'],\n",
    "                   np.where(indicators_df['Close'] < indicators_df['Close'].shift(1), -indicators_df['Volume'], 0))\n",
    "    indicators_df['OBV'] = obv.cumsum()\n",
    "\n",
    "    # Force Index\n",
    "    indicators_df['Force_Index'] = indicators_df['Close'].diff(1) * indicators_df['Volume']\n",
    "\n",
    "    # Accumulation/Distribution Line (ADL)\n",
    "    adl = ((indicators_df['Close'] - indicators_df['Low']) - (indicators_df['High'] - indicators_df['Close'])) / \\\n",
    "           (indicators_df['High'] - indicators_df['Low']) * indicators_df['Volume']\n",
    "    indicators_df['ADL'] = adl.cumsum()\n",
    "\n",
    "    # Money Flow Index (MFI)\n",
    "    money_flow = typical_price * indicators_df['Volume']\n",
    "    positive_flow = np.where(typical_price > typical_price.shift(1), money_flow, 0)\n",
    "    negative_flow = np.where(typical_price < typical_price.shift(1), money_flow, 0)\n",
    "    mfi_ratio = pd.Series(positive_flow).rolling(14).sum() / pd.Series(negative_flow).rolling(14).sum()\n",
    "    indicators_df['MFI'] = 100 - (100 / (1 + mfi_ratio))\n",
    "\n",
    "    # Accumulation Swing Index (ASI)\n",
    "    indicators_df['ASI'] = ((indicators_df['Close'] - indicators_df['Close'].shift()) +\n",
    "                            (0.5 * (indicators_df['Close'] - indicators_df['Open'])) +\n",
    "                            (0.25 * (indicators_df['Close'].shift() - indicators_df['Open'].shift()))) / indicators_df['ATR']\n",
    "\n",
    "    # Chaikin Oscillator\n",
    "    indicators_df['Chaikin_Oscillator'] = indicators_df['ADL'].ewm(span=3, adjust=False).mean() - indicators_df['ADL'].ewm(span=10, adjust=False).mean()\n",
    "\n",
    "    # Relative Strength (RS)\n",
    "    indicators_df['RS'] = indicators_df['Close'] / indicators_df['Close'].rolling(14).mean()\n",
    "\n",
    "    # Keltner Channels\n",
    "    indicators_df['Keltner_Mid'] = indicators_df['Close'].rolling(window=20).mean()\n",
    "    indicators_df['Keltner_Upper'] = indicators_df['Keltner_Mid'] + 1.5 * indicators_df['ATR']\n",
    "    indicators_df['Keltner_Lower'] = indicators_df['Keltner_Mid'] - 1.5 * indicators_df['ATR']\n",
    "\n",
    "    # Donchian Channels\n",
    "    indicators_df['Donchian_Upper'] = indicators_df['High'].rolling(window=20).max()\n",
    "    indicators_df['Donchian_Lower'] = indicators_df['Low'].rolling(window=20).min()\n",
    "\n",
    "    # Ichimoku Cloud\n",
    "    indicators_df['Tenkan_Sen'] = (indicators_df['High'].rolling(9).max() + indicators_df['Low'].rolling(9).min()) / 2\n",
    "    indicators_df['Kijun_Sen'] = (indicators_df['High'].rolling(26).max() + indicators_df['Low'].rolling(26).min()) / 2\n",
    "    indicators_df['Senkou_Span_A'] = ((indicators_df['Tenkan_Sen'] + indicators_df['Kijun_Sen']) / 2).shift(26)\n",
    "    indicators_df['Senkou_Span_B'] = ((indicators_df['High'].rolling(52).max() + indicators_df['Low'].rolling(52).min()) / 2).shift(26)\n",
    "\n",
    "    # Fibonacci Retracement Levels\n",
    "    indicators_df['Fib_0'] = indicators_df['Close'].rolling(window=20).min()\n",
    "    indicators_df['Fib_100'] = indicators_df['Close'].rolling(window=20).max()\n",
    "    indicators_df['Fib_50'] = (indicators_df['Fib_0'] + indicators_df['Fib_100']) / 2\n",
    "    indicators_df['Fib_61.8'] = indicators_df['Fib_0'] + ((indicators_df['Fib_100'] - indicators_df['Fib_0']) * 0.618)\n",
    "    indicators_df['Fib_38.2'] = indicators_df['Fib_0'] + ((indicators_df['Fib_100'] - indicators_df['Fib_0']) * 0.382)\n",
    "\n",
    "        # Double/Triple Tops and Bottoms\n",
    "    indicators_df['Double_Top'] = (indicators_df['High'].rolling(window=3).max() == indicators_df['High'])\n",
    "    indicators_df['Double_Bottom'] = (indicators_df['Low'].rolling(window=3).min() == indicators_df['Low'])\n",
    "\n",
    "    # Price Channels\n",
    "    indicators_df['Channel_High'] = indicators_df['High'].rolling(window=20).max()\n",
    "    indicators_df['Channel_Low'] = indicators_df['Low'].rolling(window=20).min()\n",
    "    indicators_df['Channel_Mid'] = (indicators_df['Channel_High'] + indicators_df['Channel_Low']) / 2\n",
    "\n",
    "    # Linear Regression Channels\n",
    "    def linear_regression_channel(series, window):\n",
    "        x = np.arange(window)\n",
    "        fit = lambda y: np.polyfit(x, y, 1)\n",
    "        slope, intercept = series.rolling(window).apply(lambda y: fit(y)[0], raw=False), series.rolling(window).apply(lambda y: fit(y)[1], raw=False)\n",
    "        center = slope * (window - 1) + intercept\n",
    "        std = series.rolling(window).std()\n",
    "        return center, center + 2 * std, center - 2 * std\n",
    "\n",
    "    lr_center, lr_upper, lr_lower = linear_regression_channel(indicators_df['Close'], 20)\n",
    "    indicators_df['LR_Center'] = lr_center\n",
    "    indicators_df['LR_Upper'] = lr_upper\n",
    "    indicators_df['LR_Lower'] = lr_lower\n",
    "\n",
    "    # Parabolic SAR (Modified for Channels)\n",
    "    sar = indicators_df['Low'].rolling(window=14).min()\n",
    "    indicators_df['SAR'] = sar.shift(1)\n",
    "\n",
    "    # Standard Deviation Channels\n",
    "    std = indicators_df['Close'].rolling(window=20).std()\n",
    "    mean = indicators_df['Close'].rolling(window=20).mean()\n",
    "    indicators_df['Std_Dev_Upper'] = mean + 2 * std\n",
    "    indicators_df['Std_Dev_Lower'] = mean - 2 * std\n",
    "\n",
    "    # VWAP Bands\n",
    "    indicators_df['VWAP'] = (indicators_df['Close'] * indicators_df['Volume']).cumsum() / indicators_df['Volume'].cumsum()\n",
    "    indicators_df['VWAP_Upper'] = indicators_df['VWAP'] + std\n",
    "    indicators_df['VWAP_Lower'] = indicators_df['VWAP'] - std\n",
    "\n",
    "    # Adaptive Channels\n",
    "    atr = indicators_df['Close'].rolling(window=14).std()\n",
    "    indicators_df['Adaptive_Upper'] = indicators_df['Close'] + (2 * atr)\n",
    "    indicators_df['Adaptive_Lower'] = indicators_df['Close'] - (2 * atr)\n",
    "\n",
    "    # Heikin-Ashi\n",
    "    ha_close = (indicators_df['Open'] + indicators_df['High'] + indicators_df['Low'] + indicators_df['Close']) / 4\n",
    "    indicators_df['HA_Close'] = ha_close\n",
    "    indicators_df['HA_Open'] = ha_close.shift(1)\n",
    "\n",
    "    # Pivot Points\n",
    "    pivot = (indicators_df['High'] + indicators_df['Low'] + indicators_df['Close']) / 3\n",
    "    indicators_df['Pivot_Point'] = pivot\n",
    "    indicators_df['Pivot_R1'] = (2 * pivot) - indicators_df['Low']\n",
    "    indicators_df['Pivot_S1'] = (2 * pivot) - indicators_df['High']\n",
    "\n",
    "    \n",
    "    return indicators_df\n"
   ]
  },
  {
   "cell_type": "code",
   "execution_count": 24,
   "id": "7ce779fc",
   "metadata": {},
   "outputs": [
    {
     "name": "stdout",
     "output_type": "stream",
     "text": [
      "386/386 [==============================] - 1s 2ms/step\n"
     ]
    },
    {
     "name": "stderr",
     "output_type": "stream",
     "text": [
      "C:\\Users\\Teacher\\AppData\\Local\\Programs\\Python\\Python310\\lib\\site-packages\\sklearn\\metrics\\_classification.py:1344: UndefinedMetricWarning: Precision and F-score are ill-defined and being set to 0.0 in labels with no predicted samples. Use `zero_division` parameter to control this behavior.\n",
      "  _warn_prf(average, modifier, msg_start, len(result))\n",
      "C:\\Users\\Teacher\\AppData\\Local\\Programs\\Python\\Python310\\lib\\site-packages\\sklearn\\metrics\\_classification.py:1344: UndefinedMetricWarning: Recall and F-score are ill-defined and being set to 0.0 in labels with no true samples. Use `zero_division` parameter to control this behavior.\n",
      "  _warn_prf(average, modifier, msg_start, len(result))\n",
      "C:\\Users\\Teacher\\AppData\\Local\\Programs\\Python\\Python310\\lib\\site-packages\\sklearn\\metrics\\_classification.py:1344: UndefinedMetricWarning: Precision and F-score are ill-defined and being set to 0.0 in labels with no predicted samples. Use `zero_division` parameter to control this behavior.\n",
      "  _warn_prf(average, modifier, msg_start, len(result))\n",
      "C:\\Users\\Teacher\\AppData\\Local\\Programs\\Python\\Python310\\lib\\site-packages\\sklearn\\metrics\\_classification.py:1344: UndefinedMetricWarning: Recall and F-score are ill-defined and being set to 0.0 in labels with no true samples. Use `zero_division` parameter to control this behavior.\n",
      "  _warn_prf(average, modifier, msg_start, len(result))\n",
      "C:\\Users\\Teacher\\AppData\\Local\\Programs\\Python\\Python310\\lib\\site-packages\\sklearn\\metrics\\_classification.py:1344: UndefinedMetricWarning: Precision and F-score are ill-defined and being set to 0.0 in labels with no predicted samples. Use `zero_division` parameter to control this behavior.\n",
      "  _warn_prf(average, modifier, msg_start, len(result))\n",
      "C:\\Users\\Teacher\\AppData\\Local\\Programs\\Python\\Python310\\lib\\site-packages\\sklearn\\metrics\\_classification.py:1344: UndefinedMetricWarning: Recall and F-score are ill-defined and being set to 0.0 in labels with no true samples. Use `zero_division` parameter to control this behavior.\n",
      "  _warn_prf(average, modifier, msg_start, len(result))\n"
     ]
    },
    {
     "name": "stdout",
     "output_type": "stream",
     "text": [
      "Method: Original, Test Accuracy: 0.9270\n",
      "Random Oversampling dataset shape: Counter({0: 45356, 1: 45356, -1: 45356})\n",
      "386/386 [==============================] - 1s 2ms/step\n",
      "Method: Random Oversampling, Test Accuracy: 0.7772\n",
      "Random Undersampling dataset shape: Counter({-1: 2009, 0: 2009, 1: 2009})\n"
     ]
    },
    {
     "name": "stderr",
     "output_type": "stream",
     "text": [
      "C:\\Users\\Teacher\\AppData\\Local\\Programs\\Python\\Python310\\lib\\site-packages\\sklearn\\metrics\\_classification.py:1344: UndefinedMetricWarning: Precision and F-score are ill-defined and being set to 0.0 in labels with no predicted samples. Use `zero_division` parameter to control this behavior.\n",
      "  _warn_prf(average, modifier, msg_start, len(result))\n",
      "C:\\Users\\Teacher\\AppData\\Local\\Programs\\Python\\Python310\\lib\\site-packages\\sklearn\\metrics\\_classification.py:1344: UndefinedMetricWarning: Recall and F-score are ill-defined and being set to 0.0 in labels with no true samples. Use `zero_division` parameter to control this behavior.\n",
      "  _warn_prf(average, modifier, msg_start, len(result))\n",
      "C:\\Users\\Teacher\\AppData\\Local\\Programs\\Python\\Python310\\lib\\site-packages\\sklearn\\metrics\\_classification.py:1344: UndefinedMetricWarning: Precision and F-score are ill-defined and being set to 0.0 in labels with no predicted samples. Use `zero_division` parameter to control this behavior.\n",
      "  _warn_prf(average, modifier, msg_start, len(result))\n",
      "C:\\Users\\Teacher\\AppData\\Local\\Programs\\Python\\Python310\\lib\\site-packages\\sklearn\\metrics\\_classification.py:1344: UndefinedMetricWarning: Recall and F-score are ill-defined and being set to 0.0 in labels with no true samples. Use `zero_division` parameter to control this behavior.\n",
      "  _warn_prf(average, modifier, msg_start, len(result))\n",
      "C:\\Users\\Teacher\\AppData\\Local\\Programs\\Python\\Python310\\lib\\site-packages\\sklearn\\metrics\\_classification.py:1344: UndefinedMetricWarning: Precision and F-score are ill-defined and being set to 0.0 in labels with no predicted samples. Use `zero_division` parameter to control this behavior.\n",
      "  _warn_prf(average, modifier, msg_start, len(result))\n",
      "C:\\Users\\Teacher\\AppData\\Local\\Programs\\Python\\Python310\\lib\\site-packages\\sklearn\\metrics\\_classification.py:1344: UndefinedMetricWarning: Recall and F-score are ill-defined and being set to 0.0 in labels with no true samples. Use `zero_division` parameter to control this behavior.\n",
      "  _warn_prf(average, modifier, msg_start, len(result))\n"
     ]
    },
    {
     "name": "stdout",
     "output_type": "stream",
     "text": [
      "386/386 [==============================] - 1s 2ms/step\n"
     ]
    },
    {
     "name": "stderr",
     "output_type": "stream",
     "text": [
      "C:\\Users\\Teacher\\AppData\\Local\\Programs\\Python\\Python310\\lib\\site-packages\\sklearn\\metrics\\_classification.py:1344: UndefinedMetricWarning: Precision and F-score are ill-defined and being set to 0.0 in labels with no predicted samples. Use `zero_division` parameter to control this behavior.\n",
      "  _warn_prf(average, modifier, msg_start, len(result))\n",
      "C:\\Users\\Teacher\\AppData\\Local\\Programs\\Python\\Python310\\lib\\site-packages\\sklearn\\metrics\\_classification.py:1344: UndefinedMetricWarning: Recall and F-score are ill-defined and being set to 0.0 in labels with no true samples. Use `zero_division` parameter to control this behavior.\n",
      "  _warn_prf(average, modifier, msg_start, len(result))\n",
      "C:\\Users\\Teacher\\AppData\\Local\\Programs\\Python\\Python310\\lib\\site-packages\\sklearn\\metrics\\_classification.py:1344: UndefinedMetricWarning: Precision and F-score are ill-defined and being set to 0.0 in labels with no predicted samples. Use `zero_division` parameter to control this behavior.\n",
      "  _warn_prf(average, modifier, msg_start, len(result))\n",
      "C:\\Users\\Teacher\\AppData\\Local\\Programs\\Python\\Python310\\lib\\site-packages\\sklearn\\metrics\\_classification.py:1344: UndefinedMetricWarning: Recall and F-score are ill-defined and being set to 0.0 in labels with no true samples. Use `zero_division` parameter to control this behavior.\n",
      "  _warn_prf(average, modifier, msg_start, len(result))\n",
      "C:\\Users\\Teacher\\AppData\\Local\\Programs\\Python\\Python310\\lib\\site-packages\\sklearn\\metrics\\_classification.py:1344: UndefinedMetricWarning: Precision and F-score are ill-defined and being set to 0.0 in labels with no predicted samples. Use `zero_division` parameter to control this behavior.\n",
      "  _warn_prf(average, modifier, msg_start, len(result))\n",
      "C:\\Users\\Teacher\\AppData\\Local\\Programs\\Python\\Python310\\lib\\site-packages\\sklearn\\metrics\\_classification.py:1344: UndefinedMetricWarning: Recall and F-score are ill-defined and being set to 0.0 in labels with no true samples. Use `zero_division` parameter to control this behavior.\n",
      "  _warn_prf(average, modifier, msg_start, len(result))\n"
     ]
    },
    {
     "name": "stdout",
     "output_type": "stream",
     "text": [
      "Method: Random Undersampling, Test Accuracy: 0.7332\n",
      "SMOTE dataset shape: Counter({0: 45356, 1: 45356, -1: 45356})\n",
      "386/386 [==============================] - 1s 3ms/step\n"
     ]
    },
    {
     "name": "stderr",
     "output_type": "stream",
     "text": [
      "C:\\Users\\Teacher\\AppData\\Local\\Programs\\Python\\Python310\\lib\\site-packages\\sklearn\\metrics\\_classification.py:1344: UndefinedMetricWarning: Precision and F-score are ill-defined and being set to 0.0 in labels with no predicted samples. Use `zero_division` parameter to control this behavior.\n",
      "  _warn_prf(average, modifier, msg_start, len(result))\n",
      "C:\\Users\\Teacher\\AppData\\Local\\Programs\\Python\\Python310\\lib\\site-packages\\sklearn\\metrics\\_classification.py:1344: UndefinedMetricWarning: Recall and F-score are ill-defined and being set to 0.0 in labels with no true samples. Use `zero_division` parameter to control this behavior.\n",
      "  _warn_prf(average, modifier, msg_start, len(result))\n",
      "C:\\Users\\Teacher\\AppData\\Local\\Programs\\Python\\Python310\\lib\\site-packages\\sklearn\\metrics\\_classification.py:1344: UndefinedMetricWarning: Precision and F-score are ill-defined and being set to 0.0 in labels with no predicted samples. Use `zero_division` parameter to control this behavior.\n",
      "  _warn_prf(average, modifier, msg_start, len(result))\n",
      "C:\\Users\\Teacher\\AppData\\Local\\Programs\\Python\\Python310\\lib\\site-packages\\sklearn\\metrics\\_classification.py:1344: UndefinedMetricWarning: Recall and F-score are ill-defined and being set to 0.0 in labels with no true samples. Use `zero_division` parameter to control this behavior.\n",
      "  _warn_prf(average, modifier, msg_start, len(result))\n",
      "C:\\Users\\Teacher\\AppData\\Local\\Programs\\Python\\Python310\\lib\\site-packages\\sklearn\\metrics\\_classification.py:1344: UndefinedMetricWarning: Precision and F-score are ill-defined and being set to 0.0 in labels with no predicted samples. Use `zero_division` parameter to control this behavior.\n",
      "  _warn_prf(average, modifier, msg_start, len(result))\n",
      "C:\\Users\\Teacher\\AppData\\Local\\Programs\\Python\\Python310\\lib\\site-packages\\sklearn\\metrics\\_classification.py:1344: UndefinedMetricWarning: Recall and F-score are ill-defined and being set to 0.0 in labels with no true samples. Use `zero_division` parameter to control this behavior.\n",
      "  _warn_prf(average, modifier, msg_start, len(result))\n"
     ]
    },
    {
     "name": "stdout",
     "output_type": "stream",
     "text": [
      "Method: SMOTE, Test Accuracy: 0.7428\n",
      "ADASYN dataset shape: Counter({-1: 45403, 0: 45356, 1: 45331})\n",
      "386/386 [==============================] - 1s 3ms/step\n",
      "Method: ADASYN, Test Accuracy: 0.6856\n"
     ]
    },
    {
     "name": "stderr",
     "output_type": "stream",
     "text": [
      "C:\\Users\\Teacher\\AppData\\Local\\Programs\\Python\\Python310\\lib\\site-packages\\sklearn\\metrics\\_classification.py:1344: UndefinedMetricWarning: Precision and F-score are ill-defined and being set to 0.0 in labels with no predicted samples. Use `zero_division` parameter to control this behavior.\n",
      "  _warn_prf(average, modifier, msg_start, len(result))\n",
      "C:\\Users\\Teacher\\AppData\\Local\\Programs\\Python\\Python310\\lib\\site-packages\\sklearn\\metrics\\_classification.py:1344: UndefinedMetricWarning: Recall and F-score are ill-defined and being set to 0.0 in labels with no true samples. Use `zero_division` parameter to control this behavior.\n",
      "  _warn_prf(average, modifier, msg_start, len(result))\n",
      "C:\\Users\\Teacher\\AppData\\Local\\Programs\\Python\\Python310\\lib\\site-packages\\sklearn\\metrics\\_classification.py:1344: UndefinedMetricWarning: Precision and F-score are ill-defined and being set to 0.0 in labels with no predicted samples. Use `zero_division` parameter to control this behavior.\n",
      "  _warn_prf(average, modifier, msg_start, len(result))\n",
      "C:\\Users\\Teacher\\AppData\\Local\\Programs\\Python\\Python310\\lib\\site-packages\\sklearn\\metrics\\_classification.py:1344: UndefinedMetricWarning: Recall and F-score are ill-defined and being set to 0.0 in labels with no true samples. Use `zero_division` parameter to control this behavior.\n",
      "  _warn_prf(average, modifier, msg_start, len(result))\n",
      "C:\\Users\\Teacher\\AppData\\Local\\Programs\\Python\\Python310\\lib\\site-packages\\sklearn\\metrics\\_classification.py:1344: UndefinedMetricWarning: Precision and F-score are ill-defined and being set to 0.0 in labels with no predicted samples. Use `zero_division` parameter to control this behavior.\n",
      "  _warn_prf(average, modifier, msg_start, len(result))\n",
      "C:\\Users\\Teacher\\AppData\\Local\\Programs\\Python\\Python310\\lib\\site-packages\\sklearn\\metrics\\_classification.py:1344: UndefinedMetricWarning: Recall and F-score are ill-defined and being set to 0.0 in labels with no true samples. Use `zero_division` parameter to control this behavior.\n",
      "  _warn_prf(average, modifier, msg_start, len(result))\n"
     ]
    },
    {
     "name": "stdout",
     "output_type": "stream",
     "text": [
      "INFO:tensorflow:Assets written to: D:\\Repos_git\\Make_Money_with_Tensorflow_2.0\\forexPredictor\\ohlc_data\\assets\n"
     ]
    },
    {
     "name": "stderr",
     "output_type": "stream",
     "text": [
      "INFO:tensorflow:Assets written to: D:\\Repos_git\\Make_Money_with_Tensorflow_2.0\\forexPredictor\\ohlc_data\\assets\n"
     ]
    },
    {
     "name": "stdout",
     "output_type": "stream",
     "text": [
      "Best Method: Original, Accuracy: 0.9270\n"
     ]
    },
    {
     "ename": "ValueError",
     "evalue": "too many values to unpack (expected 4)",
     "output_type": "error",
     "traceback": [
      "\u001b[1;31m---------------------------------------------------------------------------\u001b[0m",
      "\u001b[1;31mValueError\u001b[0m                                Traceback (most recent call last)",
      "Cell \u001b[1;32mIn[24], line 2\u001b[0m\n\u001b[0;32m      1\u001b[0m model_name \u001b[38;5;241m=\u001b[39m os\u001b[38;5;241m.\u001b[39mpath\u001b[38;5;241m.\u001b[39mjoin(os\u001b[38;5;241m.\u001b[39mgetcwd(), data_dir)\n\u001b[1;32m----> 2\u001b[0m xTest, yTest_onehot, history_, model_path \u001b[38;5;241m=\u001b[39m prepare_train_model_with_comparison(\n\u001b[0;32m      3\u001b[0m     features_df_nonan\u001b[38;5;241m.\u001b[39miloc[:, feat_idx_], \n\u001b[0;32m      4\u001b[0m     features_df_nonan[\u001b[38;5;124m'\u001b[39m\u001b[38;5;124mSignal\u001b[39m\u001b[38;5;124m'\u001b[39m],\n\u001b[0;32m      5\u001b[0m     model_name)\n",
      "\u001b[1;31mValueError\u001b[0m: too many values to unpack (expected 4)"
     ]
    }
   ],
   "source": [
    "model_name = os.path.join(os.getcwd(), data_dir)\n",
    "xTest, yTest_onehot, history_, model_path = prepare_train_model_with_comparison(\n",
    "    features_df_nonan.iloc[:, feat_idx_], \n",
    "    features_df_nonan['Signal'],\n",
    "    model_name)"
   ]
  },
  {
   "cell_type": "code",
   "execution_count": 2,
   "id": "f6a90198",
   "metadata": {},
   "outputs": [],
   "source": [
    "from sklearn.metrics import classification_report, confusion_matrix\n",
    "from imblearn.over_sampling import RandomOverSampler, SMOTE, ADASYN\n",
    "from imblearn.under_sampling import RandomUnderSampler\n",
    "from collections import Counter\n",
    "\n",
    "def prepare_train_model_with_comparison(df, df_signal, model_saved_path):\n",
    "    X = df.values\n",
    "    y = df_signal.values\n",
    "\n",
    "    # Splitting the data into train and test sets\n",
    "    x_train, x_test, y_train, y_test = train_test_split(\n",
    "        X, y, \n",
    "        train_size=0.8, \n",
    "        test_size=0.2, \n",
    "        random_state=42, \n",
    "        shuffle=True, \n",
    "        stratify=y\n",
    "    )\n",
    "\n",
    "    # Different imbalance handling methods\n",
    "    methods = {\n",
    "        'Original': None,\n",
    "        'Random Oversampling': RandomOverSampler(sampling_strategy='minority'),\n",
    "        'Random Undersampling': RandomUnderSampler(sampling_strategy='majority'),\n",
    "        'SMOTE': SMOTE(random_state=42),\n",
    "        'ADASYN': ADASYN(random_state=42),\n",
    "    }\n",
    "\n",
    "    results = {}\n",
    "    for method_name, sampler in methods.items():\n",
    "        if sampler:\n",
    "            x_train_resampled, y_train_resampled = sampler.fit_resample(x_train, y_train)\n",
    "            print(f'{method_name} dataset shape:', Counter(y_train_resampled))\n",
    "        else:\n",
    "            x_train_resampled, y_train_resampled = x_train, y_train\n",
    "\n",
    "        # Normalize the data\n",
    "        scaler = MinMaxScaler()\n",
    "        x_train_resampled = scaler.fit_transform(x_train_resampled)\n",
    "        x_test_scaled = scaler.transform(x_test)\n",
    "\n",
    "        # Reshape inputs for CNN\n",
    "        x_train_resampled = x_train_resampled.reshape((x_train_resampled.shape[0], x_train_resampled.shape[1], 1))\n",
    "        x_test_scaled = x_test_scaled.reshape((x_test_scaled.shape[0], x_test_scaled.shape[1], 1))\n",
    "\n",
    "        # One-hot encoding for the target variable\n",
    "        y_train_onehot = to_categorical(y_train_resampled, num_classes=3)\n",
    "        y_test_onehot = to_categorical(y_test, num_classes=3)\n",
    "\n",
    "        # Define the CNN model\n",
    "        model = Sequential([\n",
    "            Conv1D(filters=64, kernel_size=3, activation='relu', input_shape=(x_train_resampled.shape[1], 1)),\n",
    "            MaxPooling1D(pool_size=2),\n",
    "            Dropout(0.2),\n",
    "            Conv1D(filters=128, kernel_size=3, activation='relu'),\n",
    "            MaxPooling1D(pool_size=2),\n",
    "            Flatten(),\n",
    "            Dense(64, activation='relu'),\n",
    "            Dropout(0.5),\n",
    "            Dense(3, activation='softmax')\n",
    "        ])\n",
    "\n",
    "        # Compile and train the model\n",
    "        model.compile(optimizer='adam', loss='categorical_crossentropy', metrics=['accuracy'])\n",
    "        history = model.fit(x_train_resampled, y_train_onehot, epochs=10, batch_size=32, verbose=0)\n",
    "\n",
    "        # Evaluate the model\n",
    "        test_loss, test_accuracy = model.evaluate(x_test_scaled, y_test_onehot, verbose=0)\n",
    "        y_pred = np.argmax(model.predict(x_test_scaled), axis=1)\n",
    "        classification_report_str = classification_report(y_test, y_pred, output_dict=True)\n",
    "\n",
    "        results[method_name] = {\n",
    "            'Test Accuracy': test_accuracy,\n",
    "            'Classification Report': classification_report_str,\n",
    "            'Confusion Matrix': confusion_matrix(y_test, y_pred),\n",
    "        }\n",
    "        print(f'Method: {method_name}, Test Accuracy: {test_accuracy:.4f}')\n",
    "\n",
    "    # Save the best model if needed\n",
    "    best_method = max(results, key=lambda m: results[m]['Test Accuracy'])\n",
    "    model.save(model_saved_path)\n",
    "\n",
    "    print(f\"Best Method: {best_method}, Accuracy: {results[best_method]['Test Accuracy']:.4f}\")\n",
    "    return results\n"
   ]
  },
  {
   "cell_type": "code",
   "execution_count": 58,
   "id": "3f2b1a23",
   "metadata": {
    "collapsed": true
   },
   "outputs": [
    {
     "name": "stdout",
     "output_type": "stream",
     "text": [
      "Fold 1/5\n",
      "Resampled dataset shape: Counter({0: 48756, 1: 48756, -1: 48756})\n",
      "4571/4571 [==============================] - 17s 4ms/step - loss: 0.4930 - accuracy: 0.7855 - val_loss: 0.6619 - val_accuracy: 0.6410\n",
      "Fold 1 - Test Loss: 0.6619, Test Accuracy: 0.6410\n",
      "Fold 2/5\n",
      "Resampled dataset shape: Counter({0: 48757, 1: 48757, -1: 48757})\n"
     ]
    },
    {
     "name": "stderr",
     "output_type": "stream",
     "text": [
      "C:\\Users\\Teacher\\AppData\\Local\\Programs\\Python\\Python310\\lib\\site-packages\\keras\\src\\engine\\training.py:3079: UserWarning: You are saving your model as an HDF5 file via `model.save()`. This file format is considered legacy. We recommend using instead the native Keras format, e.g. `model.save('my_model.keras')`.\n",
      "  saving_api.save_model(\n"
     ]
    },
    {
     "name": "stdout",
     "output_type": "stream",
     "text": [
      "4571/4571 [==============================] - 17s 4ms/step - loss: 0.4796 - accuracy: 0.7938 - val_loss: 0.6229 - val_accuracy: 0.6153\n",
      "Fold 2 - Test Loss: 0.6229, Test Accuracy: 0.6153\n",
      "Fold 3/5\n",
      "Resampled dataset shape: Counter({0: 48757, -1: 48757, 1: 48757})\n"
     ]
    },
    {
     "name": "stderr",
     "output_type": "stream",
     "text": [
      "C:\\Users\\Teacher\\AppData\\Local\\Programs\\Python\\Python310\\lib\\site-packages\\keras\\src\\engine\\training.py:3079: UserWarning: You are saving your model as an HDF5 file via `model.save()`. This file format is considered legacy. We recommend using instead the native Keras format, e.g. `model.save('my_model.keras')`.\n",
      "  saving_api.save_model(\n"
     ]
    },
    {
     "name": "stdout",
     "output_type": "stream",
     "text": [
      "4571/4571 [==============================] - 17s 4ms/step - loss: 0.4906 - accuracy: 0.7874 - val_loss: 0.6263 - val_accuracy: 0.6351\n",
      "Fold 3 - Test Loss: 0.6263, Test Accuracy: 0.6351\n",
      "Fold 4/5\n",
      "Resampled dataset shape: Counter({0: 48757, 1: 48757, -1: 48757})\n"
     ]
    },
    {
     "name": "stderr",
     "output_type": "stream",
     "text": [
      "C:\\Users\\Teacher\\AppData\\Local\\Programs\\Python\\Python310\\lib\\site-packages\\keras\\src\\engine\\training.py:3079: UserWarning: You are saving your model as an HDF5 file via `model.save()`. This file format is considered legacy. We recommend using instead the native Keras format, e.g. `model.save('my_model.keras')`.\n",
      "  saving_api.save_model(\n"
     ]
    },
    {
     "name": "stdout",
     "output_type": "stream",
     "text": [
      "4571/4571 [==============================] - 16s 3ms/step - loss: 0.5027 - accuracy: 0.7816 - val_loss: 0.6072 - val_accuracy: 0.6356\n",
      "Fold 4 - Test Loss: 0.6072, Test Accuracy: 0.6356\n",
      "Fold 5/5\n",
      "Resampled dataset shape: Counter({0: 48757, 1: 48757, -1: 48757})\n"
     ]
    },
    {
     "name": "stderr",
     "output_type": "stream",
     "text": [
      "C:\\Users\\Teacher\\AppData\\Local\\Programs\\Python\\Python310\\lib\\site-packages\\keras\\src\\engine\\training.py:3079: UserWarning: You are saving your model as an HDF5 file via `model.save()`. This file format is considered legacy. We recommend using instead the native Keras format, e.g. `model.save('my_model.keras')`.\n",
      "  saving_api.save_model(\n"
     ]
    },
    {
     "name": "stdout",
     "output_type": "stream",
     "text": [
      "4571/4571 [==============================] - 17s 4ms/step - loss: 0.4836 - accuracy: 0.7935 - val_loss: 0.5778 - val_accuracy: 0.6739\n",
      "Fold 5 - Test Loss: 0.5778, Test Accuracy: 0.6739\n",
      "Average Accuracy across 5 folds: 0.6402\n",
      "Accuracy per fold: [0.6409944891929626, 0.6153222918510437, 0.6350826025009155, 0.6356495022773743, 0.6739289164543152]\n",
      "Accuracy:  [0.6409944891929626, 0.6153222918510437, 0.6350826025009155, 0.6356495022773743, 0.6739289164543152]\n"
     ]
    },
    {
     "name": "stderr",
     "output_type": "stream",
     "text": [
      "C:\\Users\\Teacher\\AppData\\Local\\Programs\\Python\\Python310\\lib\\site-packages\\keras\\src\\engine\\training.py:3079: UserWarning: You are saving your model as an HDF5 file via `model.save()`. This file format is considered legacy. We recommend using instead the native Keras format, e.g. `model.save('my_model.keras')`.\n",
      "  saving_api.save_model(\n"
     ]
    }
   ],
   "source": [
    "model_dir = 'models'\n",
    "fold = True\n",
    "\n",
    "dataset_feature_engineered = features_df_nonan.iloc[:, feat_idx_]\n",
    "dataset_feature_engineered_no = features_df_nonan\n",
    "\n",
    "\n",
    "if fold is True:\n",
    "    model_dir_name = os.path.join(os.getcwd(), data_dir, model_dir)\n",
    "    accuracies, histories = prepare_train_model_with_kfold(dataset_feature_engineered, model_dir_name)\n",
    "# #         predictions_accuracy_plot(xTest, yTest_onehot, history_, model_path)\n",
    "    print('Accuracy: ', accuracies)\n",
    "# else:\n",
    "#     model_name = os.path.join(os.getcwd(), data_dir, i)\n",
    "#     xTest, yTest_onehot, history_, model_path = prepare_train_model(features_df_nonan, \n",
    "#                                                                     model_name)\n",
    "#     predictions_accuracy_plot(xTest, yTest_onehot, history_, model_path)        \n",
    "        \n",
    "        "
   ]
  },
  {
   "cell_type": "code",
   "execution_count": 15,
   "id": "de5e0180",
   "metadata": {
    "collapsed": true
   },
   "outputs": [
    {
     "data": {
      "text/html": [
       "<div>\n",
       "<style scoped>\n",
       "    .dataframe tbody tr th:only-of-type {\n",
       "        vertical-align: middle;\n",
       "    }\n",
       "\n",
       "    .dataframe tbody tr th {\n",
       "        vertical-align: top;\n",
       "    }\n",
       "\n",
       "    .dataframe thead th {\n",
       "        text-align: right;\n",
       "    }\n",
       "</style>\n",
       "<table border=\"1\" class=\"dataframe\">\n",
       "  <thead>\n",
       "    <tr style=\"text-align: right;\">\n",
       "      <th></th>\n",
       "      <th>Open</th>\n",
       "      <th>High</th>\n",
       "      <th>Low</th>\n",
       "      <th>Close</th>\n",
       "      <th>Volume</th>\n",
       "      <th>Date</th>\n",
       "      <th>Signal</th>\n",
       "      <th>SMA_5</th>\n",
       "      <th>EMA_5</th>\n",
       "      <th>SMA_10</th>\n",
       "      <th>...</th>\n",
       "      <th>VWAP</th>\n",
       "      <th>VWAP_Upper</th>\n",
       "      <th>VWAP_Lower</th>\n",
       "      <th>Adaptive_Upper</th>\n",
       "      <th>Adaptive_Lower</th>\n",
       "      <th>HA_Close</th>\n",
       "      <th>HA_Open</th>\n",
       "      <th>Pivot_Point</th>\n",
       "      <th>Pivot_R1</th>\n",
       "      <th>Pivot_S1</th>\n",
       "    </tr>\n",
       "  </thead>\n",
       "  <tbody>\n",
       "    <tr>\n",
       "      <th>0</th>\n",
       "      <td>1.13379</td>\n",
       "      <td>1.13386</td>\n",
       "      <td>1.13234</td>\n",
       "      <td>1.13258</td>\n",
       "      <td>5489</td>\n",
       "      <td>8/19/2016 15:59</td>\n",
       "      <td>0</td>\n",
       "      <td>1.133356</td>\n",
       "      <td>1.133310</td>\n",
       "      <td>1.133501</td>\n",
       "      <td>...</td>\n",
       "      <td>1.126293</td>\n",
       "      <td>1.127106</td>\n",
       "      <td>1.125480</td>\n",
       "      <td>1.133765</td>\n",
       "      <td>1.131395</td>\n",
       "      <td>1.133142</td>\n",
       "      <td>1.133997</td>\n",
       "      <td>1.132927</td>\n",
       "      <td>1.133513</td>\n",
       "      <td>1.131993</td>\n",
       "    </tr>\n",
       "    <tr>\n",
       "      <th>1</th>\n",
       "      <td>1.13257</td>\n",
       "      <td>1.13344</td>\n",
       "      <td>1.13195</td>\n",
       "      <td>1.13218</td>\n",
       "      <td>6931</td>\n",
       "      <td>8/19/2016 16:59</td>\n",
       "      <td>0</td>\n",
       "      <td>1.133226</td>\n",
       "      <td>1.132933</td>\n",
       "      <td>1.133343</td>\n",
       "      <td>...</td>\n",
       "      <td>1.126350</td>\n",
       "      <td>1.127171</td>\n",
       "      <td>1.125528</td>\n",
       "      <td>1.133450</td>\n",
       "      <td>1.130910</td>\n",
       "      <td>1.132535</td>\n",
       "      <td>1.133142</td>\n",
       "      <td>1.132523</td>\n",
       "      <td>1.133097</td>\n",
       "      <td>1.131607</td>\n",
       "    </tr>\n",
       "    <tr>\n",
       "      <th>2</th>\n",
       "      <td>1.13218</td>\n",
       "      <td>1.13243</td>\n",
       "      <td>1.13064</td>\n",
       "      <td>1.13065</td>\n",
       "      <td>5163</td>\n",
       "      <td>8/19/2016 17:59</td>\n",
       "      <td>0</td>\n",
       "      <td>1.132714</td>\n",
       "      <td>1.132172</td>\n",
       "      <td>1.133034</td>\n",
       "      <td>...</td>\n",
       "      <td>1.126380</td>\n",
       "      <td>1.127328</td>\n",
       "      <td>1.125432</td>\n",
       "      <td>1.132559</td>\n",
       "      <td>1.128741</td>\n",
       "      <td>1.131475</td>\n",
       "      <td>1.132535</td>\n",
       "      <td>1.131240</td>\n",
       "      <td>1.131840</td>\n",
       "      <td>1.130050</td>\n",
       "    </tr>\n",
       "    <tr>\n",
       "      <th>3</th>\n",
       "      <td>1.13064</td>\n",
       "      <td>1.13182</td>\n",
       "      <td>1.13045</td>\n",
       "      <td>1.13172</td>\n",
       "      <td>3541</td>\n",
       "      <td>8/19/2016 18:59</td>\n",
       "      <td>0</td>\n",
       "      <td>1.132184</td>\n",
       "      <td>1.132021</td>\n",
       "      <td>1.132882</td>\n",
       "      <td>...</td>\n",
       "      <td>1.126406</td>\n",
       "      <td>1.127365</td>\n",
       "      <td>1.125447</td>\n",
       "      <td>1.133773</td>\n",
       "      <td>1.129667</td>\n",
       "      <td>1.131158</td>\n",
       "      <td>1.131475</td>\n",
       "      <td>1.131330</td>\n",
       "      <td>1.132210</td>\n",
       "      <td>1.130840</td>\n",
       "    </tr>\n",
       "    <tr>\n",
       "      <th>4</th>\n",
       "      <td>1.13171</td>\n",
       "      <td>1.13216</td>\n",
       "      <td>1.13100</td>\n",
       "      <td>1.13108</td>\n",
       "      <td>2591</td>\n",
       "      <td>8/19/2016 19:59</td>\n",
       "      <td>0</td>\n",
       "      <td>1.131642</td>\n",
       "      <td>1.131708</td>\n",
       "      <td>1.132551</td>\n",
       "      <td>...</td>\n",
       "      <td>1.126423</td>\n",
       "      <td>1.127442</td>\n",
       "      <td>1.125403</td>\n",
       "      <td>1.133385</td>\n",
       "      <td>1.128775</td>\n",
       "      <td>1.131487</td>\n",
       "      <td>1.131158</td>\n",
       "      <td>1.131413</td>\n",
       "      <td>1.131827</td>\n",
       "      <td>1.130667</td>\n",
       "    </tr>\n",
       "    <tr>\n",
       "      <th>...</th>\n",
       "      <td>...</td>\n",
       "      <td>...</td>\n",
       "      <td>...</td>\n",
       "      <td>...</td>\n",
       "      <td>...</td>\n",
       "      <td>...</td>\n",
       "      <td>...</td>\n",
       "      <td>...</td>\n",
       "      <td>...</td>\n",
       "      <td>...</td>\n",
       "      <td>...</td>\n",
       "      <td>...</td>\n",
       "      <td>...</td>\n",
       "      <td>...</td>\n",
       "      <td>...</td>\n",
       "      <td>...</td>\n",
       "      <td>...</td>\n",
       "      <td>...</td>\n",
       "      <td>...</td>\n",
       "      <td>...</td>\n",
       "      <td>...</td>\n",
       "    </tr>\n",
       "    <tr>\n",
       "      <th>61734</th>\n",
       "      <td>1.03816</td>\n",
       "      <td>1.03974</td>\n",
       "      <td>1.03770</td>\n",
       "      <td>1.03913</td>\n",
       "      <td>5104</td>\n",
       "      <td>9/4/2023 21:54</td>\n",
       "      <td>0</td>\n",
       "      <td>1.037396</td>\n",
       "      <td>1.037799</td>\n",
       "      <td>1.036832</td>\n",
       "      <td>...</td>\n",
       "      <td>1.112626</td>\n",
       "      <td>1.113907</td>\n",
       "      <td>1.111346</td>\n",
       "      <td>1.041044</td>\n",
       "      <td>1.037216</td>\n",
       "      <td>1.038683</td>\n",
       "      <td>1.037777</td>\n",
       "      <td>1.038857</td>\n",
       "      <td>1.040013</td>\n",
       "      <td>1.037973</td>\n",
       "    </tr>\n",
       "    <tr>\n",
       "      <th>61735</th>\n",
       "      <td>1.03913</td>\n",
       "      <td>1.03915</td>\n",
       "      <td>1.03749</td>\n",
       "      <td>1.03817</td>\n",
       "      <td>4389</td>\n",
       "      <td>9/4/2023 22:54</td>\n",
       "      <td>0</td>\n",
       "      <td>1.037874</td>\n",
       "      <td>1.037923</td>\n",
       "      <td>1.037015</td>\n",
       "      <td>...</td>\n",
       "      <td>1.112624</td>\n",
       "      <td>1.113761</td>\n",
       "      <td>1.111488</td>\n",
       "      <td>1.040206</td>\n",
       "      <td>1.036134</td>\n",
       "      <td>1.038485</td>\n",
       "      <td>1.038683</td>\n",
       "      <td>1.038270</td>\n",
       "      <td>1.039050</td>\n",
       "      <td>1.037390</td>\n",
       "    </tr>\n",
       "    <tr>\n",
       "      <th>61736</th>\n",
       "      <td>1.03818</td>\n",
       "      <td>1.03921</td>\n",
       "      <td>1.03803</td>\n",
       "      <td>1.03908</td>\n",
       "      <td>3521</td>\n",
       "      <td>9/4/2023 23:54</td>\n",
       "      <td>0</td>\n",
       "      <td>1.038386</td>\n",
       "      <td>1.038309</td>\n",
       "      <td>1.037282</td>\n",
       "      <td>...</td>\n",
       "      <td>1.112623</td>\n",
       "      <td>1.113716</td>\n",
       "      <td>1.111530</td>\n",
       "      <td>1.041447</td>\n",
       "      <td>1.036713</td>\n",
       "      <td>1.038625</td>\n",
       "      <td>1.038485</td>\n",
       "      <td>1.038773</td>\n",
       "      <td>1.039517</td>\n",
       "      <td>1.038337</td>\n",
       "    </tr>\n",
       "    <tr>\n",
       "      <th>61737</th>\n",
       "      <td>1.03908</td>\n",
       "      <td>1.03964</td>\n",
       "      <td>1.03785</td>\n",
       "      <td>1.03906</td>\n",
       "      <td>3663</td>\n",
       "      <td>9/5/2023 0:54</td>\n",
       "      <td>0</td>\n",
       "      <td>1.038722</td>\n",
       "      <td>1.038559</td>\n",
       "      <td>1.037564</td>\n",
       "      <td>...</td>\n",
       "      <td>1.112622</td>\n",
       "      <td>1.113800</td>\n",
       "      <td>1.111443</td>\n",
       "      <td>1.041545</td>\n",
       "      <td>1.036575</td>\n",
       "      <td>1.038907</td>\n",
       "      <td>1.038625</td>\n",
       "      <td>1.038850</td>\n",
       "      <td>1.039850</td>\n",
       "      <td>1.038060</td>\n",
       "    </tr>\n",
       "    <tr>\n",
       "      <th>61738</th>\n",
       "      <td>1.03906</td>\n",
       "      <td>1.03992</td>\n",
       "      <td>1.03869</td>\n",
       "      <td>1.03885</td>\n",
       "      <td>3749</td>\n",
       "      <td>9/5/2023 1:54</td>\n",
       "      <td>0</td>\n",
       "      <td>1.038858</td>\n",
       "      <td>1.038656</td>\n",
       "      <td>1.037823</td>\n",
       "      <td>...</td>\n",
       "      <td>1.112620</td>\n",
       "      <td>1.113828</td>\n",
       "      <td>1.111412</td>\n",
       "      <td>1.041435</td>\n",
       "      <td>1.036265</td>\n",
       "      <td>1.039130</td>\n",
       "      <td>1.038907</td>\n",
       "      <td>1.039153</td>\n",
       "      <td>1.039617</td>\n",
       "      <td>1.038387</td>\n",
       "    </tr>\n",
       "  </tbody>\n",
       "</table>\n",
       "<p>61739 rows × 77 columns</p>\n",
       "</div>"
      ],
      "text/plain": [
       "          Open     High      Low    Close  Volume             Date  Signal   \n",
       "0      1.13379  1.13386  1.13234  1.13258    5489  8/19/2016 15:59       0  \\\n",
       "1      1.13257  1.13344  1.13195  1.13218    6931  8/19/2016 16:59       0   \n",
       "2      1.13218  1.13243  1.13064  1.13065    5163  8/19/2016 17:59       0   \n",
       "3      1.13064  1.13182  1.13045  1.13172    3541  8/19/2016 18:59       0   \n",
       "4      1.13171  1.13216  1.13100  1.13108    2591  8/19/2016 19:59       0   \n",
       "...        ...      ...      ...      ...     ...              ...     ...   \n",
       "61734  1.03816  1.03974  1.03770  1.03913    5104   9/4/2023 21:54       0   \n",
       "61735  1.03913  1.03915  1.03749  1.03817    4389   9/4/2023 22:54       0   \n",
       "61736  1.03818  1.03921  1.03803  1.03908    3521   9/4/2023 23:54       0   \n",
       "61737  1.03908  1.03964  1.03785  1.03906    3663    9/5/2023 0:54       0   \n",
       "61738  1.03906  1.03992  1.03869  1.03885    3749    9/5/2023 1:54       0   \n",
       "\n",
       "          SMA_5     EMA_5    SMA_10  ...      VWAP  VWAP_Upper  VWAP_Lower   \n",
       "0      1.133356  1.133310  1.133501  ...  1.126293    1.127106    1.125480  \\\n",
       "1      1.133226  1.132933  1.133343  ...  1.126350    1.127171    1.125528   \n",
       "2      1.132714  1.132172  1.133034  ...  1.126380    1.127328    1.125432   \n",
       "3      1.132184  1.132021  1.132882  ...  1.126406    1.127365    1.125447   \n",
       "4      1.131642  1.131708  1.132551  ...  1.126423    1.127442    1.125403   \n",
       "...         ...       ...       ...  ...       ...         ...         ...   \n",
       "61734  1.037396  1.037799  1.036832  ...  1.112626    1.113907    1.111346   \n",
       "61735  1.037874  1.037923  1.037015  ...  1.112624    1.113761    1.111488   \n",
       "61736  1.038386  1.038309  1.037282  ...  1.112623    1.113716    1.111530   \n",
       "61737  1.038722  1.038559  1.037564  ...  1.112622    1.113800    1.111443   \n",
       "61738  1.038858  1.038656  1.037823  ...  1.112620    1.113828    1.111412   \n",
       "\n",
       "       Adaptive_Upper  Adaptive_Lower  HA_Close   HA_Open  Pivot_Point   \n",
       "0            1.133765        1.131395  1.133142  1.133997     1.132927  \\\n",
       "1            1.133450        1.130910  1.132535  1.133142     1.132523   \n",
       "2            1.132559        1.128741  1.131475  1.132535     1.131240   \n",
       "3            1.133773        1.129667  1.131158  1.131475     1.131330   \n",
       "4            1.133385        1.128775  1.131487  1.131158     1.131413   \n",
       "...               ...             ...       ...       ...          ...   \n",
       "61734        1.041044        1.037216  1.038683  1.037777     1.038857   \n",
       "61735        1.040206        1.036134  1.038485  1.038683     1.038270   \n",
       "61736        1.041447        1.036713  1.038625  1.038485     1.038773   \n",
       "61737        1.041545        1.036575  1.038907  1.038625     1.038850   \n",
       "61738        1.041435        1.036265  1.039130  1.038907     1.039153   \n",
       "\n",
       "       Pivot_R1  Pivot_S1  \n",
       "0      1.133513  1.131993  \n",
       "1      1.133097  1.131607  \n",
       "2      1.131840  1.130050  \n",
       "3      1.132210  1.130840  \n",
       "4      1.131827  1.130667  \n",
       "...         ...       ...  \n",
       "61734  1.040013  1.037973  \n",
       "61735  1.039050  1.037390  \n",
       "61736  1.039517  1.038337  \n",
       "61737  1.039850  1.038060  \n",
       "61738  1.039617  1.038387  \n",
       "\n",
       "[61739 rows x 77 columns]"
      ]
     },
     "execution_count": 15,
     "metadata": {},
     "output_type": "execute_result"
    }
   ],
   "source": [
    "features_df_nonan"
   ]
  },
  {
   "cell_type": "code",
   "execution_count": 20,
   "id": "212b9323",
   "metadata": {},
   "outputs": [
    {
     "name": "stdout",
     "output_type": "stream",
     "text": [
      "D:\\Repos_git\\Make_Money_with_Tensorflow_2.0\\forexPredictor\\ohlc_data\\EURUSD\\Signal_EURUSD.csv\n",
      "Fold 1/5\n",
      "Resampled dataset shape: Counter({1: 48741, 0: 48741, -1: 48741})\n",
      "4570/4570 [==============================] - 15s 3ms/step - loss: 0.2705 - accuracy: 0.9056 - val_loss: 0.1999 - val_accuracy: 0.9258\n",
      "Fold 1 - Test Loss: 0.1999, Test Accuracy: 0.9258\n",
      "Confusion matrix for fold 0 saved at D:\\Repos_git\\Make_Money_with_Tensorflow_2.0\\forexPredictor\\ohlc_data\\EURUSD\\confusion_matrix_fold0.png\n",
      "Fold 2/5\n",
      "Resampled dataset shape: Counter({1: 48741, 0: 48741, -1: 48741})\n"
     ]
    },
    {
     "name": "stderr",
     "output_type": "stream",
     "text": [
      "C:\\Users\\Teacher\\AppData\\Local\\Programs\\Python\\Python310\\lib\\site-packages\\keras\\src\\engine\\training.py:3079: UserWarning: You are saving your model as an HDF5 file via `model.save()`. This file format is considered legacy. We recommend using instead the native Keras format, e.g. `model.save('my_model.keras')`.\n",
      "  saving_api.save_model(\n"
     ]
    },
    {
     "name": "stdout",
     "output_type": "stream",
     "text": [
      "4570/4570 [==============================] - 15s 3ms/step - loss: 0.2624 - accuracy: 0.9081 - val_loss: 0.3491 - val_accuracy: 0.8763\n",
      "Fold 2 - Test Loss: 0.3491, Test Accuracy: 0.8763\n",
      "Confusion matrix for fold 1 saved at D:\\Repos_git\\Make_Money_with_Tensorflow_2.0\\forexPredictor\\ohlc_data\\EURUSD\\confusion_matrix_fold1.png\n",
      "Fold 3/5\n",
      "Resampled dataset shape: Counter({0: 48742, 1: 48742, -1: 48742})\n"
     ]
    },
    {
     "name": "stderr",
     "output_type": "stream",
     "text": [
      "C:\\Users\\Teacher\\AppData\\Local\\Programs\\Python\\Python310\\lib\\site-packages\\keras\\src\\engine\\training.py:3079: UserWarning: You are saving your model as an HDF5 file via `model.save()`. This file format is considered legacy. We recommend using instead the native Keras format, e.g. `model.save('my_model.keras')`.\n",
      "  saving_api.save_model(\n"
     ]
    },
    {
     "name": "stdout",
     "output_type": "stream",
     "text": [
      "4570/4570 [==============================] - 15s 3ms/step - loss: 0.2659 - accuracy: 0.9079 - val_loss: 0.1875 - val_accuracy: 0.9347\n",
      "Fold 3 - Test Loss: 0.1875, Test Accuracy: 0.9347\n",
      "Confusion matrix for fold 2 saved at D:\\Repos_git\\Make_Money_with_Tensorflow_2.0\\forexPredictor\\ohlc_data\\EURUSD\\confusion_matrix_fold2.png\n",
      "Fold 4/5\n",
      "Resampled dataset shape: Counter({1: 48742, 0: 48742, -1: 48742})\n"
     ]
    },
    {
     "name": "stderr",
     "output_type": "stream",
     "text": [
      "C:\\Users\\Teacher\\AppData\\Local\\Programs\\Python\\Python310\\lib\\site-packages\\keras\\src\\engine\\training.py:3079: UserWarning: You are saving your model as an HDF5 file via `model.save()`. This file format is considered legacy. We recommend using instead the native Keras format, e.g. `model.save('my_model.keras')`.\n",
      "  saving_api.save_model(\n"
     ]
    },
    {
     "name": "stdout",
     "output_type": "stream",
     "text": [
      "4570/4570 [==============================] - 15s 3ms/step - loss: 0.2680 - accuracy: 0.9057 - val_loss: 0.2534 - val_accuracy: 0.9244\n",
      "Fold 4 - Test Loss: 0.2534, Test Accuracy: 0.9244\n",
      "Confusion matrix for fold 3 saved at D:\\Repos_git\\Make_Money_with_Tensorflow_2.0\\forexPredictor\\ohlc_data\\EURUSD\\confusion_matrix_fold3.png\n",
      "Fold 5/5\n",
      "Resampled dataset shape: Counter({1: 48742, 0: 48742, -1: 48742})\n"
     ]
    },
    {
     "name": "stderr",
     "output_type": "stream",
     "text": [
      "C:\\Users\\Teacher\\AppData\\Local\\Programs\\Python\\Python310\\lib\\site-packages\\keras\\src\\engine\\training.py:3079: UserWarning: You are saving your model as an HDF5 file via `model.save()`. This file format is considered legacy. We recommend using instead the native Keras format, e.g. `model.save('my_model.keras')`.\n",
      "  saving_api.save_model(\n"
     ]
    },
    {
     "name": "stdout",
     "output_type": "stream",
     "text": [
      "4570/4570 [==============================] - 15s 3ms/step - loss: 0.2671 - accuracy: 0.9061 - val_loss: 0.1706 - val_accuracy: 0.9435\n",
      "Fold 5 - Test Loss: 0.1706, Test Accuracy: 0.9435\n",
      "Confusion matrix for fold 4 saved at D:\\Repos_git\\Make_Money_with_Tensorflow_2.0\\forexPredictor\\ohlc_data\\EURUSD\\confusion_matrix_fold4.png\n",
      "Average Accuracy across 5 folds: 0.9210\n",
      "Accuracy per fold: [0.9258179664611816, 0.8763362765312195, 0.9347209930419922, 0.9244350790977478, 0.9434680342674255]\n",
      "Accuracy:  [0.9258179664611816, 0.8763362765312195, 0.9347209930419922, 0.9244350790977478, 0.9434680342674255]\n",
      "D:\\Repos_git\\Make_Money_with_Tensorflow_2.0\\forexPredictor\\ohlc_data\\AUDUSD\\Signal_AUDUSD.csv\n"
     ]
    },
    {
     "name": "stderr",
     "output_type": "stream",
     "text": [
      "C:\\Users\\Teacher\\AppData\\Local\\Programs\\Python\\Python310\\lib\\site-packages\\keras\\src\\engine\\training.py:3079: UserWarning: You are saving your model as an HDF5 file via `model.save()`. This file format is considered legacy. We recommend using instead the native Keras format, e.g. `model.save('my_model.keras')`.\n",
      "  saving_api.save_model(\n"
     ]
    },
    {
     "name": "stdout",
     "output_type": "stream",
     "text": [
      "Fold 1/5\n",
      "Resampled dataset shape: Counter({0: 48162, 1: 48162, -1: 48162})\n",
      "4516/4516 [==============================] - 16s 3ms/step - loss: 0.3202 - accuracy: 0.8899 - val_loss: 0.2721 - val_accuracy: 0.9004\n",
      "Fold 1 - Test Loss: 0.2721, Test Accuracy: 0.9004\n",
      "Confusion matrix for fold 0 saved at D:\\Repos_git\\Make_Money_with_Tensorflow_2.0\\forexPredictor\\ohlc_data\\AUDUSD\\confusion_matrix_fold0.png\n",
      "Fold 2/5\n",
      "Resampled dataset shape: Counter({1: 48162, 0: 48162, -1: 48162})\n"
     ]
    },
    {
     "name": "stderr",
     "output_type": "stream",
     "text": [
      "C:\\Users\\Teacher\\AppData\\Local\\Programs\\Python\\Python310\\lib\\site-packages\\keras\\src\\engine\\training.py:3079: UserWarning: You are saving your model as an HDF5 file via `model.save()`. This file format is considered legacy. We recommend using instead the native Keras format, e.g. `model.save('my_model.keras')`.\n",
      "  saving_api.save_model(\n"
     ]
    },
    {
     "name": "stdout",
     "output_type": "stream",
     "text": [
      "4516/4516 [==============================] - 15s 3ms/step - loss: 0.3227 - accuracy: 0.8889 - val_loss: 0.2584 - val_accuracy: 0.9095\n",
      "Fold 2 - Test Loss: 0.2584, Test Accuracy: 0.9095\n",
      "Confusion matrix for fold 1 saved at D:\\Repos_git\\Make_Money_with_Tensorflow_2.0\\forexPredictor\\ohlc_data\\AUDUSD\\confusion_matrix_fold1.png\n",
      "Fold 3/5\n",
      "Resampled dataset shape: Counter({1: 48161, 0: 48161, -1: 48161})\n"
     ]
    },
    {
     "name": "stderr",
     "output_type": "stream",
     "text": [
      "C:\\Users\\Teacher\\AppData\\Local\\Programs\\Python\\Python310\\lib\\site-packages\\keras\\src\\engine\\training.py:3079: UserWarning: You are saving your model as an HDF5 file via `model.save()`. This file format is considered legacy. We recommend using instead the native Keras format, e.g. `model.save('my_model.keras')`.\n",
      "  saving_api.save_model(\n"
     ]
    },
    {
     "name": "stdout",
     "output_type": "stream",
     "text": [
      "4516/4516 [==============================] - 15s 3ms/step - loss: 0.3352 - accuracy: 0.8844 - val_loss: 0.1452 - val_accuracy: 0.9526\n",
      "Fold 3 - Test Loss: 0.1452, Test Accuracy: 0.9526\n",
      "Confusion matrix for fold 2 saved at D:\\Repos_git\\Make_Money_with_Tensorflow_2.0\\forexPredictor\\ohlc_data\\AUDUSD\\confusion_matrix_fold2.png\n",
      "Fold 4/5\n",
      "Resampled dataset shape: Counter({1: 48161, 0: 48161, -1: 48161})\n"
     ]
    },
    {
     "name": "stderr",
     "output_type": "stream",
     "text": [
      "C:\\Users\\Teacher\\AppData\\Local\\Programs\\Python\\Python310\\lib\\site-packages\\keras\\src\\engine\\training.py:3079: UserWarning: You are saving your model as an HDF5 file via `model.save()`. This file format is considered legacy. We recommend using instead the native Keras format, e.g. `model.save('my_model.keras')`.\n",
      "  saving_api.save_model(\n"
     ]
    },
    {
     "name": "stdout",
     "output_type": "stream",
     "text": [
      "4516/4516 [==============================] - 15s 3ms/step - loss: 0.3166 - accuracy: 0.8934 - val_loss: 3.6671 - val_accuracy: 0.0398\n",
      "Fold 4 - Test Loss: 3.6671, Test Accuracy: 0.0398\n",
      "Confusion matrix for fold 3 saved at D:\\Repos_git\\Make_Money_with_Tensorflow_2.0\\forexPredictor\\ohlc_data\\AUDUSD\\confusion_matrix_fold3.png\n",
      "Fold 5/5\n",
      "Resampled dataset shape: Counter({1: 48162, 0: 48162, -1: 48162})\n"
     ]
    },
    {
     "name": "stderr",
     "output_type": "stream",
     "text": [
      "C:\\Users\\Teacher\\AppData\\Local\\Programs\\Python\\Python310\\lib\\site-packages\\keras\\src\\engine\\training.py:3079: UserWarning: You are saving your model as an HDF5 file via `model.save()`. This file format is considered legacy. We recommend using instead the native Keras format, e.g. `model.save('my_model.keras')`.\n",
      "  saving_api.save_model(\n"
     ]
    },
    {
     "name": "stdout",
     "output_type": "stream",
     "text": [
      "4516/4516 [==============================] - 16s 3ms/step - loss: 0.3241 - accuracy: 0.8890 - val_loss: 0.2692 - val_accuracy: 0.9059\n",
      "Fold 5 - Test Loss: 0.2692, Test Accuracy: 0.9059\n",
      "Confusion matrix for fold 4 saved at D:\\Repos_git\\Make_Money_with_Tensorflow_2.0\\forexPredictor\\ohlc_data\\AUDUSD\\confusion_matrix_fold4.png\n",
      "Average Accuracy across 5 folds: 0.7416\n",
      "Accuracy per fold: [0.9003887176513672, 0.9094589948654175, 0.9526200890541077, 0.039766743779182434, 0.9058880805969238]\n",
      "Accuracy:  [0.9003887176513672, 0.9094589948654175, 0.9526200890541077, 0.039766743779182434, 0.9058880805969238]\n",
      "D:\\Repos_git\\Make_Money_with_Tensorflow_2.0\\forexPredictor\\ohlc_data\\GBPUSD\\Signal_GBPUSD.csv\n"
     ]
    },
    {
     "name": "stderr",
     "output_type": "stream",
     "text": [
      "C:\\Users\\Teacher\\AppData\\Local\\Programs\\Python\\Python310\\lib\\site-packages\\keras\\src\\engine\\training.py:3079: UserWarning: You are saving your model as an HDF5 file via `model.save()`. This file format is considered legacy. We recommend using instead the native Keras format, e.g. `model.save('my_model.keras')`.\n",
      "  saving_api.save_model(\n"
     ]
    },
    {
     "name": "stdout",
     "output_type": "stream",
     "text": [
      "Fold 1/5\n",
      "Resampled dataset shape: Counter({1: 48501, 0: 48501, -1: 48501})\n",
      "4547/4547 [==============================] - 15s 3ms/step - loss: 0.3249 - accuracy: 0.8916 - val_loss: 0.5494 - val_accuracy: 0.7792\n",
      "Fold 1 - Test Loss: 0.5494, Test Accuracy: 0.7792\n",
      "Confusion matrix for fold 0 saved at D:\\Repos_git\\Make_Money_with_Tensorflow_2.0\\forexPredictor\\ohlc_data\\GBPUSD\\confusion_matrix_fold0.png\n",
      "Fold 2/5\n",
      "Resampled dataset shape: Counter({1: 48501, 0: 48501, -1: 48501})\n"
     ]
    },
    {
     "name": "stderr",
     "output_type": "stream",
     "text": [
      "C:\\Users\\Teacher\\AppData\\Local\\Programs\\Python\\Python310\\lib\\site-packages\\keras\\src\\engine\\training.py:3079: UserWarning: You are saving your model as an HDF5 file via `model.save()`. This file format is considered legacy. We recommend using instead the native Keras format, e.g. `model.save('my_model.keras')`.\n",
      "  saving_api.save_model(\n"
     ]
    },
    {
     "name": "stdout",
     "output_type": "stream",
     "text": [
      "4547/4547 [==============================] - 16s 3ms/step - loss: 0.3205 - accuracy: 0.8934 - val_loss: 0.2511 - val_accuracy: 0.9124\n",
      "Fold 2 - Test Loss: 0.2511, Test Accuracy: 0.9124\n",
      "Confusion matrix for fold 1 saved at D:\\Repos_git\\Make_Money_with_Tensorflow_2.0\\forexPredictor\\ohlc_data\\GBPUSD\\confusion_matrix_fold1.png\n",
      "Fold 3/5\n",
      "Resampled dataset shape: Counter({1: 48502, 0: 48502, -1: 48502})\n"
     ]
    },
    {
     "name": "stderr",
     "output_type": "stream",
     "text": [
      "C:\\Users\\Teacher\\AppData\\Local\\Programs\\Python\\Python310\\lib\\site-packages\\keras\\src\\engine\\training.py:3079: UserWarning: You are saving your model as an HDF5 file via `model.save()`. This file format is considered legacy. We recommend using instead the native Keras format, e.g. `model.save('my_model.keras')`.\n",
      "  saving_api.save_model(\n"
     ]
    },
    {
     "name": "stdout",
     "output_type": "stream",
     "text": [
      "4548/4548 [==============================] - 16s 3ms/step - loss: 0.3030 - accuracy: 0.8994 - val_loss: 0.2099 - val_accuracy: 0.9328\n",
      "Fold 3 - Test Loss: 0.2099, Test Accuracy: 0.9328\n",
      "Confusion matrix for fold 2 saved at D:\\Repos_git\\Make_Money_with_Tensorflow_2.0\\forexPredictor\\ohlc_data\\GBPUSD\\confusion_matrix_fold2.png\n",
      "Fold 4/5\n",
      "Resampled dataset shape: Counter({1: 48502, 0: 48502, -1: 48502})\n"
     ]
    },
    {
     "name": "stderr",
     "output_type": "stream",
     "text": [
      "C:\\Users\\Teacher\\AppData\\Local\\Programs\\Python\\Python310\\lib\\site-packages\\keras\\src\\engine\\training.py:3079: UserWarning: You are saving your model as an HDF5 file via `model.save()`. This file format is considered legacy. We recommend using instead the native Keras format, e.g. `model.save('my_model.keras')`.\n",
      "  saving_api.save_model(\n"
     ]
    },
    {
     "name": "stdout",
     "output_type": "stream",
     "text": [
      "4548/4548 [==============================] - 16s 3ms/step - loss: 0.3329 - accuracy: 0.8870 - val_loss: 0.2569 - val_accuracy: 0.9158\n",
      "Fold 4 - Test Loss: 0.2569, Test Accuracy: 0.9158\n",
      "Confusion matrix for fold 3 saved at D:\\Repos_git\\Make_Money_with_Tensorflow_2.0\\forexPredictor\\ohlc_data\\GBPUSD\\confusion_matrix_fold3.png\n",
      "Fold 5/5\n",
      "Resampled dataset shape: Counter({0: 48502, 1: 48502, -1: 48502})\n"
     ]
    },
    {
     "name": "stderr",
     "output_type": "stream",
     "text": [
      "C:\\Users\\Teacher\\AppData\\Local\\Programs\\Python\\Python310\\lib\\site-packages\\keras\\src\\engine\\training.py:3079: UserWarning: You are saving your model as an HDF5 file via `model.save()`. This file format is considered legacy. We recommend using instead the native Keras format, e.g. `model.save('my_model.keras')`.\n",
      "  saving_api.save_model(\n"
     ]
    },
    {
     "name": "stdout",
     "output_type": "stream",
     "text": [
      "4548/4548 [==============================] - 16s 3ms/step - loss: 0.3221 - accuracy: 0.8921 - val_loss: 0.1947 - val_accuracy: 0.9376\n",
      "Fold 5 - Test Loss: 0.1947, Test Accuracy: 0.9376\n",
      "Confusion matrix for fold 4 saved at D:\\Repos_git\\Make_Money_with_Tensorflow_2.0\\forexPredictor\\ohlc_data\\GBPUSD\\confusion_matrix_fold4.png\n",
      "Average Accuracy across 5 folds: 0.8955\n",
      "Accuracy per fold: [0.7792354822158813, 0.9123674035072327, 0.9327771663665771, 0.9157690405845642, 0.9375556707382202]\n",
      "Accuracy:  [0.7792354822158813, 0.9123674035072327, 0.9327771663665771, 0.9157690405845642, 0.9375556707382202]\n",
      "D:\\Repos_git\\Make_Money_with_Tensorflow_2.0\\forexPredictor\\ohlc_data\\USDCAD\\Signal_USDCAD.csv\n"
     ]
    },
    {
     "name": "stderr",
     "output_type": "stream",
     "text": [
      "C:\\Users\\Teacher\\AppData\\Local\\Programs\\Python\\Python310\\lib\\site-packages\\keras\\src\\engine\\training.py:3079: UserWarning: You are saving your model as an HDF5 file via `model.save()`. This file format is considered legacy. We recommend using instead the native Keras format, e.g. `model.save('my_model.keras')`.\n",
      "  saving_api.save_model(\n"
     ]
    },
    {
     "name": "stdout",
     "output_type": "stream",
     "text": [
      "Fold 1/5\n",
      "Resampled dataset shape: Counter({0: 48868, -1: 48868, 1: 48868})\n",
      "4582/4582 [==============================] - 15s 3ms/step - loss: 0.2608 - accuracy: 0.9038 - val_loss: 1.3475 - val_accuracy: 0.3804\n",
      "Fold 1 - Test Loss: 1.3475, Test Accuracy: 0.3804\n",
      "Confusion matrix for fold 0 saved at D:\\Repos_git\\Make_Money_with_Tensorflow_2.0\\forexPredictor\\ohlc_data\\USDCAD\\confusion_matrix_fold0.png\n",
      "Fold 2/5\n",
      "Resampled dataset shape: Counter({0: 48869, -1: 48869, 1: 48869})\n"
     ]
    },
    {
     "name": "stderr",
     "output_type": "stream",
     "text": [
      "C:\\Users\\Teacher\\AppData\\Local\\Programs\\Python\\Python310\\lib\\site-packages\\keras\\src\\engine\\training.py:3079: UserWarning: You are saving your model as an HDF5 file via `model.save()`. This file format is considered legacy. We recommend using instead the native Keras format, e.g. `model.save('my_model.keras')`.\n",
      "  saving_api.save_model(\n"
     ]
    },
    {
     "name": "stdout",
     "output_type": "stream",
     "text": [
      "4582/4582 [==============================] - 15s 3ms/step - loss: 0.2775 - accuracy: 0.8948 - val_loss: 0.2733 - val_accuracy: 0.9117\n",
      "Fold 2 - Test Loss: 0.2733, Test Accuracy: 0.9117\n",
      "Confusion matrix for fold 1 saved at D:\\Repos_git\\Make_Money_with_Tensorflow_2.0\\forexPredictor\\ohlc_data\\USDCAD\\confusion_matrix_fold1.png\n",
      "Fold 3/5\n",
      "Resampled dataset shape: Counter({0: 48869, -1: 48869, 1: 48869})\n"
     ]
    },
    {
     "name": "stderr",
     "output_type": "stream",
     "text": [
      "C:\\Users\\Teacher\\AppData\\Local\\Programs\\Python\\Python310\\lib\\site-packages\\keras\\src\\engine\\training.py:3079: UserWarning: You are saving your model as an HDF5 file via `model.save()`. This file format is considered legacy. We recommend using instead the native Keras format, e.g. `model.save('my_model.keras')`.\n",
      "  saving_api.save_model(\n"
     ]
    },
    {
     "name": "stdout",
     "output_type": "stream",
     "text": [
      "4582/4582 [==============================] - 15s 3ms/step - loss: 0.2729 - accuracy: 0.8985 - val_loss: 0.1691 - val_accuracy: 0.9308\n",
      "Fold 3 - Test Loss: 0.1691, Test Accuracy: 0.9308\n",
      "Confusion matrix for fold 2 saved at D:\\Repos_git\\Make_Money_with_Tensorflow_2.0\\forexPredictor\\ohlc_data\\USDCAD\\confusion_matrix_fold2.png\n",
      "Fold 4/5\n",
      "Resampled dataset shape: Counter({0: 48869, -1: 48869, 1: 48869})\n"
     ]
    },
    {
     "name": "stderr",
     "output_type": "stream",
     "text": [
      "C:\\Users\\Teacher\\AppData\\Local\\Programs\\Python\\Python310\\lib\\site-packages\\keras\\src\\engine\\training.py:3079: UserWarning: You are saving your model as an HDF5 file via `model.save()`. This file format is considered legacy. We recommend using instead the native Keras format, e.g. `model.save('my_model.keras')`.\n",
      "  saving_api.save_model(\n"
     ]
    },
    {
     "name": "stdout",
     "output_type": "stream",
     "text": [
      "4582/4582 [==============================] - 16s 3ms/step - loss: 0.2935 - accuracy: 0.8915 - val_loss: 0.1989 - val_accuracy: 0.9082\n",
      "Fold 4 - Test Loss: 0.1989, Test Accuracy: 0.9082\n",
      "Confusion matrix for fold 3 saved at D:\\Repos_git\\Make_Money_with_Tensorflow_2.0\\forexPredictor\\ohlc_data\\USDCAD\\confusion_matrix_fold3.png\n",
      "Fold 5/5\n",
      "Resampled dataset shape: Counter({0: 48869, 1: 48869, -1: 48869})\n"
     ]
    },
    {
     "name": "stderr",
     "output_type": "stream",
     "text": [
      "C:\\Users\\Teacher\\AppData\\Local\\Programs\\Python\\Python310\\lib\\site-packages\\keras\\src\\engine\\training.py:3079: UserWarning: You are saving your model as an HDF5 file via `model.save()`. This file format is considered legacy. We recommend using instead the native Keras format, e.g. `model.save('my_model.keras')`.\n",
      "  saving_api.save_model(\n"
     ]
    },
    {
     "name": "stdout",
     "output_type": "stream",
     "text": [
      "4582/4582 [==============================] - 15s 3ms/step - loss: 0.2717 - accuracy: 0.8990 - val_loss: 0.3119 - val_accuracy: 0.8961\n",
      "Fold 5 - Test Loss: 0.3119, Test Accuracy: 0.8961\n",
      "Confusion matrix for fold 4 saved at D:\\Repos_git\\Make_Money_with_Tensorflow_2.0\\forexPredictor\\ohlc_data\\USDCAD\\confusion_matrix_fold4.png\n",
      "Average Accuracy across 5 folds: 0.8055\n",
      "Accuracy per fold: [0.38038548827171326, 0.9117265939712524, 0.9308333992958069, 0.9082368016242981, 0.8960881233215332]\n",
      "Accuracy:  [0.38038548827171326, 0.9117265939712524, 0.9308333992958069, 0.9082368016242981, 0.8960881233215332]\n",
      "D:\\Repos_git\\Make_Money_with_Tensorflow_2.0\\forexPredictor\\ohlc_data\\USDCHF\\Signal_USDCHF.csv\n"
     ]
    },
    {
     "name": "stderr",
     "output_type": "stream",
     "text": [
      "C:\\Users\\Teacher\\AppData\\Local\\Programs\\Python\\Python310\\lib\\site-packages\\keras\\src\\engine\\training.py:3079: UserWarning: You are saving your model as an HDF5 file via `model.save()`. This file format is considered legacy. We recommend using instead the native Keras format, e.g. `model.save('my_model.keras')`.\n",
      "  saving_api.save_model(\n"
     ]
    },
    {
     "name": "stdout",
     "output_type": "stream",
     "text": [
      "Fold 1/5\n",
      "Resampled dataset shape: Counter({-1: 48732, 0: 48732, 1: 48732})\n",
      "4569/4569 [==============================] - 16s 3ms/step - loss: 0.3497 - accuracy: 0.8763 - val_loss: 0.2169 - val_accuracy: 0.9287\n",
      "Fold 1 - Test Loss: 0.2169, Test Accuracy: 0.9287\n",
      "Confusion matrix for fold 0 saved at D:\\Repos_git\\Make_Money_with_Tensorflow_2.0\\forexPredictor\\ohlc_data\\USDCHF\\confusion_matrix_fold0.png\n",
      "Fold 2/5\n",
      "Resampled dataset shape: Counter({-1: 48732, 0: 48732, 1: 48732})\n"
     ]
    },
    {
     "name": "stderr",
     "output_type": "stream",
     "text": [
      "C:\\Users\\Teacher\\AppData\\Local\\Programs\\Python\\Python310\\lib\\site-packages\\keras\\src\\engine\\training.py:3079: UserWarning: You are saving your model as an HDF5 file via `model.save()`. This file format is considered legacy. We recommend using instead the native Keras format, e.g. `model.save('my_model.keras')`.\n",
      "  saving_api.save_model(\n"
     ]
    },
    {
     "name": "stdout",
     "output_type": "stream",
     "text": [
      "4569/4569 [==============================] - 16s 3ms/step - loss: 0.3449 - accuracy: 0.8732 - val_loss: 0.2200 - val_accuracy: 0.9197\n",
      "Fold 2 - Test Loss: 0.2200, Test Accuracy: 0.9197\n",
      "Confusion matrix for fold 1 saved at D:\\Repos_git\\Make_Money_with_Tensorflow_2.0\\forexPredictor\\ohlc_data\\USDCHF\\confusion_matrix_fold1.png\n",
      "Fold 3/5\n",
      "Resampled dataset shape: Counter({-1: 48732, 0: 48732, 1: 48732})\n"
     ]
    },
    {
     "name": "stderr",
     "output_type": "stream",
     "text": [
      "C:\\Users\\Teacher\\AppData\\Local\\Programs\\Python\\Python310\\lib\\site-packages\\keras\\src\\engine\\training.py:3079: UserWarning: You are saving your model as an HDF5 file via `model.save()`. This file format is considered legacy. We recommend using instead the native Keras format, e.g. `model.save('my_model.keras')`.\n",
      "  saving_api.save_model(\n"
     ]
    },
    {
     "name": "stdout",
     "output_type": "stream",
     "text": [
      "4569/4569 [==============================] - 16s 3ms/step - loss: 0.3270 - accuracy: 0.8832 - val_loss: 0.1405 - val_accuracy: 0.9514\n",
      "Fold 3 - Test Loss: 0.1405, Test Accuracy: 0.9514\n",
      "Confusion matrix for fold 2 saved at D:\\Repos_git\\Make_Money_with_Tensorflow_2.0\\forexPredictor\\ohlc_data\\USDCHF\\confusion_matrix_fold2.png\n",
      "Fold 4/5\n",
      "Resampled dataset shape: Counter({0: 48732, -1: 48732, 1: 48732})\n"
     ]
    },
    {
     "name": "stderr",
     "output_type": "stream",
     "text": [
      "C:\\Users\\Teacher\\AppData\\Local\\Programs\\Python\\Python310\\lib\\site-packages\\keras\\src\\engine\\training.py:3079: UserWarning: You are saving your model as an HDF5 file via `model.save()`. This file format is considered legacy. We recommend using instead the native Keras format, e.g. `model.save('my_model.keras')`.\n",
      "  saving_api.save_model(\n"
     ]
    },
    {
     "name": "stdout",
     "output_type": "stream",
     "text": [
      "4569/4569 [==============================] - 15s 3ms/step - loss: 0.3438 - accuracy: 0.8750 - val_loss: 0.1882 - val_accuracy: 0.9427\n",
      "Fold 4 - Test Loss: 0.1882, Test Accuracy: 0.9427\n",
      "Confusion matrix for fold 3 saved at D:\\Repos_git\\Make_Money_with_Tensorflow_2.0\\forexPredictor\\ohlc_data\\USDCHF\\confusion_matrix_fold3.png\n",
      "Fold 5/5\n",
      "Resampled dataset shape: Counter({-1: 48732, 0: 48732, 1: 48732})\n"
     ]
    },
    {
     "name": "stderr",
     "output_type": "stream",
     "text": [
      "C:\\Users\\Teacher\\AppData\\Local\\Programs\\Python\\Python310\\lib\\site-packages\\keras\\src\\engine\\training.py:3079: UserWarning: You are saving your model as an HDF5 file via `model.save()`. This file format is considered legacy. We recommend using instead the native Keras format, e.g. `model.save('my_model.keras')`.\n",
      "  saving_api.save_model(\n"
     ]
    },
    {
     "name": "stdout",
     "output_type": "stream",
     "text": [
      "4569/4569 [==============================] - 15s 3ms/step - loss: 0.3637 - accuracy: 0.8692 - val_loss: 0.1996 - val_accuracy: 0.9352\n",
      "Fold 5 - Test Loss: 0.1996, Test Accuracy: 0.9352\n",
      "Confusion matrix for fold 4 saved at D:\\Repos_git\\Make_Money_with_Tensorflow_2.0\\forexPredictor\\ohlc_data\\USDCHF\\confusion_matrix_fold4.png\n",
      "Average Accuracy across 5 folds: 0.9355\n",
      "Accuracy per fold: [0.9286524057388306, 0.9197375774383545, 0.9514052271842957, 0.9427391290664673, 0.935206949710846]\n",
      "Accuracy:  [0.9286524057388306, 0.9197375774383545, 0.9514052271842957, 0.9427391290664673, 0.935206949710846]\n",
      "D:\\Repos_git\\Make_Money_with_Tensorflow_2.0\\forexPredictor\\ohlc_data\\USDJPY\\Signal_USDJPY.csv\n"
     ]
    },
    {
     "name": "stderr",
     "output_type": "stream",
     "text": [
      "C:\\Users\\Teacher\\AppData\\Local\\Programs\\Python\\Python310\\lib\\site-packages\\keras\\src\\engine\\training.py:3079: UserWarning: You are saving your model as an HDF5 file via `model.save()`. This file format is considered legacy. We recommend using instead the native Keras format, e.g. `model.save('my_model.keras')`.\n",
      "  saving_api.save_model(\n"
     ]
    },
    {
     "name": "stdout",
     "output_type": "stream",
     "text": [
      "Fold 1/5\n",
      "Resampled dataset shape: Counter({-1: 48599, 0: 48599, 1: 48599})\n",
      "4557/4557 [==============================] - 16s 3ms/step - loss: 0.3117 - accuracy: 0.8931 - val_loss: 0.2037 - val_accuracy: 0.9287\n",
      "Fold 1 - Test Loss: 0.2037, Test Accuracy: 0.9287\n",
      "Confusion matrix for fold 0 saved at D:\\Repos_git\\Make_Money_with_Tensorflow_2.0\\forexPredictor\\ohlc_data\\USDJPY\\confusion_matrix_fold0.png\n",
      "Fold 2/5\n",
      "Resampled dataset shape: Counter({0: 48599, -1: 48599, 1: 48599})\n"
     ]
    },
    {
     "name": "stderr",
     "output_type": "stream",
     "text": [
      "C:\\Users\\Teacher\\AppData\\Local\\Programs\\Python\\Python310\\lib\\site-packages\\keras\\src\\engine\\training.py:3079: UserWarning: You are saving your model as an HDF5 file via `model.save()`. This file format is considered legacy. We recommend using instead the native Keras format, e.g. `model.save('my_model.keras')`.\n",
      "  saving_api.save_model(\n"
     ]
    },
    {
     "name": "stdout",
     "output_type": "stream",
     "text": [
      "4557/4557 [==============================] - 16s 3ms/step - loss: 0.3169 - accuracy: 0.8902 - val_loss: 0.1854 - val_accuracy: 0.9383\n",
      "Fold 2 - Test Loss: 0.1854, Test Accuracy: 0.9383\n",
      "Confusion matrix for fold 1 saved at D:\\Repos_git\\Make_Money_with_Tensorflow_2.0\\forexPredictor\\ohlc_data\\USDJPY\\confusion_matrix_fold1.png\n",
      "Fold 3/5\n",
      "Resampled dataset shape: Counter({-1: 48599, 0: 48599, 1: 48599})\n"
     ]
    },
    {
     "name": "stderr",
     "output_type": "stream",
     "text": [
      "C:\\Users\\Teacher\\AppData\\Local\\Programs\\Python\\Python310\\lib\\site-packages\\keras\\src\\engine\\training.py:3079: UserWarning: You are saving your model as an HDF5 file via `model.save()`. This file format is considered legacy. We recommend using instead the native Keras format, e.g. `model.save('my_model.keras')`.\n",
      "  saving_api.save_model(\n"
     ]
    },
    {
     "name": "stdout",
     "output_type": "stream",
     "text": [
      "4557/4557 [==============================] - 15s 3ms/step - loss: 0.3248 - accuracy: 0.8868 - val_loss: 0.2096 - val_accuracy: 0.9217\n",
      "Fold 3 - Test Loss: 0.2096, Test Accuracy: 0.9217\n",
      "Confusion matrix for fold 2 saved at D:\\Repos_git\\Make_Money_with_Tensorflow_2.0\\forexPredictor\\ohlc_data\\USDJPY\\confusion_matrix_fold2.png\n",
      "Fold 4/5\n",
      "Resampled dataset shape: Counter({-1: 48600, 0: 48600, 1: 48600})\n"
     ]
    },
    {
     "name": "stderr",
     "output_type": "stream",
     "text": [
      "C:\\Users\\Teacher\\AppData\\Local\\Programs\\Python\\Python310\\lib\\site-packages\\keras\\src\\engine\\training.py:3079: UserWarning: You are saving your model as an HDF5 file via `model.save()`. This file format is considered legacy. We recommend using instead the native Keras format, e.g. `model.save('my_model.keras')`.\n",
      "  saving_api.save_model(\n"
     ]
    },
    {
     "name": "stdout",
     "output_type": "stream",
     "text": [
      "4557/4557 [==============================] - 15s 3ms/step - loss: 0.3055 - accuracy: 0.8943 - val_loss: 0.2179 - val_accuracy: 0.9302\n",
      "Fold 4 - Test Loss: 0.2179, Test Accuracy: 0.9302\n",
      "Confusion matrix for fold 3 saved at D:\\Repos_git\\Make_Money_with_Tensorflow_2.0\\forexPredictor\\ohlc_data\\USDJPY\\confusion_matrix_fold3.png\n",
      "Fold 5/5\n",
      "Resampled dataset shape: Counter({-1: 48599, 0: 48599, 1: 48599})\n"
     ]
    },
    {
     "name": "stderr",
     "output_type": "stream",
     "text": [
      "C:\\Users\\Teacher\\AppData\\Local\\Programs\\Python\\Python310\\lib\\site-packages\\keras\\src\\engine\\training.py:3079: UserWarning: You are saving your model as an HDF5 file via `model.save()`. This file format is considered legacy. We recommend using instead the native Keras format, e.g. `model.save('my_model.keras')`.\n",
      "  saving_api.save_model(\n"
     ]
    },
    {
     "name": "stdout",
     "output_type": "stream",
     "text": [
      "4557/4557 [==============================] - 16s 3ms/step - loss: 0.3121 - accuracy: 0.8916 - val_loss: 0.2345 - val_accuracy: 0.9286\n",
      "Fold 5 - Test Loss: 0.2345, Test Accuracy: 0.9286\n",
      "Confusion matrix for fold 4 saved at D:\\Repos_git\\Make_Money_with_Tensorflow_2.0\\forexPredictor\\ohlc_data\\USDJPY\\confusion_matrix_fold4.png\n",
      "Average Accuracy across 5 folds: 0.9295\n",
      "Accuracy per fold: [0.9286524057388306, 0.9382895827293396, 0.9216814041137695, 0.9301854968070984, 0.9285656213760376]\n",
      "Accuracy:  [0.9286524057388306, 0.9382895827293396, 0.9216814041137695, 0.9301854968070984, 0.9285656213760376]\n"
     ]
    },
    {
     "name": "stderr",
     "output_type": "stream",
     "text": [
      "C:\\Users\\Teacher\\AppData\\Local\\Programs\\Python\\Python310\\lib\\site-packages\\keras\\src\\engine\\training.py:3079: UserWarning: You are saving your model as an HDF5 file via `model.save()`. This file format is considered legacy. We recommend using instead the native Keras format, e.g. `model.save('my_model.keras')`.\n",
      "  saving_api.save_model(\n"
     ]
    }
   ],
   "source": [
    "data_dir = 'ohlc_data'\n",
    "symbols = ['EURUSD', 'AUDUSD', 'GBPUSD', 'USDCAD', 'USDCHF', 'USDJPY']\n",
    "dataset = []\n",
    "\n",
    "# break point\n",
    "fold = True\n",
    "\n",
    "for i in symbols:\n",
    "    data_path = os.path.join(os.getcwd(), data_dir, i, 'Signal_'+i+'.csv')\n",
    "    print(data_path)\n",
    "    \n",
    "    data = pd.read_csv(data_path, index_col=0)\n",
    "    data['Signal'] = data['Signal'].map({'Buy': 1, 'Sell': -1, 'Hold': 0})\n",
    "    \n",
    "    features_df = feature_generate(data)\n",
    "    features_df_nonan = features_df.dropna().reset_index().drop(columns=['index'])\n",
    "    \n",
    "    if fold is True:\n",
    "        model_name = os.path.join(os.getcwd(), data_dir, i, 'Model_'+i+'.h5')\n",
    "        accuracies, histories = prepare_train_model_with_kfold(features_df_nonan, model_name)\n",
    "#         predictions_accuracy_plot(xTest, yTest_onehot, history_, model_path)\n",
    "        print('Accuracy: ', accuracies)\n",
    "    else:\n",
    "        model_name = os.path.join(os.getcwd(), data_dir, i)\n",
    "        xTest, yTest_onehot, history_, model_path = prepare_train_model(features_df_nonan, \n",
    "                                                                        model_name)\n",
    "        predictions_accuracy_plot(xTest, yTest_onehot, history_, model_path)        \n",
    "        \n",
    "        "
   ]
  },
  {
   "cell_type": "code",
   "execution_count": 1,
   "id": "e0bc2659",
   "metadata": {},
   "outputs": [],
   "source": [
    "from sklearn.model_selection import StratifiedKFold\n",
    "from sklearn.metrics import accuracy_score, confusion_matrix, classification_report\n",
    "\n",
    "def prepare_train_model_with_kfold(df, model_saved_path, k=5):\n",
    "    # Exclude the 'Signal' column and select only numeric data\n",
    "    X = df.drop(columns=['Signal']).select_dtypes(include=[np.number]).values\n",
    "    y = df['Signal'].values  # Target variable\n",
    "    \n",
    "    # K-fold cross-validation setup\n",
    "    skf = StratifiedKFold(n_splits=k, shuffle=True, random_state=42)\n",
    "    fold_accuracies = []\n",
    "    fold_histories = []\n",
    "\n",
    "    for fold, (train_index, test_index) in enumerate(skf.split(X, y)):\n",
    "        print(f\"Fold {fold + 1}/{k}\")\n",
    "\n",
    "        x_train, x_test = X[train_index], X[test_index]\n",
    "        y_train, y_test = y[train_index], y[test_index]\n",
    "\n",
    "        # Handle class imbalance using SMOTE or other techniques (optional)\n",
    "        smote = RandomOverSampler(random_state=42, sampling_strategy='not majority')\n",
    "        x_train, y_train = smote.fit_resample(x_train, y_train)\n",
    "        print('Resampled dataset shape:', Counter(y_train))\n",
    "\n",
    "        # Scaling\n",
    "        scaler = MinMaxScaler(feature_range=(0, 1))\n",
    "        x_train = scaler.fit_transform(x_train)\n",
    "        x_test = scaler.transform(x_test)\n",
    "\n",
    "        # Reshape inputs for CNN\n",
    "        x_train = x_train.reshape((x_train.shape[0], x_train.shape[1], 1))\n",
    "        x_test = x_test.reshape((x_test.shape[0], x_test.shape[1], 1))\n",
    "\n",
    "        # Normalize data if needed\n",
    "        x_train = x_train / np.max(x_train)\n",
    "        x_test = x_test / np.max(x_test)\n",
    "\n",
    "        # Convert labels to one-hot encoding\n",
    "        y_train_onehot = to_categorical(y_train, num_classes=3)\n",
    "        y_test_onehot = to_categorical(y_test, num_classes=3)\n",
    "\n",
    "        # Define the model\n",
    "        model = Sequential([\n",
    "            Conv1D(filters=64, kernel_size=3, activation='relu', input_shape=(x_train.shape[1], 1)),\n",
    "            MaxPooling1D(pool_size=2),\n",
    "            Dropout(0.2),\n",
    "            Conv1D(filters=128, kernel_size=3, activation='relu'),\n",
    "            MaxPooling1D(pool_size=2),\n",
    "            Flatten(),\n",
    "            Dense(64, activation='relu'),\n",
    "            Dropout(0.5),\n",
    "            Dense(3, activation='softmax')  # 3 classes: 0, 1, 2\n",
    "        ])\n",
    "\n",
    "        # Compile the model\n",
    "        model.compile(optimizer='adam', \n",
    "                      loss='categorical_crossentropy', \n",
    "                      metrics=['accuracy'])\n",
    "\n",
    "        # Train the model\n",
    "        history = model.fit(\n",
    "            x_train, y_train_onehot, \n",
    "            epochs=1, \n",
    "            batch_size=32, \n",
    "            validation_data=(x_test, y_test_onehot),\n",
    "            verbose=1\n",
    "        )\n",
    "\n",
    "        # Evaluate the model on the test set\n",
    "        test_loss, test_accuracy = model.evaluate(x_test, y_test_onehot, verbose=0)\n",
    "        print(f\"Fold {fold + 1} - Test Loss: {test_loss:.4f}, Test Accuracy: {test_accuracy:.4f}\")\n",
    "\n",
    "        # Save fold results\n",
    "        fold_accuracies.append(test_accuracy)\n",
    "        fold_histories.append(history)\n",
    "\n",
    "        # Ensure the directory exists before saving the model\n",
    "        model_dir = os.path.dirname(model_saved_path)\n",
    "        if not os.path.exists(model_dir):\n",
    "            os.makedirs(model_dir)\n",
    "        \n",
    "        saved_path = os.path.join(model_dir, f\"model_fold{fold + 1}.h5\")\n",
    "        \n",
    "        # Save the model in the specified directory with a fold-specific name\n",
    "        model.save(saved_path)\n",
    "        \n",
    "        # Save the plot as an image\n",
    "#         file_path = os.path.join(model_dir, f\"confusion_matrix_fold{fold}.png\")\n",
    "#         plt.savefig(file_path)\n",
    "#         plt.close()  # Close the plot to free memory\n",
    "#         print(f\"Confusion matrix for fold {fold} saved at {file_path}\")\n",
    "        \n",
    "        \n",
    "    # Final evaluation metrics\n",
    "    print(f\"Average Accuracy across {k} folds: {np.mean(fold_accuracies):.4f}\")\n",
    "    print(f\"Accuracy per fold: {fold_accuracies}\")\n",
    "    \n",
    "    return fold_accuracies, fold_histories\n"
   ]
  },
  {
   "cell_type": "code",
   "execution_count": 12,
   "id": "c0556de1",
   "metadata": {},
   "outputs": [],
   "source": []
  },
  {
   "cell_type": "code",
   "execution_count": 21,
   "id": "61628c8d",
   "metadata": {},
   "outputs": [
    {
     "data": {
      "image/png": "[encoded data removed]",
      "text/plain": [
       "<Figure size 1000x600 with 1 Axes>"
      ]
     },
     "metadata": {},
     "output_type": "display_data"
    }
   ],
   "source": [
    "import matplotlib.pyplot as plt\n",
    "import numpy as np\n",
    "\n",
    "# Data extracted from the lines\n",
    "lines = [\n",
    "    [0.9258179664611816, 0.8763362765312195, 0.9347209930419922, 0.9244350790977478, 0.9434680342674255],\n",
    "    [0.9003887176513672, 0.9094589948654175, 0.9526200890541077, 0.039766743779182434, 0.9058880805969238],\n",
    "    [0.7792354822158813, 0.9123674035072327, 0.9327771663665771, 0.9157690405845642, 0.9375556707382202],\n",
    "    [0.38038548827171326, 0.9117265939712524, 0.9308333992958069, 0.9082368016242981, 0.8960881233215332],\n",
    "    [0.9286524057388306, 0.9197375774383545, 0.9514052271842957, 0.9427391290664673, 0.935206949710846],\n",
    "    [0.9286524057388306, 0.9382895827293396, 0.9216814041137695, 0.9301854968070984, 0.9285656213760376]\n",
    "]\n",
    "\n",
    "# Line numbers corresponding to each set of accuracies\n",
    "line_numbers = [37, 76, 115, 154, 193, 232]\n",
    "\n",
    "# Generate the chart\n",
    "plt.figure(figsize=(10, 6))\n",
    "\n",
    "# Plot each line of accuracies\n",
    "for i, acc in enumerate(lines):\n",
    "    plt.plot(range(1, len(acc) + 1), acc, marker='o', label=f'Line {line_numbers[i]}')\n",
    "\n",
    "# Add labels, title, and legend\n",
    "plt.xlabel('Epochs (or indices within each set)')\n",
    "plt.ylabel('Accuracy')\n",
    "plt.title('Accuracy Values from Different Lines')\n",
    "plt.legend(title=\"Lines\", loc='lower right')\n",
    "plt.grid(alpha=0.3)\n",
    "plt.tight_layout()\n",
    "\n",
    "# Display the chart\n",
    "plt.show()\n"
   ]
  }
 ],
 "metadata": {
  "kernelspec": {
   "display_name": "Python 3 (ipykernel)",
   "language": "python",
   "name": "python3"
  },
  "language_info": {
   "codemirror_mode": {
    "name": "ipython",
    "version": 3
   },
   "file_extension": ".py",
   "mimetype": "text/x-python",
   "name": "python",
   "nbconvert_exporter": "python",
   "pygments_lexer": "ipython3",
   "version": "3.10.9"
  }
 },
 "nbformat": 4,
 "nbformat_minor": 5
}
