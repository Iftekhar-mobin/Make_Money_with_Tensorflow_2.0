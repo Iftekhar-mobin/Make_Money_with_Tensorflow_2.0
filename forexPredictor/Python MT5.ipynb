{
 "cells": [
  {
   "cell_type": "markdown",
   "metadata": {},
   "source": [
    "# Trade with Python through MetaTrader5"
   ]
  },
  {
   "cell_type": "code",
   "execution_count": 1,
   "metadata": {},
   "outputs": [],
   "source": [
    "# documentation: https://www.mql5.com/en/docs/integration/python_metatrader5\n",
    "\n",
    "import MetaTrader5 as mt  # pip install MetaTrader5\n",
    "import pandas as pd  # pip install pandas\n",
    "from datetime import datetime, timedelta\n",
    "import os"
   ]
  },
  {
   "cell_type": "code",
   "execution_count": 2,
   "metadata": {},
   "outputs": [
    {
     "data": {
      "text/plain": [
       "True"
      ]
     },
     "execution_count": 2,
     "metadata": {},
     "output_type": "execute_result"
    }
   ],
   "source": [
    "# start the platform with initialize()\n",
    "mt.initialize()"
   ]
  },
  {
   "cell_type": "code",
   "execution_count": 3,
   "metadata": {},
   "outputs": [
    {
     "data": {
      "text/plain": [
       "True"
      ]
     },
     "execution_count": 3,
     "metadata": {},
     "output_type": "execute_result"
    }
   ],
   "source": [
    "# login to Trade Account with login()\n",
    "# make sure that trade server is enabled in MT5 client terminal\n",
    "\n",
    "login = 165905041\n",
    "password = 'iIeElL0176_'\n",
    "server = 'XMGlobal-MT5 2'\n",
    "\n",
    "mt.login(login, password, server)\n",
    "\n"
   ]
  },
  {
   "cell_type": "code",
   "execution_count": 4,
   "metadata": {},
   "outputs": [
    {
     "name": "stdout",
     "output_type": "stream",
     "text": [
      "AccountInfo(login=165905041, trade_mode=0, leverage=1000, limit_orders=300, margin_so_mode=0, trade_allowed=True, trade_expert=True, margin_mode=2, currency_digits=2, fifo_close=False, balance=10000.0, credit=0.0, profit=0.0, equity=10000.0, margin=0.0, margin_free=10000.0, margin_level=0.0, margin_so_call=50.0, margin_so_so=20.0, margin_initial=0.0, margin_maintenance=0.0, assets=0.0, liabilities=0.0, commission_blocked=0.0, name='Demo Account', server='XMGlobal-MT5 2', currency='USD', company='XM Global Limited')\n",
      "\n",
      "login:  165905041\n",
      "balance:  10000.0\n",
      "equity:  10000.0\n"
     ]
    }
   ],
   "source": [
    "# get account info\n",
    "account_info = mt.account_info()\n",
    "print(account_info)\n",
    "\n",
    "# getting specific account data\n",
    "login_number = account_info.login\n",
    "balance = account_info.balance\n",
    "equity = account_info.equity\n",
    "\n",
    "print()\n",
    "print('login: ', login_number)\n",
    "print('balance: ', balance)\n",
    "print('equity: ', equity)"
   ]
  },
  {
   "cell_type": "code",
   "execution_count": 5,
   "metadata": {},
   "outputs": [
    {
     "data": {
      "text/plain": [
       "OrderSendResult(retcode=10027, deal=0, order=0, volume=0.0, price=0.0, bid=0.0, ask=0.0, comment='AutoTrading disabled by client', request_id=0, retcode_external=0, request=TradeRequest(action=1, magic=0, order=0, symbol='EURUSD', volume=0.01, price=1.04309, stoplimit=0.0, sl=0.0, tp=0.0, deviation=200, type=0, type_filling=1, type_time=0, expiration=0, comment='Test_code', position=0, position_by=0))"
      ]
     },
     "execution_count": 5,
     "metadata": {},
     "output_type": "execute_result"
    }
   ],
   "source": [
    "request = {\n",
    "        \"action\":mt.TRADE_ACTION_DEAL,\n",
    "        \"symbol\":'EURUSD',\n",
    "        \"type\" : mt.ORDER_TYPE_BUY,\n",
    "        \"price\": mt.symbol_info_tick(\"EURUSD\").ask,\n",
    "        \"volume\":0.01,\n",
    "        \"deviation\": 200,\n",
    "        \"comment\":'Test_code',\n",
    "        \"type_filling\":mt.ORDER_FILLING_IOC\n",
    "}\n",
    "\n",
    "mt.order_send(request)"
   ]
  },
  {
   "cell_type": "code",
   "execution_count": 32,
   "metadata": {},
   "outputs": [
    {
     "data": {
      "text/plain": [
       "1506"
      ]
     },
     "execution_count": 32,
     "metadata": {},
     "output_type": "execute_result"
    }
   ],
   "source": [
    "# get number of symbols with symbols_total()\n",
    "num_symbols = mt.symbols_total()\n",
    "\n",
    "num_symbols"
   ]
  },
  {
   "cell_type": "code",
   "execution_count": 6,
   "metadata": {},
   "outputs": [],
   "source": [
    "# get all symbols and their specifications\n",
    "symbols = mt.symbols_get()\n",
    "# symbols"
   ]
  },
  {
   "cell_type": "code",
   "execution_count": 7,
   "metadata": {},
   "outputs": [
    {
     "name": "stdout",
     "output_type": "stream",
     "text": [
      "['CADCHF', 'CADJPY', 'CHFJPY', 'EURCAD', 'EURCHF', 'EURGBP', 'EURJPY', 'EURUSD', 'GBPCAD', 'GBPCHF', 'GBPJPY', 'GBPUSD', 'USDCAD', 'USDCHF', 'USDJPY']\n"
     ]
    }
   ],
   "source": [
    "# Extract currency pair names\n",
    "currency_pairs = [symbol.name for symbol in symbols if 'Forex\\\\Standard\\\\Majors\\\\' in symbol.path]\n",
    "\n",
    "print(currency_pairs)"
   ]
  },
  {
   "cell_type": "code",
   "execution_count": 11,
   "metadata": {},
   "outputs": [],
   "source": [
    "import os\n",
    "p = r'D:\\git_repos\\Make_Money_with_Tensorflow_2.0\\forexPredictor\\ohlc_data'\n",
    "df = pd.read_csv(os.path.join(p,'EURUSD','H1_EURUSD_2015.csv'), index_col=0)"
   ]
  },
  {
   "cell_type": "code",
   "execution_count": 14,
   "metadata": {},
   "outputs": [
    {
     "data": {
      "text/plain": [
       "Timestamp('2024-12-20 14:00:00')"
      ]
     },
     "execution_count": 14,
     "metadata": {},
     "output_type": "execute_result"
    }
   ],
   "source": [
    "pd.to_datetime(df['time'].iloc[-1], unit='s')"
   ]
  },
  {
   "cell_type": "code",
   "execution_count": 13,
   "metadata": {},
   "outputs": [
    {
     "data": {
      "text/plain": [
       "time           1.734703e+09\n",
       "open           1.039060e+00\n",
       "high           1.039920e+00\n",
       "low            1.038690e+00\n",
       "close          1.038850e+00\n",
       "tick_volume    3.749000e+03\n",
       "spread         1.700000e+01\n",
       "real_volume    0.000000e+00\n",
       "Name: 61937, dtype: float64"
      ]
     },
     "execution_count": 13,
     "metadata": {},
     "output_type": "execute_result"
    }
   ],
   "source": [
    "df.iloc[-1]"
   ]
  },
  {
   "cell_type": "code",
   "execution_count": 15,
   "metadata": {},
   "outputs": [
    {
     "name": "stdout",
     "output_type": "stream",
     "text": [
      "Checking for updates for EURUSD...\n",
      "Updating data for EURUSD...\n",
      "No new data available for EURUSD.\n",
      "Checking for updates for GBPUSD...\n",
      "Updating data for GBPUSD...\n",
      "No new data available for GBPUSD.\n",
      "Checking for updates for USDJPY...\n",
      "Updating data for USDJPY...\n",
      "No new data available for USDJPY.\n",
      "Checking for updates for AUDUSD...\n",
      "Updating data for AUDUSD...\n",
      "No new data available for AUDUSD.\n",
      "Checking for updates for USDCHF...\n",
      "Updating data for USDCHF...\n",
      "No new data available for USDCHF.\n",
      "Checking for updates for USDCAD...\n",
      "Updating data for USDCAD...\n",
      "No new data available for USDCAD.\n"
     ]
    }
   ],
   "source": [
    "import os\n",
    "import pandas as pd\n",
    "from datetime import datetime, timedelta\n",
    "import MetaTrader5 as mt5\n",
    "\n",
    "# List of pairs to download\n",
    "pairs = ['EURUSD', 'GBPUSD', 'USDJPY', 'AUDUSD', 'USDCHF', 'USDCAD']\n",
    "\n",
    "# Function to create necessary directories, check files, and save or update data\n",
    "def download_ohlc_data(symbol, start_year):\n",
    "    # Base directory for saving files\n",
    "    base_dir = f'ohlc_data/{symbol}'\n",
    "    \n",
    "    # Create the directory for the symbol if it doesn't exist\n",
    "    if not os.path.exists(base_dir):\n",
    "        os.makedirs(base_dir)\n",
    "    \n",
    "    file_path = os.path.join(base_dir, f'H1_{symbol}_{start_year}.csv')\n",
    "\n",
    "    # If the file doesn't exist, download data\n",
    "    if not os.path.exists(file_path):\n",
    "        print(f\"Downloading data for {symbol} from {start_year}...\")\n",
    "        ohlc_data = pd.DataFrame(mt5.copy_rates_range(symbol, \n",
    "                                                      mt5.TIMEFRAME_H1, \n",
    "                                                      datetime(start_year, 1, 1), \n",
    "                                                      datetime.now()))\n",
    "        # Check if data was retrieved successfully\n",
    "        if not ohlc_data.empty:\n",
    "            ohlc_data['time'] = pd.to_datetime(ohlc_data['time'], unit='s')\n",
    "            ohlc_data.to_csv(file_path, index=False)\n",
    "            print(f\"Downloaded and saved data for {symbol} ({start_year})\")\n",
    "        else:\n",
    "            print(f\"No data found for {symbol} ({start_year})\")\n",
    "    else:\n",
    "        # File exists, check if it needs updating\n",
    "        print(f\"Checking for updates for {symbol}...\")\n",
    "        rates_frame = pd.read_csv(file_path)\n",
    "        rates_frame['time'] = pd.to_datetime(rates_frame['time'])\n",
    "        \n",
    "        # Check the last row's time\n",
    "        last_row_time = rates_frame['time'].iloc[-1]\n",
    "        if last_row_time < datetime.now() - timedelta(days=2):\n",
    "            print(f\"Updating data for {symbol}...\")\n",
    "            utc_from = last_row_time + timedelta(seconds=1)\n",
    "            utc_to = datetime.now()\n",
    "            \n",
    "            # Retrieve new data\n",
    "            new_data = pd.DataFrame(mt5.copy_rates_range(symbol, \n",
    "                                                         mt5.TIMEFRAME_H1, \n",
    "                                                         utc_from, \n",
    "                                                         utc_to))\n",
    "            if not new_data.empty:\n",
    "                new_data['time'] = pd.to_datetime(new_data['time'], unit='s')\n",
    "                updated_data = pd.concat([rates_frame, new_data]).drop_duplicates(subset='time')\n",
    "                updated_data.to_csv(file_path, index=False)\n",
    "                print(f\"Updated data for {symbol}.\")\n",
    "            else:\n",
    "                print(f\"No new data available for {symbol}.\")\n",
    "        else:\n",
    "            print(f\"Data for {symbol} is already up-to-date.\")\n",
    "\n",
    "# Connect to MetaTrader 5\n",
    "if not mt5.initialize():\n",
    "    print(\"MetaTrader5 initialization failed!\")\n",
    "else:\n",
    "    # Define the starting year\n",
    "    start_year = 2015\n",
    "\n",
    "    # Download or update data for each currency pair\n",
    "    for pair in pairs:\n",
    "        download_ohlc_data(pair, start_year)\n",
    "\n",
    "    # Shutdown MetaTrader 5 after completing tasks\n",
    "    mt5.shutdown()\n"
   ]
  },
  {
   "cell_type": "code",
   "execution_count": 34,
   "metadata": {
    "collapsed": true
   },
   "outputs": [
    {
     "data": {
      "text/plain": [
       "{'custom': False,\n",
       " 'chart_mode': 0,\n",
       " 'select': True,\n",
       " 'visible': True,\n",
       " 'session_deals': 0,\n",
       " 'session_buy_orders': 0,\n",
       " 'session_sell_orders': 0,\n",
       " 'volume': 0,\n",
       " 'volumehigh': 0,\n",
       " 'volumelow': 0,\n",
       " 'time': 1734708625,\n",
       " 'digits': 5,\n",
       " 'spread': 27,\n",
       " 'spread_float': True,\n",
       " 'ticks_bookdepth': 0,\n",
       " 'trade_calc_mode': 0,\n",
       " 'trade_mode': 4,\n",
       " 'start_time': 0,\n",
       " 'expiration_time': 0,\n",
       " 'trade_stops_level': 0,\n",
       " 'trade_freeze_level': 0,\n",
       " 'trade_exemode': 2,\n",
       " 'swap_mode': 1,\n",
       " 'swap_rollover3days': 3,\n",
       " 'margin_hedged_use_leg': False,\n",
       " 'expiration_mode': 15,\n",
       " 'filling_mode': 2,\n",
       " 'order_mode': 127,\n",
       " 'order_gtc_mode': 0,\n",
       " 'option_mode': 0,\n",
       " 'option_right': 0,\n",
       " 'bid': 1.04041,\n",
       " 'bidhigh': 1.04063,\n",
       " 'bidlow': 1.03419,\n",
       " 'ask': 1.04068,\n",
       " 'askhigh': 1.04087,\n",
       " 'asklow': 1.0344,\n",
       " 'last': 0.0,\n",
       " 'lasthigh': 0.0,\n",
       " 'lastlow': 0.0,\n",
       " 'volume_real': 0.0,\n",
       " 'volumehigh_real': 0.0,\n",
       " 'volumelow_real': 0.0,\n",
       " 'option_strike': 0.0,\n",
       " 'point': 1e-05,\n",
       " 'trade_tick_value': 1.0,\n",
       " 'trade_tick_value_profit': 1.0,\n",
       " 'trade_tick_value_loss': 1.0,\n",
       " 'trade_tick_size': 1e-05,\n",
       " 'trade_contract_size': 100000.0,\n",
       " 'trade_accrued_interest': 0.0,\n",
       " 'trade_face_value': 0.0,\n",
       " 'trade_liquidity_rate': 0.0,\n",
       " 'volume_min': 0.01,\n",
       " 'volume_max': 50.0,\n",
       " 'volume_step': 0.01,\n",
       " 'volume_limit': 0.0,\n",
       " 'swap_long': -7.1,\n",
       " 'swap_short': 1.1,\n",
       " 'margin_initial': 0.0,\n",
       " 'margin_maintenance': 0.0,\n",
       " 'session_volume': 0.0,\n",
       " 'session_turnover': 0.0,\n",
       " 'session_interest': 0.0,\n",
       " 'session_buy_orders_volume': 0.0,\n",
       " 'session_sell_orders_volume': 0.0,\n",
       " 'session_open': 1.03553,\n",
       " 'session_close': 1.03569,\n",
       " 'session_aw': 0.0,\n",
       " 'session_price_settlement': 0.0,\n",
       " 'session_price_limit_min': 0.0,\n",
       " 'session_price_limit_max': 0.0,\n",
       " 'margin_hedged': 0.0,\n",
       " 'price_change': 0.4557,\n",
       " 'price_volatility': 0.0,\n",
       " 'price_theoretical': 0.0,\n",
       " 'price_greeks_delta': 0.0,\n",
       " 'price_greeks_theta': 0.0,\n",
       " 'price_greeks_gamma': 0.0,\n",
       " 'price_greeks_vega': 0.0,\n",
       " 'price_greeks_rho': 0.0,\n",
       " 'price_greeks_omega': 0.0,\n",
       " 'price_sensitivity': 0.0,\n",
       " 'basis': '',\n",
       " 'category': '',\n",
       " 'currency_base': 'EUR',\n",
       " 'currency_profit': 'USD',\n",
       " 'currency_margin': 'EUR',\n",
       " 'bank': '',\n",
       " 'description': 'Euro vs US Dollar',\n",
       " 'exchange': '',\n",
       " 'formula': '',\n",
       " 'isin': '',\n",
       " 'name': 'EURUSD',\n",
       " 'page': '',\n",
       " 'path': 'Forex\\\\Standard\\\\Majors\\\\EURUSD'}"
      ]
     },
     "execution_count": 34,
     "metadata": {},
     "output_type": "execute_result"
    }
   ],
   "source": [
    "# get symbol specifications\n",
    "symbol_info = mt.symbol_info(\"EURUSD\")._asdict()\n",
    "symbol_info"
   ]
  },
  {
   "cell_type": "code",
   "execution_count": 35,
   "metadata": {},
   "outputs": [
    {
     "data": {
      "text/plain": [
       "{'time': 1734708627,\n",
       " 'bid': 1.04066,\n",
       " 'ask': 1.04089,\n",
       " 'last': 0.0,\n",
       " 'volume': 0,\n",
       " 'time_msc': 1734708627048,\n",
       " 'flags': 1124,\n",
       " 'volume_real': 0.0}"
      ]
     },
     "execution_count": 35,
     "metadata": {},
     "output_type": "execute_result"
    }
   ],
   "source": [
    "# get current symbol price\n",
    "symbol_price = mt.symbol_info_tick(\"EURUSD\")._asdict()\n",
    "symbol_price"
   ]
  },
  {
   "cell_type": "code",
   "execution_count": 39,
   "metadata": {},
   "outputs": [
    {
     "data": {
      "text/html": [
       "<div>\n",
       "<style scoped>\n",
       "    .dataframe tbody tr th:only-of-type {\n",
       "        vertical-align: middle;\n",
       "    }\n",
       "\n",
       "    .dataframe tbody tr th {\n",
       "        vertical-align: top;\n",
       "    }\n",
       "\n",
       "    .dataframe thead th {\n",
       "        text-align: right;\n",
       "    }\n",
       "</style>\n",
       "<table border=\"1\" class=\"dataframe\">\n",
       "  <thead>\n",
       "    <tr style=\"text-align: right;\">\n",
       "      <th></th>\n",
       "      <th>time</th>\n",
       "      <th>open</th>\n",
       "      <th>high</th>\n",
       "      <th>low</th>\n",
       "      <th>close</th>\n",
       "      <th>tick_volume</th>\n",
       "      <th>spread</th>\n",
       "      <th>real_volume</th>\n",
       "    </tr>\n",
       "  </thead>\n",
       "  <tbody>\n",
       "    <tr>\n",
       "      <th>0</th>\n",
       "      <td>1420048800</td>\n",
       "      <td>1.20997</td>\n",
       "      <td>1.21089</td>\n",
       "      <td>1.20966</td>\n",
       "      <td>1.20999</td>\n",
       "      <td>3237</td>\n",
       "      <td>17</td>\n",
       "      <td>0</td>\n",
       "    </tr>\n",
       "    <tr>\n",
       "      <th>1</th>\n",
       "      <td>1420185600</td>\n",
       "      <td>1.20481</td>\n",
       "      <td>1.20569</td>\n",
       "      <td>1.20479</td>\n",
       "      <td>1.20538</td>\n",
       "      <td>1254</td>\n",
       "      <td>17</td>\n",
       "      <td>0</td>\n",
       "    </tr>\n",
       "    <tr>\n",
       "      <th>2</th>\n",
       "      <td>1420189200</td>\n",
       "      <td>1.20537</td>\n",
       "      <td>1.20574</td>\n",
       "      <td>1.20341</td>\n",
       "      <td>1.20553</td>\n",
       "      <td>3394</td>\n",
       "      <td>17</td>\n",
       "      <td>0</td>\n",
       "    </tr>\n",
       "    <tr>\n",
       "      <th>3</th>\n",
       "      <td>1420192800</td>\n",
       "      <td>1.20556</td>\n",
       "      <td>1.20689</td>\n",
       "      <td>1.20442</td>\n",
       "      <td>1.20469</td>\n",
       "      <td>4590</td>\n",
       "      <td>17</td>\n",
       "      <td>0</td>\n",
       "    </tr>\n",
       "    <tr>\n",
       "      <th>4</th>\n",
       "      <td>1420196400</td>\n",
       "      <td>1.20468</td>\n",
       "      <td>1.20599</td>\n",
       "      <td>1.20380</td>\n",
       "      <td>1.20573</td>\n",
       "      <td>4335</td>\n",
       "      <td>17</td>\n",
       "      <td>0</td>\n",
       "    </tr>\n",
       "    <tr>\n",
       "      <th>...</th>\n",
       "      <td>...</td>\n",
       "      <td>...</td>\n",
       "      <td>...</td>\n",
       "      <td>...</td>\n",
       "      <td>...</td>\n",
       "      <td>...</td>\n",
       "      <td>...</td>\n",
       "      <td>...</td>\n",
       "    </tr>\n",
       "    <tr>\n",
       "      <th>61932</th>\n",
       "      <td>1734685200</td>\n",
       "      <td>1.03737</td>\n",
       "      <td>1.03842</td>\n",
       "      <td>1.03715</td>\n",
       "      <td>1.03817</td>\n",
       "      <td>5316</td>\n",
       "      <td>17</td>\n",
       "      <td>0</td>\n",
       "    </tr>\n",
       "    <tr>\n",
       "      <th>61933</th>\n",
       "      <td>1734688800</td>\n",
       "      <td>1.03816</td>\n",
       "      <td>1.03974</td>\n",
       "      <td>1.03770</td>\n",
       "      <td>1.03913</td>\n",
       "      <td>5104</td>\n",
       "      <td>17</td>\n",
       "      <td>0</td>\n",
       "    </tr>\n",
       "    <tr>\n",
       "      <th>61934</th>\n",
       "      <td>1734692400</td>\n",
       "      <td>1.03913</td>\n",
       "      <td>1.03915</td>\n",
       "      <td>1.03749</td>\n",
       "      <td>1.03817</td>\n",
       "      <td>4389</td>\n",
       "      <td>17</td>\n",
       "      <td>0</td>\n",
       "    </tr>\n",
       "    <tr>\n",
       "      <th>61935</th>\n",
       "      <td>1734696000</td>\n",
       "      <td>1.03818</td>\n",
       "      <td>1.03921</td>\n",
       "      <td>1.03803</td>\n",
       "      <td>1.03908</td>\n",
       "      <td>3521</td>\n",
       "      <td>17</td>\n",
       "      <td>0</td>\n",
       "    </tr>\n",
       "    <tr>\n",
       "      <th>61936</th>\n",
       "      <td>1734699600</td>\n",
       "      <td>1.03908</td>\n",
       "      <td>1.03964</td>\n",
       "      <td>1.03785</td>\n",
       "      <td>1.03906</td>\n",
       "      <td>3663</td>\n",
       "      <td>17</td>\n",
       "      <td>0</td>\n",
       "    </tr>\n",
       "  </tbody>\n",
       "</table>\n",
       "<p>61937 rows × 8 columns</p>\n",
       "</div>"
      ],
      "text/plain": [
       "             time     open     high      low    close  tick_volume  spread  \\\n",
       "0      1420048800  1.20997  1.21089  1.20966  1.20999         3237      17   \n",
       "1      1420185600  1.20481  1.20569  1.20479  1.20538         1254      17   \n",
       "2      1420189200  1.20537  1.20574  1.20341  1.20553         3394      17   \n",
       "3      1420192800  1.20556  1.20689  1.20442  1.20469         4590      17   \n",
       "4      1420196400  1.20468  1.20599  1.20380  1.20573         4335      17   \n",
       "...           ...      ...      ...      ...      ...          ...     ...   \n",
       "61932  1734685200  1.03737  1.03842  1.03715  1.03817         5316      17   \n",
       "61933  1734688800  1.03816  1.03974  1.03770  1.03913         5104      17   \n",
       "61934  1734692400  1.03913  1.03915  1.03749  1.03817         4389      17   \n",
       "61935  1734696000  1.03818  1.03921  1.03803  1.03908         3521      17   \n",
       "61936  1734699600  1.03908  1.03964  1.03785  1.03906         3663      17   \n",
       "\n",
       "       real_volume  \n",
       "0                0  \n",
       "1                0  \n",
       "2                0  \n",
       "3                0  \n",
       "4                0  \n",
       "...            ...  \n",
       "61932            0  \n",
       "61933            0  \n",
       "61934            0  \n",
       "61935            0  \n",
       "61936            0  \n",
       "\n",
       "[61937 rows x 8 columns]"
      ]
     },
     "execution_count": 39,
     "metadata": {},
     "output_type": "execute_result"
    }
   ],
   "source": [
    "ohlc_data"
   ]
  },
  {
   "cell_type": "code",
   "execution_count": 22,
   "metadata": {},
   "outputs": [
    {
     "data": {
      "text/plain": [
       "<Axes: >"
      ]
     },
     "execution_count": 22,
     "metadata": {},
     "output_type": "execute_result"
    },
    {
     "data": {
      "image/png": "[encoded data removed]",
      "text/plain": [
       "<Figure size 640x480 with 1 Axes>"
      ]
     },
     "metadata": {},
     "output_type": "display_data"
    }
   ],
   "source": [
    "ohlc_data['close'].plot()"
   ]
  },
  {
   "cell_type": "code",
   "execution_count": 5,
   "metadata": {},
   "outputs": [],
   "source": [
    "# ohlc_data\n",
    "ohlc_data = pd.DataFrame(mt.copy_rates_range(\"EURUSD\", \n",
    "                                             mt.TIMEFRAME_H4, \n",
    "                                             datetime(2015, 1, 1), \n",
    "                                             datetime.now()))\n",
    "ohlc_data.to_csv('H4_EURUSD_2015.csv')"
   ]
  },
  {
   "cell_type": "code",
   "execution_count": 9,
   "metadata": {},
   "outputs": [],
   "source": [
    "\n",
    "# ohlc_data\n",
    "ohlc_data = pd.DataFrame(mt.copy_rates_range(\"EURUSD\", \n",
    "                                             mt.TIMEFRAME_D1, \n",
    "                                             datetime(2015, 1, 1), \n",
    "                                             datetime.now()))\n",
    "ohlc_data.to_csv('D1_EURUSD_2015.csv')\n",
    "# ohlc_data\n",
    "ohlc_data = pd.DataFrame(mt.copy_rates_range(\"EURUSD\", \n",
    "                                             mt.TIMEFRAME_M30, \n",
    "                                             datetime(2015, 1, 1), \n",
    "                                             datetime.now()))\n",
    "ohlc_data.to_csv('M30_EURUSD_2015.csv')\n"
   ]
  },
  {
   "cell_type": "code",
   "execution_count": 21,
   "metadata": {},
   "outputs": [
    {
     "name": "stdout",
     "output_type": "stream",
     "text": [
      "Data not available for the specified time range.\n",
      "Data downloaded successfully!\n"
     ]
    }
   ],
   "source": [
    "symbol =\"EURUSD\"\n",
    "end_time = datetime.now()\n",
    "timeframe = mt.TIMEFRAME_M30\n",
    "start_time = datetime(2015, 1, 1)\n",
    "\n",
    "rates = mt.copy_rates_range(symbol, timeframe, start_time, datetime.now())\n",
    "\n",
    "if rates is not None:\n",
    "    print(\"Data downloaded successfully!\")\n",
    "    # Print the downloaded data\n",
    "#     for rate in rates:\n",
    "#         print('Printing first sample: ', rate)\n",
    "#         break\n",
    "\n",
    "    ohlc_data = pd.DataFrame(rates)\n",
    "    ohlc_data.to_csv('M30_EURUSD_2015.csv')\n",
    "    \n",
    "else:\n",
    "    print(\"Data not available for the specified time range.\")\n",
    "\n",
    "    # Loop to try pulling most recent available data\n",
    "    while True:\n",
    "        start_time = end_time - timedelta(days=365)  # Adjust this period as needed\n",
    "        rates = mt.copy_rates_range(symbol, timeframe, start_time, end_time)\n",
    "        \n",
    "#         if rates is not None:\n",
    "#             print(\"Most recent data downloaded successfully!\")\n",
    "            # Print the downloaded data\n",
    "#             for rate in rates:\n",
    "#                 print(rate)\n",
    "#             break\n",
    "        if rates is None:\n",
    "            print(\"Failed to download most recent data. Trying again...\")\n",
    "        else:\n",
    "            print(\"Data downloaded successfully!\")\n",
    "            ohlc_data = pd.DataFrame(rates)\n",
    "            ohlc_data.to_csv('M30_EURUSD_2015.csv')\n",
    "            break"
   ]
  },
  {
   "cell_type": "code",
   "execution_count": 20,
   "metadata": {},
   "outputs": [
    {
     "data": {
      "text/html": [
       "<div>\n",
       "<style scoped>\n",
       "    .dataframe tbody tr th:only-of-type {\n",
       "        vertical-align: middle;\n",
       "    }\n",
       "\n",
       "    .dataframe tbody tr th {\n",
       "        vertical-align: top;\n",
       "    }\n",
       "\n",
       "    .dataframe thead th {\n",
       "        text-align: right;\n",
       "    }\n",
       "</style>\n",
       "<table border=\"1\" class=\"dataframe\">\n",
       "  <thead>\n",
       "    <tr style=\"text-align: right;\">\n",
       "      <th></th>\n",
       "      <th>time</th>\n",
       "      <th>open</th>\n",
       "      <th>high</th>\n",
       "      <th>low</th>\n",
       "      <th>close</th>\n",
       "      <th>tick_volume</th>\n",
       "      <th>spread</th>\n",
       "      <th>real_volume</th>\n",
       "    </tr>\n",
       "  </thead>\n",
       "  <tbody>\n",
       "    <tr>\n",
       "      <th>0</th>\n",
       "      <td>1684108800</td>\n",
       "      <td>1.08608</td>\n",
       "      <td>1.08608</td>\n",
       "      <td>1.08500</td>\n",
       "      <td>1.08533</td>\n",
       "      <td>101</td>\n",
       "      <td>22</td>\n",
       "      <td>0</td>\n",
       "    </tr>\n",
       "    <tr>\n",
       "      <th>1</th>\n",
       "      <td>1684110600</td>\n",
       "      <td>1.08530</td>\n",
       "      <td>1.08544</td>\n",
       "      <td>1.08521</td>\n",
       "      <td>1.08522</td>\n",
       "      <td>84</td>\n",
       "      <td>29</td>\n",
       "      <td>0</td>\n",
       "    </tr>\n",
       "    <tr>\n",
       "      <th>2</th>\n",
       "      <td>1684112400</td>\n",
       "      <td>1.08520</td>\n",
       "      <td>1.08520</td>\n",
       "      <td>1.08446</td>\n",
       "      <td>1.08498</td>\n",
       "      <td>623</td>\n",
       "      <td>16</td>\n",
       "      <td>0</td>\n",
       "    </tr>\n",
       "    <tr>\n",
       "      <th>3</th>\n",
       "      <td>1684114200</td>\n",
       "      <td>1.08498</td>\n",
       "      <td>1.08520</td>\n",
       "      <td>1.08489</td>\n",
       "      <td>1.08491</td>\n",
       "      <td>443</td>\n",
       "      <td>17</td>\n",
       "      <td>0</td>\n",
       "    </tr>\n",
       "    <tr>\n",
       "      <th>4</th>\n",
       "      <td>1684116000</td>\n",
       "      <td>1.08492</td>\n",
       "      <td>1.08512</td>\n",
       "      <td>1.08469</td>\n",
       "      <td>1.08509</td>\n",
       "      <td>451</td>\n",
       "      <td>16</td>\n",
       "      <td>0</td>\n",
       "    </tr>\n",
       "    <tr>\n",
       "      <th>...</th>\n",
       "      <td>...</td>\n",
       "      <td>...</td>\n",
       "      <td>...</td>\n",
       "      <td>...</td>\n",
       "      <td>...</td>\n",
       "      <td>...</td>\n",
       "      <td>...</td>\n",
       "      <td>...</td>\n",
       "    </tr>\n",
       "    <tr>\n",
       "      <th>12379</th>\n",
       "      <td>1715376600</td>\n",
       "      <td>1.07699</td>\n",
       "      <td>1.07726</td>\n",
       "      <td>1.07688</td>\n",
       "      <td>1.07726</td>\n",
       "      <td>855</td>\n",
       "      <td>18</td>\n",
       "      <td>0</td>\n",
       "    </tr>\n",
       "    <tr>\n",
       "      <th>12380</th>\n",
       "      <td>1715378400</td>\n",
       "      <td>1.07725</td>\n",
       "      <td>1.07748</td>\n",
       "      <td>1.07712</td>\n",
       "      <td>1.07736</td>\n",
       "      <td>1007</td>\n",
       "      <td>18</td>\n",
       "      <td>0</td>\n",
       "    </tr>\n",
       "    <tr>\n",
       "      <th>12381</th>\n",
       "      <td>1715380200</td>\n",
       "      <td>1.07736</td>\n",
       "      <td>1.07736</td>\n",
       "      <td>1.07707</td>\n",
       "      <td>1.07707</td>\n",
       "      <td>865</td>\n",
       "      <td>18</td>\n",
       "      <td>0</td>\n",
       "    </tr>\n",
       "    <tr>\n",
       "      <th>12382</th>\n",
       "      <td>1715382000</td>\n",
       "      <td>1.07707</td>\n",
       "      <td>1.07712</td>\n",
       "      <td>1.07689</td>\n",
       "      <td>1.07706</td>\n",
       "      <td>388</td>\n",
       "      <td>20</td>\n",
       "      <td>0</td>\n",
       "    </tr>\n",
       "    <tr>\n",
       "      <th>12383</th>\n",
       "      <td>1715383800</td>\n",
       "      <td>1.07705</td>\n",
       "      <td>1.07710</td>\n",
       "      <td>1.07675</td>\n",
       "      <td>1.07680</td>\n",
       "      <td>301</td>\n",
       "      <td>19</td>\n",
       "      <td>0</td>\n",
       "    </tr>\n",
       "  </tbody>\n",
       "</table>\n",
       "<p>12384 rows × 8 columns</p>\n",
       "</div>"
      ],
      "text/plain": [
       "             time     open     high      low    close  tick_volume  spread   \n",
       "0      1684108800  1.08608  1.08608  1.08500  1.08533          101      22  \\\n",
       "1      1684110600  1.08530  1.08544  1.08521  1.08522           84      29   \n",
       "2      1684112400  1.08520  1.08520  1.08446  1.08498          623      16   \n",
       "3      1684114200  1.08498  1.08520  1.08489  1.08491          443      17   \n",
       "4      1684116000  1.08492  1.08512  1.08469  1.08509          451      16   \n",
       "...           ...      ...      ...      ...      ...          ...     ...   \n",
       "12379  1715376600  1.07699  1.07726  1.07688  1.07726          855      18   \n",
       "12380  1715378400  1.07725  1.07748  1.07712  1.07736         1007      18   \n",
       "12381  1715380200  1.07736  1.07736  1.07707  1.07707          865      18   \n",
       "12382  1715382000  1.07707  1.07712  1.07689  1.07706          388      20   \n",
       "12383  1715383800  1.07705  1.07710  1.07675  1.07680          301      19   \n",
       "\n",
       "       real_volume  \n",
       "0                0  \n",
       "1                0  \n",
       "2                0  \n",
       "3                0  \n",
       "4                0  \n",
       "...            ...  \n",
       "12379            0  \n",
       "12380            0  \n",
       "12381            0  \n",
       "12382            0  \n",
       "12383            0  \n",
       "\n",
       "[12384 rows x 8 columns]"
      ]
     },
     "execution_count": 20,
     "metadata": {},
     "output_type": "execute_result"
    }
   ],
   "source": [
    "ohlc_data"
   ]
  },
  {
   "cell_type": "code",
   "execution_count": 26,
   "metadata": {},
   "outputs": [],
   "source": [
    "ohlc_data = pd.DataFrame(mt.copy_rates_range(\"EURUSD\", \n",
    "                                             mt.TIMEFRAME_M30, \n",
    "                                             datetime(2015, 1, 1), \n",
    "                                             datetime.now()))\n",
    "ohlc_data.to_csv('M30_EURUSD_2015.csv')"
   ]
  },
  {
   "cell_type": "code",
   "execution_count": 14,
   "metadata": {},
   "outputs": [],
   "source": [
    "ohlc_data.to_csv('H4_EURUSD_2015.csv')"
   ]
  },
  {
   "cell_type": "code",
   "execution_count": 15,
   "metadata": {},
   "outputs": [
    {
     "data": {
      "text/plain": [
       "<Axes: >"
      ]
     },
     "execution_count": 15,
     "metadata": {},
     "output_type": "execute_result"
    },
    {
     "data": {
      "image/png": "[encoded data removed]",
      "text/plain": [
       "<Figure size 640x480 with 1 Axes>"
      ]
     },
     "metadata": {},
     "output_type": "display_data"
    }
   ],
   "source": [
    "ohlc_data.close.plot()"
   ]
  },
  {
   "cell_type": "code",
   "execution_count": 17,
   "metadata": {},
   "outputs": [
    {
     "data": {
      "text/html": [
       "<div>\n",
       "<style scoped>\n",
       "    .dataframe tbody tr th:only-of-type {\n",
       "        vertical-align: middle;\n",
       "    }\n",
       "\n",
       "    .dataframe tbody tr th {\n",
       "        vertical-align: top;\n",
       "    }\n",
       "\n",
       "    .dataframe thead th {\n",
       "        text-align: right;\n",
       "    }\n",
       "</style>\n",
       "<table border=\"1\" class=\"dataframe\">\n",
       "  <thead>\n",
       "    <tr style=\"text-align: right;\">\n",
       "      <th></th>\n",
       "      <th>time</th>\n",
       "      <th>open</th>\n",
       "      <th>high</th>\n",
       "      <th>low</th>\n",
       "      <th>close</th>\n",
       "      <th>tick_volume</th>\n",
       "      <th>spread</th>\n",
       "      <th>real_volume</th>\n",
       "    </tr>\n",
       "  </thead>\n",
       "  <tbody>\n",
       "    <tr>\n",
       "      <th>0</th>\n",
       "      <td>1420185600</td>\n",
       "      <td>1.20481</td>\n",
       "      <td>1.20689</td>\n",
       "      <td>1.20341</td>\n",
       "      <td>1.20573</td>\n",
       "      <td>13573</td>\n",
       "      <td>17</td>\n",
       "      <td>0</td>\n",
       "    </tr>\n",
       "    <tr>\n",
       "      <th>1</th>\n",
       "      <td>1420200000</td>\n",
       "      <td>1.20573</td>\n",
       "      <td>1.20576</td>\n",
       "      <td>1.20248</td>\n",
       "      <td>1.20303</td>\n",
       "      <td>11302</td>\n",
       "      <td>17</td>\n",
       "      <td>0</td>\n",
       "    </tr>\n",
       "    <tr>\n",
       "      <th>2</th>\n",
       "      <td>1420214400</td>\n",
       "      <td>1.20302</td>\n",
       "      <td>1.20329</td>\n",
       "      <td>1.20031</td>\n",
       "      <td>1.20090</td>\n",
       "      <td>16214</td>\n",
       "      <td>17</td>\n",
       "      <td>0</td>\n",
       "    </tr>\n",
       "    <tr>\n",
       "      <th>3</th>\n",
       "      <td>1420228800</td>\n",
       "      <td>1.20093</td>\n",
       "      <td>1.20149</td>\n",
       "      <td>1.19993</td>\n",
       "      <td>1.20002</td>\n",
       "      <td>5820</td>\n",
       "      <td>17</td>\n",
       "      <td>0</td>\n",
       "    </tr>\n",
       "    <tr>\n",
       "      <th>4</th>\n",
       "      <td>1420416000</td>\n",
       "      <td>1.19511</td>\n",
       "      <td>1.19754</td>\n",
       "      <td>1.18599</td>\n",
       "      <td>1.19539</td>\n",
       "      <td>15220</td>\n",
       "      <td>17</td>\n",
       "      <td>0</td>\n",
       "    </tr>\n",
       "    <tr>\n",
       "      <th>...</th>\n",
       "      <td>...</td>\n",
       "      <td>...</td>\n",
       "      <td>...</td>\n",
       "      <td>...</td>\n",
       "      <td>...</td>\n",
       "      <td>...</td>\n",
       "      <td>...</td>\n",
       "      <td>...</td>\n",
       "    </tr>\n",
       "    <tr>\n",
       "      <th>14561</th>\n",
       "      <td>1715313600</td>\n",
       "      <td>1.07783</td>\n",
       "      <td>1.07817</td>\n",
       "      <td>1.07721</td>\n",
       "      <td>1.07730</td>\n",
       "      <td>3353</td>\n",
       "      <td>18</td>\n",
       "      <td>0</td>\n",
       "    </tr>\n",
       "    <tr>\n",
       "      <th>14562</th>\n",
       "      <td>1715328000</td>\n",
       "      <td>1.07729</td>\n",
       "      <td>1.07858</td>\n",
       "      <td>1.07706</td>\n",
       "      <td>1.07797</td>\n",
       "      <td>8836</td>\n",
       "      <td>18</td>\n",
       "      <td>0</td>\n",
       "    </tr>\n",
       "    <tr>\n",
       "      <th>14563</th>\n",
       "      <td>1715342400</td>\n",
       "      <td>1.07800</td>\n",
       "      <td>1.07852</td>\n",
       "      <td>1.07653</td>\n",
       "      <td>1.07691</td>\n",
       "      <td>9909</td>\n",
       "      <td>18</td>\n",
       "      <td>0</td>\n",
       "    </tr>\n",
       "    <tr>\n",
       "      <th>14564</th>\n",
       "      <td>1715356800</td>\n",
       "      <td>1.07695</td>\n",
       "      <td>1.07891</td>\n",
       "      <td>1.07594</td>\n",
       "      <td>1.07749</td>\n",
       "      <td>14820</td>\n",
       "      <td>18</td>\n",
       "      <td>0</td>\n",
       "    </tr>\n",
       "    <tr>\n",
       "      <th>14565</th>\n",
       "      <td>1715371200</td>\n",
       "      <td>1.07748</td>\n",
       "      <td>1.07765</td>\n",
       "      <td>1.07675</td>\n",
       "      <td>1.07680</td>\n",
       "      <td>5818</td>\n",
       "      <td>18</td>\n",
       "      <td>0</td>\n",
       "    </tr>\n",
       "  </tbody>\n",
       "</table>\n",
       "<p>14566 rows × 8 columns</p>\n",
       "</div>"
      ],
      "text/plain": [
       "             time     open     high      low    close  tick_volume  spread   \n",
       "0      1420185600  1.20481  1.20689  1.20341  1.20573        13573      17  \\\n",
       "1      1420200000  1.20573  1.20576  1.20248  1.20303        11302      17   \n",
       "2      1420214400  1.20302  1.20329  1.20031  1.20090        16214      17   \n",
       "3      1420228800  1.20093  1.20149  1.19993  1.20002         5820      17   \n",
       "4      1420416000  1.19511  1.19754  1.18599  1.19539        15220      17   \n",
       "...           ...      ...      ...      ...      ...          ...     ...   \n",
       "14561  1715313600  1.07783  1.07817  1.07721  1.07730         3353      18   \n",
       "14562  1715328000  1.07729  1.07858  1.07706  1.07797         8836      18   \n",
       "14563  1715342400  1.07800  1.07852  1.07653  1.07691         9909      18   \n",
       "14564  1715356800  1.07695  1.07891  1.07594  1.07749        14820      18   \n",
       "14565  1715371200  1.07748  1.07765  1.07675  1.07680         5818      18   \n",
       "\n",
       "       real_volume  \n",
       "0                0  \n",
       "1                0  \n",
       "2                0  \n",
       "3                0  \n",
       "4                0  \n",
       "...            ...  \n",
       "14561            0  \n",
       "14562            0  \n",
       "14563            0  \n",
       "14564            0  \n",
       "14565            0  \n",
       "\n",
       "[14566 rows x 8 columns]"
      ]
     },
     "execution_count": 17,
     "metadata": {},
     "output_type": "execute_result"
    }
   ],
   "source": [
    "ohlc_data"
   ]
  },
  {
   "cell_type": "code",
   "execution_count": 12,
   "metadata": {
    "collapsed": true
   },
   "outputs": [
    {
     "ename": "ValueError",
     "evalue": "Cannot accept list of column references or list of columns for both `x` and `y`.",
     "output_type": "error",
     "traceback": [
      "\u001b[1;31m---------------------------------------------------------------------------\u001b[0m",
      "\u001b[1;31mValueError\u001b[0m                                Traceback (most recent call last)",
      "Cell \u001b[1;32mIn[12], line 7\u001b[0m\n\u001b[0;32m      1\u001b[0m \u001b[38;5;66;03m# requesting tick data\u001b[39;00m\n\u001b[0;32m      2\u001b[0m tick_data \u001b[38;5;241m=\u001b[39m pd\u001b[38;5;241m.\u001b[39mDataFrame(mt\u001b[38;5;241m.\u001b[39mcopy_ticks_range(\u001b[38;5;124m\"\u001b[39m\u001b[38;5;124mEURUSD\u001b[39m\u001b[38;5;124m\"\u001b[39m, \n\u001b[0;32m      3\u001b[0m                                              datetime(\u001b[38;5;241m2023\u001b[39m, \u001b[38;5;241m10\u001b[39m, \u001b[38;5;241m4\u001b[39m), \n\u001b[0;32m      4\u001b[0m                                              datetime\u001b[38;5;241m.\u001b[39mnow(), \n\u001b[0;32m      5\u001b[0m                                              mt\u001b[38;5;241m.\u001b[39mCOPY_TICKS_ALL))\n\u001b[1;32m----> 7\u001b[0m fig \u001b[38;5;241m=\u001b[39m \u001b[43mpx\u001b[49m\u001b[38;5;241;43m.\u001b[39;49m\u001b[43mline\u001b[49m\u001b[43m(\u001b[49m\u001b[43mtick_data\u001b[49m\u001b[43m,\u001b[49m\u001b[43m \u001b[49m\u001b[43mx\u001b[49m\u001b[38;5;241;43m=\u001b[39;49m\u001b[43mtick_data\u001b[49m\u001b[43m[\u001b[49m\u001b[38;5;124;43m'\u001b[39;49m\u001b[38;5;124;43mtime\u001b[39;49m\u001b[38;5;124;43m'\u001b[39;49m\u001b[43m]\u001b[49m\u001b[43m,\u001b[49m\u001b[43m \u001b[49m\u001b[43my\u001b[49m\u001b[38;5;241;43m=\u001b[39;49m\u001b[43m[\u001b[49m\u001b[43mtick_data\u001b[49m\u001b[43m[\u001b[49m\u001b[38;5;124;43m'\u001b[39;49m\u001b[38;5;124;43mbid\u001b[39;49m\u001b[38;5;124;43m'\u001b[39;49m\u001b[43m]\u001b[49m\u001b[43m,\u001b[49m\u001b[43m \u001b[49m\u001b[43mtick_data\u001b[49m\u001b[43m[\u001b[49m\u001b[38;5;124;43m'\u001b[39;49m\u001b[38;5;124;43mask\u001b[39;49m\u001b[38;5;124;43m'\u001b[39;49m\u001b[43m]\u001b[49m\u001b[43m]\u001b[49m\u001b[43m)\u001b[49m\n\u001b[0;32m      8\u001b[0m fig\u001b[38;5;241m.\u001b[39mshow()\n\u001b[0;32m     10\u001b[0m \u001b[38;5;66;03m# tick_data\u001b[39;00m\n",
      "File \u001b[1;32m~\\AppData\\Local\\Programs\\Python\\Python310\\lib\\site-packages\\plotly\\express\\_chart_types.py:264\u001b[0m, in \u001b[0;36mline\u001b[1;34m(data_frame, x, y, line_group, color, line_dash, symbol, hover_name, hover_data, custom_data, text, facet_row, facet_col, facet_col_wrap, facet_row_spacing, facet_col_spacing, error_x, error_x_minus, error_y, error_y_minus, animation_frame, animation_group, category_orders, labels, orientation, color_discrete_sequence, color_discrete_map, line_dash_sequence, line_dash_map, symbol_sequence, symbol_map, markers, log_x, log_y, range_x, range_y, line_shape, render_mode, title, template, width, height)\u001b[0m\n\u001b[0;32m    216\u001b[0m \u001b[38;5;28;01mdef\u001b[39;00m \u001b[38;5;21mline\u001b[39m(\n\u001b[0;32m    217\u001b[0m     data_frame\u001b[38;5;241m=\u001b[39m\u001b[38;5;28;01mNone\u001b[39;00m,\n\u001b[0;32m    218\u001b[0m     x\u001b[38;5;241m=\u001b[39m\u001b[38;5;28;01mNone\u001b[39;00m,\n\u001b[1;32m   (...)\u001b[0m\n\u001b[0;32m    258\u001b[0m     height\u001b[38;5;241m=\u001b[39m\u001b[38;5;28;01mNone\u001b[39;00m,\n\u001b[0;32m    259\u001b[0m ) \u001b[38;5;241m-\u001b[39m\u001b[38;5;241m>\u001b[39m go\u001b[38;5;241m.\u001b[39mFigure:\n\u001b[0;32m    260\u001b[0m \u001b[38;5;250m    \u001b[39m\u001b[38;5;124;03m\"\"\"\u001b[39;00m\n\u001b[0;32m    261\u001b[0m \u001b[38;5;124;03m    In a 2D line plot, each row of `data_frame` is represented as vertex of\u001b[39;00m\n\u001b[0;32m    262\u001b[0m \u001b[38;5;124;03m    a polyline mark in 2D space.\u001b[39;00m\n\u001b[0;32m    263\u001b[0m \u001b[38;5;124;03m    \"\"\"\u001b[39;00m\n\u001b[1;32m--> 264\u001b[0m     \u001b[38;5;28;01mreturn\u001b[39;00m \u001b[43mmake_figure\u001b[49m\u001b[43m(\u001b[49m\u001b[43margs\u001b[49m\u001b[38;5;241;43m=\u001b[39;49m\u001b[38;5;28;43mlocals\u001b[39;49m\u001b[43m(\u001b[49m\u001b[43m)\u001b[49m\u001b[43m,\u001b[49m\u001b[43m \u001b[49m\u001b[43mconstructor\u001b[49m\u001b[38;5;241;43m=\u001b[39;49m\u001b[43mgo\u001b[49m\u001b[38;5;241;43m.\u001b[39;49m\u001b[43mScatter\u001b[49m\u001b[43m)\u001b[49m\n",
      "File \u001b[1;32m~\\AppData\\Local\\Programs\\Python\\Python310\\lib\\site-packages\\plotly\\express\\_core.py:1996\u001b[0m, in \u001b[0;36mmake_figure\u001b[1;34m(args, constructor, trace_patch, layout_patch)\u001b[0m\n\u001b[0;32m   1993\u001b[0m layout_patch \u001b[38;5;241m=\u001b[39m layout_patch \u001b[38;5;129;01mor\u001b[39;00m {}\n\u001b[0;32m   1994\u001b[0m apply_default_cascade(args)\n\u001b[1;32m-> 1996\u001b[0m args \u001b[38;5;241m=\u001b[39m \u001b[43mbuild_dataframe\u001b[49m\u001b[43m(\u001b[49m\u001b[43margs\u001b[49m\u001b[43m,\u001b[49m\u001b[43m \u001b[49m\u001b[43mconstructor\u001b[49m\u001b[43m)\u001b[49m\n\u001b[0;32m   1997\u001b[0m \u001b[38;5;28;01mif\u001b[39;00m constructor \u001b[38;5;129;01min\u001b[39;00m [go\u001b[38;5;241m.\u001b[39mTreemap, go\u001b[38;5;241m.\u001b[39mSunburst, go\u001b[38;5;241m.\u001b[39mIcicle] \u001b[38;5;129;01mand\u001b[39;00m args[\u001b[38;5;124m\"\u001b[39m\u001b[38;5;124mpath\u001b[39m\u001b[38;5;124m\"\u001b[39m] \u001b[38;5;129;01mis\u001b[39;00m \u001b[38;5;129;01mnot\u001b[39;00m \u001b[38;5;28;01mNone\u001b[39;00m:\n\u001b[0;32m   1998\u001b[0m     args \u001b[38;5;241m=\u001b[39m process_dataframe_hierarchy(args)\n",
      "File \u001b[1;32m~\\AppData\\Local\\Programs\\Python\\Python310\\lib\\site-packages\\plotly\\express\\_core.py:1328\u001b[0m, in \u001b[0;36mbuild_dataframe\u001b[1;34m(args, constructor)\u001b[0m\n\u001b[0;32m   1326\u001b[0m \u001b[38;5;28;01mif\u001b[39;00m constructor \u001b[38;5;129;01min\u001b[39;00m cartesians:\n\u001b[0;32m   1327\u001b[0m     \u001b[38;5;28;01mif\u001b[39;00m wide_x \u001b[38;5;129;01mand\u001b[39;00m wide_y:\n\u001b[1;32m-> 1328\u001b[0m         \u001b[38;5;28;01mraise\u001b[39;00m \u001b[38;5;167;01mValueError\u001b[39;00m(\n\u001b[0;32m   1329\u001b[0m             \u001b[38;5;124m\"\u001b[39m\u001b[38;5;124mCannot accept list of column references or list of columns for both `x` and `y`.\u001b[39m\u001b[38;5;124m\"\u001b[39m\n\u001b[0;32m   1330\u001b[0m         )\n\u001b[0;32m   1331\u001b[0m     \u001b[38;5;28;01mif\u001b[39;00m df_provided \u001b[38;5;129;01mand\u001b[39;00m no_x \u001b[38;5;129;01mand\u001b[39;00m no_y:\n\u001b[0;32m   1332\u001b[0m         wide_mode \u001b[38;5;241m=\u001b[39m \u001b[38;5;28;01mTrue\u001b[39;00m\n",
      "\u001b[1;31mValueError\u001b[0m: Cannot accept list of column references or list of columns for both `x` and `y`."
     ]
    }
   ],
   "source": [
    "# requesting tick data\n",
    "tick_data = pd.DataFrame(mt.copy_ticks_range(\"EURUSD\", \n",
    "                                             datetime(2023, 10, 4), \n",
    "                                             datetime.now(), \n",
    "                                             mt.COPY_TICKS_ALL))\n",
    "\n",
    "fig = px.line(tick_data, x=tick_data['time'], y=[tick_data['bid'], tick_data['ask']])\n",
    "fig.show()\n",
    "\n",
    "# tick_data"
   ]
  },
  {
   "cell_type": "code",
   "execution_count": 39,
   "metadata": {},
   "outputs": [
    {
     "data": {
      "text/plain": [
       "0"
      ]
     },
     "execution_count": 39,
     "metadata": {},
     "output_type": "execute_result"
    }
   ],
   "source": [
    "# total number of orders\n",
    "num_orders = mt.orders_total()\n",
    "num_orders"
   ]
  },
  {
   "cell_type": "code",
   "execution_count": 38,
   "metadata": {},
   "outputs": [
    {
     "data": {
      "text/plain": [
       "()"
      ]
     },
     "execution_count": 38,
     "metadata": {},
     "output_type": "execute_result"
    }
   ],
   "source": [
    "# list of orders\n",
    "orders = mt.orders_get()\n",
    "orders"
   ]
  },
  {
   "cell_type": "code",
   "execution_count": 37,
   "metadata": {},
   "outputs": [
    {
     "data": {
      "text/plain": [
       "0"
      ]
     },
     "execution_count": 37,
     "metadata": {},
     "output_type": "execute_result"
    }
   ],
   "source": [
    "# total number of positions\n",
    "num_positions = mt.positions_total()\n",
    "num_positions"
   ]
  },
  {
   "cell_type": "code",
   "execution_count": 95,
   "metadata": {},
   "outputs": [
    {
     "data": {
      "text/plain": [
       "()"
      ]
     },
     "execution_count": 95,
     "metadata": {},
     "output_type": "execute_result"
    }
   ],
   "source": [
    "# list of positions\n",
    "positions = mt.positions_get()\n",
    "positions"
   ]
  },
  {
   "cell_type": "code",
   "execution_count": 106,
   "metadata": {},
   "outputs": [
    {
     "data": {
      "text/plain": [
       "0"
      ]
     },
     "execution_count": 106,
     "metadata": {},
     "output_type": "execute_result"
    }
   ],
   "source": [
    "# number of history orders\n",
    "num_order_history = mt.history_orders_total(datetime(2021, 1, 1), datetime(2021, 10, 6))\n",
    "num_order_history"
   ]
  },
  {
   "cell_type": "code",
   "execution_count": 97,
   "metadata": {},
   "outputs": [
    {
     "data": {
      "text/plain": [
       "()"
      ]
     },
     "execution_count": 97,
     "metadata": {},
     "output_type": "execute_result"
    }
   ],
   "source": [
    "# list of history orders\n",
    "order_history = mt.history_orders_get(datetime(2021, 1, 1), datetime(2021, 10, 6))\n",
    "order_history"
   ]
  },
  {
   "cell_type": "code",
   "execution_count": 98,
   "metadata": {},
   "outputs": [
    {
     "data": {
      "text/plain": [
       "0"
      ]
     },
     "execution_count": 98,
     "metadata": {},
     "output_type": "execute_result"
    }
   ],
   "source": [
    "# number of history deals\n",
    "num_deal_history = mt.history_deals_total(datetime(2021, 1, 1),  datetime(2021, 10, 6))\n",
    "num_deal_history"
   ]
  },
  {
   "cell_type": "code",
   "execution_count": 99,
   "metadata": {},
   "outputs": [
    {
     "data": {
      "text/plain": [
       "()"
      ]
     },
     "execution_count": 99,
     "metadata": {},
     "output_type": "execute_result"
    }
   ],
   "source": [
    "# number of history deals\n",
    "deal_history = mt.history_deals_get(datetime(2021, 1, 1), datetime(2021, 10, 6))\n",
    "deal_history"
   ]
  },
  {
   "cell_type": "code",
   "execution_count": 100,
   "metadata": {},
   "outputs": [
    {
     "name": "stdout",
     "output_type": "stream",
     "text": [
      "OrderSendResult(retcode=10030, deal=0, order=0, volume=0.0, price=0.0, bid=0.0, ask=0.0, comment='Unsupported filling mode', request_id=0, retcode_external=0, request=TradeRequest(action=1, magic=234000, order=0, symbol='EURUSD', volume=0.01, price=1.09109, stoplimit=0.0, sl=0.0, tp=0.0, deviation=20, type=1, type_filling=1, type_time=0, expiration=0, comment='python script open', position=0, position_by=0))\n"
     ]
    }
   ],
   "source": [
    "# send order to the market\n",
    "# documentation: https://www.mql5.com/en/docs/integration/python_metatrader5/mt5ordersend_py\n",
    "\n",
    "request = {\n",
    "    \"action\": mt.TRADE_ACTION_DEAL,\n",
    "    \"symbol\": \"EURUSD\",\n",
    "    \"volume\": 0.01, # FLOAT\n",
    "    \"type\": mt.ORDER_TYPE_SELL,\n",
    "    \"price\": mt.symbol_info_tick(\"EURUSD\").ask,\n",
    "    \"sl\": 0.0, # FLOAT\n",
    "    \"tp\": 0.0, # FLOAT\n",
    "    \"deviation\": 20, # INTERGER\n",
    "    \"magic\": 234000, # INTERGER\n",
    "    \"comment\": \"python script open\",\n",
    "    \"type_time\": mt.ORDER_TIME_GTC,\n",
    "    \"type_filling\": mt.ORDER_FILLING_IOC,\n",
    "}\n",
    "\n",
    "order = mt.order_send(request)\n",
    "print(order)"
   ]
  },
  {
   "cell_type": "code",
   "execution_count": 68,
   "metadata": {},
   "outputs": [
    {
     "name": "stdout",
     "output_type": "stream",
     "text": [
      "OrderSendResult(retcode=10013, deal=0, order=0, volume=0.0, price=0.0, bid=0.0, ask=0.0, comment='Invalid request', request_id=0, retcode_external=0, request=TradeRequest(action=1, magic=234000, order=0, symbol='EURUSD', volume=2.0, price=1.09128, stoplimit=0.0, sl=0.0, tp=0.0, deviation=20, type=1, type_filling=1, type_time=0, expiration=0, comment='python script open', position=158631228, position_by=0))\n"
     ]
    }
   ],
   "source": [
    "# close position\n",
    "\n",
    "request = {\n",
    "    \"action\": mt.TRADE_ACTION_DEAL,\n",
    "    \"symbol\": \"EURUSD\",\n",
    "    \"volume\": 2.0, # FLOAT\n",
    "    \"type\": mt.ORDER_TYPE_SELL,\n",
    "    \"position\": 158631228, # select the position you want to close\n",
    "    \"price\": mt.symbol_info_tick(\"EURUSD\").ask,\n",
    "    \"sl\": 0.0, # FLOAT\n",
    "    \"tp\": 0.0, # FLOAT\n",
    "    \"deviation\": 20, # INTERGER\n",
    "    \"magic\": 234000, # INTERGER\n",
    "    \"comment\": \"python script open\",\n",
    "    \"type_time\": mt.ORDER_TIME_GTC,\n",
    "    \"type_filling\": mt.ORDER_FILLING_IOC,\n",
    "}\n",
    "\n",
    "order = mt.order_send(request)\n",
    "print(order)"
   ]
  },
  {
   "cell_type": "code",
   "execution_count": 60,
   "metadata": {},
   "outputs": [],
   "source": [
    "rates = mt.copy_rates_from_pos('EURUSD', mt.TIMEFRAME_M5, 0, 864)  \n",
    "rates_frame = pd.DataFrame(rates)\n",
    "rates_frame['time']=pd.to_datetime(rates_frame['time'], unit='s')\n",
    "max_value = rates_frame['high'].max() #The highest value reached by the price\n",
    "min_value = rates_frame['low'].min() #The minimum value reached by the prices"
   ]
  },
  {
   "cell_type": "code",
   "execution_count": 114,
   "metadata": {},
   "outputs": [
    {
     "data": {
      "text/plain": [
       "OrderSendResult(retcode=10009, deal=0, order=19477097, volume=1.0, price=0.0, bid=0.0, ask=0.0, comment='Request executed', request_id=2131559406, retcode_external=0, request=TradeRequest(action=5, magic=0, order=0, symbol='EURUSD', volume=1.0, price=1.08918, stoplimit=0.0, sl=0.0, tp=0.0, deviation=0, type=2, type_filling=1, type_time=0, expiration=0, comment='Test_code', position=0, position_by=0))"
      ]
     },
     "execution_count": 114,
     "metadata": {},
     "output_type": "execute_result"
    }
   ],
   "source": [
    "request = {\n",
    "        \"action\":mt.TRADE_ACTION_PENDING,\n",
    "        \"symbol\":'EURUSD',\n",
    "        \"type\" : mt.ORDER_TYPE_BUY_LIMIT,\n",
    "        \"price\": min_value,\n",
    "        \"volume\":1.0,\n",
    "        \"comment\":'Test_code',\n",
    "        \"type_filling\":mt.ORDER_FILLING_IOC\n",
    "}\n",
    "\n",
    "mt.order_send(request)\n",
    "\n"
   ]
  },
  {
   "cell_type": "code",
   "execution_count": 83,
   "metadata": {},
   "outputs": [],
   "source": [
    "symbol = \"EURUSD\"\n",
    "lot = 0.1\n",
    "point = mt.symbol_info(symbol).point\n",
    "price = mt.symbol_info_tick(symbol).ask"
   ]
  },
  {
   "cell_type": "code",
   "execution_count": 86,
   "metadata": {},
   "outputs": [
    {
     "data": {
      "text/plain": [
       "1.09125"
      ]
     },
     "execution_count": 86,
     "metadata": {},
     "output_type": "execute_result"
    }
   ],
   "source": [
    "price"
   ]
  },
  {
   "cell_type": "code",
   "execution_count": 108,
   "metadata": {},
   "outputs": [
    {
     "data": {
      "text/plain": [
       "OrderSendResult(retcode=10030, deal=0, order=0, volume=0.0, price=0.0, bid=0.0, ask=0.0, comment='Unsupported filling mode', request_id=0, retcode_external=0, request=TradeRequest(action=1, magic=234000, order=0, symbol='EURUSD', volume=0.1, price=1.09273, stoplimit=0.0, sl=1.09173, tp=1.0937299999999999, deviation=20, type=0, type_filling=1, type_time=0, expiration=0, comment='python script open', position=0, position_by=0))"
      ]
     },
     "execution_count": 108,
     "metadata": {},
     "output_type": "execute_result"
    }
   ],
   "source": [
    "symbol = 'EURUSD'\n",
    "lot = 0.1\n",
    "point = mt.symbol_info(symbol).point\n",
    "price = mt.symbol_info_tick(symbol).ask\n",
    "deviation = 20\n",
    "request = {\n",
    "    \"action\": mt.TRADE_ACTION_DEAL,\n",
    "    \"symbol\": symbol,\n",
    "    \"volume\": lot,\n",
    "    \"type\": mt.ORDER_TYPE_BUY,\n",
    "    \"price\": price,\n",
    "    \"sl\": price - 100 * point,\n",
    "    \"tp\": price + 100 * point,\n",
    "    \"deviation\": deviation,\n",
    "    \"magic\": 234000,\n",
    "    \"comment\": \"python script open\",\n",
    "    \"type_time\": mt.ORDER_TIME_GTC,\n",
    "    \"type_filling\": mt.ORDER_FILLING_IOC,\n",
    "}\n",
    "mt.order_send(request)"
   ]
  },
  {
   "cell_type": "code",
   "execution_count": 109,
   "metadata": {},
   "outputs": [
    {
     "data": {
      "text/plain": [
       "OrderCheckResult(retcode=10030, balance=0.0, equity=0.0, profit=0.0, margin=0.0, margin_free=0.0, margin_level=0.0, comment='Unsupported filling mode', request=TradeRequest(action=1, magic=0, order=0, symbol='EURUSD', volume=0.01, price=1.09283, stoplimit=0.0, sl=0.0, tp=0.0, deviation=10, type=0, type_filling=1, type_time=0, expiration=0, comment='', position=0, position_by=0))"
      ]
     },
     "execution_count": 109,
     "metadata": {},
     "output_type": "execute_result"
    }
   ],
   "source": [
    "# Place buy order\n",
    "\n",
    "# Initialization value\n",
    "symbol = \"EURUSD\"\n",
    "lot = 0.01\n",
    "\n",
    "# Choose the deviation\n",
    "deviation = 10\n",
    "\n",
    "# Find the filling mode of symbol\n",
    "filling_type = mt.symbol_info(symbol).filling_mode\n",
    "\n",
    "# Create dictionnary request\n",
    "request = {\n",
    "    \"action\": mt.TRADE_ACTION_DEAL,\n",
    "    \"symbol\": symbol,\n",
    "    \"volume\": lot,\n",
    "    \"type\": mt.ORDER_TYPE_BUY,\n",
    "    \"price\": mt.symbol_info_tick(symbol).ask,\n",
    "    \"deviation\": deviation,\n",
    "    \"type_filling\": filling_type,\n",
    "    \"type_time\": mt.ORDER_TIME_GTC\n",
    "}\n",
    "\n",
    "\n",
    "mt.order_check(request)"
   ]
  },
  {
   "cell_type": "code",
   "execution_count": 113,
   "metadata": {},
   "outputs": [
    {
     "data": {
      "text/plain": [
       "OrderCheckResult(retcode=10030, balance=0.0, equity=0.0, profit=0.0, margin=0.0, margin_free=0.0, margin_level=0.0, comment='Unsupported filling mode', request=TradeRequest(action=1, magic=0, order=0, symbol='EURUSD', volume=0.01, price=1.09283, stoplimit=0.0, sl=0.0, tp=0.0, deviation=10, type=0, type_filling=1, type_time=0, expiration=0, comment='', position=0, position_by=0))"
      ]
     },
     "execution_count": 113,
     "metadata": {},
     "output_type": "execute_result"
    }
   ],
   "source": [
    "    sell_order = {\n",
    "        \"action\": mt.TRADE_ACTION_DEAL,\n",
    "        \"symbol\": symbol,\n",
    "        \"volume\": lot,\n",
    "        \"type\": mt.ORDER_TYPE_SELL,\n",
    "#         \"price\": ask,\n",
    "#         \"sl\": ask + sl_short * point,\n",
    "#         \"tp\": ask - take_profit_short * point,\n",
    "#         \"deviation\": deviation,\n",
    "#         \"magic\": magic,\n",
    "        \"comment\": \"python short\",\n",
    "        \"type_time\": mt.ORDER_TIME_GTC,\n",
    "        \"type_filling\": mt.ORDER_FILLING_IOC,\n",
    "        }\n",
    "    mt.order_check(request)"
   ]
  },
  {
   "cell_type": "code",
   "execution_count": 115,
   "metadata": {},
   "outputs": [
    {
     "data": {
      "text/plain": [
       "1.09293"
      ]
     },
     "execution_count": 115,
     "metadata": {},
     "output_type": "execute_result"
    }
   ],
   "source": [
    "mt.symbol_info_tick(\"EURUSD\").ask\n"
   ]
  },
  {
   "cell_type": "code",
   "execution_count": 118,
   "metadata": {},
   "outputs": [
    {
     "data": {
      "text/plain": [
       "OrderSendResult(retcode=10030, deal=0, order=0, volume=0.0, price=0.0, bid=0.0, ask=0.0, comment='Unsupported filling mode', request_id=0, retcode_external=0, request=TradeRequest(action=1, magic=0, order=0, symbol='EURUSD', volume=1.0, price=1.09287, stoplimit=0.0, sl=0.0, tp=0.0, deviation=200, type=0, type_filling=1, type_time=0, expiration=0, comment='Test_code', position=0, position_by=0))"
      ]
     },
     "execution_count": 118,
     "metadata": {},
     "output_type": "execute_result"
    }
   ],
   "source": [
    "request = {\n",
    "        \"action\":mt.TRADE_ACTION_DEAL,\n",
    "        \"symbol\":'EURUSD',\n",
    "        \"type\" : mt.ORDER_TYPE_BUY,\n",
    "        \"price\": mt.symbol_info_tick(\"EURUSD\").ask,\n",
    "        \"volume\":1.0,\n",
    "        \"deviation\": 200,\n",
    "        \"comment\":'Test_code',\n",
    "        \"type_filling\":mt.ORDER_FILLING_IOC\n",
    "}\n",
    "\n",
    "mt.order_send(request)"
   ]
  },
  {
   "cell_type": "code",
   "execution_count": 7,
   "metadata": {},
   "outputs": [
    {
     "name": "stdout",
     "output_type": "stream",
     "text": [
      "Retrieved 8823 hourly bars\n",
      "                 time     open     high      low    close  tick_volume   \n",
      "0 2023-01-02 09:00:00  1.06861  1.06891  1.06611  1.06762         1230  \\\n",
      "1 2023-01-02 10:00:00  1.06768  1.06931  1.06695  1.06781         2275   \n",
      "2 2023-01-02 11:00:00  1.06783  1.06990  1.06750  1.06774         2532   \n",
      "3 2023-01-02 12:00:00  1.06770  1.06886  1.06725  1.06816         1644   \n",
      "4 2023-01-02 13:00:00  1.06816  1.06849  1.06782  1.06827          941   \n",
      "\n",
      "   spread  real_volume  ask_open  ask_high  ask_low  ask_close  \n",
      "0      28            0   1.06871   1.06901  1.06621    1.06772  \n",
      "1      22            0   1.06778   1.06941  1.06705    1.06791  \n",
      "2      24            0   1.06793   1.07000  1.06760    1.06784  \n",
      "3      23            0   1.06780   1.06896  1.06735    1.06826  \n",
      "4      22            0   1.06826   1.06859  1.06792    1.06837  \n"
     ]
    }
   ],
   "source": [
    "import MetaTrader5 as mt5\n",
    "import pandas as pd\n",
    "from datetime import datetime\n",
    "\n",
    "# Initialize the MT5 connection\n",
    "if not mt5.initialize():\n",
    "    print(\"initialize() failed, error code =\", mt5.last_error())\n",
    "    quit()\n",
    "\n",
    "# Choose the symbol and timeframe\n",
    "symbol = \"EURUSD\"\n",
    "timeframe = mt5.TIMEFRAME_H1  # Hourly timeframe\n",
    "\n",
    "# Define the period you want to retrieve data for\n",
    "# For example, get data for the last 1000 hours\n",
    "utc_from = datetime(2023, 1, 1)\n",
    "utc_to = datetime.now()\n",
    "\n",
    "# Requesting hourly bars starting from position 0 (the latest bar)\n",
    "rates = mt5.copy_rates_range(symbol, timeframe, utc_from, utc_to)\n",
    "\n",
    "# Shutdown MT5 connection\n",
    "mt5.shutdown()\n",
    "\n",
    "# Check if data is retrieved successfully\n",
    "if rates is None:\n",
    "    print(\"No data, error code =\", mt5.last_error())\n",
    "else:\n",
    "    print(f\"Retrieved {len(rates)} hourly bars\")\n",
    "\n",
    "# Convert the rates to a pandas DataFrame\n",
    "rates_frame = pd.DataFrame(rates)\n",
    "\n",
    "# Convert the time in seconds into a datetime format\n",
    "rates_frame['time'] = pd.to_datetime(rates_frame['time'], unit='s')\n",
    "\n",
    "# Extract only the ask data\n",
    "# Note: MT5 returns 'open', 'high', 'low', 'close' prices, but not separate ask prices.\n",
    "# These are typically bid prices. MT5 doesn't directly provide ask prices in historical data.\n",
    "# As a workaround, you might need to adjust the bid prices with a known spread.\n",
    "# Here we assume ask = bid + spread (spread needs to be defined)\n",
    "spread = 0.0001  # Example spread\n",
    "rates_frame['ask_open'] = rates_frame['open'] + spread\n",
    "rates_frame['ask_high'] = rates_frame['high'] + spread\n",
    "rates_frame['ask_low'] = rates_frame['low'] + spread\n",
    "rates_frame['ask_close'] = rates_frame['close'] + spread\n",
    "\n",
    "# Display the DataFrame\n",
    "print(rates_frame.head())\n",
    "\n",
    "# Save to CSV if needed\n",
    "rates_frame.to_csv('hourly_ask_data.csv', index=False)\n"
   ]
  },
  {
   "cell_type": "code",
   "execution_count": 17,
   "metadata": {},
   "outputs": [
    {
     "name": "stdout",
     "output_type": "stream",
     "text": [
      "Retrieved 30 hourly bars\n",
      "                  time     open     high      low    close  tick_volume   \n",
      "0  2024-05-30 18:00:00  1.08399  1.08441  1.08352  1.08354         3231  \\\n",
      "1  2024-05-30 19:00:00  1.08358  1.08412  1.08349  1.08389         2451   \n",
      "2  2024-05-30 20:00:00  1.08390  1.08423  1.08381  1.08381         1190   \n",
      "3  2024-05-30 21:00:00  1.08380  1.08390  1.08343  1.08358         1648   \n",
      "4  2024-05-30 22:00:00  1.08358  1.08358  1.08259  1.08292         2062   \n",
      "5  2024-05-30 23:00:00  1.08291  1.08317  1.08280  1.08306          855   \n",
      "6  2024-05-31 00:00:00  1.08304  1.08335  1.08252  1.08325          792   \n",
      "7  2024-05-31 01:00:00  1.08329  1.08329  1.08311  1.08324          582   \n",
      "8  2024-05-31 02:00:00  1.08324  1.08326  1.08299  1.08303          482   \n",
      "9  2024-05-31 03:00:00  1.08304  1.08326  1.08283  1.08311         1913   \n",
      "10 2024-05-31 04:00:00  1.08311  1.08326  1.08193  1.08193         2032   \n",
      "11 2024-05-31 05:00:00  1.08191  1.08214  1.08104  1.08104         1457   \n",
      "12 2024-05-31 06:00:00  1.08104  1.08190  1.08102  1.08182         1697   \n",
      "13 2024-05-31 07:00:00  1.08183  1.08185  1.08146  1.08174         1241   \n",
      "14 2024-05-31 08:00:00  1.08173  1.08204  1.08160  1.08186         1162   \n",
      "15 2024-05-31 09:00:00  1.08189  1.08246  1.08136  1.08231         2383   \n",
      "16 2024-05-31 10:00:00  1.08232  1.08241  1.08157  1.08219         2976   \n",
      "17 2024-05-31 11:00:00  1.08218  1.08375  1.08216  1.08328         2705   \n",
      "18 2024-05-31 12:00:00  1.08328  1.08470  1.08325  1.08465         3387   \n",
      "19 2024-05-31 13:00:00  1.08467  1.08505  1.08435  1.08487         2210   \n",
      "20 2024-05-31 14:00:00  1.08487  1.08544  1.08472  1.08517         2445   \n",
      "21 2024-05-31 15:00:00  1.08518  1.08813  1.08483  1.08792         6103   \n",
      "22 2024-05-31 16:00:00  1.08791  1.08798  1.08643  1.08679         4943   \n",
      "23 2024-05-31 17:00:00  1.08678  1.08766  1.08503  1.08548         6394   \n",
      "24 2024-05-31 18:00:00  1.08545  1.08580  1.08407  1.08450         4732   \n",
      "25 2024-05-31 19:00:00  1.08451  1.08512  1.08388  1.08463         2404   \n",
      "26 2024-05-31 20:00:00  1.08461  1.08518  1.08443  1.08461         1680   \n",
      "27 2024-05-31 21:00:00  1.08461  1.08481  1.08400  1.08415         2257   \n",
      "28 2024-05-31 22:00:00  1.08416  1.08503  1.08396  1.08500         2436   \n",
      "29 2024-05-31 23:00:00  1.08501  1.08511  1.08453  1.08482         1324   \n",
      "\n",
      "    spread  real_volume  \n",
      "0       18            0  \n",
      "1       18            0  \n",
      "2       18            0  \n",
      "3       18            0  \n",
      "4       18            0  \n",
      "5       18            0  \n",
      "6       18            0  \n",
      "7       18            0  \n",
      "8       19            0  \n",
      "9       18            0  \n",
      "10      18            0  \n",
      "11      18            0  \n",
      "12      18            0  \n",
      "13      18            0  \n",
      "14      18            0  \n",
      "15      18            0  \n",
      "16      18            0  \n",
      "17      18            0  \n",
      "18      18            0  \n",
      "19      18            0  \n",
      "20      18            0  \n",
      "21      18            0  \n",
      "22      18            0  \n",
      "23      18            0  \n",
      "24      18            0  \n",
      "25      18            0  \n",
      "26      18            0  \n",
      "27      18            0  \n",
      "28      18            0  \n",
      "29      18            0  \n"
     ]
    }
   ],
   "source": [
    "import MetaTrader5 as mt5\n",
    "import pandas as pd\n",
    "from datetime import datetime\n",
    "\n",
    "# Initialize the MT5 connection\n",
    "if not mt5.initialize():\n",
    "    print(\"initialize() failed, error code =\", mt5.last_error())\n",
    "    quit()\n",
    "\n",
    "# Choose the symbol and timeframe\n",
    "symbol = \"EURUSD\"\n",
    "timeframe = mt5.TIMEFRAME_H1  # Hourly timeframe\n",
    "\n",
    "# Define the number of bars you want to retrieve\n",
    "num_bars = 30\n",
    "\n",
    "# Requesting the last hour's data\n",
    "rates = mt5.copy_rates_from_pos(symbol, timeframe, 0, num_bars)\n",
    "\n",
    "# # Shutdown MT5 connection\n",
    "# mt5.shutdown()\n",
    "\n",
    "# Check if data is retrieved successfully\n",
    "if rates is None or len(rates) == 0:\n",
    "    print(\"No data, error code =\", mt5.last_error())\n",
    "else:\n",
    "    print(f\"Retrieved {len(rates)} hourly bars\")\n",
    "\n",
    "# Convert the rates to a pandas DataFrame\n",
    "rates_frame = pd.DataFrame(rates)\n",
    "\n",
    "# Convert the time in seconds into a datetime format\n",
    "rates_frame['time'] = pd.to_datetime(rates_frame['time'], unit='s')\n",
    "\n",
    "# Extract only the ask data\n",
    "# Note: MT5 returns 'open', 'high', 'low', 'close' prices, but not separate ask prices.\n",
    "# These are typically bid prices. MT5 doesn't directly provide ask prices in historical data.\n",
    "# As a workaround, you might need to adjust the bid prices with a known spread.\n",
    "# Here we assume ask = bid + spread (spread needs to be defined)\n",
    "# spread = 0.0001  # Example spread\n",
    "# rates_frame['ask_open'] = rates_frame['open'] + spread\n",
    "# rates_frame['ask_high'] = rates_frame['high'] + spread\n",
    "# rates_frame['ask_low'] = rates_frame['low'] + spread\n",
    "# rates_frame['ask_close'] = rates_frame['close'] + spread\n",
    "\n",
    "# Display the DataFrame\n",
    "print(rates_frame)\n",
    "\n",
    "\n"
   ]
  },
  {
   "cell_type": "code",
   "execution_count": 16,
   "metadata": {},
   "outputs": [
    {
     "data": {
      "text/html": [
       "<div>\n",
       "<style scoped>\n",
       "    .dataframe tbody tr th:only-of-type {\n",
       "        vertical-align: middle;\n",
       "    }\n",
       "\n",
       "    .dataframe tbody tr th {\n",
       "        vertical-align: top;\n",
       "    }\n",
       "\n",
       "    .dataframe thead th {\n",
       "        text-align: right;\n",
       "    }\n",
       "</style>\n",
       "<table border=\"1\" class=\"dataframe\">\n",
       "  <thead>\n",
       "    <tr style=\"text-align: right;\">\n",
       "      <th></th>\n",
       "      <th>time</th>\n",
       "      <th>open</th>\n",
       "      <th>high</th>\n",
       "      <th>low</th>\n",
       "      <th>close</th>\n",
       "      <th>tick_volume</th>\n",
       "      <th>spread</th>\n",
       "      <th>real_volume</th>\n",
       "    </tr>\n",
       "  </thead>\n",
       "  <tbody>\n",
       "    <tr>\n",
       "      <th>0</th>\n",
       "      <td>2024-05-31 23:00:00</td>\n",
       "      <td>1.08501</td>\n",
       "      <td>1.08511</td>\n",
       "      <td>1.08453</td>\n",
       "      <td>1.08482</td>\n",
       "      <td>1324</td>\n",
       "      <td>18</td>\n",
       "      <td>0</td>\n",
       "    </tr>\n",
       "  </tbody>\n",
       "</table>\n",
       "</div>"
      ],
      "text/plain": [
       "                 time     open     high      low    close  tick_volume   \n",
       "0 2024-05-31 23:00:00  1.08501  1.08511  1.08453  1.08482         1324  \\\n",
       "\n",
       "   spread  real_volume  \n",
       "0      18            0  "
      ]
     },
     "execution_count": 16,
     "metadata": {},
     "output_type": "execute_result"
    }
   ],
   "source": [
    "rates_frame"
   ]
  }
 ],
 "metadata": {
  "kernelspec": {
   "display_name": "Python 3 (ipykernel)",
   "language": "python",
   "name": "python3"
  },
  "language_info": {
   "codemirror_mode": {
    "name": "ipython",
    "version": 3
   },
   "file_extension": ".py",
   "mimetype": "text/x-python",
   "name": "python",
   "nbconvert_exporter": "python",
   "pygments_lexer": "ipython3",
   "version": "3.10.0"
  }
 },
 "nbformat": 4,
 "nbformat_minor": 4
}
