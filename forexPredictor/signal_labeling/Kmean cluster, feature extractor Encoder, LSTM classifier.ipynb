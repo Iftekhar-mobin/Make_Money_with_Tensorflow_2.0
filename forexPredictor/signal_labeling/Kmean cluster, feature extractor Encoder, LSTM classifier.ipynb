{
 "cells": [
  {
   "cell_type": "code",
   "execution_count": 37,
   "id": "16403b18",
   "metadata": {},
   "outputs": [],
   "source": [
    "import pandas as pd\n",
    "import numpy as np\n",
    "from sklearn.cluster import KMeans\n",
    "from sklearn.preprocessing import MinMaxScaler\n",
    "from tensorflow.keras.models import Model\n",
    "from tensorflow.keras.layers import Dense, LSTM, Input\n",
    "from sklearn.model_selection import train_test_split\n",
    "from tensorflow.keras.utils import to_categorical\n",
    "import numpy as np\n",
    "import os\n",
    "import pandas as pd"
   ]
  },
  {
   "cell_type": "code",
   "execution_count": 38,
   "id": "fa917650",
   "metadata": {},
   "outputs": [
    {
     "name": "stdout",
     "output_type": "stream",
     "text": [
      "✅ File found: D:\\Repos_git\\Make_Money_with_Tensorflow_2.0\\forexPredictor\\ohlc_data\\0_61938.csv\n"
     ]
    },
    {
     "data": {
      "text/html": [
       "<div>\n",
       "<style scoped>\n",
       "    .dataframe tbody tr th:only-of-type {\n",
       "        vertical-align: middle;\n",
       "    }\n",
       "\n",
       "    .dataframe tbody tr th {\n",
       "        vertical-align: top;\n",
       "    }\n",
       "\n",
       "    .dataframe thead th {\n",
       "        text-align: right;\n",
       "    }\n",
       "</style>\n",
       "<table border=\"1\" class=\"dataframe\">\n",
       "  <thead>\n",
       "    <tr style=\"text-align: right;\">\n",
       "      <th></th>\n",
       "      <th>Open</th>\n",
       "      <th>High</th>\n",
       "      <th>Low</th>\n",
       "      <th>Close</th>\n",
       "    </tr>\n",
       "  </thead>\n",
       "  <tbody>\n",
       "    <tr>\n",
       "      <th>0</th>\n",
       "      <td>1.20997</td>\n",
       "      <td>1.21089</td>\n",
       "      <td>1.20966</td>\n",
       "      <td>1.20999</td>\n",
       "    </tr>\n",
       "    <tr>\n",
       "      <th>1</th>\n",
       "      <td>1.20481</td>\n",
       "      <td>1.20569</td>\n",
       "      <td>1.20479</td>\n",
       "      <td>1.20538</td>\n",
       "    </tr>\n",
       "    <tr>\n",
       "      <th>2</th>\n",
       "      <td>1.20537</td>\n",
       "      <td>1.20574</td>\n",
       "      <td>1.20341</td>\n",
       "      <td>1.20553</td>\n",
       "    </tr>\n",
       "    <tr>\n",
       "      <th>3</th>\n",
       "      <td>1.20556</td>\n",
       "      <td>1.20689</td>\n",
       "      <td>1.20442</td>\n",
       "      <td>1.20469</td>\n",
       "    </tr>\n",
       "    <tr>\n",
       "      <th>4</th>\n",
       "      <td>1.20468</td>\n",
       "      <td>1.20599</td>\n",
       "      <td>1.20380</td>\n",
       "      <td>1.20573</td>\n",
       "    </tr>\n",
       "  </tbody>\n",
       "</table>\n",
       "</div>"
      ],
      "text/plain": [
       "      Open     High      Low    Close\n",
       "0  1.20997  1.21089  1.20966  1.20999\n",
       "1  1.20481  1.20569  1.20479  1.20538\n",
       "2  1.20537  1.20574  1.20341  1.20553\n",
       "3  1.20556  1.20689  1.20442  1.20469\n",
       "4  1.20468  1.20599  1.20380  1.20573"
      ]
     },
     "execution_count": 38,
     "metadata": {},
     "output_type": "execute_result"
    }
   ],
   "source": [
    "# Define file and directory names\n",
    "file_name = '0_61938.csv'\n",
    "data_dir = 'ohlc_data'\n",
    "parent_dir = 'forexPredictor'\n",
    "repo = 'Repos_git'\n",
    "repo_dir = 'Make_Money_with_Tensorflow_2.0'\n",
    "# Get the absolute base directory dynamically\n",
    "base_dir = os.path.abspath(os.path.join(os.getcwd(), \"..\"))  # Move up one level\n",
    "\n",
    "# Construct the full file path in an OS-independent way\n",
    "data_path = os.path.join(base_dir, repo, repo_dir, parent_dir, data_dir, file_name)\n",
    "\n",
    "# Check if the file exists before using it\n",
    "if os.path.exists(data_path):\n",
    "    print(f\"✅ File found: {data_path}\")\n",
    "else:\n",
    "    print(f\"❌ Error: File not found at {data_path}\")\n",
    "\n",
    "\n",
    "ucols=['Open', 'High', 'Low', 'Close']\n",
    "data = pd.read_csv(data_path, usecols=ucols)\n",
    "data.reset_index(drop=True, inplace=True)\n",
    "data.head()\n"
   ]
  },
  {
   "cell_type": "code",
   "execution_count": null,
   "id": "97ebda55",
   "metadata": {},
   "outputs": [
    {
     "name": "stdout",
     "output_type": "stream",
     "text": [
      "1936/1936 [==============================] - 5s 2ms/step\n"
     ]
    },
    {
     "name": "stderr",
     "output_type": "stream",
     "text": [
      "C:\\Users\\Teacher\\AppData\\Local\\Programs\\Python\\Python310\\lib\\site-packages\\sklearn\\cluster\\_kmeans.py:870: FutureWarning: The default value of `n_init` will change from 10 to 'auto' in 1.4. Set the value of `n_init` explicitly to suppress the warning\n",
      "  warnings.warn(\n"
     ]
    },
    {
     "name": "stdout",
     "output_type": "stream",
     "text": [
      "Epoch 1/20\n",
      "49545/49545 [==============================] - 167s 3ms/step - loss: 0.1067 - accuracy: 0.9572 - val_loss: 0.0428 - val_accuracy: 0.9785\n",
      "Epoch 2/20\n",
      "10404/49545 [=====>........................] - ETA: 2:04 - loss: 0.0656 - accuracy: 0.9733"
     ]
    }
   ],
   "source": [
    "ohlc_data = data\n",
    "\n",
    "# Normalize the data\n",
    "scaler = MinMaxScaler()\n",
    "ohlc_scaled = scaler.fit_transform(ohlc_data)\n",
    "\n",
    "# Convert OHLC data into sequences (LSTM requires 3D input)\n",
    "sequence_length = 6  # Number of time steps to consider\n",
    "X = []\n",
    "for i in range(len(ohlc_scaled) - sequence_length):\n",
    "    X.append(ohlc_scaled[i:i+sequence_length])\n",
    "\n",
    "X = np.array(X)  # Shape: (num_samples, sequence_length, num_features)\n",
    "\n",
    "# Define LSTM encoder\n",
    "def create_encoder(input_shape):\n",
    "    inputs = Input(shape=input_shape)\n",
    "    x = LSTM(128, return_sequences=True)(inputs)\n",
    "    x = LSTM(64)(x)\n",
    "    x = Dense(32, activation='relu')(x)\n",
    "    return Model(inputs, x)\n",
    "\n",
    "# Create encoder model\n",
    "encoder = create_encoder((sequence_length, 4))\n",
    "\n",
    "# Extract feature embeddings\n",
    "features = encoder.predict(X)\n",
    "\n",
    "# Apply K-Means clustering\n",
    "num_clusters = 3  # Buy (2), Sell (1), Hold (0)\n",
    "kmeans = KMeans(n_clusters=num_clusters, random_state=42)\n",
    "clusters = kmeans.fit_predict(features)  # Assign cluster labels\n",
    "\n",
    "# Convert cluster labels to categorical for classification training\n",
    "clusters_one_hot = to_categorical(clusters, num_classes=num_clusters)\n",
    "\n",
    "# Split data into train and test sets (80% train, 20% test)\n",
    "X_train, X_test, y_train, y_test = train_test_split(X, clusters_one_hot, test_size=0.2, random_state=42)\n",
    "\n",
    "# Define classification model\n",
    "classifier_output = Dense(num_clusters, activation=\"softmax\")(encoder.output)\n",
    "final_model = Model(encoder.input, classifier_output)\n",
    "\n",
    "# Compile and train classifier\n",
    "final_model.compile(loss=\"categorical_crossentropy\", optimizer=\"adam\", metrics=[\"accuracy\"])\n",
    "final_model.fit(X_train, y_train, epochs=20, batch_size=1, validation_data=(X_test, y_test))\n",
    "\n",
    "# Evaluate model on test data\n",
    "loss, accuracy = final_model.evaluate(X_test, y_test)\n",
    "print(f\"Test Accuracy: {accuracy * 100:.2f}%\")\n",
    "\n",
    "# --- Prediction on New Data ---\n",
    "new_data = np.array([\n",
    "    [1.20800, 1.20950, 1.20760, 1.20910],  # Example OHLC row\n",
    "    [1.20920, 1.21080, 1.20890, 1.21010],\n",
    "    [1.21000, 1.21150, 1.20980, 1.21090]\n",
    "])\n",
    "\n",
    "# Normalize and reshape new data\n",
    "new_data_scaled = scaler.transform(new_data)\n",
    "new_data_sequence = np.array([new_data_scaled])  # Shape (1, sequence_length, features)\n",
    "\n",
    "# Make predictions\n",
    "predictions = final_model.predict(new_data_sequence)\n",
    "predicted_class = np.argmax(predictions, axis=1)[0]  # Get cluster label (0, 1, or 2)\n",
    "\n",
    "# Convert prediction to label\n",
    "labels = {0: \"Hold\", 1: \"Sell\", 2: \"Buy\"}\n",
    "print(f\"Predicted Action: {labels[predicted_class]}\")\n"
   ]
  }
 ],
 "metadata": {
  "kernelspec": {
   "display_name": "Python 3 (ipykernel)",
   "language": "python",
   "name": "python3"
  },
  "language_info": {
   "codemirror_mode": {
    "name": "ipython",
    "version": 3
   },
   "file_extension": ".py",
   "mimetype": "text/x-python",
   "name": "python",
   "nbconvert_exporter": "python",
   "pygments_lexer": "ipython3",
   "version": "3.10.0"
  }
 },
 "nbformat": 4,
 "nbformat_minor": 5
}
