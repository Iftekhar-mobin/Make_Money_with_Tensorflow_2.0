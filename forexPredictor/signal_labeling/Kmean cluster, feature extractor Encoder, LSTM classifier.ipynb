{
 "cells": [
  {
   "cell_type": "code",
   "execution_count": 41,
   "id": "a48dedd3",
   "metadata": {},
   "outputs": [],
   "source": [
    "import pandas as pd\n",
    "import numpy as np\n",
    "from sklearn.cluster import KMeans\n",
    "from tslearn.clustering import TimeSeriesKMeans\n",
    "from sklearn.preprocessing import MinMaxScaler\n",
    "from tensorflow.keras.models import Model\n",
    "from tensorflow.keras.layers import Dense, LSTM, Input\n",
    "from sklearn.model_selection import train_test_split\n",
    "from tensorflow.keras.utils import to_categorical\n",
    "from tensorflow.keras.models import load_model\n",
    "import numpy as np\n",
    "import os\n",
    "import pandas as pd"
   ]
  },
  {
   "cell_type": "code",
   "execution_count": 29,
   "id": "be5a9e9b",
   "metadata": {},
   "outputs": [],
   "source": [
    "epoch_num = 5\n",
    "sequence_length = 6  # Number of time steps to consider"
   ]
  },
  {
   "cell_type": "code",
   "execution_count": 30,
   "id": "183326d3",
   "metadata": {},
   "outputs": [
    {
     "name": "stdout",
     "output_type": "stream",
     "text": [
      "✅ File found: D:\\Repos_git\\Make_Money_with_Tensorflow_2.0\\forexPredictor\\ohlc_data\\0_61938.csv\n"
     ]
    },
    {
     "data": {
      "text/html": [
       "<div>\n",
       "<style scoped>\n",
       "    .dataframe tbody tr th:only-of-type {\n",
       "        vertical-align: middle;\n",
       "    }\n",
       "\n",
       "    .dataframe tbody tr th {\n",
       "        vertical-align: top;\n",
       "    }\n",
       "\n",
       "    .dataframe thead th {\n",
       "        text-align: right;\n",
       "    }\n",
       "</style>\n",
       "<table border=\"1\" class=\"dataframe\">\n",
       "  <thead>\n",
       "    <tr style=\"text-align: right;\">\n",
       "      <th></th>\n",
       "      <th>Open</th>\n",
       "      <th>High</th>\n",
       "      <th>Low</th>\n",
       "      <th>Close</th>\n",
       "    </tr>\n",
       "  </thead>\n",
       "  <tbody>\n",
       "    <tr>\n",
       "      <th>0</th>\n",
       "      <td>1.20997</td>\n",
       "      <td>1.21089</td>\n",
       "      <td>1.20966</td>\n",
       "      <td>1.20999</td>\n",
       "    </tr>\n",
       "    <tr>\n",
       "      <th>1</th>\n",
       "      <td>1.20481</td>\n",
       "      <td>1.20569</td>\n",
       "      <td>1.20479</td>\n",
       "      <td>1.20538</td>\n",
       "    </tr>\n",
       "    <tr>\n",
       "      <th>2</th>\n",
       "      <td>1.20537</td>\n",
       "      <td>1.20574</td>\n",
       "      <td>1.20341</td>\n",
       "      <td>1.20553</td>\n",
       "    </tr>\n",
       "    <tr>\n",
       "      <th>3</th>\n",
       "      <td>1.20556</td>\n",
       "      <td>1.20689</td>\n",
       "      <td>1.20442</td>\n",
       "      <td>1.20469</td>\n",
       "    </tr>\n",
       "    <tr>\n",
       "      <th>4</th>\n",
       "      <td>1.20468</td>\n",
       "      <td>1.20599</td>\n",
       "      <td>1.20380</td>\n",
       "      <td>1.20573</td>\n",
       "    </tr>\n",
       "  </tbody>\n",
       "</table>\n",
       "</div>"
      ],
      "text/plain": [
       "      Open     High      Low    Close\n",
       "0  1.20997  1.21089  1.20966  1.20999\n",
       "1  1.20481  1.20569  1.20479  1.20538\n",
       "2  1.20537  1.20574  1.20341  1.20553\n",
       "3  1.20556  1.20689  1.20442  1.20469\n",
       "4  1.20468  1.20599  1.20380  1.20573"
      ]
     },
     "execution_count": 30,
     "metadata": {},
     "output_type": "execute_result"
    }
   ],
   "source": [
    "# Define file and directory names\n",
    "file_name = '0_61938.csv'\n",
    "data_dir = 'ohlc_data'\n",
    "# parent_dir = 'forexPredictor'\n",
    "# repo = 'Repos_git'\n",
    "# repo_dir = 'Make_Money_with_Tensorflow_2.0'\n",
    "# Get the absolute base directory dynamically\n",
    "base_dir = os.path.abspath(os.path.join(os.getcwd(), \"..\"))  # Move up one level\n",
    "\n",
    "# Construct the full file path in an OS-independent way\n",
    "# data_path = os.path.join(base_dir, repo, repo_dir, parent_dir, data_dir, file_name)\n",
    "data_path = os.path.join(base_dir, data_dir, file_name)\n",
    "\n",
    "# Check if the file exists before using it\n",
    "if os.path.exists(data_path):\n",
    "    print(f\"✅ File found: {data_path}\")\n",
    "else:\n",
    "    print(f\"❌ Error: File not found at {data_path}\")\n",
    "\n",
    "\n",
    "ucols=['Open', 'High', 'Low', 'Close']\n",
    "data = pd.read_csv(data_path, usecols=ucols)\n",
    "data.reset_index(drop=True, inplace=True)\n",
    "data.head()\n"
   ]
  },
  {
   "cell_type": "code",
   "execution_count": 31,
   "id": "461a8c78",
   "metadata": {},
   "outputs": [
    {
     "name": "stdout",
     "output_type": "stream",
     "text": [
      "1936/1936 [==============================] - 14s 6ms/step\n"
     ]
    }
   ],
   "source": [
    "ohlc_data = data\n",
    "\n",
    "# Normalize the data\n",
    "scaler = MinMaxScaler()\n",
    "ohlc_scaled = scaler.fit_transform(ohlc_data)\n",
    "\n",
    "# Convert OHLC data into sequences (LSTM requires 3D input)\n",
    "X = []\n",
    "for i in range(len(ohlc_scaled) - sequence_length):\n",
    "    X.append(ohlc_scaled[i:i+sequence_length])\n",
    "\n",
    "X = np.array(X)  # Shape: (num_samples, sequence_length, num_features)\n",
    "\n",
    "# Define LSTM encoder\n",
    "def create_encoder(input_shape):\n",
    "    inputs = Input(shape=input_shape)\n",
    "    x = LSTM(128, return_sequences=True)(inputs)\n",
    "    x = LSTM(64)(x)\n",
    "    x = Dense(32, activation='relu')(x)\n",
    "    return Model(inputs, x)\n",
    "\n",
    "# Create encoder model\n",
    "encoder = create_encoder((sequence_length, 4))\n",
    "\n",
    "# Extract feature embeddings\n",
    "features = encoder.predict(X)"
   ]
  },
  {
   "cell_type": "code",
   "execution_count": 32,
   "id": "9bc4806a",
   "metadata": {},
   "outputs": [
    {
     "name": "stderr",
     "output_type": "stream",
     "text": [
      "C:\\Users\\Teacher\\AppData\\Local\\Programs\\Python\\Python310\\lib\\site-packages\\sklearn\\cluster\\_kmeans.py:870: FutureWarning: The default value of `n_init` will change from 10 to 'auto' in 1.4. Set the value of `n_init` explicitly to suppress the warning\n",
      "  warnings.warn(\n"
     ]
    }
   ],
   "source": [
    "# Apply K-Means clustering\n",
    "num_clusters = 3  # Buy (2), Sell (1), Hold (0)\n",
    "kmeans = KMeans(n_clusters=num_clusters, random_state=42)\n",
    "clusters = kmeans.fit_predict(features)  # Assign cluster labels"
   ]
  },
  {
   "cell_type": "code",
   "execution_count": 34,
   "id": "a6b127dd",
   "metadata": {},
   "outputs": [
    {
     "data": {
      "text/plain": [
       "array([1, 1, 1, 1, 1, 1, 1, 1, 1, 1, 1, 1, 1, 1, 1, 1, 1, 1, 1, 1, 1, 1,\n",
       "       1, 1, 1, 1, 1, 1, 1, 1, 1, 1, 1, 1, 1, 1, 1, 1, 1, 1, 1, 1, 1, 1,\n",
       "       1, 1, 1, 1, 1, 1, 1, 1, 1, 1, 1, 1, 1, 1, 1, 1, 1, 1, 1, 1, 1, 1,\n",
       "       1, 1, 1, 1, 1, 1, 1, 1, 1, 1, 1, 1, 1, 1, 1, 1, 1, 1, 1, 1, 1, 1,\n",
       "       1, 1, 1, 1, 1, 1, 1, 1, 1, 1, 1, 1])"
      ]
     },
     "execution_count": 34,
     "metadata": {},
     "output_type": "execute_result"
    }
   ],
   "source": [
    "clusters[:100]"
   ]
  },
  {
   "cell_type": "code",
   "execution_count": null,
   "id": "0c15aded",
   "metadata": {},
   "outputs": [],
   "source": [
    "from tslearn.clustering import TimeSeriesKMeans\n",
    "\n",
    "# Apply Time-Series Aware K-Means with DTW metric\n",
    "dtw_kmeans = TimeSeriesKMeans(n_clusters=num_clusters, metric=\"dtw\", random_state=42)\n",
    "clusters = dtw_kmeans.fit_predict(features.reshape(-1, 1, features.shape[1]))  # Reshape for time-series input\n"
   ]
  },
  {
   "cell_type": "code",
   "execution_count": null,
   "id": "c2adb691",
   "metadata": {},
   "outputs": [],
   "source": [
    "clusters[:100]"
   ]
  },
  {
   "cell_type": "code",
   "execution_count": 9,
   "id": "4740e58a",
   "metadata": {},
   "outputs": [
    {
     "name": "stdout",
     "output_type": "stream",
     "text": [
      "1936/1936 [==============================] - 15s 6ms/step\n"
     ]
    },
    {
     "name": "stderr",
     "output_type": "stream",
     "text": [
      "C:\\Users\\Teacher\\AppData\\Local\\Programs\\Python\\Python310\\lib\\site-packages\\sklearn\\cluster\\_kmeans.py:870: FutureWarning: The default value of `n_init` will change from 10 to 'auto' in 1.4. Set the value of `n_init` explicitly to suppress the warning\n",
      "  warnings.warn(\n"
     ]
    },
    {
     "name": "stdout",
     "output_type": "stream",
     "text": [
      "Epoch 1/5\n",
      "9909/9909 [==============================] - 119s 11ms/step - loss: 0.1033 - accuracy: 0.9582 - val_loss: 0.0298 - val_accuracy: 0.9915\n",
      "Epoch 2/5\n",
      "9909/9909 [==============================] - 110s 11ms/step - loss: 0.0623 - accuracy: 0.9746 - val_loss: 0.0434 - val_accuracy: 0.9802\n",
      "Epoch 3/5\n",
      "9909/9909 [==============================] - 111s 11ms/step - loss: 0.0510 - accuracy: 0.9794 - val_loss: 0.0838 - val_accuracy: 0.9621\n",
      "Epoch 4/5\n",
      "9909/9909 [==============================] - 112s 11ms/step - loss: 0.0471 - accuracy: 0.9808 - val_loss: 0.0374 - val_accuracy: 0.9817\n",
      "Epoch 5/5\n",
      "9909/9909 [==============================] - 113s 11ms/step - loss: 0.0412 - accuracy: 0.9833 - val_loss: 0.0355 - val_accuracy: 0.9835\n",
      "388/388 [==============================] - 3s 8ms/step - loss: 0.0355 - accuracy: 0.9835\n",
      "Test Accuracy: 98.35%\n"
     ]
    }
   ],
   "source": [
    "# Convert cluster labels to categorical for classification training\n",
    "clusters_one_hot = to_categorical(clusters, num_classes=num_clusters)\n",
    "\n",
    "# Split data into train and test sets (80% train, 20% test)\n",
    "X_train, X_test, y_train, y_test = train_test_split(X, clusters_one_hot, test_size=0.2, random_state=42)\n",
    "\n",
    "# Define classification model\n",
    "classifier_output = Dense(num_clusters, activation=\"softmax\")(encoder.output)\n",
    "final_model = Model(encoder.input, classifier_output)\n",
    "\n",
    "# Compile and train classifier\n",
    "final_model.compile(loss=\"categorical_crossentropy\", optimizer=\"adam\", metrics=[\"accuracy\"])\n",
    "final_model.fit(X_train, y_train, epochs=epoch_num, batch_size=5, validation_data=(X_test, y_test))\n",
    "\n",
    "# Evaluate model on test data\n",
    "loss, accuracy = final_model.evaluate(X_test, y_test)\n",
    "print(f\"Test Accuracy: {accuracy * 100:.2f}%\")\n",
    "\n"
   ]
  },
  {
   "cell_type": "code",
   "execution_count": 12,
   "id": "7e58aea6",
   "metadata": {},
   "outputs": [
    {
     "name": "stderr",
     "output_type": "stream",
     "text": [
      "C:\\Users\\Teacher\\AppData\\Local\\Programs\\Python\\Python310\\lib\\site-packages\\keras\\src\\engine\\training.py:3079: UserWarning: You are saving your model as an HDF5 file via `model.save()`. This file format is considered legacy. We recommend using instead the native Keras format, e.g. `model.save('my_model.keras')`.\n",
      "  saving_api.save_model(\n"
     ]
    }
   ],
   "source": [
    "final_model.save(\"trading_model.h5\")\n",
    "loaded_model = load_model(\"trading_model.h5\")\n"
   ]
  },
  {
   "cell_type": "code",
   "execution_count": 10,
   "id": "b9c63731",
   "metadata": {},
   "outputs": [
    {
     "data": {
      "text/plain": [
       "True"
      ]
     },
     "execution_count": 10,
     "metadata": {},
     "output_type": "execute_result"
    }
   ],
   "source": [
    "# documentation: https://www.mql5.com/en/docs/integration/python_metatrader5\n",
    "\n",
    "import MetaTrader5 as mt  # pip install MetaTrader5\n",
    "import pandas as pd  # pip install pandas\n",
    "from datetime import datetime, timedelta\n",
    "import os\n",
    "\n",
    "# start the platform with initialize()\n",
    "mt.initialize()\n",
    "\n",
    "# login to Trade Account with login()\n",
    "# make sure that trade server is enabled in MT5 client terminal\n",
    "\n",
    "login = 165905041\n",
    "password = 'iIeElL0176_'\n",
    "server = 'XMGlobal-MT5 2'\n",
    "\n",
    "mt.login(login, password, server)\n",
    "\n"
   ]
  },
  {
   "cell_type": "code",
   "execution_count": 15,
   "id": "9c1b4352",
   "metadata": {},
   "outputs": [],
   "source": [
    "# Define symbol and timeframe\n",
    "symbol = \"EURUSD\"\n",
    "timeframe = mt.TIMEFRAME_H1\n",
    "\n",
    "# Get data for the last 48 hours\n",
    "end_time = datetime.now()\n",
    "start_time = end_time - timedelta(hours=1000)\n",
    "\n",
    "# Retrieve OHLC data\n",
    "ohlc_data = pd.DataFrame(mt.copy_rates_range(symbol, timeframe, start_time, end_time))\n",
    "\n",
    "# Convert time column to datetime format\n",
    "ohlc_data['time'] = pd.to_datetime(ohlc_data['time'], unit='s')\n",
    "\n",
    "\n",
    "ohlc_data.rename(columns={'open':'Open', 'high':'High', \n",
    "                        'low':'Low', 'close':'Close', 'tick_volume':'Volume'}, inplace=True)\n",
    "columns_to_drop = ['time', 'spread', 'real_volume', 'Volume']\n",
    "ohlc_data.drop(columns=[col for col in columns_to_drop if col in ohlc_data.columns], inplace=True)\n",
    "\n"
   ]
  },
  {
   "cell_type": "code",
   "execution_count": 16,
   "id": "fe989d60",
   "metadata": {},
   "outputs": [
    {
     "data": {
      "text/html": [
       "<div>\n",
       "<style scoped>\n",
       "    .dataframe tbody tr th:only-of-type {\n",
       "        vertical-align: middle;\n",
       "    }\n",
       "\n",
       "    .dataframe tbody tr th {\n",
       "        vertical-align: top;\n",
       "    }\n",
       "\n",
       "    .dataframe thead th {\n",
       "        text-align: right;\n",
       "    }\n",
       "</style>\n",
       "<table border=\"1\" class=\"dataframe\">\n",
       "  <thead>\n",
       "    <tr style=\"text-align: right;\">\n",
       "      <th></th>\n",
       "      <th>Open</th>\n",
       "      <th>High</th>\n",
       "      <th>Low</th>\n",
       "      <th>Close</th>\n",
       "    </tr>\n",
       "  </thead>\n",
       "  <tbody>\n",
       "    <tr>\n",
       "      <th>0</th>\n",
       "      <td>1.03722</td>\n",
       "      <td>1.03753</td>\n",
       "      <td>1.03160</td>\n",
       "      <td>1.03322</td>\n",
       "    </tr>\n",
       "    <tr>\n",
       "      <th>1</th>\n",
       "      <td>1.03319</td>\n",
       "      <td>1.03527</td>\n",
       "      <td>1.03243</td>\n",
       "      <td>1.03493</td>\n",
       "    </tr>\n",
       "    <tr>\n",
       "      <th>2</th>\n",
       "      <td>1.03493</td>\n",
       "      <td>1.03818</td>\n",
       "      <td>1.03371</td>\n",
       "      <td>1.03737</td>\n",
       "    </tr>\n",
       "    <tr>\n",
       "      <th>3</th>\n",
       "      <td>1.03737</td>\n",
       "      <td>1.03947</td>\n",
       "      <td>1.03495</td>\n",
       "      <td>1.03903</td>\n",
       "    </tr>\n",
       "    <tr>\n",
       "      <th>4</th>\n",
       "      <td>1.03904</td>\n",
       "      <td>1.04266</td>\n",
       "      <td>1.03899</td>\n",
       "      <td>1.04253</td>\n",
       "    </tr>\n",
       "    <tr>\n",
       "      <th>...</th>\n",
       "      <td>...</td>\n",
       "      <td>...</td>\n",
       "      <td>...</td>\n",
       "      <td>...</td>\n",
       "    </tr>\n",
       "    <tr>\n",
       "      <th>708</th>\n",
       "      <td>1.07879</td>\n",
       "      <td>1.07913</td>\n",
       "      <td>1.07826</td>\n",
       "      <td>1.07834</td>\n",
       "    </tr>\n",
       "    <tr>\n",
       "      <th>709</th>\n",
       "      <td>1.07834</td>\n",
       "      <td>1.07944</td>\n",
       "      <td>1.07771</td>\n",
       "      <td>1.07926</td>\n",
       "    </tr>\n",
       "    <tr>\n",
       "      <th>710</th>\n",
       "      <td>1.07925</td>\n",
       "      <td>1.07962</td>\n",
       "      <td>1.07893</td>\n",
       "      <td>1.07943</td>\n",
       "    </tr>\n",
       "    <tr>\n",
       "      <th>711</th>\n",
       "      <td>1.07943</td>\n",
       "      <td>1.07954</td>\n",
       "      <td>1.07828</td>\n",
       "      <td>1.07850</td>\n",
       "    </tr>\n",
       "    <tr>\n",
       "      <th>712</th>\n",
       "      <td>1.07851</td>\n",
       "      <td>1.07870</td>\n",
       "      <td>1.07800</td>\n",
       "      <td>1.07832</td>\n",
       "    </tr>\n",
       "  </tbody>\n",
       "</table>\n",
       "<p>713 rows × 4 columns</p>\n",
       "</div>"
      ],
      "text/plain": [
       "        Open     High      Low    Close\n",
       "0    1.03722  1.03753  1.03160  1.03322\n",
       "1    1.03319  1.03527  1.03243  1.03493\n",
       "2    1.03493  1.03818  1.03371  1.03737\n",
       "3    1.03737  1.03947  1.03495  1.03903\n",
       "4    1.03904  1.04266  1.03899  1.04253\n",
       "..       ...      ...      ...      ...\n",
       "708  1.07879  1.07913  1.07826  1.07834\n",
       "709  1.07834  1.07944  1.07771  1.07926\n",
       "710  1.07925  1.07962  1.07893  1.07943\n",
       "711  1.07943  1.07954  1.07828  1.07850\n",
       "712  1.07851  1.07870  1.07800  1.07832\n",
       "\n",
       "[713 rows x 4 columns]"
      ]
     },
     "execution_count": 16,
     "metadata": {},
     "output_type": "execute_result"
    }
   ],
   "source": [
    "ohlc_data"
   ]
  },
  {
   "cell_type": "code",
   "execution_count": 20,
   "id": "aeb77de6",
   "metadata": {},
   "outputs": [],
   "source": [
    "df = new_data = ohlc_data"
   ]
  },
  {
   "cell_type": "code",
   "execution_count": 21,
   "id": "5ff31088",
   "metadata": {},
   "outputs": [
    {
     "name": "stdout",
     "output_type": "stream",
     "text": [
      "23/23 [==============================] - 1s 6ms/step\n",
      "       Open     High      Low    Close Prediction\n",
      "6   1.03885  1.03925  1.03837  1.03902       Hold\n",
      "7   1.03902  1.03965  1.03871  1.03908       Hold\n",
      "8   1.03909  1.03955  1.03798  1.03811       Hold\n",
      "9   1.03809  1.03854  1.03789  1.03831       Hold\n",
      "10  1.03831  1.03913  1.03815  1.03913       Hold\n",
      "11  1.03913  1.03996  1.03872  1.03886       Hold\n",
      "12  1.03886  1.04011  1.03863  1.03988       Hold\n",
      "13  1.03988  1.04067  1.03957  1.04031       Hold\n",
      "14  1.04031  1.04211  1.04024  1.04181       Hold\n",
      "15  1.04183  1.04345  1.04179  1.04339       Hold\n"
     ]
    },
    {
     "name": "stderr",
     "output_type": "stream",
     "text": [
      "C:\\Users\\Teacher\\AppData\\Local\\Temp\\ipykernel_17440\\74426318.py:27: SettingWithCopyWarning: \n",
      "A value is trying to be set on a copy of a slice from a DataFrame.\n",
      "Try using .loc[row_indexer,col_indexer] = value instead\n",
      "\n",
      "See the caveats in the documentation: https://pandas.pydata.org/pandas-docs/stable/user_guide/indexing.html#returning-a-view-versus-a-copy\n",
      "  df[\"Prediction\"] = predicted_labels  # Add predicted actions to DataFrame\n"
     ]
    }
   ],
   "source": [
    "new_data = new_data[['Open', 'High', 'Low', 'Close']].values  # Extract OHLC values\n",
    "\n",
    "# Normalize using MinMaxScaler (Make sure it's the same scaler used during training)\n",
    "scaler = MinMaxScaler()\n",
    "ohlc_data_scaled = scaler.fit_transform(ohlc_data)  # If you saved the original scaler, load it instead.\n",
    "\n",
    "# Create sequences using a sliding window\n",
    "X_test = []\n",
    "for i in range(len(ohlc_data_scaled) - sequence_length):\n",
    "    X_test.append(ohlc_data_scaled[i : i + sequence_length])\n",
    "\n",
    "X_test = np.array(X_test)  # Now it has shape (num_samples, sequence_length, features)\n",
    "\n",
    "# Load trained model\n",
    "model = loaded_model\n",
    "\n",
    "# Make predictions\n",
    "predictions = model.predict(X_test)\n",
    "predicted_classes = np.argmax(predictions, axis=1)  # Convert probabilities to class labels\n",
    "\n",
    "# Map predictions to labels\n",
    "labels = {0: \"Hold\", 1: \"Sell\", 2: \"Buy\"}\n",
    "predicted_labels = [labels[p] for p in predicted_classes]\n",
    "\n",
    "# Align predictions with the original DataFrame\n",
    "df = df.iloc[sequence_length:]  # Offset by sequence_length to match prediction output\n",
    "df[\"Prediction\"] = predicted_labels  # Add predicted actions to DataFrame\n",
    "\n",
    "# Save the results\n",
    "df.to_csv(\"predicted_results.csv\", index=False)\n",
    "\n",
    "# Print first 10 rows with predictions\n",
    "print(df.head(10))\n"
   ]
  },
  {
   "cell_type": "code",
   "execution_count": 25,
   "id": "a59b4ba2",
   "metadata": {},
   "outputs": [
    {
     "data": {
      "image/png": "[encoded data removed]",
      "text/plain": [
       "<Figure size 1200x600 with 1 Axes>"
      ]
     },
     "metadata": {},
     "output_type": "display_data"
    }
   ],
   "source": [
    "import numpy as np\n",
    "import pandas as pd\n",
    "import matplotlib.pyplot as plt\n",
    "\n",
    "# Load predicted dataset\n",
    "df = pd.read_csv(\"predicted_results.csv\")\n",
    "\n",
    "# Create a synthetic date index (since no date column is present)\n",
    "df[\"Date\"] = pd.date_range(start=\"2024-01-01\", periods=len(df), freq=\"D\")  # Adjust as needed\n",
    "df.set_index(\"Date\", inplace=True)  # Set Date as index\n",
    "\n",
    "# Extract Buy, Sell, Hold markers\n",
    "buy_signals = df[df[\"Prediction\"] == \"Buy\"]\n",
    "sell_signals = df[df[\"Prediction\"] == \"Sell\"]\n",
    "hold_signals = df[df[\"Prediction\"] == \"Hold\"]\n",
    "\n",
    "# Plot Closing Prices\n",
    "plt.figure(figsize=(12, 6))\n",
    "plt.plot(df.index, df[\"Close\"], label=\"Close Price\", color=\"black\", linewidth=2)\n",
    "\n",
    "# Add Buy/Sell/Hold markers\n",
    "plt.scatter(buy_signals.index, buy_signals[\"Close\"], color=\"green\", label=\"Buy\", marker=\"^\", s=100)\n",
    "plt.scatter(sell_signals.index, sell_signals[\"Close\"], color=\"red\", label=\"Sell\", marker=\"v\", s=100)\n",
    "plt.scatter(hold_signals.index, hold_signals[\"Close\"], color=\"blue\", label=\"Hold\", marker=\"o\", s=50)\n",
    "\n",
    "# Labels and legend\n",
    "plt.title(\"Price Movement with Buy, Sell, Hold Predictions\")\n",
    "plt.xlabel(\"Date\")\n",
    "plt.ylabel(\"Close Price\")\n",
    "plt.legend()\n",
    "plt.grid()\n",
    "\n",
    "# Show plot\n",
    "plt.show()\n"
   ]
  }
 ],
 "metadata": {
  "kernelspec": {
   "display_name": "Python 3 (ipykernel)",
   "language": "python",
   "name": "python3"
  },
  "language_info": {
   "codemirror_mode": {
    "name": "ipython",
    "version": 3
   },
   "file_extension": ".py",
   "mimetype": "text/x-python",
   "name": "python",
   "nbconvert_exporter": "python",
   "pygments_lexer": "ipython3",
   "version": "3.10.0"
  }
 },
 "nbformat": 4,
 "nbformat_minor": 5
}
