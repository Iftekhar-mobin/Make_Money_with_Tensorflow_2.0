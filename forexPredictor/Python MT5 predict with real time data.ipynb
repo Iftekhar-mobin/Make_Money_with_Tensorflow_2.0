{
 "cells": [
  {
   "cell_type": "markdown",
   "metadata": {},
   "source": [
    "# Trade with Python through MetaTrader5"
   ]
  },
  {
   "cell_type": "code",
   "execution_count": 1,
   "metadata": {},
   "outputs": [
    {
     "data": {
      "text/plain": [
       "True"
      ]
     },
     "execution_count": 1,
     "metadata": {},
     "output_type": "execute_result"
    }
   ],
   "source": [
    "# documentation: https://www.mql5.com/en/docs/integration/python_metatrader5\n",
    "\n",
    "import MetaTrader5 as mt  # pip install MetaTrader5\n",
    "import pandas as pd  # pip install pandas\n",
    "from datetime import datetime, timedelta\n",
    "import os\n",
    "\n",
    "# start the platform with initialize()\n",
    "mt.initialize()\n",
    "\n",
    "# login to Trade Account with login()\n",
    "# make sure that trade server is enabled in MT5 client terminal\n",
    "\n",
    "login = 165905041\n",
    "password = 'iIeElL0176_'\n",
    "server = 'XMGlobal-MT5 2'\n",
    "\n",
    "mt.login(login, password, server)\n",
    "\n"
   ]
  },
  {
   "cell_type": "code",
   "execution_count": 24,
   "metadata": {},
   "outputs": [],
   "source": [
    "# Define symbol and timeframe\n",
    "symbol = \"EURUSD\"\n",
    "timeframe = mt.TIMEFRAME_H1\n",
    "\n",
    "# Get data for the last 48 hours\n",
    "end_time = datetime.now()\n",
    "start_time = end_time - timedelta(hours=1000)\n",
    "\n",
    "# Retrieve OHLC data\n",
    "ohlc_data = pd.DataFrame(mt.copy_rates_range(symbol, timeframe, start_time, end_time))\n",
    "\n",
    "# Convert time column to datetime format\n",
    "ohlc_data['time'] = pd.to_datetime(ohlc_data['time'], unit='s')\n",
    "\n",
    "\n",
    "ohlc_data.rename(columns={'open':'Open', 'high':'High', \n",
    "                        'low':'Low', 'close':'Close', 'tick_volume':'Volume'}, inplace=True)\n",
    "columns_to_drop = ['time', 'spread', 'real_volume']\n",
    "ohlc_data.drop(columns=[col for col in columns_to_drop if col in ohlc_data.columns], inplace=True)\n",
    "\n"
   ]
  },
  {
   "cell_type": "code",
   "execution_count": 25,
   "metadata": {},
   "outputs": [
    {
     "data": {
      "text/html": [
       "<div>\n",
       "<style scoped>\n",
       "    .dataframe tbody tr th:only-of-type {\n",
       "        vertical-align: middle;\n",
       "    }\n",
       "\n",
       "    .dataframe tbody tr th {\n",
       "        vertical-align: top;\n",
       "    }\n",
       "\n",
       "    .dataframe thead th {\n",
       "        text-align: right;\n",
       "    }\n",
       "</style>\n",
       "<table border=\"1\" class=\"dataframe\">\n",
       "  <thead>\n",
       "    <tr style=\"text-align: right;\">\n",
       "      <th></th>\n",
       "      <th>Open</th>\n",
       "      <th>High</th>\n",
       "      <th>Low</th>\n",
       "      <th>Close</th>\n",
       "      <th>Volume</th>\n",
       "    </tr>\n",
       "  </thead>\n",
       "  <tbody>\n",
       "    <tr>\n",
       "      <th>0</th>\n",
       "      <td>1.02308</td>\n",
       "      <td>1.02552</td>\n",
       "      <td>1.02299</td>\n",
       "      <td>1.02484</td>\n",
       "      <td>1783</td>\n",
       "    </tr>\n",
       "    <tr>\n",
       "      <th>1</th>\n",
       "      <td>1.02491</td>\n",
       "      <td>1.02692</td>\n",
       "      <td>1.02332</td>\n",
       "      <td>1.02458</td>\n",
       "      <td>6643</td>\n",
       "    </tr>\n",
       "    <tr>\n",
       "      <th>2</th>\n",
       "      <td>1.02455</td>\n",
       "      <td>1.02662</td>\n",
       "      <td>1.02092</td>\n",
       "      <td>1.02311</td>\n",
       "      <td>9484</td>\n",
       "    </tr>\n",
       "    <tr>\n",
       "      <th>3</th>\n",
       "      <td>1.02310</td>\n",
       "      <td>1.02512</td>\n",
       "      <td>1.02208</td>\n",
       "      <td>1.02368</td>\n",
       "      <td>6763</td>\n",
       "    </tr>\n",
       "    <tr>\n",
       "      <th>4</th>\n",
       "      <td>1.02369</td>\n",
       "      <td>1.02371</td>\n",
       "      <td>1.02198</td>\n",
       "      <td>1.02227</td>\n",
       "      <td>6172</td>\n",
       "    </tr>\n",
       "    <tr>\n",
       "      <th>...</th>\n",
       "      <td>...</td>\n",
       "      <td>...</td>\n",
       "      <td>...</td>\n",
       "      <td>...</td>\n",
       "      <td>...</td>\n",
       "    </tr>\n",
       "    <tr>\n",
       "      <th>715</th>\n",
       "      <td>1.08707</td>\n",
       "      <td>1.08890</td>\n",
       "      <td>1.08695</td>\n",
       "      <td>1.08821</td>\n",
       "      <td>4606</td>\n",
       "    </tr>\n",
       "    <tr>\n",
       "      <th>716</th>\n",
       "      <td>1.08821</td>\n",
       "      <td>1.08872</td>\n",
       "      <td>1.08781</td>\n",
       "      <td>1.08814</td>\n",
       "      <td>3168</td>\n",
       "    </tr>\n",
       "    <tr>\n",
       "      <th>717</th>\n",
       "      <td>1.08814</td>\n",
       "      <td>1.08855</td>\n",
       "      <td>1.08725</td>\n",
       "      <td>1.08792</td>\n",
       "      <td>3176</td>\n",
       "    </tr>\n",
       "    <tr>\n",
       "      <th>718</th>\n",
       "      <td>1.08791</td>\n",
       "      <td>1.08836</td>\n",
       "      <td>1.08773</td>\n",
       "      <td>1.08822</td>\n",
       "      <td>2599</td>\n",
       "    </tr>\n",
       "    <tr>\n",
       "      <th>719</th>\n",
       "      <td>1.08820</td>\n",
       "      <td>1.08848</td>\n",
       "      <td>1.08722</td>\n",
       "      <td>1.08726</td>\n",
       "      <td>1209</td>\n",
       "    </tr>\n",
       "  </tbody>\n",
       "</table>\n",
       "<p>720 rows × 5 columns</p>\n",
       "</div>"
      ],
      "text/plain": [
       "        Open     High      Low    Close  Volume\n",
       "0    1.02308  1.02552  1.02299  1.02484    1783\n",
       "1    1.02491  1.02692  1.02332  1.02458    6643\n",
       "2    1.02455  1.02662  1.02092  1.02311    9484\n",
       "3    1.02310  1.02512  1.02208  1.02368    6763\n",
       "4    1.02369  1.02371  1.02198  1.02227    6172\n",
       "..       ...      ...      ...      ...     ...\n",
       "715  1.08707  1.08890  1.08695  1.08821    4606\n",
       "716  1.08821  1.08872  1.08781  1.08814    3168\n",
       "717  1.08814  1.08855  1.08725  1.08792    3176\n",
       "718  1.08791  1.08836  1.08773  1.08822    2599\n",
       "719  1.08820  1.08848  1.08722  1.08726    1209\n",
       "\n",
       "[720 rows x 5 columns]"
      ]
     },
     "execution_count": 25,
     "metadata": {},
     "output_type": "execute_result"
    }
   ],
   "source": [
    "ohlc_data"
   ]
  },
  {
   "cell_type": "code",
   "execution_count": 26,
   "metadata": {},
   "outputs": [],
   "source": [
    "data_dir = 'ohlc_data'\n",
    "model_path = os.path.join(os.getcwd(), data_dir)"
   ]
  },
  {
   "cell_type": "code",
   "execution_count": 5,
   "metadata": {},
   "outputs": [],
   "source": [
    "import pandas as pd\n",
    "from pathlib import Path\n",
    "import os\n",
    "import numpy as np\n",
    "import matplotlib.pyplot as plt\n",
    "import seaborn as sns\n",
    "\n",
    "\n",
    "from sklearn.model_selection import train_test_split\n",
    "from imblearn.over_sampling import RandomOverSampler, SMOTE\n",
    "from sklearn.utils.class_weight import compute_class_weight\n",
    "from collections import Counter\n",
    "from sklearn.preprocessing import MinMaxScaler, OneHotEncoder\n",
    "from sklearn.model_selection import train_test_split\n",
    "# from imblearn.over_sampling import SMOTE, ADASYN, RandomOverSampler\n",
    "from collections import Counter\n",
    "from sklearn.metrics import confusion_matrix\n",
    "\n",
    "from operator import itemgetter\n",
    "from sklearn.feature_selection import SelectKBest, f_classif, mutual_info_classif, RFE\n",
    "from sklearn.linear_model import LassoCV\n",
    "from sklearn.ensemble import RandomForestClassifier\n",
    "from sklearn.preprocessing import StandardScaler\n",
    "\n",
    "import tensorflow as tf\n",
    "from tensorflow.keras.models import Sequential\n",
    "from tensorflow.keras.layers import Conv1D, MaxPooling1D, Flatten, Dense, Dropout\n",
    "from tensorflow.keras.utils import to_categorical\n",
    "from tensorflow.keras.models import load_model\n",
    "from sklearn.metrics import classification_report"
   ]
  },
  {
   "cell_type": "code",
   "execution_count": 27,
   "metadata": {},
   "outputs": [],
   "source": [
    "features_df = feature_generate(ohlc_data)\n",
    "features_df_nonan = features_df.dropna().reset_index().drop(columns=['index'])\n",
    "features_df_nonan = features_df_nonan.select_dtypes(exclude=['object'])\n"
   ]
  },
  {
   "cell_type": "code",
   "execution_count": 28,
   "metadata": {},
   "outputs": [],
   "source": [
    "def features_selection(df, selection_method='all', topk=10, num_features=225):\n",
    "    \n",
    "    # Check if the columns exist before dropping\n",
    "    columns_to_drop = ['Time', 'Date', 'Signal']\n",
    "    X = df.drop(columns=[col for col in columns_to_drop if col in df.columns])\n",
    "    \n",
    "    # Separate features and target variable\n",
    "    y = df['Signal']  # Target variable\n",
    "    \n",
    "    # Ensure that only numeric columns are used for correlation\n",
    "    X_numeric = X.select_dtypes(include=[np.number])\n",
    "\n",
    "    # Step 1: Correlation Matrix\n",
    "    # Remove highly correlated features\n",
    "    cor_matrix = X_numeric.corr().abs()\n",
    "    upper_triangle = cor_matrix.where(np.triu(np.ones(cor_matrix.shape), k=1).astype(bool))\n",
    "    high_corr_features = [column for column in upper_triangle.columns if any(upper_triangle[column] > 0.9999)]\n",
    "    X.drop(columns=high_corr_features, inplace=True)\n",
    "    print(f\"Features removed due to high correlation: {high_corr_features}\")\n",
    "\n",
    "    # Step 2: Feature Selection with Lasso\n",
    "    # Scale the data before Lasso\n",
    "    scaler = StandardScaler()\n",
    "    X_scaled = scaler.fit_transform(X)\n",
    "    \n",
    "    # Apply LassoCV for feature selection\n",
    "    lasso = LassoCV(cv=5, random_state=0).fit(X_scaled, y)\n",
    "    lasso_selected_features = X.columns[lasso.coef_ != 0]\n",
    "    print(f\"Features selected by Lasso: {list(lasso_selected_features)}\")\n",
    "\n",
    "    list_features = X.columns.tolist()  # List of all feature names\n",
    "\n",
    "    # Get indices of common features\n",
    "    feat_idx = sorted([list_features.index(c) for c in lasso_selected_features][:num_features])\n",
    "    print(\"Feature indices for common features:\", feat_idx)\n",
    "\n",
    "    return lasso_selected_features, feat_idx\n",
    "\n",
    "def feature_generate(indicators_df):    \n",
    "    # Moving Averages (Simple and Exponential)\n",
    "    for window in [5, 10, 20, 50, 100, 200]:\n",
    "        indicators_df[f'SMA_{window}'] = indicators_df['Close'].rolling(window=window).mean()\n",
    "        indicators_df[f'EMA_{window}'] = indicators_df['Close'].ewm(span=window, adjust=False).mean()\n",
    "\n",
    "    # Momentum Indicators\n",
    "    indicators_df['RSI_14'] = 100 - (100 / (1 + (indicators_df['Close'].diff().clip(lower=0).rolling(window=14).mean() / \n",
    "                                                  indicators_df['Close'].diff().clip(upper=0).abs().rolling(window=14).mean())))\n",
    "\n",
    "    indicators_df['Stochastic_K'] = ((indicators_df['Close'] - indicators_df['Low'].rolling(14).min()) /\n",
    "                                      (indicators_df['High'].rolling(14).max() - indicators_df['Low'].rolling(14).min())) * 100\n",
    "\n",
    "    indicators_df['Stochastic_D'] = indicators_df['Stochastic_K'].rolling(3).mean()\n",
    "\n",
    "    # Williams %R\n",
    "    indicators_df['Williams_%R'] = ((indicators_df['High'].rolling(14).max() - indicators_df['Close']) /\n",
    "                                     (indicators_df['High'].rolling(14).max() - indicators_df['Low'].rolling(14).min())) * -100\n",
    "\n",
    "    # Moving Average Convergence Divergence (MACD)\n",
    "    indicators_df['MACD'] = indicators_df['Close'].ewm(span=12, adjust=False).mean() - indicators_df['Close'].ewm(span=26, adjust=False).mean()\n",
    "    indicators_df['MACD_Signal'] = indicators_df['MACD'].ewm(span=9, adjust=False).mean()\n",
    "    indicators_df['MACD_Hist'] = indicators_df['MACD'] - indicators_df['MACD_Signal']\n",
    "\n",
    "    # Average Directional Index (ADX)\n",
    "    high_diff = indicators_df['High'].diff()\n",
    "    low_diff = indicators_df['Low'].diff()\n",
    "    plus_dm = np.where((high_diff > low_diff) & (high_diff > 0), high_diff, 0)\n",
    "    minus_dm = np.where((low_diff > high_diff) & (low_diff > 0), low_diff, 0)\n",
    "    true_range = pd.DataFrame({\n",
    "        'hl': indicators_df['High'] - indicators_df['Low'],\n",
    "        'hc': (indicators_df['High'] - indicators_df['Close'].shift()).abs(),\n",
    "        'lc': (indicators_df['Low'] - indicators_df['Close'].shift()).abs()\n",
    "    }).max(axis=1)\n",
    "    indicators_df['ATR'] = true_range.rolling(window=14).mean()\n",
    "    indicators_df['Plus_DI'] = 100 * pd.Series(plus_dm).rolling(window=14).mean() / indicators_df['ATR']\n",
    "    indicators_df['Minus_DI'] = 100 * pd.Series(minus_dm).rolling(window=14).mean() / indicators_df['ATR']\n",
    "    indicators_df['ADX'] = 100 * abs(indicators_df['Plus_DI'] - indicators_df['Minus_DI']).rolling(window=14).mean() / (indicators_df['Plus_DI'] + indicators_df['Minus_DI'])\n",
    "\n",
    "    # Commodity Channel Index (CCI)\n",
    "    typical_price = (indicators_df['High'] + indicators_df['Low'] + indicators_df['Close']) / 3\n",
    "    indicators_df['CCI'] = (typical_price - typical_price.rolling(20).mean()) / (0.015 * typical_price.rolling(20).std())\n",
    "\n",
    "    # Bollinger Bands\n",
    "    indicators_df['Bollinger_Mid'] = indicators_df['Close'].rolling(window=20).mean()\n",
    "    indicators_df['Bollinger_Upper'] = indicators_df['Bollinger_Mid'] + 2 * indicators_df['Close'].rolling(window=20).std()\n",
    "    indicators_df['Bollinger_Lower'] = indicators_df['Bollinger_Mid'] - 2 * indicators_df['Close'].rolling(window=20).std()\n",
    "\n",
    "    # Rate of Change (ROC)\n",
    "    indicators_df['ROC'] = indicators_df['Close'].pct_change(periods=12) * 100\n",
    "\n",
    "    # On-Balance Volume (OBV)\n",
    "    obv = np.where(indicators_df['Close'] > indicators_df['Close'].shift(1), indicators_df['Volume'],\n",
    "                   np.where(indicators_df['Close'] < indicators_df['Close'].shift(1), -indicators_df['Volume'], 0))\n",
    "    indicators_df['OBV'] = obv.cumsum()\n",
    "\n",
    "    # Force Index\n",
    "    indicators_df['Force_Index'] = indicators_df['Close'].diff(1) * indicators_df['Volume']\n",
    "\n",
    "    # Accumulation/Distribution Line (ADL)\n",
    "    adl = ((indicators_df['Close'] - indicators_df['Low']) - (indicators_df['High'] - indicators_df['Close'])) / \\\n",
    "           (indicators_df['High'] - indicators_df['Low']) * indicators_df['Volume']\n",
    "    indicators_df['ADL'] = adl.cumsum()\n",
    "\n",
    "    # Money Flow Index (MFI)\n",
    "    money_flow = typical_price * indicators_df['Volume']\n",
    "    positive_flow = np.where(typical_price > typical_price.shift(1), money_flow, 0)\n",
    "    negative_flow = np.where(typical_price < typical_price.shift(1), money_flow, 0)\n",
    "    mfi_ratio = pd.Series(positive_flow).rolling(14).sum() / pd.Series(negative_flow).rolling(14).sum()\n",
    "    indicators_df['MFI'] = 100 - (100 / (1 + mfi_ratio))\n",
    "\n",
    "    # Accumulation Swing Index (ASI)\n",
    "    indicators_df['ASI'] = ((indicators_df['Close'] - indicators_df['Close'].shift()) +\n",
    "                            (0.5 * (indicators_df['Close'] - indicators_df['Open'])) +\n",
    "                            (0.25 * (indicators_df['Close'].shift() - indicators_df['Open'].shift()))) / indicators_df['ATR']\n",
    "\n",
    "    # Chaikin Oscillator\n",
    "    indicators_df['Chaikin_Oscillator'] = indicators_df['ADL'].ewm(span=3, adjust=False).mean() - indicators_df['ADL'].ewm(span=10, adjust=False).mean()\n",
    "\n",
    "    # Relative Strength (RS)\n",
    "    indicators_df['RS'] = indicators_df['Close'] / indicators_df['Close'].rolling(14).mean()\n",
    "\n",
    "    # Keltner Channels\n",
    "    indicators_df['Keltner_Mid'] = indicators_df['Close'].rolling(window=20).mean()\n",
    "    indicators_df['Keltner_Upper'] = indicators_df['Keltner_Mid'] + 1.5 * indicators_df['ATR']\n",
    "    indicators_df['Keltner_Lower'] = indicators_df['Keltner_Mid'] - 1.5 * indicators_df['ATR']\n",
    "\n",
    "    # Donchian Channels\n",
    "    indicators_df['Donchian_Upper'] = indicators_df['High'].rolling(window=20).max()\n",
    "    indicators_df['Donchian_Lower'] = indicators_df['Low'].rolling(window=20).min()\n",
    "\n",
    "    # Ichimoku Cloud\n",
    "    indicators_df['Tenkan_Sen'] = (indicators_df['High'].rolling(9).max() + indicators_df['Low'].rolling(9).min()) / 2\n",
    "    indicators_df['Kijun_Sen'] = (indicators_df['High'].rolling(26).max() + indicators_df['Low'].rolling(26).min()) / 2\n",
    "    indicators_df['Senkou_Span_A'] = ((indicators_df['Tenkan_Sen'] + indicators_df['Kijun_Sen']) / 2).shift(26)\n",
    "    indicators_df['Senkou_Span_B'] = ((indicators_df['High'].rolling(52).max() + indicators_df['Low'].rolling(52).min()) / 2).shift(26)\n",
    "\n",
    "    # Fibonacci Retracement Levels\n",
    "    indicators_df['Fib_0'] = indicators_df['Close'].rolling(window=20).min()\n",
    "    indicators_df['Fib_100'] = indicators_df['Close'].rolling(window=20).max()\n",
    "    indicators_df['Fib_50'] = (indicators_df['Fib_0'] + indicators_df['Fib_100']) / 2\n",
    "    indicators_df['Fib_61.8'] = indicators_df['Fib_0'] + ((indicators_df['Fib_100'] - indicators_df['Fib_0']) * 0.618)\n",
    "    indicators_df['Fib_38.2'] = indicators_df['Fib_0'] + ((indicators_df['Fib_100'] - indicators_df['Fib_0']) * 0.382)\n",
    "\n",
    "        # Double/Triple Tops and Bottoms\n",
    "    indicators_df['Double_Top'] = (indicators_df['High'].rolling(window=3).max() == indicators_df['High'])\n",
    "    indicators_df['Double_Bottom'] = (indicators_df['Low'].rolling(window=3).min() == indicators_df['Low'])\n",
    "\n",
    "    # Price Channels\n",
    "    indicators_df['Channel_High'] = indicators_df['High'].rolling(window=20).max()\n",
    "    indicators_df['Channel_Low'] = indicators_df['Low'].rolling(window=20).min()\n",
    "    indicators_df['Channel_Mid'] = (indicators_df['Channel_High'] + indicators_df['Channel_Low']) / 2\n",
    "\n",
    "    # Linear Regression Channels\n",
    "    def linear_regression_channel(series, window):\n",
    "        x = np.arange(window)\n",
    "        fit = lambda y: np.polyfit(x, y, 1)\n",
    "        slope, intercept = series.rolling(window).apply(lambda y: fit(y)[0], raw=False), series.rolling(window).apply(lambda y: fit(y)[1], raw=False)\n",
    "        center = slope * (window - 1) + intercept\n",
    "        std = series.rolling(window).std()\n",
    "        return center, center + 2 * std, center - 2 * std\n",
    "\n",
    "    lr_center, lr_upper, lr_lower = linear_regression_channel(indicators_df['Close'], 20)\n",
    "    indicators_df['LR_Center'] = lr_center\n",
    "    indicators_df['LR_Upper'] = lr_upper\n",
    "    indicators_df['LR_Lower'] = lr_lower\n",
    "\n",
    "    # Parabolic SAR (Modified for Channels)\n",
    "    sar = indicators_df['Low'].rolling(window=14).min()\n",
    "    indicators_df['SAR'] = sar.shift(1)\n",
    "\n",
    "    # Standard Deviation Channels\n",
    "    std = indicators_df['Close'].rolling(window=20).std()\n",
    "    mean = indicators_df['Close'].rolling(window=20).mean()\n",
    "    indicators_df['Std_Dev_Upper'] = mean + 2 * std\n",
    "    indicators_df['Std_Dev_Lower'] = mean - 2 * std\n",
    "\n",
    "    # VWAP Bands\n",
    "    indicators_df['VWAP'] = (indicators_df['Close'] * indicators_df['Volume']).cumsum() / indicators_df['Volume'].cumsum()\n",
    "    indicators_df['VWAP_Upper'] = indicators_df['VWAP'] + std\n",
    "    indicators_df['VWAP_Lower'] = indicators_df['VWAP'] - std\n",
    "\n",
    "    # Adaptive Channels\n",
    "    atr = indicators_df['Close'].rolling(window=14).std()\n",
    "    indicators_df['Adaptive_Upper'] = indicators_df['Close'] + (2 * atr)\n",
    "    indicators_df['Adaptive_Lower'] = indicators_df['Close'] - (2 * atr)\n",
    "\n",
    "    # Heikin-Ashi\n",
    "    ha_close = (indicators_df['Open'] + indicators_df['High'] + indicators_df['Low'] + indicators_df['Close']) / 4\n",
    "    indicators_df['HA_Close'] = ha_close\n",
    "    indicators_df['HA_Open'] = ha_close.shift(1)\n",
    "\n",
    "    # Pivot Points\n",
    "    pivot = (indicators_df['High'] + indicators_df['Low'] + indicators_df['Close']) / 3\n",
    "    indicators_df['Pivot_Point'] = pivot\n",
    "    indicators_df['Pivot_R1'] = (2 * pivot) - indicators_df['Low']\n",
    "    indicators_df['Pivot_S1'] = (2 * pivot) - indicators_df['High']\n",
    "\n",
    "    \n",
    "    return indicators_df\n"
   ]
  },
  {
   "cell_type": "code",
   "execution_count": 8,
   "metadata": {},
   "outputs": [
    {
     "data": {
      "text/plain": [
       "Index(['Open', 'High', 'Low', 'Close', 'Volume', 'SMA_5', 'EMA_5', 'SMA_10',\n",
       "       'EMA_10', 'SMA_20', 'EMA_20', 'SMA_50', 'EMA_50', 'SMA_100', 'EMA_100',\n",
       "       'SMA_200', 'EMA_200', 'RSI_14', 'Stochastic_K', 'Stochastic_D',\n",
       "       'Williams_%R', 'MACD', 'MACD_Signal', 'MACD_Hist', 'ATR', 'Plus_DI',\n",
       "       'Minus_DI', 'ADX', 'CCI', 'Bollinger_Mid', 'Bollinger_Upper',\n",
       "       'Bollinger_Lower', 'ROC', 'OBV', 'Force_Index', 'ADL', 'MFI', 'ASI',\n",
       "       'Chaikin_Oscillator', 'RS', 'Keltner_Mid', 'Keltner_Upper',\n",
       "       'Keltner_Lower', 'Donchian_Upper', 'Donchian_Lower', 'Tenkan_Sen',\n",
       "       'Kijun_Sen', 'Senkou_Span_A', 'Senkou_Span_B', 'Fib_0', 'Fib_100',\n",
       "       'Fib_50', 'Fib_61.8', 'Fib_38.2', 'Double_Top', 'Double_Bottom',\n",
       "       'Channel_High', 'Channel_Low', 'Channel_Mid', 'LR_Center', 'LR_Upper',\n",
       "       'LR_Lower', 'SAR', 'Std_Dev_Upper', 'Std_Dev_Lower', 'VWAP',\n",
       "       'VWAP_Upper', 'VWAP_Lower', 'Adaptive_Upper', 'Adaptive_Lower',\n",
       "       'HA_Close', 'HA_Open', 'Pivot_Point', 'Pivot_R1', 'Pivot_S1'],\n",
       "      dtype='object')"
      ]
     },
     "execution_count": 8,
     "metadata": {},
     "output_type": "execute_result"
    }
   ],
   "source": [
    "features_df_nonan.columns"
   ]
  },
  {
   "cell_type": "code",
   "execution_count": 29,
   "metadata": {},
   "outputs": [
    {
     "data": {
      "text/plain": [
       "<Axes: >"
      ]
     },
     "execution_count": 29,
     "metadata": {},
     "output_type": "execute_result"
    },
    {
     "data": {
      "image/png": "[encoded data removed]",
      "text/plain": [
       "<Figure size 640x480 with 1 Axes>"
      ]
     },
     "metadata": {},
     "output_type": "display_data"
    }
   ],
   "source": [
    "ohlc_data['Close'].plot()"
   ]
  },
  {
   "cell_type": "code",
   "execution_count": 30,
   "metadata": {},
   "outputs": [
    {
     "data": {
      "text/plain": [
       "<Axes: >"
      ]
     },
     "execution_count": 30,
     "metadata": {},
     "output_type": "execute_result"
    },
    {
     "data": {
      "image/png": "[encoded data removed]",
      "text/plain": [
       "<Figure size 640x480 with 1 Axes>"
      ]
     },
     "metadata": {},
     "output_type": "display_data"
    }
   ],
   "source": [
    "features_df_nonan['Close'].plot()"
   ]
  },
  {
   "cell_type": "code",
   "execution_count": 31,
   "metadata": {},
   "outputs": [],
   "source": [
    "feat_idx_ = [1, 2, 3, 4, 5, 6, 11, 13, 15, 16, 17, 19, 20, 21, 22, 23, 24, 25, 28, 29, 30, 31, 32, 33, 34, 35, 38, 39, 40, 41, 42, 43, 44, 45, 46, 47, 48, 50, 52, 53, 54, 55]\n",
    "features_df_nonan = features_df_nonan.iloc[:, feat_idx_]\n"
   ]
  },
  {
   "cell_type": "code",
   "execution_count": 32,
   "metadata": {},
   "outputs": [
    {
     "data": {
      "text/html": [
       "<div>\n",
       "<style scoped>\n",
       "    .dataframe tbody tr th:only-of-type {\n",
       "        vertical-align: middle;\n",
       "    }\n",
       "\n",
       "    .dataframe tbody tr th {\n",
       "        vertical-align: top;\n",
       "    }\n",
       "\n",
       "    .dataframe thead th {\n",
       "        text-align: right;\n",
       "    }\n",
       "</style>\n",
       "<table border=\"1\" class=\"dataframe\">\n",
       "  <thead>\n",
       "    <tr style=\"text-align: right;\">\n",
       "      <th></th>\n",
       "      <th>High</th>\n",
       "      <th>Low</th>\n",
       "      <th>Close</th>\n",
       "      <th>Volume</th>\n",
       "      <th>SMA_5</th>\n",
       "      <th>EMA_5</th>\n",
       "      <th>SMA_50</th>\n",
       "      <th>SMA_100</th>\n",
       "      <th>SMA_200</th>\n",
       "      <th>EMA_200</th>\n",
       "      <th>...</th>\n",
       "      <th>Donchian_Lower</th>\n",
       "      <th>Tenkan_Sen</th>\n",
       "      <th>Kijun_Sen</th>\n",
       "      <th>Senkou_Span_A</th>\n",
       "      <th>Senkou_Span_B</th>\n",
       "      <th>Fib_100</th>\n",
       "      <th>Fib_61.8</th>\n",
       "      <th>Fib_38.2</th>\n",
       "      <th>Double_Top</th>\n",
       "      <th>Double_Bottom</th>\n",
       "    </tr>\n",
       "  </thead>\n",
       "  <tbody>\n",
       "    <tr>\n",
       "      <th>0</th>\n",
       "      <td>1.04376</td>\n",
       "      <td>1.04296</td>\n",
       "      <td>1.04340</td>\n",
       "      <td>2722</td>\n",
       "      <td>1.041758</td>\n",
       "      <td>1.042018</td>\n",
       "      <td>1.036109</td>\n",
       "      <td>1.034587</td>\n",
       "      <td>1.034540</td>\n",
       "      <td>1.033861</td>\n",
       "      <td>...</td>\n",
       "      <td>1.03160</td>\n",
       "      <td>1.040825</td>\n",
       "      <td>1.037680</td>\n",
       "      <td>1.034830</td>\n",
       "      <td>1.033585</td>\n",
       "      <td>1.04340</td>\n",
       "      <td>1.039511</td>\n",
       "      <td>1.037109</td>\n",
       "      <td>True</td>\n",
       "      <td>False</td>\n",
       "    </tr>\n",
       "    <tr>\n",
       "      <th>1</th>\n",
       "      <td>1.04391</td>\n",
       "      <td>1.04278</td>\n",
       "      <td>1.04298</td>\n",
       "      <td>3449</td>\n",
       "      <td>1.042378</td>\n",
       "      <td>1.042339</td>\n",
       "      <td>1.036362</td>\n",
       "      <td>1.034633</td>\n",
       "      <td>1.034631</td>\n",
       "      <td>1.033952</td>\n",
       "      <td>...</td>\n",
       "      <td>1.03160</td>\n",
       "      <td>1.040900</td>\n",
       "      <td>1.037755</td>\n",
       "      <td>1.034793</td>\n",
       "      <td>1.033585</td>\n",
       "      <td>1.04340</td>\n",
       "      <td>1.039511</td>\n",
       "      <td>1.037109</td>\n",
       "      <td>True</td>\n",
       "      <td>False</td>\n",
       "    </tr>\n",
       "    <tr>\n",
       "      <th>2</th>\n",
       "      <td>1.04357</td>\n",
       "      <td>1.04216</td>\n",
       "      <td>1.04247</td>\n",
       "      <td>4953</td>\n",
       "      <td>1.042810</td>\n",
       "      <td>1.042382</td>\n",
       "      <td>1.036603</td>\n",
       "      <td>1.034679</td>\n",
       "      <td>1.034720</td>\n",
       "      <td>1.034037</td>\n",
       "      <td>...</td>\n",
       "      <td>1.03160</td>\n",
       "      <td>1.041030</td>\n",
       "      <td>1.037755</td>\n",
       "      <td>1.034928</td>\n",
       "      <td>1.033585</td>\n",
       "      <td>1.04340</td>\n",
       "      <td>1.039511</td>\n",
       "      <td>1.037109</td>\n",
       "      <td>False</td>\n",
       "      <td>True</td>\n",
       "    </tr>\n",
       "    <tr>\n",
       "      <th>3</th>\n",
       "      <td>1.04256</td>\n",
       "      <td>1.04091</td>\n",
       "      <td>1.04126</td>\n",
       "      <td>5007</td>\n",
       "      <td>1.042700</td>\n",
       "      <td>1.042008</td>\n",
       "      <td>1.036820</td>\n",
       "      <td>1.034712</td>\n",
       "      <td>1.034811</td>\n",
       "      <td>1.034108</td>\n",
       "      <td>...</td>\n",
       "      <td>1.03160</td>\n",
       "      <td>1.041270</td>\n",
       "      <td>1.037755</td>\n",
       "      <td>1.034982</td>\n",
       "      <td>1.033585</td>\n",
       "      <td>1.04340</td>\n",
       "      <td>1.039511</td>\n",
       "      <td>1.037109</td>\n",
       "      <td>False</td>\n",
       "      <td>True</td>\n",
       "    </tr>\n",
       "    <tr>\n",
       "      <th>4</th>\n",
       "      <td>1.04255</td>\n",
       "      <td>1.04101</td>\n",
       "      <td>1.04223</td>\n",
       "      <td>4140</td>\n",
       "      <td>1.042468</td>\n",
       "      <td>1.042082</td>\n",
       "      <td>1.037060</td>\n",
       "      <td>1.034760</td>\n",
       "      <td>1.034904</td>\n",
       "      <td>1.034189</td>\n",
       "      <td>...</td>\n",
       "      <td>1.03243</td>\n",
       "      <td>1.041270</td>\n",
       "      <td>1.037755</td>\n",
       "      <td>1.035270</td>\n",
       "      <td>1.033585</td>\n",
       "      <td>1.04340</td>\n",
       "      <td>1.040164</td>\n",
       "      <td>1.038166</td>\n",
       "      <td>False</td>\n",
       "      <td>False</td>\n",
       "    </tr>\n",
       "    <tr>\n",
       "      <th>...</th>\n",
       "      <td>...</td>\n",
       "      <td>...</td>\n",
       "      <td>...</td>\n",
       "      <td>...</td>\n",
       "      <td>...</td>\n",
       "      <td>...</td>\n",
       "      <td>...</td>\n",
       "      <td>...</td>\n",
       "      <td>...</td>\n",
       "      <td>...</td>\n",
       "      <td>...</td>\n",
       "      <td>...</td>\n",
       "      <td>...</td>\n",
       "      <td>...</td>\n",
       "      <td>...</td>\n",
       "      <td>...</td>\n",
       "      <td>...</td>\n",
       "      <td>...</td>\n",
       "      <td>...</td>\n",
       "      <td>...</td>\n",
       "      <td>...</td>\n",
       "    </tr>\n",
       "    <tr>\n",
       "      <th>516</th>\n",
       "      <td>1.08890</td>\n",
       "      <td>1.08695</td>\n",
       "      <td>1.08821</td>\n",
       "      <td>4606</td>\n",
       "      <td>1.087932</td>\n",
       "      <td>1.087756</td>\n",
       "      <td>1.086920</td>\n",
       "      <td>1.087657</td>\n",
       "      <td>1.081804</td>\n",
       "      <td>1.079625</td>\n",
       "      <td>...</td>\n",
       "      <td>1.08297</td>\n",
       "      <td>1.087310</td>\n",
       "      <td>1.087075</td>\n",
       "      <td>1.086365</td>\n",
       "      <td>1.088390</td>\n",
       "      <td>1.08957</td>\n",
       "      <td>1.087347</td>\n",
       "      <td>1.085973</td>\n",
       "      <td>True</td>\n",
       "      <td>False</td>\n",
       "    </tr>\n",
       "    <tr>\n",
       "      <th>517</th>\n",
       "      <td>1.08872</td>\n",
       "      <td>1.08781</td>\n",
       "      <td>1.08814</td>\n",
       "      <td>3168</td>\n",
       "      <td>1.087682</td>\n",
       "      <td>1.087884</td>\n",
       "      <td>1.086836</td>\n",
       "      <td>1.087704</td>\n",
       "      <td>1.081990</td>\n",
       "      <td>1.079710</td>\n",
       "      <td>...</td>\n",
       "      <td>1.08297</td>\n",
       "      <td>1.087895</td>\n",
       "      <td>1.087075</td>\n",
       "      <td>1.086362</td>\n",
       "      <td>1.088390</td>\n",
       "      <td>1.08957</td>\n",
       "      <td>1.087347</td>\n",
       "      <td>1.085973</td>\n",
       "      <td>False</td>\n",
       "      <td>False</td>\n",
       "    </tr>\n",
       "    <tr>\n",
       "      <th>518</th>\n",
       "      <td>1.08855</td>\n",
       "      <td>1.08725</td>\n",
       "      <td>1.08792</td>\n",
       "      <td>3176</td>\n",
       "      <td>1.087802</td>\n",
       "      <td>1.087896</td>\n",
       "      <td>1.086785</td>\n",
       "      <td>1.087739</td>\n",
       "      <td>1.082158</td>\n",
       "      <td>1.079792</td>\n",
       "      <td>...</td>\n",
       "      <td>1.08297</td>\n",
       "      <td>1.088125</td>\n",
       "      <td>1.087075</td>\n",
       "      <td>1.086362</td>\n",
       "      <td>1.088390</td>\n",
       "      <td>1.08957</td>\n",
       "      <td>1.087347</td>\n",
       "      <td>1.085973</td>\n",
       "      <td>False</td>\n",
       "      <td>False</td>\n",
       "    </tr>\n",
       "    <tr>\n",
       "      <th>519</th>\n",
       "      <td>1.08836</td>\n",
       "      <td>1.08773</td>\n",
       "      <td>1.08822</td>\n",
       "      <td>2599</td>\n",
       "      <td>1.087910</td>\n",
       "      <td>1.088004</td>\n",
       "      <td>1.086737</td>\n",
       "      <td>1.087785</td>\n",
       "      <td>1.082323</td>\n",
       "      <td>1.079876</td>\n",
       "      <td>...</td>\n",
       "      <td>1.08297</td>\n",
       "      <td>1.088755</td>\n",
       "      <td>1.087075</td>\n",
       "      <td>1.086362</td>\n",
       "      <td>1.088390</td>\n",
       "      <td>1.08957</td>\n",
       "      <td>1.087347</td>\n",
       "      <td>1.085973</td>\n",
       "      <td>False</td>\n",
       "      <td>False</td>\n",
       "    </tr>\n",
       "    <tr>\n",
       "      <th>520</th>\n",
       "      <td>1.08848</td>\n",
       "      <td>1.08722</td>\n",
       "      <td>1.08726</td>\n",
       "      <td>1209</td>\n",
       "      <td>1.087950</td>\n",
       "      <td>1.087756</td>\n",
       "      <td>1.086715</td>\n",
       "      <td>1.087828</td>\n",
       "      <td>1.082490</td>\n",
       "      <td>1.079949</td>\n",
       "      <td>...</td>\n",
       "      <td>1.08297</td>\n",
       "      <td>1.088755</td>\n",
       "      <td>1.087075</td>\n",
       "      <td>1.085957</td>\n",
       "      <td>1.088390</td>\n",
       "      <td>1.08957</td>\n",
       "      <td>1.087347</td>\n",
       "      <td>1.085973</td>\n",
       "      <td>False</td>\n",
       "      <td>True</td>\n",
       "    </tr>\n",
       "  </tbody>\n",
       "</table>\n",
       "<p>521 rows × 42 columns</p>\n",
       "</div>"
      ],
      "text/plain": [
       "        High      Low    Close  Volume     SMA_5     EMA_5    SMA_50   \n",
       "0    1.04376  1.04296  1.04340    2722  1.041758  1.042018  1.036109  \\\n",
       "1    1.04391  1.04278  1.04298    3449  1.042378  1.042339  1.036362   \n",
       "2    1.04357  1.04216  1.04247    4953  1.042810  1.042382  1.036603   \n",
       "3    1.04256  1.04091  1.04126    5007  1.042700  1.042008  1.036820   \n",
       "4    1.04255  1.04101  1.04223    4140  1.042468  1.042082  1.037060   \n",
       "..       ...      ...      ...     ...       ...       ...       ...   \n",
       "516  1.08890  1.08695  1.08821    4606  1.087932  1.087756  1.086920   \n",
       "517  1.08872  1.08781  1.08814    3168  1.087682  1.087884  1.086836   \n",
       "518  1.08855  1.08725  1.08792    3176  1.087802  1.087896  1.086785   \n",
       "519  1.08836  1.08773  1.08822    2599  1.087910  1.088004  1.086737   \n",
       "520  1.08848  1.08722  1.08726    1209  1.087950  1.087756  1.086715   \n",
       "\n",
       "      SMA_100   SMA_200   EMA_200  ...  Donchian_Lower  Tenkan_Sen  Kijun_Sen   \n",
       "0    1.034587  1.034540  1.033861  ...         1.03160    1.040825   1.037680  \\\n",
       "1    1.034633  1.034631  1.033952  ...         1.03160    1.040900   1.037755   \n",
       "2    1.034679  1.034720  1.034037  ...         1.03160    1.041030   1.037755   \n",
       "3    1.034712  1.034811  1.034108  ...         1.03160    1.041270   1.037755   \n",
       "4    1.034760  1.034904  1.034189  ...         1.03243    1.041270   1.037755   \n",
       "..        ...       ...       ...  ...             ...         ...        ...   \n",
       "516  1.087657  1.081804  1.079625  ...         1.08297    1.087310   1.087075   \n",
       "517  1.087704  1.081990  1.079710  ...         1.08297    1.087895   1.087075   \n",
       "518  1.087739  1.082158  1.079792  ...         1.08297    1.088125   1.087075   \n",
       "519  1.087785  1.082323  1.079876  ...         1.08297    1.088755   1.087075   \n",
       "520  1.087828  1.082490  1.079949  ...         1.08297    1.088755   1.087075   \n",
       "\n",
       "     Senkou_Span_A  Senkou_Span_B  Fib_100  Fib_61.8  Fib_38.2  Double_Top   \n",
       "0         1.034830       1.033585  1.04340  1.039511  1.037109        True  \\\n",
       "1         1.034793       1.033585  1.04340  1.039511  1.037109        True   \n",
       "2         1.034928       1.033585  1.04340  1.039511  1.037109       False   \n",
       "3         1.034982       1.033585  1.04340  1.039511  1.037109       False   \n",
       "4         1.035270       1.033585  1.04340  1.040164  1.038166       False   \n",
       "..             ...            ...      ...       ...       ...         ...   \n",
       "516       1.086365       1.088390  1.08957  1.087347  1.085973        True   \n",
       "517       1.086362       1.088390  1.08957  1.087347  1.085973       False   \n",
       "518       1.086362       1.088390  1.08957  1.087347  1.085973       False   \n",
       "519       1.086362       1.088390  1.08957  1.087347  1.085973       False   \n",
       "520       1.085957       1.088390  1.08957  1.087347  1.085973       False   \n",
       "\n",
       "     Double_Bottom  \n",
       "0            False  \n",
       "1            False  \n",
       "2             True  \n",
       "3             True  \n",
       "4            False  \n",
       "..             ...  \n",
       "516          False  \n",
       "517          False  \n",
       "518          False  \n",
       "519          False  \n",
       "520           True  \n",
       "\n",
       "[521 rows x 42 columns]"
      ]
     },
     "execution_count": 32,
     "metadata": {},
     "output_type": "execute_result"
    }
   ],
   "source": [
    "features_df_nonan"
   ]
  },
  {
   "cell_type": "code",
   "execution_count": 52,
   "metadata": {},
   "outputs": [
    {
     "data": {
      "text/plain": [
       "42"
      ]
     },
     "execution_count": 52,
     "metadata": {},
     "output_type": "execute_result"
    }
   ],
   "source": [
    "len(features_df_nonan.columns)"
   ]
  },
  {
   "cell_type": "code",
   "execution_count": 34,
   "metadata": {},
   "outputs": [],
   "source": [
    "X = features_df_nonan.values\n",
    "\n",
    "# Choose between MinMaxScaler or StandardScaler\n",
    "scaler = MinMaxScaler(feature_range=(0, 1))  # For Min-Max scaling\n",
    "x_tran = scaler.fit_transform(X)\n",
    "x_tran = x_tran.reshape((x_tran.shape[0], x_tran.shape[1], 1))\n",
    "\n",
    "# Normalize data if not already normalized\n",
    "x_tran = x_tran / np.max(x_tran)\n"
   ]
  },
  {
   "cell_type": "code",
   "execution_count": 35,
   "metadata": {},
   "outputs": [],
   "source": [
    "# Open in the old TensorFlow version\n",
    "from tensorflow.keras.models import load_model\n",
    "model = load_model(os.path.join(os.getcwd(), data_dir, \"model.hd5\"))\n"
   ]
  },
  {
   "cell_type": "code",
   "execution_count": 36,
   "metadata": {},
   "outputs": [
    {
     "name": "stdout",
     "output_type": "stream",
     "text": [
      "17/17 [==============================] - 0s 1ms/step\n"
     ]
    }
   ],
   "source": [
    "# Get predictions\n",
    "y_pred = model.predict(x_tran)  # This returns probabilities\n",
    "y_pred_classes = np.argmax(y_pred, axis=1)  # Convert probabilities to class indices\n"
   ]
  },
  {
   "cell_type": "code",
   "execution_count": 37,
   "metadata": {},
   "outputs": [
    {
     "data": {
      "text/plain": [
       "array([0, 0, 0, 0, 0, 0, 0, 0, 0, 0, 0, 0, 0, 0, 0, 1, 1, 1, 1, 1, 1, 1,\n",
       "       1, 1, 0, 0, 0, 0, 0, 0, 0, 0, 0, 1, 1, 1, 1, 1, 1, 1, 1, 1, 1, 1,\n",
       "       1, 1, 1, 1, 1, 1, 1, 1, 1, 1, 1, 1, 1, 1, 1, 1, 1, 1, 1, 1, 1, 1,\n",
       "       1, 1, 1, 1, 1, 0, 0, 1, 1, 0, 1, 1, 1, 0, 0, 0, 0, 0, 0, 1, 0, 0,\n",
       "       0, 0, 0, 0, 1, 0, 0, 0, 0, 1, 1, 0, 0, 0, 0, 0, 0, 0, 0, 0, 0, 0,\n",
       "       0, 0, 0, 0, 0, 0, 0, 0, 1, 0, 0, 0, 0, 0, 0, 0, 0, 0, 0, 0, 0, 1,\n",
       "       1, 1, 1, 1, 1, 1, 1, 1, 1, 1, 1, 1, 1, 1, 1, 0, 1, 1, 1, 1, 1, 0,\n",
       "       0, 0, 1, 0, 0, 0, 0, 0, 0, 1, 1, 1, 1, 1, 1, 1, 0, 0, 0, 1, 0, 0,\n",
       "       0, 0, 0, 0, 0, 0, 0, 0, 0, 0, 0, 0, 1, 0, 0, 0, 1, 1, 0, 0, 1, 1,\n",
       "       1, 1, 1, 1, 0, 1, 1, 1, 1, 1, 1, 1, 1, 1, 1, 1, 1, 1, 1, 1, 1, 1,\n",
       "       1, 1, 1, 1, 1, 0, 0, 1, 0, 0, 0, 1, 0, 1, 0, 0, 0, 0, 0, 0, 0, 0,\n",
       "       0, 0, 1, 1, 0, 0, 0, 0, 0, 0, 0, 0, 0, 0, 0, 0, 0, 0, 0, 0, 0, 0,\n",
       "       0, 0, 0, 0, 0, 0, 0, 0, 0, 0, 0, 0, 0, 0, 0, 0, 0, 0, 0, 0, 0, 0,\n",
       "       0, 0, 0, 0, 0, 0, 0, 0, 0, 0, 0, 0, 0, 1, 1, 0, 0, 0, 0, 1, 0, 0,\n",
       "       0, 0, 0, 0, 0, 0, 0, 1, 1, 1, 1, 1, 1, 0, 0, 0, 1, 1, 1, 1, 1, 1,\n",
       "       1, 1, 1, 1, 1, 1, 1, 1, 1, 1, 1, 1, 1, 1, 1, 1, 1, 1, 1, 1, 2, 2,\n",
       "       2, 2, 2, 2, 2, 2, 2, 2, 2, 2, 1, 1, 1, 2, 2, 2, 1, 1, 1, 1, 2, 2,\n",
       "       2, 2, 2, 2, 2, 2, 2, 2, 2, 2, 2, 2, 2, 2, 2, 2, 2, 2, 2, 1, 1, 2,\n",
       "       2, 2, 2, 2, 2, 2, 2, 2, 2, 2, 2, 2, 2, 2, 2, 2, 1, 2, 2, 1, 2, 2,\n",
       "       2, 2, 2, 2, 2, 2, 2, 2, 2, 2, 2, 2, 2, 2, 2, 2, 2, 2, 2, 2, 2, 2,\n",
       "       2, 2, 2, 2, 2, 2, 2, 2, 2, 2, 2, 2, 2, 2, 2, 2, 2, 2, 2, 2, 2, 2,\n",
       "       2, 2, 1, 1, 2, 2, 2, 2, 2, 2, 2, 2, 2, 2, 2, 2, 2, 2, 2, 2, 2, 2,\n",
       "       2, 2, 2, 2, 1, 1, 1, 1, 2, 2, 2, 2, 2, 2, 2, 2, 2, 2, 2, 2, 2, 2,\n",
       "       2, 2, 2, 2, 1, 1, 2, 2, 2, 2, 2, 2, 2, 2, 2], dtype=int64)"
      ]
     },
     "execution_count": 37,
     "metadata": {},
     "output_type": "execute_result"
    }
   ],
   "source": [
    "y_pred_classes"
   ]
  },
  {
   "cell_type": "code",
   "execution_count": 38,
   "metadata": {},
   "outputs": [],
   "source": [
    "def transform_array_with_rules(arr):\n",
    "    \"\"\"Transforms the input array based on the specified rules:\n",
    "       - Keep the first occurrence of 1s and 2s.\n",
    "       - Replace consecutive ones with 0s, except for the last occurrence which becomes -1.\n",
    "       - Replace consecutive twos with 0s, except for the last occurrence which becomes -2.\n",
    "    \"\"\"\n",
    "    transformed = np.zeros_like(arr)  # Initialize an array of zeros\n",
    "    transformed[0] = arr[0]  # Keep the first element unchanged\n",
    "    \n",
    "    i = 1\n",
    "    while i < len(arr):\n",
    "        if arr[i] == 1:\n",
    "            transformed[i] = 1  # Keep the first 1\n",
    "            j = i + 1\n",
    "            while j < len(arr) and arr[j] == 1:\n",
    "                transformed[j] = 0  # Set consecutive 1s to 0\n",
    "                j += 1\n",
    "            if j - 1 > i:  # If there were multiple consecutive 1s, set the last one to -1\n",
    "                transformed[j - 1] = -1\n",
    "            i = j  # Move the index forward\n",
    "\n",
    "        elif arr[i] == 2:\n",
    "            transformed[i] = 2  # Keep the first 2\n",
    "            j = i + 1\n",
    "            while j < len(arr) and arr[j] == 2:\n",
    "                transformed[j] = 0  # Set consecutive 2s to 0\n",
    "                j += 1\n",
    "            if j - 1 > i:  # If there were multiple consecutive 2s, set the last one to -2\n",
    "                transformed[j - 1] = -2\n",
    "            i = j  # Move the index forward\n",
    "\n",
    "        else:\n",
    "            transformed[i] = arr[i]  # Keep other values unchanged\n",
    "            i += 1\n",
    "    \n",
    "    transformed[len(arr)-1] = arr[len(arr)-1] \n",
    "    \n",
    "    return transformed\n",
    "\n",
    "\n"
   ]
  },
  {
   "cell_type": "code",
   "execution_count": 39,
   "metadata": {},
   "outputs": [
    {
     "data": {
      "text/plain": [
       "array([ 0,  0,  0,  0,  0,  0,  0,  0,  0,  0,  0,  0,  0,  0,  0,  1,  0,\n",
       "        0,  0,  0,  0,  0,  0, -1,  0,  0,  0,  0,  0,  0,  0,  0,  0,  1,\n",
       "        0,  0,  0,  0,  0,  0,  0,  0,  0,  0,  0,  0,  0,  0,  0,  0,  0,\n",
       "        0,  0,  0,  0,  0,  0,  0,  0,  0,  0,  0,  0,  0,  0,  0,  0,  0,\n",
       "        0,  0, -1,  0,  0,  1, -1,  0,  1,  0, -1,  0,  0,  0,  0,  0,  0,\n",
       "        1,  0,  0,  0,  0,  0,  0,  1,  0,  0,  0,  0,  1, -1,  0,  0,  0,\n",
       "        0,  0,  0,  0,  0,  0,  0,  0,  0,  0,  0,  0,  0,  0,  0,  0,  1,\n",
       "        0,  0,  0,  0,  0,  0,  0,  0,  0,  0,  0,  0,  1,  0,  0,  0,  0,\n",
       "        0,  0,  0,  0,  0,  0,  0,  0,  0,  0, -1,  0,  1,  0,  0,  0, -1,\n",
       "        0,  0,  0,  1,  0,  0,  0,  0,  0,  0,  1,  0,  0,  0,  0,  0, -1,\n",
       "        0,  0,  0,  1,  0,  0,  0,  0,  0,  0,  0,  0,  0,  0,  0,  0,  0,\n",
       "        0,  1,  0,  0,  0,  1, -1,  0,  0,  1,  0,  0,  0,  0, -1,  0,  1,\n",
       "        0,  0,  0,  0,  0,  0,  0,  0,  0,  0,  0,  0,  0,  0,  0,  0,  0,\n",
       "        0,  0,  0, -1,  0,  0,  1,  0,  0,  0,  1,  0,  1,  0,  0,  0,  0,\n",
       "        0,  0,  0,  0,  0,  0,  1, -1,  0,  0,  0,  0,  0,  0,  0,  0,  0,\n",
       "        0,  0,  0,  0,  0,  0,  0,  0,  0,  0,  0,  0,  0,  0,  0,  0,  0,\n",
       "        0,  0,  0,  0,  0,  0,  0,  0,  0,  0,  0,  0,  0,  0,  0,  0,  0,\n",
       "        0,  0,  0,  0,  0,  0,  0,  0,  0,  0,  1, -1,  0,  0,  0,  0,  1,\n",
       "        0,  0,  0,  0,  0,  0,  0,  0,  0,  1,  0,  0,  0,  0, -1,  0,  0,\n",
       "        0,  1,  0,  0,  0,  0,  0,  0,  0,  0,  0,  0,  0,  0,  0,  0,  0,\n",
       "        0,  0,  0,  0,  0,  0,  0,  0,  0, -1,  2,  0,  0,  0,  0,  0,  0,\n",
       "        0,  0,  0,  0, -2,  1,  0, -1,  2,  0, -2,  1,  0,  0, -1,  2,  0,\n",
       "        0,  0,  0,  0,  0,  0,  0,  0,  0,  0,  0,  0,  0,  0,  0,  0,  0,\n",
       "        0, -2,  1, -1,  2,  0,  0,  0,  0,  0,  0,  0,  0,  0,  0,  0,  0,\n",
       "        0,  0,  0, -2,  1,  2, -2,  1,  2,  0,  0,  0,  0,  0,  0,  0,  0,\n",
       "        0,  0,  0,  0,  0,  0,  0,  0,  0,  0,  0,  0,  0,  0,  0,  0,  0,\n",
       "        0,  0,  0,  0,  0,  0,  0,  0,  0,  0,  0,  0,  0,  0,  0,  0,  0,\n",
       "        0,  0,  0,  0, -2,  1, -1,  2,  0,  0,  0,  0,  0,  0,  0,  0,  0,\n",
       "        0,  0,  0,  0,  0,  0,  0,  0,  0,  0,  0, -2,  1,  0,  0, -1,  2,\n",
       "        0,  0,  0,  0,  0,  0,  0,  0,  0,  0,  0,  0,  0,  0,  0,  0, -2,\n",
       "        1, -1,  2,  0,  0,  0,  0,  0,  0,  0,  2], dtype=int64)"
      ]
     },
     "execution_count": 39,
     "metadata": {},
     "output_type": "execute_result"
    }
   ],
   "source": [
    "# Transforming the input array using the specified rules\n",
    "transformed_array_rules = transform_array_with_rules(y_pred_classes)\n",
    "transformed_array_rules"
   ]
  },
  {
   "cell_type": "code",
   "execution_count": 40,
   "metadata": {},
   "outputs": [
    {
     "data": {
      "image/png": "[encoded data removed]",
      "text/plain": [
       "<Figure size 2000x1200 with 1 Axes>"
      ]
     },
     "metadata": {},
     "output_type": "display_data"
    }
   ],
   "source": [
    "plot_trading_signals(features_df_nonan, transformed_array_rules)"
   ]
  },
  {
   "cell_type": "code",
   "execution_count": 42,
   "metadata": {},
   "outputs": [],
   "source": [
    "import matplotlib.pyplot as plt\n",
    "\n",
    "def plot_trading_signals(features_df_nonan, y_pred_classes):\n",
    "    \"\"\"\n",
    "    Plots the High, Low, and Close prices along with trading signals.\n",
    "    Trading signals:\n",
    "    - 1: Sell\n",
    "    - -1: Sell Close\n",
    "    - 2: Buy\n",
    "    - -2: Buy Close\n",
    "    - 0: In position between Buy and Buy Close OR Sell and Sell Close\n",
    "    \"\"\"\n",
    "\n",
    "    fig, ax = plt.subplots(figsize=(20, 12))\n",
    "\n",
    "    # Plot High, Low, Close prices\n",
    "    ax.plot(features_df_nonan.index, features_df_nonan['High'], label=\"High\", color='g', alpha=0.5)\n",
    "    ax.plot(features_df_nonan.index, features_df_nonan['Low'], label=\"Low\", color='r', alpha=0.5)\n",
    "    ax.plot(features_df_nonan.index, features_df_nonan['Close'], label=\"Close\", color='b', alpha=0.7)\n",
    "\n",
    "    # Convert signals into a NumPy array for plotting\n",
    "    signals = np.array(y_pred_classes)\n",
    "\n",
    "    # Identify different signals\n",
    "    buy_signals = np.where(signals == 2)[0]       # Buy entry\n",
    "    buy_close_signals = np.where(signals == -2)[0] # Buy exit\n",
    "    sell_signals = np.where(signals == 1)[0]      # Sell entry\n",
    "    sell_close_signals = np.where(signals == -1)[0] # Sell exit\n",
    "    in_position = np.where(signals == 0)[0]       # Holding between entry & exit\n",
    "\n",
    "    # Mark Buy entry\n",
    "    ax.scatter(features_df_nonan.index[buy_signals], features_df_nonan['Close'].iloc[buy_signals],\n",
    "               marker='^', color='green', label=\"Buy Entry\", s=70, alpha=0.7)\n",
    "\n",
    "    # Mark Buy exit\n",
    "    ax.scatter(features_df_nonan.index[buy_close_signals], features_df_nonan['Close'].iloc[buy_close_signals],\n",
    "               marker='x', color='darkgreen', label=\"Buy Close\", s=70, alpha=0.7)\n",
    "\n",
    "    # Mark Sell entry\n",
    "    ax.scatter(features_df_nonan.index[sell_signals], features_df_nonan['Close'].iloc[sell_signals],\n",
    "               marker='v', color='red', label=\"Sell Entry\", s=70, alpha=0.7)\n",
    "\n",
    "    # Mark Sell exit\n",
    "    ax.scatter(features_df_nonan.index[sell_close_signals], features_df_nonan['Close'].iloc[sell_close_signals],\n",
    "               marker='x', color='darkred', label=\"Sell Close\", s=70, alpha=0.7)\n",
    "\n",
    "    # Mark Holding periods (in position between buy/sell and their closes)\n",
    "    ax.scatter(features_df_nonan.index[in_position], features_df_nonan['Close'].iloc[in_position],\n",
    "               marker='o', color='gray', label=\"Holding\", s=30, alpha=0.3)\n",
    "\n",
    "    # Titles and labels\n",
    "    ax.set_title(\"Trading Signals Visualization\")\n",
    "    ax.set_xlabel(\"Index\")\n",
    "    ax.set_ylabel(\"Price\")\n",
    "    ax.legend()\n",
    "    ax.grid()\n",
    "\n",
    "    # Show the plot\n",
    "    plt.show()\n",
    "\n",
    "# Assuming features_df_nonan and y_pred_classes are provided, you can call:\n",
    "# plot_trading_signals(features_df_nonan, y_pred_classes)\n"
   ]
  },
  {
   "cell_type": "code",
   "execution_count": 43,
   "metadata": {},
   "outputs": [
    {
     "data": {
      "image/png": "[encoded data removed]",
      "text/plain": [
       "<Figure size 1200x600 with 1 Axes>"
      ]
     },
     "metadata": {},
     "output_type": "display_data"
    }
   ],
   "source": [
    "import matplotlib.pyplot as plt\n",
    "import numpy as np\n",
    "\n",
    "# Assuming features_df_nonan is a pandas DataFrame\n",
    "# with columns 'High', 'Low', 'Close' and has 157 rows\n",
    "fig, ax = plt.subplots(figsize=(12, 6))\n",
    "\n",
    "# Plot High, Low, Close prices\n",
    "ax.plot(features_df_nonan.index, features_df_nonan['High'], label=\"High\", color='g', alpha=0.5)\n",
    "ax.plot(features_df_nonan.index, features_df_nonan['Low'], label=\"Low\", color='r', alpha=0.1)\n",
    "ax.plot(features_df_nonan.index, features_df_nonan['Close'], label=\"Close\", color='b', alpha=0.1)\n",
    "\n",
    "# Convert signals into a NumPy array for plotting\n",
    "signals = np.array(y_pred_classes)\n",
    "\n",
    "# Plot signals with different markers\n",
    "buy_signals = np.where(signals == 2)[0]  # Buy (2)\n",
    "sell_signals = np.where(signals == 1)[0] # Sell (1)\n",
    "hold_signals = np.where(signals == 0)[0] # Hold (0)\n",
    "\n",
    "# Mark Buy signals\n",
    "ax.scatter(features_df_nonan.index[buy_signals], features_df_nonan['Close'].iloc[buy_signals],\n",
    "           marker='^', color='green', label=\"Buy Signal\", s=50, alpha=0.5)\n",
    "\n",
    "# Mark Sell signals\n",
    "ax.scatter(features_df_nonan.index[sell_signals], features_df_nonan['Close'].iloc[sell_signals],\n",
    "           marker='v', color='red', label=\"Sell Signal\", s=50, alpha=0.5)\n",
    "\n",
    "# Mark Hold signals\n",
    "ax.scatter(features_df_nonan.index[hold_signals], features_df_nonan['Close'].iloc[hold_signals],\n",
    "           marker='o', color='gray', label=\"Hold Signal\", s=20, alpha=0.5)\n",
    "\n",
    "# Titles and labels\n",
    "ax.set_title(\"Trading Signals Over Price Data\")\n",
    "ax.set_xlabel(\"Index\")\n",
    "ax.set_ylabel(\"Price\")\n",
    "ax.legend()\n",
    "ax.grid()\n",
    "\n",
    "plt.show()\n"
   ]
  },
  {
   "cell_type": "code",
   "execution_count": 6,
   "metadata": {},
   "outputs": [
    {
     "name": "stdout",
     "output_type": "stream",
     "text": [
      "AccountInfo(login=165905041, trade_mode=0, leverage=1000, limit_orders=300, margin_so_mode=0, trade_allowed=True, trade_expert=True, margin_mode=2, currency_digits=2, fifo_close=False, balance=10000.0, credit=0.0, profit=0.0, equity=10000.0, margin=0.0, margin_free=10000.0, margin_level=0.0, margin_so_call=50.0, margin_so_so=20.0, margin_initial=0.0, margin_maintenance=0.0, assets=0.0, liabilities=0.0, commission_blocked=0.0, name='Demo Account', server='XMGlobal-MT5 2', currency='USD', company='XM Global Limited')\n",
      "\n",
      "login:  165905041\n",
      "balance:  10000.0\n",
      "equity:  10000.0\n"
     ]
    }
   ],
   "source": [
    "# get account info\n",
    "account_info = mt.account_info()\n",
    "print(account_info)\n",
    "\n",
    "# getting specific account data\n",
    "login_number = account_info.login\n",
    "balance = account_info.balance\n",
    "equity = account_info.equity\n",
    "\n",
    "print()\n",
    "print('login: ', login_number)\n",
    "print('balance: ', balance)\n",
    "print('equity: ', equity)"
   ]
  },
  {
   "cell_type": "code",
   "execution_count": 5,
   "metadata": {},
   "outputs": [
    {
     "data": {
      "text/plain": [
       "OrderSendResult(retcode=10027, deal=0, order=0, volume=0.0, price=0.0, bid=0.0, ask=0.0, comment='AutoTrading disabled by client', request_id=0, retcode_external=0, request=TradeRequest(action=1, magic=0, order=0, symbol='EURUSD', volume=0.01, price=1.04309, stoplimit=0.0, sl=0.0, tp=0.0, deviation=200, type=0, type_filling=1, type_time=0, expiration=0, comment='Test_code', position=0, position_by=0))"
      ]
     },
     "execution_count": 5,
     "metadata": {},
     "output_type": "execute_result"
    }
   ],
   "source": [
    "request = {\n",
    "        \"action\":mt.TRADE_ACTION_DEAL,\n",
    "        \"symbol\":'EURUSD',\n",
    "        \"type\" : mt.ORDER_TYPE_BUY,\n",
    "        \"price\": mt.symbol_info_tick(\"EURUSD\").ask,\n",
    "        \"volume\":0.01,\n",
    "        \"deviation\": 200,\n",
    "        \"comment\":'Test_code',\n",
    "        \"type_filling\":mt.ORDER_FILLING_IOC\n",
    "}\n",
    "\n",
    "mt.order_send(request)"
   ]
  },
  {
   "cell_type": "code",
   "execution_count": 32,
   "metadata": {},
   "outputs": [
    {
     "data": {
      "text/plain": [
       "1506"
      ]
     },
     "execution_count": 32,
     "metadata": {},
     "output_type": "execute_result"
    }
   ],
   "source": [
    "# get number of symbols with symbols_total()\n",
    "num_symbols = mt.symbols_total()\n",
    "\n",
    "num_symbols"
   ]
  },
  {
   "cell_type": "code",
   "execution_count": 6,
   "metadata": {},
   "outputs": [],
   "source": [
    "# get all symbols and their specifications\n",
    "symbols = mt.symbols_get()\n",
    "# symbols"
   ]
  },
  {
   "cell_type": "code",
   "execution_count": 7,
   "metadata": {},
   "outputs": [
    {
     "name": "stdout",
     "output_type": "stream",
     "text": [
      "['CADCHF', 'CADJPY', 'CHFJPY', 'EURCAD', 'EURCHF', 'EURGBP', 'EURJPY', 'EURUSD', 'GBPCAD', 'GBPCHF', 'GBPJPY', 'GBPUSD', 'USDCAD', 'USDCHF', 'USDJPY']\n"
     ]
    }
   ],
   "source": [
    "# Extract currency pair names\n",
    "currency_pairs = [symbol.name for symbol in symbols if 'Forex\\\\Standard\\\\Majors\\\\' in symbol.path]\n",
    "\n",
    "print(currency_pairs)"
   ]
  },
  {
   "cell_type": "code",
   "execution_count": 11,
   "metadata": {},
   "outputs": [],
   "source": [
    "import os\n",
    "p = r'D:\\git_repos\\Make_Money_with_Tensorflow_2.0\\forexPredictor\\ohlc_data'\n",
    "df = pd.read_csv(os.path.join(p,'EURUSD','H1_EURUSD_2015.csv'), index_col=0)"
   ]
  },
  {
   "cell_type": "code",
   "execution_count": 14,
   "metadata": {},
   "outputs": [
    {
     "data": {
      "text/plain": [
       "Timestamp('2024-12-20 14:00:00')"
      ]
     },
     "execution_count": 14,
     "metadata": {},
     "output_type": "execute_result"
    }
   ],
   "source": [
    "pd.to_datetime(df['time'].iloc[-1], unit='s')"
   ]
  },
  {
   "cell_type": "code",
   "execution_count": 13,
   "metadata": {},
   "outputs": [
    {
     "data": {
      "text/plain": [
       "time           1.734703e+09\n",
       "open           1.039060e+00\n",
       "high           1.039920e+00\n",
       "low            1.038690e+00\n",
       "close          1.038850e+00\n",
       "tick_volume    3.749000e+03\n",
       "spread         1.700000e+01\n",
       "real_volume    0.000000e+00\n",
       "Name: 61937, dtype: float64"
      ]
     },
     "execution_count": 13,
     "metadata": {},
     "output_type": "execute_result"
    }
   ],
   "source": [
    "df.iloc[-1]"
   ]
  },
  {
   "cell_type": "code",
   "execution_count": 15,
   "metadata": {},
   "outputs": [
    {
     "name": "stdout",
     "output_type": "stream",
     "text": [
      "Checking for updates for EURUSD...\n",
      "Updating data for EURUSD...\n",
      "No new data available for EURUSD.\n",
      "Checking for updates for GBPUSD...\n",
      "Updating data for GBPUSD...\n",
      "No new data available for GBPUSD.\n",
      "Checking for updates for USDJPY...\n",
      "Updating data for USDJPY...\n",
      "No new data available for USDJPY.\n",
      "Checking for updates for AUDUSD...\n",
      "Updating data for AUDUSD...\n",
      "No new data available for AUDUSD.\n",
      "Checking for updates for USDCHF...\n",
      "Updating data for USDCHF...\n",
      "No new data available for USDCHF.\n",
      "Checking for updates for USDCAD...\n",
      "Updating data for USDCAD...\n",
      "No new data available for USDCAD.\n"
     ]
    }
   ],
   "source": [
    "import os\n",
    "import pandas as pd\n",
    "from datetime import datetime, timedelta\n",
    "import MetaTrader5 as mt5\n",
    "\n",
    "# List of pairs to download\n",
    "pairs = ['EURUSD', 'GBPUSD', 'USDJPY', 'AUDUSD', 'USDCHF', 'USDCAD']\n",
    "\n",
    "# Function to create necessary directories, check files, and save or update data\n",
    "def download_ohlc_data(symbol, start_year):\n",
    "    # Base directory for saving files\n",
    "    base_dir = f'ohlc_data/{symbol}'\n",
    "    \n",
    "    # Create the directory for the symbol if it doesn't exist\n",
    "    if not os.path.exists(base_dir):\n",
    "        os.makedirs(base_dir)\n",
    "    \n",
    "    file_path = os.path.join(base_dir, f'H1_{symbol}_{start_year}.csv')\n",
    "\n",
    "    # If the file doesn't exist, download data\n",
    "    if not os.path.exists(file_path):\n",
    "        print(f\"Downloading data for {symbol} from {start_year}...\")\n",
    "        ohlc_data = pd.DataFrame(mt5.copy_rates_range(symbol, \n",
    "                                                      mt5.TIMEFRAME_H1, \n",
    "                                                      datetime(start_year, 1, 1), \n",
    "                                                      datetime.now()))\n",
    "        # Check if data was retrieved successfully\n",
    "        if not ohlc_data.empty:\n",
    "            ohlc_data['time'] = pd.to_datetime(ohlc_data['time'], unit='s')\n",
    "            ohlc_data.to_csv(file_path, index=False)\n",
    "            print(f\"Downloaded and saved data for {symbol} ({start_year})\")\n",
    "        else:\n",
    "            print(f\"No data found for {symbol} ({start_year})\")\n",
    "    else:\n",
    "        # File exists, check if it needs updating\n",
    "        print(f\"Checking for updates for {symbol}...\")\n",
    "        rates_frame = pd.read_csv(file_path)\n",
    "        rates_frame['time'] = pd.to_datetime(rates_frame['time'])\n",
    "        \n",
    "        # Check the last row's time\n",
    "        last_row_time = rates_frame['time'].iloc[-1]\n",
    "        if last_row_time < datetime.now() - timedelta(days=2):\n",
    "            print(f\"Updating data for {symbol}...\")\n",
    "            utc_from = last_row_time + timedelta(seconds=1)\n",
    "            utc_to = datetime.now()\n",
    "            \n",
    "            # Retrieve new data\n",
    "            new_data = pd.DataFrame(mt5.copy_rates_range(symbol, \n",
    "                                                         mt5.TIMEFRAME_H1, \n",
    "                                                         utc_from, \n",
    "                                                         utc_to))\n",
    "            if not new_data.empty:\n",
    "                new_data['time'] = pd.to_datetime(new_data['time'], unit='s')\n",
    "                updated_data = pd.concat([rates_frame, new_data]).drop_duplicates(subset='time')\n",
    "                updated_data.to_csv(file_path, index=False)\n",
    "                print(f\"Updated data for {symbol}.\")\n",
    "            else:\n",
    "                print(f\"No new data available for {symbol}.\")\n",
    "        else:\n",
    "            print(f\"Data for {symbol} is already up-to-date.\")\n",
    "\n",
    "# Connect to MetaTrader 5\n",
    "if not mt5.initialize():\n",
    "    print(\"MetaTrader5 initialization failed!\")\n",
    "else:\n",
    "    # Define the starting year\n",
    "    start_year = 2015\n",
    "\n",
    "    # Download or update data for each currency pair\n",
    "    for pair in pairs:\n",
    "        download_ohlc_data(pair, start_year)\n",
    "\n",
    "    # Shutdown MetaTrader 5 after completing tasks\n",
    "    mt5.shutdown()\n"
   ]
  },
  {
   "cell_type": "code",
   "execution_count": 34,
   "metadata": {
    "collapsed": true
   },
   "outputs": [
    {
     "data": {
      "text/plain": [
       "{'custom': False,\n",
       " 'chart_mode': 0,\n",
       " 'select': True,\n",
       " 'visible': True,\n",
       " 'session_deals': 0,\n",
       " 'session_buy_orders': 0,\n",
       " 'session_sell_orders': 0,\n",
       " 'volume': 0,\n",
       " 'volumehigh': 0,\n",
       " 'volumelow': 0,\n",
       " 'time': 1734708625,\n",
       " 'digits': 5,\n",
       " 'spread': 27,\n",
       " 'spread_float': True,\n",
       " 'ticks_bookdepth': 0,\n",
       " 'trade_calc_mode': 0,\n",
       " 'trade_mode': 4,\n",
       " 'start_time': 0,\n",
       " 'expiration_time': 0,\n",
       " 'trade_stops_level': 0,\n",
       " 'trade_freeze_level': 0,\n",
       " 'trade_exemode': 2,\n",
       " 'swap_mode': 1,\n",
       " 'swap_rollover3days': 3,\n",
       " 'margin_hedged_use_leg': False,\n",
       " 'expiration_mode': 15,\n",
       " 'filling_mode': 2,\n",
       " 'order_mode': 127,\n",
       " 'order_gtc_mode': 0,\n",
       " 'option_mode': 0,\n",
       " 'option_right': 0,\n",
       " 'bid': 1.04041,\n",
       " 'bidhigh': 1.04063,\n",
       " 'bidlow': 1.03419,\n",
       " 'ask': 1.04068,\n",
       " 'askhigh': 1.04087,\n",
       " 'asklow': 1.0344,\n",
       " 'last': 0.0,\n",
       " 'lasthigh': 0.0,\n",
       " 'lastlow': 0.0,\n",
       " 'volume_real': 0.0,\n",
       " 'volumehigh_real': 0.0,\n",
       " 'volumelow_real': 0.0,\n",
       " 'option_strike': 0.0,\n",
       " 'point': 1e-05,\n",
       " 'trade_tick_value': 1.0,\n",
       " 'trade_tick_value_profit': 1.0,\n",
       " 'trade_tick_value_loss': 1.0,\n",
       " 'trade_tick_size': 1e-05,\n",
       " 'trade_contract_size': 100000.0,\n",
       " 'trade_accrued_interest': 0.0,\n",
       " 'trade_face_value': 0.0,\n",
       " 'trade_liquidity_rate': 0.0,\n",
       " 'volume_min': 0.01,\n",
       " 'volume_max': 50.0,\n",
       " 'volume_step': 0.01,\n",
       " 'volume_limit': 0.0,\n",
       " 'swap_long': -7.1,\n",
       " 'swap_short': 1.1,\n",
       " 'margin_initial': 0.0,\n",
       " 'margin_maintenance': 0.0,\n",
       " 'session_volume': 0.0,\n",
       " 'session_turnover': 0.0,\n",
       " 'session_interest': 0.0,\n",
       " 'session_buy_orders_volume': 0.0,\n",
       " 'session_sell_orders_volume': 0.0,\n",
       " 'session_open': 1.03553,\n",
       " 'session_close': 1.03569,\n",
       " 'session_aw': 0.0,\n",
       " 'session_price_settlement': 0.0,\n",
       " 'session_price_limit_min': 0.0,\n",
       " 'session_price_limit_max': 0.0,\n",
       " 'margin_hedged': 0.0,\n",
       " 'price_change': 0.4557,\n",
       " 'price_volatility': 0.0,\n",
       " 'price_theoretical': 0.0,\n",
       " 'price_greeks_delta': 0.0,\n",
       " 'price_greeks_theta': 0.0,\n",
       " 'price_greeks_gamma': 0.0,\n",
       " 'price_greeks_vega': 0.0,\n",
       " 'price_greeks_rho': 0.0,\n",
       " 'price_greeks_omega': 0.0,\n",
       " 'price_sensitivity': 0.0,\n",
       " 'basis': '',\n",
       " 'category': '',\n",
       " 'currency_base': 'EUR',\n",
       " 'currency_profit': 'USD',\n",
       " 'currency_margin': 'EUR',\n",
       " 'bank': '',\n",
       " 'description': 'Euro vs US Dollar',\n",
       " 'exchange': '',\n",
       " 'formula': '',\n",
       " 'isin': '',\n",
       " 'name': 'EURUSD',\n",
       " 'page': '',\n",
       " 'path': 'Forex\\\\Standard\\\\Majors\\\\EURUSD'}"
      ]
     },
     "execution_count": 34,
     "metadata": {},
     "output_type": "execute_result"
    }
   ],
   "source": [
    "# get symbol specifications\n",
    "symbol_info = mt.symbol_info(\"EURUSD\")._asdict()\n",
    "symbol_info"
   ]
  },
  {
   "cell_type": "code",
   "execution_count": 35,
   "metadata": {},
   "outputs": [
    {
     "data": {
      "text/plain": [
       "{'time': 1734708627,\n",
       " 'bid': 1.04066,\n",
       " 'ask': 1.04089,\n",
       " 'last': 0.0,\n",
       " 'volume': 0,\n",
       " 'time_msc': 1734708627048,\n",
       " 'flags': 1124,\n",
       " 'volume_real': 0.0}"
      ]
     },
     "execution_count": 35,
     "metadata": {},
     "output_type": "execute_result"
    }
   ],
   "source": [
    "# get current symbol price\n",
    "symbol_price = mt.symbol_info_tick(\"EURUSD\")._asdict()\n",
    "symbol_price"
   ]
  },
  {
   "cell_type": "code",
   "execution_count": 39,
   "metadata": {},
   "outputs": [
    {
     "data": {
      "text/html": [
       "<div>\n",
       "<style scoped>\n",
       "    .dataframe tbody tr th:only-of-type {\n",
       "        vertical-align: middle;\n",
       "    }\n",
       "\n",
       "    .dataframe tbody tr th {\n",
       "        vertical-align: top;\n",
       "    }\n",
       "\n",
       "    .dataframe thead th {\n",
       "        text-align: right;\n",
       "    }\n",
       "</style>\n",
       "<table border=\"1\" class=\"dataframe\">\n",
       "  <thead>\n",
       "    <tr style=\"text-align: right;\">\n",
       "      <th></th>\n",
       "      <th>time</th>\n",
       "      <th>open</th>\n",
       "      <th>high</th>\n",
       "      <th>low</th>\n",
       "      <th>close</th>\n",
       "      <th>tick_volume</th>\n",
       "      <th>spread</th>\n",
       "      <th>real_volume</th>\n",
       "    </tr>\n",
       "  </thead>\n",
       "  <tbody>\n",
       "    <tr>\n",
       "      <th>0</th>\n",
       "      <td>1420048800</td>\n",
       "      <td>1.20997</td>\n",
       "      <td>1.21089</td>\n",
       "      <td>1.20966</td>\n",
       "      <td>1.20999</td>\n",
       "      <td>3237</td>\n",
       "      <td>17</td>\n",
       "      <td>0</td>\n",
       "    </tr>\n",
       "    <tr>\n",
       "      <th>1</th>\n",
       "      <td>1420185600</td>\n",
       "      <td>1.20481</td>\n",
       "      <td>1.20569</td>\n",
       "      <td>1.20479</td>\n",
       "      <td>1.20538</td>\n",
       "      <td>1254</td>\n",
       "      <td>17</td>\n",
       "      <td>0</td>\n",
       "    </tr>\n",
       "    <tr>\n",
       "      <th>2</th>\n",
       "      <td>1420189200</td>\n",
       "      <td>1.20537</td>\n",
       "      <td>1.20574</td>\n",
       "      <td>1.20341</td>\n",
       "      <td>1.20553</td>\n",
       "      <td>3394</td>\n",
       "      <td>17</td>\n",
       "      <td>0</td>\n",
       "    </tr>\n",
       "    <tr>\n",
       "      <th>3</th>\n",
       "      <td>1420192800</td>\n",
       "      <td>1.20556</td>\n",
       "      <td>1.20689</td>\n",
       "      <td>1.20442</td>\n",
       "      <td>1.20469</td>\n",
       "      <td>4590</td>\n",
       "      <td>17</td>\n",
       "      <td>0</td>\n",
       "    </tr>\n",
       "    <tr>\n",
       "      <th>4</th>\n",
       "      <td>1420196400</td>\n",
       "      <td>1.20468</td>\n",
       "      <td>1.20599</td>\n",
       "      <td>1.20380</td>\n",
       "      <td>1.20573</td>\n",
       "      <td>4335</td>\n",
       "      <td>17</td>\n",
       "      <td>0</td>\n",
       "    </tr>\n",
       "    <tr>\n",
       "      <th>...</th>\n",
       "      <td>...</td>\n",
       "      <td>...</td>\n",
       "      <td>...</td>\n",
       "      <td>...</td>\n",
       "      <td>...</td>\n",
       "      <td>...</td>\n",
       "      <td>...</td>\n",
       "      <td>...</td>\n",
       "    </tr>\n",
       "    <tr>\n",
       "      <th>61932</th>\n",
       "      <td>1734685200</td>\n",
       "      <td>1.03737</td>\n",
       "      <td>1.03842</td>\n",
       "      <td>1.03715</td>\n",
       "      <td>1.03817</td>\n",
       "      <td>5316</td>\n",
       "      <td>17</td>\n",
       "      <td>0</td>\n",
       "    </tr>\n",
       "    <tr>\n",
       "      <th>61933</th>\n",
       "      <td>1734688800</td>\n",
       "      <td>1.03816</td>\n",
       "      <td>1.03974</td>\n",
       "      <td>1.03770</td>\n",
       "      <td>1.03913</td>\n",
       "      <td>5104</td>\n",
       "      <td>17</td>\n",
       "      <td>0</td>\n",
       "    </tr>\n",
       "    <tr>\n",
       "      <th>61934</th>\n",
       "      <td>1734692400</td>\n",
       "      <td>1.03913</td>\n",
       "      <td>1.03915</td>\n",
       "      <td>1.03749</td>\n",
       "      <td>1.03817</td>\n",
       "      <td>4389</td>\n",
       "      <td>17</td>\n",
       "      <td>0</td>\n",
       "    </tr>\n",
       "    <tr>\n",
       "      <th>61935</th>\n",
       "      <td>1734696000</td>\n",
       "      <td>1.03818</td>\n",
       "      <td>1.03921</td>\n",
       "      <td>1.03803</td>\n",
       "      <td>1.03908</td>\n",
       "      <td>3521</td>\n",
       "      <td>17</td>\n",
       "      <td>0</td>\n",
       "    </tr>\n",
       "    <tr>\n",
       "      <th>61936</th>\n",
       "      <td>1734699600</td>\n",
       "      <td>1.03908</td>\n",
       "      <td>1.03964</td>\n",
       "      <td>1.03785</td>\n",
       "      <td>1.03906</td>\n",
       "      <td>3663</td>\n",
       "      <td>17</td>\n",
       "      <td>0</td>\n",
       "    </tr>\n",
       "  </tbody>\n",
       "</table>\n",
       "<p>61937 rows × 8 columns</p>\n",
       "</div>"
      ],
      "text/plain": [
       "             time     open     high      low    close  tick_volume  spread  \\\n",
       "0      1420048800  1.20997  1.21089  1.20966  1.20999         3237      17   \n",
       "1      1420185600  1.20481  1.20569  1.20479  1.20538         1254      17   \n",
       "2      1420189200  1.20537  1.20574  1.20341  1.20553         3394      17   \n",
       "3      1420192800  1.20556  1.20689  1.20442  1.20469         4590      17   \n",
       "4      1420196400  1.20468  1.20599  1.20380  1.20573         4335      17   \n",
       "...           ...      ...      ...      ...      ...          ...     ...   \n",
       "61932  1734685200  1.03737  1.03842  1.03715  1.03817         5316      17   \n",
       "61933  1734688800  1.03816  1.03974  1.03770  1.03913         5104      17   \n",
       "61934  1734692400  1.03913  1.03915  1.03749  1.03817         4389      17   \n",
       "61935  1734696000  1.03818  1.03921  1.03803  1.03908         3521      17   \n",
       "61936  1734699600  1.03908  1.03964  1.03785  1.03906         3663      17   \n",
       "\n",
       "       real_volume  \n",
       "0                0  \n",
       "1                0  \n",
       "2                0  \n",
       "3                0  \n",
       "4                0  \n",
       "...            ...  \n",
       "61932            0  \n",
       "61933            0  \n",
       "61934            0  \n",
       "61935            0  \n",
       "61936            0  \n",
       "\n",
       "[61937 rows x 8 columns]"
      ]
     },
     "execution_count": 39,
     "metadata": {},
     "output_type": "execute_result"
    }
   ],
   "source": [
    "ohlc_data"
   ]
  },
  {
   "cell_type": "code",
   "execution_count": 22,
   "metadata": {},
   "outputs": [
    {
     "data": {
      "text/plain": [
       "<Axes: >"
      ]
     },
     "execution_count": 22,
     "metadata": {},
     "output_type": "execute_result"
    },
    {
     "data": {
      "image/png": "[encoded data removed]",
      "text/plain": [
       "<Figure size 640x480 with 1 Axes>"
      ]
     },
     "metadata": {},
     "output_type": "display_data"
    }
   ],
   "source": [
    "ohlc_data['close'].plot()"
   ]
  },
  {
   "cell_type": "code",
   "execution_count": 5,
   "metadata": {},
   "outputs": [],
   "source": [
    "# ohlc_data\n",
    "ohlc_data = pd.DataFrame(mt.copy_rates_range(\"EURUSD\", \n",
    "                                             mt.TIMEFRAME_H4, \n",
    "                                             datetime(2015, 1, 1), \n",
    "                                             datetime.now()))\n",
    "ohlc_data.to_csv('H4_EURUSD_2015.csv')"
   ]
  },
  {
   "cell_type": "code",
   "execution_count": 9,
   "metadata": {},
   "outputs": [],
   "source": [
    "\n",
    "# ohlc_data\n",
    "ohlc_data = pd.DataFrame(mt.copy_rates_range(\"EURUSD\", \n",
    "                                             mt.TIMEFRAME_D1, \n",
    "                                             datetime(2015, 1, 1), \n",
    "                                             datetime.now()))\n",
    "ohlc_data.to_csv('D1_EURUSD_2015.csv')\n",
    "# ohlc_data\n",
    "ohlc_data = pd.DataFrame(mt.copy_rates_range(\"EURUSD\", \n",
    "                                             mt.TIMEFRAME_M30, \n",
    "                                             datetime(2015, 1, 1), \n",
    "                                             datetime.now()))\n",
    "ohlc_data.to_csv('M30_EURUSD_2015.csv')\n"
   ]
  },
  {
   "cell_type": "code",
   "execution_count": 21,
   "metadata": {},
   "outputs": [
    {
     "name": "stdout",
     "output_type": "stream",
     "text": [
      "Data not available for the specified time range.\n",
      "Data downloaded successfully!\n"
     ]
    }
   ],
   "source": [
    "symbol =\"EURUSD\"\n",
    "end_time = datetime.now()\n",
    "timeframe = mt.TIMEFRAME_M30\n",
    "start_time = datetime(2015, 1, 1)\n",
    "\n",
    "rates = mt.copy_rates_range(symbol, timeframe, start_time, datetime.now())\n",
    "\n",
    "if rates is not None:\n",
    "    print(\"Data downloaded successfully!\")\n",
    "    # Print the downloaded data\n",
    "#     for rate in rates:\n",
    "#         print('Printing first sample: ', rate)\n",
    "#         break\n",
    "\n",
    "    ohlc_data = pd.DataFrame(rates)\n",
    "    ohlc_data.to_csv('M30_EURUSD_2015.csv')\n",
    "    \n",
    "else:\n",
    "    print(\"Data not available for the specified time range.\")\n",
    "\n",
    "    # Loop to try pulling most recent available data\n",
    "    while True:\n",
    "        start_time = end_time - timedelta(days=365)  # Adjust this period as needed\n",
    "        rates = mt.copy_rates_range(symbol, timeframe, start_time, end_time)\n",
    "        \n",
    "#         if rates is not None:\n",
    "#             print(\"Most recent data downloaded successfully!\")\n",
    "            # Print the downloaded data\n",
    "#             for rate in rates:\n",
    "#                 print(rate)\n",
    "#             break\n",
    "        if rates is None:\n",
    "            print(\"Failed to download most recent data. Trying again...\")\n",
    "        else:\n",
    "            print(\"Data downloaded successfully!\")\n",
    "            ohlc_data = pd.DataFrame(rates)\n",
    "            ohlc_data.to_csv('M30_EURUSD_2015.csv')\n",
    "            break"
   ]
  },
  {
   "cell_type": "code",
   "execution_count": 20,
   "metadata": {},
   "outputs": [
    {
     "data": {
      "text/html": [
       "<div>\n",
       "<style scoped>\n",
       "    .dataframe tbody tr th:only-of-type {\n",
       "        vertical-align: middle;\n",
       "    }\n",
       "\n",
       "    .dataframe tbody tr th {\n",
       "        vertical-align: top;\n",
       "    }\n",
       "\n",
       "    .dataframe thead th {\n",
       "        text-align: right;\n",
       "    }\n",
       "</style>\n",
       "<table border=\"1\" class=\"dataframe\">\n",
       "  <thead>\n",
       "    <tr style=\"text-align: right;\">\n",
       "      <th></th>\n",
       "      <th>time</th>\n",
       "      <th>open</th>\n",
       "      <th>high</th>\n",
       "      <th>low</th>\n",
       "      <th>close</th>\n",
       "      <th>tick_volume</th>\n",
       "      <th>spread</th>\n",
       "      <th>real_volume</th>\n",
       "    </tr>\n",
       "  </thead>\n",
       "  <tbody>\n",
       "    <tr>\n",
       "      <th>0</th>\n",
       "      <td>1684108800</td>\n",
       "      <td>1.08608</td>\n",
       "      <td>1.08608</td>\n",
       "      <td>1.08500</td>\n",
       "      <td>1.08533</td>\n",
       "      <td>101</td>\n",
       "      <td>22</td>\n",
       "      <td>0</td>\n",
       "    </tr>\n",
       "    <tr>\n",
       "      <th>1</th>\n",
       "      <td>1684110600</td>\n",
       "      <td>1.08530</td>\n",
       "      <td>1.08544</td>\n",
       "      <td>1.08521</td>\n",
       "      <td>1.08522</td>\n",
       "      <td>84</td>\n",
       "      <td>29</td>\n",
       "      <td>0</td>\n",
       "    </tr>\n",
       "    <tr>\n",
       "      <th>2</th>\n",
       "      <td>1684112400</td>\n",
       "      <td>1.08520</td>\n",
       "      <td>1.08520</td>\n",
       "      <td>1.08446</td>\n",
       "      <td>1.08498</td>\n",
       "      <td>623</td>\n",
       "      <td>16</td>\n",
       "      <td>0</td>\n",
       "    </tr>\n",
       "    <tr>\n",
       "      <th>3</th>\n",
       "      <td>1684114200</td>\n",
       "      <td>1.08498</td>\n",
       "      <td>1.08520</td>\n",
       "      <td>1.08489</td>\n",
       "      <td>1.08491</td>\n",
       "      <td>443</td>\n",
       "      <td>17</td>\n",
       "      <td>0</td>\n",
       "    </tr>\n",
       "    <tr>\n",
       "      <th>4</th>\n",
       "      <td>1684116000</td>\n",
       "      <td>1.08492</td>\n",
       "      <td>1.08512</td>\n",
       "      <td>1.08469</td>\n",
       "      <td>1.08509</td>\n",
       "      <td>451</td>\n",
       "      <td>16</td>\n",
       "      <td>0</td>\n",
       "    </tr>\n",
       "    <tr>\n",
       "      <th>...</th>\n",
       "      <td>...</td>\n",
       "      <td>...</td>\n",
       "      <td>...</td>\n",
       "      <td>...</td>\n",
       "      <td>...</td>\n",
       "      <td>...</td>\n",
       "      <td>...</td>\n",
       "      <td>...</td>\n",
       "    </tr>\n",
       "    <tr>\n",
       "      <th>12379</th>\n",
       "      <td>1715376600</td>\n",
       "      <td>1.07699</td>\n",
       "      <td>1.07726</td>\n",
       "      <td>1.07688</td>\n",
       "      <td>1.07726</td>\n",
       "      <td>855</td>\n",
       "      <td>18</td>\n",
       "      <td>0</td>\n",
       "    </tr>\n",
       "    <tr>\n",
       "      <th>12380</th>\n",
       "      <td>1715378400</td>\n",
       "      <td>1.07725</td>\n",
       "      <td>1.07748</td>\n",
       "      <td>1.07712</td>\n",
       "      <td>1.07736</td>\n",
       "      <td>1007</td>\n",
       "      <td>18</td>\n",
       "      <td>0</td>\n",
       "    </tr>\n",
       "    <tr>\n",
       "      <th>12381</th>\n",
       "      <td>1715380200</td>\n",
       "      <td>1.07736</td>\n",
       "      <td>1.07736</td>\n",
       "      <td>1.07707</td>\n",
       "      <td>1.07707</td>\n",
       "      <td>865</td>\n",
       "      <td>18</td>\n",
       "      <td>0</td>\n",
       "    </tr>\n",
       "    <tr>\n",
       "      <th>12382</th>\n",
       "      <td>1715382000</td>\n",
       "      <td>1.07707</td>\n",
       "      <td>1.07712</td>\n",
       "      <td>1.07689</td>\n",
       "      <td>1.07706</td>\n",
       "      <td>388</td>\n",
       "      <td>20</td>\n",
       "      <td>0</td>\n",
       "    </tr>\n",
       "    <tr>\n",
       "      <th>12383</th>\n",
       "      <td>1715383800</td>\n",
       "      <td>1.07705</td>\n",
       "      <td>1.07710</td>\n",
       "      <td>1.07675</td>\n",
       "      <td>1.07680</td>\n",
       "      <td>301</td>\n",
       "      <td>19</td>\n",
       "      <td>0</td>\n",
       "    </tr>\n",
       "  </tbody>\n",
       "</table>\n",
       "<p>12384 rows × 8 columns</p>\n",
       "</div>"
      ],
      "text/plain": [
       "             time     open     high      low    close  tick_volume  spread   \n",
       "0      1684108800  1.08608  1.08608  1.08500  1.08533          101      22  \\\n",
       "1      1684110600  1.08530  1.08544  1.08521  1.08522           84      29   \n",
       "2      1684112400  1.08520  1.08520  1.08446  1.08498          623      16   \n",
       "3      1684114200  1.08498  1.08520  1.08489  1.08491          443      17   \n",
       "4      1684116000  1.08492  1.08512  1.08469  1.08509          451      16   \n",
       "...           ...      ...      ...      ...      ...          ...     ...   \n",
       "12379  1715376600  1.07699  1.07726  1.07688  1.07726          855      18   \n",
       "12380  1715378400  1.07725  1.07748  1.07712  1.07736         1007      18   \n",
       "12381  1715380200  1.07736  1.07736  1.07707  1.07707          865      18   \n",
       "12382  1715382000  1.07707  1.07712  1.07689  1.07706          388      20   \n",
       "12383  1715383800  1.07705  1.07710  1.07675  1.07680          301      19   \n",
       "\n",
       "       real_volume  \n",
       "0                0  \n",
       "1                0  \n",
       "2                0  \n",
       "3                0  \n",
       "4                0  \n",
       "...            ...  \n",
       "12379            0  \n",
       "12380            0  \n",
       "12381            0  \n",
       "12382            0  \n",
       "12383            0  \n",
       "\n",
       "[12384 rows x 8 columns]"
      ]
     },
     "execution_count": 20,
     "metadata": {},
     "output_type": "execute_result"
    }
   ],
   "source": [
    "ohlc_data"
   ]
  },
  {
   "cell_type": "code",
   "execution_count": 26,
   "metadata": {},
   "outputs": [],
   "source": [
    "ohlc_data = pd.DataFrame(mt.copy_rates_range(\"EURUSD\", \n",
    "                                             mt.TIMEFRAME_M30, \n",
    "                                             datetime(2015, 1, 1), \n",
    "                                             datetime.now()))\n",
    "ohlc_data.to_csv('M30_EURUSD_2015.csv')"
   ]
  },
  {
   "cell_type": "code",
   "execution_count": 14,
   "metadata": {},
   "outputs": [],
   "source": [
    "ohlc_data.to_csv('H4_EURUSD_2015.csv')"
   ]
  },
  {
   "cell_type": "code",
   "execution_count": 15,
   "metadata": {},
   "outputs": [
    {
     "data": {
      "text/plain": [
       "<Axes: >"
      ]
     },
     "execution_count": 15,
     "metadata": {},
     "output_type": "execute_result"
    },
    {
     "data": {
      "image/png": "[encoded data removed]",
      "text/plain": [
       "<Figure size 640x480 with 1 Axes>"
      ]
     },
     "metadata": {},
     "output_type": "display_data"
    }
   ],
   "source": [
    "ohlc_data.close.plot()"
   ]
  },
  {
   "cell_type": "code",
   "execution_count": 17,
   "metadata": {},
   "outputs": [
    {
     "data": {
      "text/html": [
       "<div>\n",
       "<style scoped>\n",
       "    .dataframe tbody tr th:only-of-type {\n",
       "        vertical-align: middle;\n",
       "    }\n",
       "\n",
       "    .dataframe tbody tr th {\n",
       "        vertical-align: top;\n",
       "    }\n",
       "\n",
       "    .dataframe thead th {\n",
       "        text-align: right;\n",
       "    }\n",
       "</style>\n",
       "<table border=\"1\" class=\"dataframe\">\n",
       "  <thead>\n",
       "    <tr style=\"text-align: right;\">\n",
       "      <th></th>\n",
       "      <th>time</th>\n",
       "      <th>open</th>\n",
       "      <th>high</th>\n",
       "      <th>low</th>\n",
       "      <th>close</th>\n",
       "      <th>tick_volume</th>\n",
       "      <th>spread</th>\n",
       "      <th>real_volume</th>\n",
       "    </tr>\n",
       "  </thead>\n",
       "  <tbody>\n",
       "    <tr>\n",
       "      <th>0</th>\n",
       "      <td>1420185600</td>\n",
       "      <td>1.20481</td>\n",
       "      <td>1.20689</td>\n",
       "      <td>1.20341</td>\n",
       "      <td>1.20573</td>\n",
       "      <td>13573</td>\n",
       "      <td>17</td>\n",
       "      <td>0</td>\n",
       "    </tr>\n",
       "    <tr>\n",
       "      <th>1</th>\n",
       "      <td>1420200000</td>\n",
       "      <td>1.20573</td>\n",
       "      <td>1.20576</td>\n",
       "      <td>1.20248</td>\n",
       "      <td>1.20303</td>\n",
       "      <td>11302</td>\n",
       "      <td>17</td>\n",
       "      <td>0</td>\n",
       "    </tr>\n",
       "    <tr>\n",
       "      <th>2</th>\n",
       "      <td>1420214400</td>\n",
       "      <td>1.20302</td>\n",
       "      <td>1.20329</td>\n",
       "      <td>1.20031</td>\n",
       "      <td>1.20090</td>\n",
       "      <td>16214</td>\n",
       "      <td>17</td>\n",
       "      <td>0</td>\n",
       "    </tr>\n",
       "    <tr>\n",
       "      <th>3</th>\n",
       "      <td>1420228800</td>\n",
       "      <td>1.20093</td>\n",
       "      <td>1.20149</td>\n",
       "      <td>1.19993</td>\n",
       "      <td>1.20002</td>\n",
       "      <td>5820</td>\n",
       "      <td>17</td>\n",
       "      <td>0</td>\n",
       "    </tr>\n",
       "    <tr>\n",
       "      <th>4</th>\n",
       "      <td>1420416000</td>\n",
       "      <td>1.19511</td>\n",
       "      <td>1.19754</td>\n",
       "      <td>1.18599</td>\n",
       "      <td>1.19539</td>\n",
       "      <td>15220</td>\n",
       "      <td>17</td>\n",
       "      <td>0</td>\n",
       "    </tr>\n",
       "    <tr>\n",
       "      <th>...</th>\n",
       "      <td>...</td>\n",
       "      <td>...</td>\n",
       "      <td>...</td>\n",
       "      <td>...</td>\n",
       "      <td>...</td>\n",
       "      <td>...</td>\n",
       "      <td>...</td>\n",
       "      <td>...</td>\n",
       "    </tr>\n",
       "    <tr>\n",
       "      <th>14561</th>\n",
       "      <td>1715313600</td>\n",
       "      <td>1.07783</td>\n",
       "      <td>1.07817</td>\n",
       "      <td>1.07721</td>\n",
       "      <td>1.07730</td>\n",
       "      <td>3353</td>\n",
       "      <td>18</td>\n",
       "      <td>0</td>\n",
       "    </tr>\n",
       "    <tr>\n",
       "      <th>14562</th>\n",
       "      <td>1715328000</td>\n",
       "      <td>1.07729</td>\n",
       "      <td>1.07858</td>\n",
       "      <td>1.07706</td>\n",
       "      <td>1.07797</td>\n",
       "      <td>8836</td>\n",
       "      <td>18</td>\n",
       "      <td>0</td>\n",
       "    </tr>\n",
       "    <tr>\n",
       "      <th>14563</th>\n",
       "      <td>1715342400</td>\n",
       "      <td>1.07800</td>\n",
       "      <td>1.07852</td>\n",
       "      <td>1.07653</td>\n",
       "      <td>1.07691</td>\n",
       "      <td>9909</td>\n",
       "      <td>18</td>\n",
       "      <td>0</td>\n",
       "    </tr>\n",
       "    <tr>\n",
       "      <th>14564</th>\n",
       "      <td>1715356800</td>\n",
       "      <td>1.07695</td>\n",
       "      <td>1.07891</td>\n",
       "      <td>1.07594</td>\n",
       "      <td>1.07749</td>\n",
       "      <td>14820</td>\n",
       "      <td>18</td>\n",
       "      <td>0</td>\n",
       "    </tr>\n",
       "    <tr>\n",
       "      <th>14565</th>\n",
       "      <td>1715371200</td>\n",
       "      <td>1.07748</td>\n",
       "      <td>1.07765</td>\n",
       "      <td>1.07675</td>\n",
       "      <td>1.07680</td>\n",
       "      <td>5818</td>\n",
       "      <td>18</td>\n",
       "      <td>0</td>\n",
       "    </tr>\n",
       "  </tbody>\n",
       "</table>\n",
       "<p>14566 rows × 8 columns</p>\n",
       "</div>"
      ],
      "text/plain": [
       "             time     open     high      low    close  tick_volume  spread   \n",
       "0      1420185600  1.20481  1.20689  1.20341  1.20573        13573      17  \\\n",
       "1      1420200000  1.20573  1.20576  1.20248  1.20303        11302      17   \n",
       "2      1420214400  1.20302  1.20329  1.20031  1.20090        16214      17   \n",
       "3      1420228800  1.20093  1.20149  1.19993  1.20002         5820      17   \n",
       "4      1420416000  1.19511  1.19754  1.18599  1.19539        15220      17   \n",
       "...           ...      ...      ...      ...      ...          ...     ...   \n",
       "14561  1715313600  1.07783  1.07817  1.07721  1.07730         3353      18   \n",
       "14562  1715328000  1.07729  1.07858  1.07706  1.07797         8836      18   \n",
       "14563  1715342400  1.07800  1.07852  1.07653  1.07691         9909      18   \n",
       "14564  1715356800  1.07695  1.07891  1.07594  1.07749        14820      18   \n",
       "14565  1715371200  1.07748  1.07765  1.07675  1.07680         5818      18   \n",
       "\n",
       "       real_volume  \n",
       "0                0  \n",
       "1                0  \n",
       "2                0  \n",
       "3                0  \n",
       "4                0  \n",
       "...            ...  \n",
       "14561            0  \n",
       "14562            0  \n",
       "14563            0  \n",
       "14564            0  \n",
       "14565            0  \n",
       "\n",
       "[14566 rows x 8 columns]"
      ]
     },
     "execution_count": 17,
     "metadata": {},
     "output_type": "execute_result"
    }
   ],
   "source": [
    "ohlc_data"
   ]
  },
  {
   "cell_type": "code",
   "execution_count": 12,
   "metadata": {
    "collapsed": true
   },
   "outputs": [
    {
     "ename": "ValueError",
     "evalue": "Cannot accept list of column references or list of columns for both `x` and `y`.",
     "output_type": "error",
     "traceback": [
      "\u001b[1;31m---------------------------------------------------------------------------\u001b[0m",
      "\u001b[1;31mValueError\u001b[0m                                Traceback (most recent call last)",
      "Cell \u001b[1;32mIn[12], line 7\u001b[0m\n\u001b[0;32m      1\u001b[0m \u001b[38;5;66;03m# requesting tick data\u001b[39;00m\n\u001b[0;32m      2\u001b[0m tick_data \u001b[38;5;241m=\u001b[39m pd\u001b[38;5;241m.\u001b[39mDataFrame(mt\u001b[38;5;241m.\u001b[39mcopy_ticks_range(\u001b[38;5;124m\"\u001b[39m\u001b[38;5;124mEURUSD\u001b[39m\u001b[38;5;124m\"\u001b[39m, \n\u001b[0;32m      3\u001b[0m                                              datetime(\u001b[38;5;241m2023\u001b[39m, \u001b[38;5;241m10\u001b[39m, \u001b[38;5;241m4\u001b[39m), \n\u001b[0;32m      4\u001b[0m                                              datetime\u001b[38;5;241m.\u001b[39mnow(), \n\u001b[0;32m      5\u001b[0m                                              mt\u001b[38;5;241m.\u001b[39mCOPY_TICKS_ALL))\n\u001b[1;32m----> 7\u001b[0m fig \u001b[38;5;241m=\u001b[39m \u001b[43mpx\u001b[49m\u001b[38;5;241;43m.\u001b[39;49m\u001b[43mline\u001b[49m\u001b[43m(\u001b[49m\u001b[43mtick_data\u001b[49m\u001b[43m,\u001b[49m\u001b[43m \u001b[49m\u001b[43mx\u001b[49m\u001b[38;5;241;43m=\u001b[39;49m\u001b[43mtick_data\u001b[49m\u001b[43m[\u001b[49m\u001b[38;5;124;43m'\u001b[39;49m\u001b[38;5;124;43mtime\u001b[39;49m\u001b[38;5;124;43m'\u001b[39;49m\u001b[43m]\u001b[49m\u001b[43m,\u001b[49m\u001b[43m \u001b[49m\u001b[43my\u001b[49m\u001b[38;5;241;43m=\u001b[39;49m\u001b[43m[\u001b[49m\u001b[43mtick_data\u001b[49m\u001b[43m[\u001b[49m\u001b[38;5;124;43m'\u001b[39;49m\u001b[38;5;124;43mbid\u001b[39;49m\u001b[38;5;124;43m'\u001b[39;49m\u001b[43m]\u001b[49m\u001b[43m,\u001b[49m\u001b[43m \u001b[49m\u001b[43mtick_data\u001b[49m\u001b[43m[\u001b[49m\u001b[38;5;124;43m'\u001b[39;49m\u001b[38;5;124;43mask\u001b[39;49m\u001b[38;5;124;43m'\u001b[39;49m\u001b[43m]\u001b[49m\u001b[43m]\u001b[49m\u001b[43m)\u001b[49m\n\u001b[0;32m      8\u001b[0m fig\u001b[38;5;241m.\u001b[39mshow()\n\u001b[0;32m     10\u001b[0m \u001b[38;5;66;03m# tick_data\u001b[39;00m\n",
      "File \u001b[1;32m~\\AppData\\Local\\Programs\\Python\\Python310\\lib\\site-packages\\plotly\\express\\_chart_types.py:264\u001b[0m, in \u001b[0;36mline\u001b[1;34m(data_frame, x, y, line_group, color, line_dash, symbol, hover_name, hover_data, custom_data, text, facet_row, facet_col, facet_col_wrap, facet_row_spacing, facet_col_spacing, error_x, error_x_minus, error_y, error_y_minus, animation_frame, animation_group, category_orders, labels, orientation, color_discrete_sequence, color_discrete_map, line_dash_sequence, line_dash_map, symbol_sequence, symbol_map, markers, log_x, log_y, range_x, range_y, line_shape, render_mode, title, template, width, height)\u001b[0m\n\u001b[0;32m    216\u001b[0m \u001b[38;5;28;01mdef\u001b[39;00m \u001b[38;5;21mline\u001b[39m(\n\u001b[0;32m    217\u001b[0m     data_frame\u001b[38;5;241m=\u001b[39m\u001b[38;5;28;01mNone\u001b[39;00m,\n\u001b[0;32m    218\u001b[0m     x\u001b[38;5;241m=\u001b[39m\u001b[38;5;28;01mNone\u001b[39;00m,\n\u001b[1;32m   (...)\u001b[0m\n\u001b[0;32m    258\u001b[0m     height\u001b[38;5;241m=\u001b[39m\u001b[38;5;28;01mNone\u001b[39;00m,\n\u001b[0;32m    259\u001b[0m ) \u001b[38;5;241m-\u001b[39m\u001b[38;5;241m>\u001b[39m go\u001b[38;5;241m.\u001b[39mFigure:\n\u001b[0;32m    260\u001b[0m \u001b[38;5;250m    \u001b[39m\u001b[38;5;124;03m\"\"\"\u001b[39;00m\n\u001b[0;32m    261\u001b[0m \u001b[38;5;124;03m    In a 2D line plot, each row of `data_frame` is represented as vertex of\u001b[39;00m\n\u001b[0;32m    262\u001b[0m \u001b[38;5;124;03m    a polyline mark in 2D space.\u001b[39;00m\n\u001b[0;32m    263\u001b[0m \u001b[38;5;124;03m    \"\"\"\u001b[39;00m\n\u001b[1;32m--> 264\u001b[0m     \u001b[38;5;28;01mreturn\u001b[39;00m \u001b[43mmake_figure\u001b[49m\u001b[43m(\u001b[49m\u001b[43margs\u001b[49m\u001b[38;5;241;43m=\u001b[39;49m\u001b[38;5;28;43mlocals\u001b[39;49m\u001b[43m(\u001b[49m\u001b[43m)\u001b[49m\u001b[43m,\u001b[49m\u001b[43m \u001b[49m\u001b[43mconstructor\u001b[49m\u001b[38;5;241;43m=\u001b[39;49m\u001b[43mgo\u001b[49m\u001b[38;5;241;43m.\u001b[39;49m\u001b[43mScatter\u001b[49m\u001b[43m)\u001b[49m\n",
      "File \u001b[1;32m~\\AppData\\Local\\Programs\\Python\\Python310\\lib\\site-packages\\plotly\\express\\_core.py:1996\u001b[0m, in \u001b[0;36mmake_figure\u001b[1;34m(args, constructor, trace_patch, layout_patch)\u001b[0m\n\u001b[0;32m   1993\u001b[0m layout_patch \u001b[38;5;241m=\u001b[39m layout_patch \u001b[38;5;129;01mor\u001b[39;00m {}\n\u001b[0;32m   1994\u001b[0m apply_default_cascade(args)\n\u001b[1;32m-> 1996\u001b[0m args \u001b[38;5;241m=\u001b[39m \u001b[43mbuild_dataframe\u001b[49m\u001b[43m(\u001b[49m\u001b[43margs\u001b[49m\u001b[43m,\u001b[49m\u001b[43m \u001b[49m\u001b[43mconstructor\u001b[49m\u001b[43m)\u001b[49m\n\u001b[0;32m   1997\u001b[0m \u001b[38;5;28;01mif\u001b[39;00m constructor \u001b[38;5;129;01min\u001b[39;00m [go\u001b[38;5;241m.\u001b[39mTreemap, go\u001b[38;5;241m.\u001b[39mSunburst, go\u001b[38;5;241m.\u001b[39mIcicle] \u001b[38;5;129;01mand\u001b[39;00m args[\u001b[38;5;124m\"\u001b[39m\u001b[38;5;124mpath\u001b[39m\u001b[38;5;124m\"\u001b[39m] \u001b[38;5;129;01mis\u001b[39;00m \u001b[38;5;129;01mnot\u001b[39;00m \u001b[38;5;28;01mNone\u001b[39;00m:\n\u001b[0;32m   1998\u001b[0m     args \u001b[38;5;241m=\u001b[39m process_dataframe_hierarchy(args)\n",
      "File \u001b[1;32m~\\AppData\\Local\\Programs\\Python\\Python310\\lib\\site-packages\\plotly\\express\\_core.py:1328\u001b[0m, in \u001b[0;36mbuild_dataframe\u001b[1;34m(args, constructor)\u001b[0m\n\u001b[0;32m   1326\u001b[0m \u001b[38;5;28;01mif\u001b[39;00m constructor \u001b[38;5;129;01min\u001b[39;00m cartesians:\n\u001b[0;32m   1327\u001b[0m     \u001b[38;5;28;01mif\u001b[39;00m wide_x \u001b[38;5;129;01mand\u001b[39;00m wide_y:\n\u001b[1;32m-> 1328\u001b[0m         \u001b[38;5;28;01mraise\u001b[39;00m \u001b[38;5;167;01mValueError\u001b[39;00m(\n\u001b[0;32m   1329\u001b[0m             \u001b[38;5;124m\"\u001b[39m\u001b[38;5;124mCannot accept list of column references or list of columns for both `x` and `y`.\u001b[39m\u001b[38;5;124m\"\u001b[39m\n\u001b[0;32m   1330\u001b[0m         )\n\u001b[0;32m   1331\u001b[0m     \u001b[38;5;28;01mif\u001b[39;00m df_provided \u001b[38;5;129;01mand\u001b[39;00m no_x \u001b[38;5;129;01mand\u001b[39;00m no_y:\n\u001b[0;32m   1332\u001b[0m         wide_mode \u001b[38;5;241m=\u001b[39m \u001b[38;5;28;01mTrue\u001b[39;00m\n",
      "\u001b[1;31mValueError\u001b[0m: Cannot accept list of column references or list of columns for both `x` and `y`."
     ]
    }
   ],
   "source": [
    "# requesting tick data\n",
    "tick_data = pd.DataFrame(mt.copy_ticks_range(\"EURUSD\", \n",
    "                                             datetime(2023, 10, 4), \n",
    "                                             datetime.now(), \n",
    "                                             mt.COPY_TICKS_ALL))\n",
    "\n",
    "fig = px.line(tick_data, x=tick_data['time'], y=[tick_data['bid'], tick_data['ask']])\n",
    "fig.show()\n",
    "\n",
    "# tick_data"
   ]
  },
  {
   "cell_type": "code",
   "execution_count": 39,
   "metadata": {},
   "outputs": [
    {
     "data": {
      "text/plain": [
       "0"
      ]
     },
     "execution_count": 39,
     "metadata": {},
     "output_type": "execute_result"
    }
   ],
   "source": [
    "# total number of orders\n",
    "num_orders = mt.orders_total()\n",
    "num_orders"
   ]
  },
  {
   "cell_type": "code",
   "execution_count": 38,
   "metadata": {},
   "outputs": [
    {
     "data": {
      "text/plain": [
       "()"
      ]
     },
     "execution_count": 38,
     "metadata": {},
     "output_type": "execute_result"
    }
   ],
   "source": [
    "# list of orders\n",
    "orders = mt.orders_get()\n",
    "orders"
   ]
  },
  {
   "cell_type": "code",
   "execution_count": 37,
   "metadata": {},
   "outputs": [
    {
     "data": {
      "text/plain": [
       "0"
      ]
     },
     "execution_count": 37,
     "metadata": {},
     "output_type": "execute_result"
    }
   ],
   "source": [
    "# total number of positions\n",
    "num_positions = mt.positions_total()\n",
    "num_positions"
   ]
  },
  {
   "cell_type": "code",
   "execution_count": 95,
   "metadata": {},
   "outputs": [
    {
     "data": {
      "text/plain": [
       "()"
      ]
     },
     "execution_count": 95,
     "metadata": {},
     "output_type": "execute_result"
    }
   ],
   "source": [
    "# list of positions\n",
    "positions = mt.positions_get()\n",
    "positions"
   ]
  },
  {
   "cell_type": "code",
   "execution_count": 106,
   "metadata": {},
   "outputs": [
    {
     "data": {
      "text/plain": [
       "0"
      ]
     },
     "execution_count": 106,
     "metadata": {},
     "output_type": "execute_result"
    }
   ],
   "source": [
    "# number of history orders\n",
    "num_order_history = mt.history_orders_total(datetime(2021, 1, 1), datetime(2021, 10, 6))\n",
    "num_order_history"
   ]
  },
  {
   "cell_type": "code",
   "execution_count": 97,
   "metadata": {},
   "outputs": [
    {
     "data": {
      "text/plain": [
       "()"
      ]
     },
     "execution_count": 97,
     "metadata": {},
     "output_type": "execute_result"
    }
   ],
   "source": [
    "# list of history orders\n",
    "order_history = mt.history_orders_get(datetime(2021, 1, 1), datetime(2021, 10, 6))\n",
    "order_history"
   ]
  },
  {
   "cell_type": "code",
   "execution_count": 98,
   "metadata": {},
   "outputs": [
    {
     "data": {
      "text/plain": [
       "0"
      ]
     },
     "execution_count": 98,
     "metadata": {},
     "output_type": "execute_result"
    }
   ],
   "source": [
    "# number of history deals\n",
    "num_deal_history = mt.history_deals_total(datetime(2021, 1, 1),  datetime(2021, 10, 6))\n",
    "num_deal_history"
   ]
  },
  {
   "cell_type": "code",
   "execution_count": 99,
   "metadata": {},
   "outputs": [
    {
     "data": {
      "text/plain": [
       "()"
      ]
     },
     "execution_count": 99,
     "metadata": {},
     "output_type": "execute_result"
    }
   ],
   "source": [
    "# number of history deals\n",
    "deal_history = mt.history_deals_get(datetime(2021, 1, 1), datetime(2021, 10, 6))\n",
    "deal_history"
   ]
  },
  {
   "cell_type": "code",
   "execution_count": 100,
   "metadata": {},
   "outputs": [
    {
     "name": "stdout",
     "output_type": "stream",
     "text": [
      "OrderSendResult(retcode=10030, deal=0, order=0, volume=0.0, price=0.0, bid=0.0, ask=0.0, comment='Unsupported filling mode', request_id=0, retcode_external=0, request=TradeRequest(action=1, magic=234000, order=0, symbol='EURUSD', volume=0.01, price=1.09109, stoplimit=0.0, sl=0.0, tp=0.0, deviation=20, type=1, type_filling=1, type_time=0, expiration=0, comment='python script open', position=0, position_by=0))\n"
     ]
    }
   ],
   "source": [
    "# send order to the market\n",
    "# documentation: https://www.mql5.com/en/docs/integration/python_metatrader5/mt5ordersend_py\n",
    "\n",
    "request = {\n",
    "    \"action\": mt.TRADE_ACTION_DEAL,\n",
    "    \"symbol\": \"EURUSD\",\n",
    "    \"volume\": 0.01, # FLOAT\n",
    "    \"type\": mt.ORDER_TYPE_SELL,\n",
    "    \"price\": mt.symbol_info_tick(\"EURUSD\").ask,\n",
    "    \"sl\": 0.0, # FLOAT\n",
    "    \"tp\": 0.0, # FLOAT\n",
    "    \"deviation\": 20, # INTERGER\n",
    "    \"magic\": 234000, # INTERGER\n",
    "    \"comment\": \"python script open\",\n",
    "    \"type_time\": mt.ORDER_TIME_GTC,\n",
    "    \"type_filling\": mt.ORDER_FILLING_IOC,\n",
    "}\n",
    "\n",
    "order = mt.order_send(request)\n",
    "print(order)"
   ]
  },
  {
   "cell_type": "code",
   "execution_count": 68,
   "metadata": {},
   "outputs": [
    {
     "name": "stdout",
     "output_type": "stream",
     "text": [
      "OrderSendResult(retcode=10013, deal=0, order=0, volume=0.0, price=0.0, bid=0.0, ask=0.0, comment='Invalid request', request_id=0, retcode_external=0, request=TradeRequest(action=1, magic=234000, order=0, symbol='EURUSD', volume=2.0, price=1.09128, stoplimit=0.0, sl=0.0, tp=0.0, deviation=20, type=1, type_filling=1, type_time=0, expiration=0, comment='python script open', position=158631228, position_by=0))\n"
     ]
    }
   ],
   "source": [
    "# close position\n",
    "\n",
    "request = {\n",
    "    \"action\": mt.TRADE_ACTION_DEAL,\n",
    "    \"symbol\": \"EURUSD\",\n",
    "    \"volume\": 2.0, # FLOAT\n",
    "    \"type\": mt.ORDER_TYPE_SELL,\n",
    "    \"position\": 158631228, # select the position you want to close\n",
    "    \"price\": mt.symbol_info_tick(\"EURUSD\").ask,\n",
    "    \"sl\": 0.0, # FLOAT\n",
    "    \"tp\": 0.0, # FLOAT\n",
    "    \"deviation\": 20, # INTERGER\n",
    "    \"magic\": 234000, # INTERGER\n",
    "    \"comment\": \"python script open\",\n",
    "    \"type_time\": mt.ORDER_TIME_GTC,\n",
    "    \"type_filling\": mt.ORDER_FILLING_IOC,\n",
    "}\n",
    "\n",
    "order = mt.order_send(request)\n",
    "print(order)"
   ]
  },
  {
   "cell_type": "code",
   "execution_count": 60,
   "metadata": {},
   "outputs": [],
   "source": [
    "rates = mt.copy_rates_from_pos('EURUSD', mt.TIMEFRAME_M5, 0, 864)  \n",
    "rates_frame = pd.DataFrame(rates)\n",
    "rates_frame['time']=pd.to_datetime(rates_frame['time'], unit='s')\n",
    "max_value = rates_frame['high'].max() #The highest value reached by the price\n",
    "min_value = rates_frame['low'].min() #The minimum value reached by the prices"
   ]
  },
  {
   "cell_type": "code",
   "execution_count": 114,
   "metadata": {},
   "outputs": [
    {
     "data": {
      "text/plain": [
       "OrderSendResult(retcode=10009, deal=0, order=19477097, volume=1.0, price=0.0, bid=0.0, ask=0.0, comment='Request executed', request_id=2131559406, retcode_external=0, request=TradeRequest(action=5, magic=0, order=0, symbol='EURUSD', volume=1.0, price=1.08918, stoplimit=0.0, sl=0.0, tp=0.0, deviation=0, type=2, type_filling=1, type_time=0, expiration=0, comment='Test_code', position=0, position_by=0))"
      ]
     },
     "execution_count": 114,
     "metadata": {},
     "output_type": "execute_result"
    }
   ],
   "source": [
    "request = {\n",
    "        \"action\":mt.TRADE_ACTION_PENDING,\n",
    "        \"symbol\":'EURUSD',\n",
    "        \"type\" : mt.ORDER_TYPE_BUY_LIMIT,\n",
    "        \"price\": min_value,\n",
    "        \"volume\":1.0,\n",
    "        \"comment\":'Test_code',\n",
    "        \"type_filling\":mt.ORDER_FILLING_IOC\n",
    "}\n",
    "\n",
    "mt.order_send(request)\n",
    "\n"
   ]
  },
  {
   "cell_type": "code",
   "execution_count": 83,
   "metadata": {},
   "outputs": [],
   "source": [
    "symbol = \"EURUSD\"\n",
    "lot = 0.1\n",
    "point = mt.symbol_info(symbol).point\n",
    "price = mt.symbol_info_tick(symbol).ask"
   ]
  },
  {
   "cell_type": "code",
   "execution_count": 86,
   "metadata": {},
   "outputs": [
    {
     "data": {
      "text/plain": [
       "1.09125"
      ]
     },
     "execution_count": 86,
     "metadata": {},
     "output_type": "execute_result"
    }
   ],
   "source": [
    "price"
   ]
  },
  {
   "cell_type": "code",
   "execution_count": 108,
   "metadata": {},
   "outputs": [
    {
     "data": {
      "text/plain": [
       "OrderSendResult(retcode=10030, deal=0, order=0, volume=0.0, price=0.0, bid=0.0, ask=0.0, comment='Unsupported filling mode', request_id=0, retcode_external=0, request=TradeRequest(action=1, magic=234000, order=0, symbol='EURUSD', volume=0.1, price=1.09273, stoplimit=0.0, sl=1.09173, tp=1.0937299999999999, deviation=20, type=0, type_filling=1, type_time=0, expiration=0, comment='python script open', position=0, position_by=0))"
      ]
     },
     "execution_count": 108,
     "metadata": {},
     "output_type": "execute_result"
    }
   ],
   "source": [
    "symbol = 'EURUSD'\n",
    "lot = 0.1\n",
    "point = mt.symbol_info(symbol).point\n",
    "price = mt.symbol_info_tick(symbol).ask\n",
    "deviation = 20\n",
    "request = {\n",
    "    \"action\": mt.TRADE_ACTION_DEAL,\n",
    "    \"symbol\": symbol,\n",
    "    \"volume\": lot,\n",
    "    \"type\": mt.ORDER_TYPE_BUY,\n",
    "    \"price\": price,\n",
    "    \"sl\": price - 100 * point,\n",
    "    \"tp\": price + 100 * point,\n",
    "    \"deviation\": deviation,\n",
    "    \"magic\": 234000,\n",
    "    \"comment\": \"python script open\",\n",
    "    \"type_time\": mt.ORDER_TIME_GTC,\n",
    "    \"type_filling\": mt.ORDER_FILLING_IOC,\n",
    "}\n",
    "mt.order_send(request)"
   ]
  },
  {
   "cell_type": "code",
   "execution_count": 109,
   "metadata": {},
   "outputs": [
    {
     "data": {
      "text/plain": [
       "OrderCheckResult(retcode=10030, balance=0.0, equity=0.0, profit=0.0, margin=0.0, margin_free=0.0, margin_level=0.0, comment='Unsupported filling mode', request=TradeRequest(action=1, magic=0, order=0, symbol='EURUSD', volume=0.01, price=1.09283, stoplimit=0.0, sl=0.0, tp=0.0, deviation=10, type=0, type_filling=1, type_time=0, expiration=0, comment='', position=0, position_by=0))"
      ]
     },
     "execution_count": 109,
     "metadata": {},
     "output_type": "execute_result"
    }
   ],
   "source": [
    "# Place buy order\n",
    "\n",
    "# Initialization value\n",
    "symbol = \"EURUSD\"\n",
    "lot = 0.01\n",
    "\n",
    "# Choose the deviation\n",
    "deviation = 10\n",
    "\n",
    "# Find the filling mode of symbol\n",
    "filling_type = mt.symbol_info(symbol).filling_mode\n",
    "\n",
    "# Create dictionnary request\n",
    "request = {\n",
    "    \"action\": mt.TRADE_ACTION_DEAL,\n",
    "    \"symbol\": symbol,\n",
    "    \"volume\": lot,\n",
    "    \"type\": mt.ORDER_TYPE_BUY,\n",
    "    \"price\": mt.symbol_info_tick(symbol).ask,\n",
    "    \"deviation\": deviation,\n",
    "    \"type_filling\": filling_type,\n",
    "    \"type_time\": mt.ORDER_TIME_GTC\n",
    "}\n",
    "\n",
    "\n",
    "mt.order_check(request)"
   ]
  },
  {
   "cell_type": "code",
   "execution_count": 113,
   "metadata": {},
   "outputs": [
    {
     "data": {
      "text/plain": [
       "OrderCheckResult(retcode=10030, balance=0.0, equity=0.0, profit=0.0, margin=0.0, margin_free=0.0, margin_level=0.0, comment='Unsupported filling mode', request=TradeRequest(action=1, magic=0, order=0, symbol='EURUSD', volume=0.01, price=1.09283, stoplimit=0.0, sl=0.0, tp=0.0, deviation=10, type=0, type_filling=1, type_time=0, expiration=0, comment='', position=0, position_by=0))"
      ]
     },
     "execution_count": 113,
     "metadata": {},
     "output_type": "execute_result"
    }
   ],
   "source": [
    "    sell_order = {\n",
    "        \"action\": mt.TRADE_ACTION_DEAL,\n",
    "        \"symbol\": symbol,\n",
    "        \"volume\": lot,\n",
    "        \"type\": mt.ORDER_TYPE_SELL,\n",
    "#         \"price\": ask,\n",
    "#         \"sl\": ask + sl_short * point,\n",
    "#         \"tp\": ask - take_profit_short * point,\n",
    "#         \"deviation\": deviation,\n",
    "#         \"magic\": magic,\n",
    "        \"comment\": \"python short\",\n",
    "        \"type_time\": mt.ORDER_TIME_GTC,\n",
    "        \"type_filling\": mt.ORDER_FILLING_IOC,\n",
    "        }\n",
    "    mt.order_check(request)"
   ]
  },
  {
   "cell_type": "code",
   "execution_count": 115,
   "metadata": {},
   "outputs": [
    {
     "data": {
      "text/plain": [
       "1.09293"
      ]
     },
     "execution_count": 115,
     "metadata": {},
     "output_type": "execute_result"
    }
   ],
   "source": [
    "mt.symbol_info_tick(\"EURUSD\").ask\n"
   ]
  },
  {
   "cell_type": "code",
   "execution_count": 118,
   "metadata": {},
   "outputs": [
    {
     "data": {
      "text/plain": [
       "OrderSendResult(retcode=10030, deal=0, order=0, volume=0.0, price=0.0, bid=0.0, ask=0.0, comment='Unsupported filling mode', request_id=0, retcode_external=0, request=TradeRequest(action=1, magic=0, order=0, symbol='EURUSD', volume=1.0, price=1.09287, stoplimit=0.0, sl=0.0, tp=0.0, deviation=200, type=0, type_filling=1, type_time=0, expiration=0, comment='Test_code', position=0, position_by=0))"
      ]
     },
     "execution_count": 118,
     "metadata": {},
     "output_type": "execute_result"
    }
   ],
   "source": [
    "request = {\n",
    "        \"action\":mt.TRADE_ACTION_DEAL,\n",
    "        \"symbol\":'EURUSD',\n",
    "        \"type\" : mt.ORDER_TYPE_BUY,\n",
    "        \"price\": mt.symbol_info_tick(\"EURUSD\").ask,\n",
    "        \"volume\":1.0,\n",
    "        \"deviation\": 200,\n",
    "        \"comment\":'Test_code',\n",
    "        \"type_filling\":mt.ORDER_FILLING_IOC\n",
    "}\n",
    "\n",
    "mt.order_send(request)"
   ]
  },
  {
   "cell_type": "code",
   "execution_count": 7,
   "metadata": {},
   "outputs": [
    {
     "name": "stdout",
     "output_type": "stream",
     "text": [
      "Retrieved 8823 hourly bars\n",
      "                 time     open     high      low    close  tick_volume   \n",
      "0 2023-01-02 09:00:00  1.06861  1.06891  1.06611  1.06762         1230  \\\n",
      "1 2023-01-02 10:00:00  1.06768  1.06931  1.06695  1.06781         2275   \n",
      "2 2023-01-02 11:00:00  1.06783  1.06990  1.06750  1.06774         2532   \n",
      "3 2023-01-02 12:00:00  1.06770  1.06886  1.06725  1.06816         1644   \n",
      "4 2023-01-02 13:00:00  1.06816  1.06849  1.06782  1.06827          941   \n",
      "\n",
      "   spread  real_volume  ask_open  ask_high  ask_low  ask_close  \n",
      "0      28            0   1.06871   1.06901  1.06621    1.06772  \n",
      "1      22            0   1.06778   1.06941  1.06705    1.06791  \n",
      "2      24            0   1.06793   1.07000  1.06760    1.06784  \n",
      "3      23            0   1.06780   1.06896  1.06735    1.06826  \n",
      "4      22            0   1.06826   1.06859  1.06792    1.06837  \n"
     ]
    }
   ],
   "source": [
    "import MetaTrader5 as mt5\n",
    "import pandas as pd\n",
    "from datetime import datetime\n",
    "\n",
    "# Initialize the MT5 connection\n",
    "if not mt5.initialize():\n",
    "    print(\"initialize() failed, error code =\", mt5.last_error())\n",
    "    quit()\n",
    "\n",
    "# Choose the symbol and timeframe\n",
    "symbol = \"EURUSD\"\n",
    "timeframe = mt5.TIMEFRAME_H1  # Hourly timeframe\n",
    "\n",
    "# Define the period you want to retrieve data for\n",
    "# For example, get data for the last 1000 hours\n",
    "utc_from = datetime(2023, 1, 1)\n",
    "utc_to = datetime.now()\n",
    "\n",
    "# Requesting hourly bars starting from position 0 (the latest bar)\n",
    "rates = mt5.copy_rates_range(symbol, timeframe, utc_from, utc_to)\n",
    "\n",
    "# Shutdown MT5 connection\n",
    "mt5.shutdown()\n",
    "\n",
    "# Check if data is retrieved successfully\n",
    "if rates is None:\n",
    "    print(\"No data, error code =\", mt5.last_error())\n",
    "else:\n",
    "    print(f\"Retrieved {len(rates)} hourly bars\")\n",
    "\n",
    "# Convert the rates to a pandas DataFrame\n",
    "rates_frame = pd.DataFrame(rates)\n",
    "\n",
    "# Convert the time in seconds into a datetime format\n",
    "rates_frame['time'] = pd.to_datetime(rates_frame['time'], unit='s')\n",
    "\n",
    "# Extract only the ask data\n",
    "# Note: MT5 returns 'open', 'high', 'low', 'close' prices, but not separate ask prices.\n",
    "# These are typically bid prices. MT5 doesn't directly provide ask prices in historical data.\n",
    "# As a workaround, you might need to adjust the bid prices with a known spread.\n",
    "# Here we assume ask = bid + spread (spread needs to be defined)\n",
    "spread = 0.0001  # Example spread\n",
    "rates_frame['ask_open'] = rates_frame['open'] + spread\n",
    "rates_frame['ask_high'] = rates_frame['high'] + spread\n",
    "rates_frame['ask_low'] = rates_frame['low'] + spread\n",
    "rates_frame['ask_close'] = rates_frame['close'] + spread\n",
    "\n",
    "# Display the DataFrame\n",
    "print(rates_frame.head())\n",
    "\n",
    "# Save to CSV if needed\n",
    "rates_frame.to_csv('hourly_ask_data.csv', index=False)\n"
   ]
  },
  {
   "cell_type": "code",
   "execution_count": 17,
   "metadata": {},
   "outputs": [
    {
     "name": "stdout",
     "output_type": "stream",
     "text": [
      "Retrieved 30 hourly bars\n",
      "                  time     open     high      low    close  tick_volume   \n",
      "0  2024-05-30 18:00:00  1.08399  1.08441  1.08352  1.08354         3231  \\\n",
      "1  2024-05-30 19:00:00  1.08358  1.08412  1.08349  1.08389         2451   \n",
      "2  2024-05-30 20:00:00  1.08390  1.08423  1.08381  1.08381         1190   \n",
      "3  2024-05-30 21:00:00  1.08380  1.08390  1.08343  1.08358         1648   \n",
      "4  2024-05-30 22:00:00  1.08358  1.08358  1.08259  1.08292         2062   \n",
      "5  2024-05-30 23:00:00  1.08291  1.08317  1.08280  1.08306          855   \n",
      "6  2024-05-31 00:00:00  1.08304  1.08335  1.08252  1.08325          792   \n",
      "7  2024-05-31 01:00:00  1.08329  1.08329  1.08311  1.08324          582   \n",
      "8  2024-05-31 02:00:00  1.08324  1.08326  1.08299  1.08303          482   \n",
      "9  2024-05-31 03:00:00  1.08304  1.08326  1.08283  1.08311         1913   \n",
      "10 2024-05-31 04:00:00  1.08311  1.08326  1.08193  1.08193         2032   \n",
      "11 2024-05-31 05:00:00  1.08191  1.08214  1.08104  1.08104         1457   \n",
      "12 2024-05-31 06:00:00  1.08104  1.08190  1.08102  1.08182         1697   \n",
      "13 2024-05-31 07:00:00  1.08183  1.08185  1.08146  1.08174         1241   \n",
      "14 2024-05-31 08:00:00  1.08173  1.08204  1.08160  1.08186         1162   \n",
      "15 2024-05-31 09:00:00  1.08189  1.08246  1.08136  1.08231         2383   \n",
      "16 2024-05-31 10:00:00  1.08232  1.08241  1.08157  1.08219         2976   \n",
      "17 2024-05-31 11:00:00  1.08218  1.08375  1.08216  1.08328         2705   \n",
      "18 2024-05-31 12:00:00  1.08328  1.08470  1.08325  1.08465         3387   \n",
      "19 2024-05-31 13:00:00  1.08467  1.08505  1.08435  1.08487         2210   \n",
      "20 2024-05-31 14:00:00  1.08487  1.08544  1.08472  1.08517         2445   \n",
      "21 2024-05-31 15:00:00  1.08518  1.08813  1.08483  1.08792         6103   \n",
      "22 2024-05-31 16:00:00  1.08791  1.08798  1.08643  1.08679         4943   \n",
      "23 2024-05-31 17:00:00  1.08678  1.08766  1.08503  1.08548         6394   \n",
      "24 2024-05-31 18:00:00  1.08545  1.08580  1.08407  1.08450         4732   \n",
      "25 2024-05-31 19:00:00  1.08451  1.08512  1.08388  1.08463         2404   \n",
      "26 2024-05-31 20:00:00  1.08461  1.08518  1.08443  1.08461         1680   \n",
      "27 2024-05-31 21:00:00  1.08461  1.08481  1.08400  1.08415         2257   \n",
      "28 2024-05-31 22:00:00  1.08416  1.08503  1.08396  1.08500         2436   \n",
      "29 2024-05-31 23:00:00  1.08501  1.08511  1.08453  1.08482         1324   \n",
      "\n",
      "    spread  real_volume  \n",
      "0       18            0  \n",
      "1       18            0  \n",
      "2       18            0  \n",
      "3       18            0  \n",
      "4       18            0  \n",
      "5       18            0  \n",
      "6       18            0  \n",
      "7       18            0  \n",
      "8       19            0  \n",
      "9       18            0  \n",
      "10      18            0  \n",
      "11      18            0  \n",
      "12      18            0  \n",
      "13      18            0  \n",
      "14      18            0  \n",
      "15      18            0  \n",
      "16      18            0  \n",
      "17      18            0  \n",
      "18      18            0  \n",
      "19      18            0  \n",
      "20      18            0  \n",
      "21      18            0  \n",
      "22      18            0  \n",
      "23      18            0  \n",
      "24      18            0  \n",
      "25      18            0  \n",
      "26      18            0  \n",
      "27      18            0  \n",
      "28      18            0  \n",
      "29      18            0  \n"
     ]
    }
   ],
   "source": [
    "import MetaTrader5 as mt5\n",
    "import pandas as pd\n",
    "from datetime import datetime\n",
    "\n",
    "# Initialize the MT5 connection\n",
    "if not mt5.initialize():\n",
    "    print(\"initialize() failed, error code =\", mt5.last_error())\n",
    "    quit()\n",
    "\n",
    "# Choose the symbol and timeframe\n",
    "symbol = \"EURUSD\"\n",
    "timeframe = mt5.TIMEFRAME_H1  # Hourly timeframe\n",
    "\n",
    "# Define the number of bars you want to retrieve\n",
    "num_bars = 30\n",
    "\n",
    "# Requesting the last hour's data\n",
    "rates = mt5.copy_rates_from_pos(symbol, timeframe, 0, num_bars)\n",
    "\n",
    "# # Shutdown MT5 connection\n",
    "# mt5.shutdown()\n",
    "\n",
    "# Check if data is retrieved successfully\n",
    "if rates is None or len(rates) == 0:\n",
    "    print(\"No data, error code =\", mt5.last_error())\n",
    "else:\n",
    "    print(f\"Retrieved {len(rates)} hourly bars\")\n",
    "\n",
    "# Convert the rates to a pandas DataFrame\n",
    "rates_frame = pd.DataFrame(rates)\n",
    "\n",
    "# Convert the time in seconds into a datetime format\n",
    "rates_frame['time'] = pd.to_datetime(rates_frame['time'], unit='s')\n",
    "\n",
    "# Extract only the ask data\n",
    "# Note: MT5 returns 'open', 'high', 'low', 'close' prices, but not separate ask prices.\n",
    "# These are typically bid prices. MT5 doesn't directly provide ask prices in historical data.\n",
    "# As a workaround, you might need to adjust the bid prices with a known spread.\n",
    "# Here we assume ask = bid + spread (spread needs to be defined)\n",
    "# spread = 0.0001  # Example spread\n",
    "# rates_frame['ask_open'] = rates_frame['open'] + spread\n",
    "# rates_frame['ask_high'] = rates_frame['high'] + spread\n",
    "# rates_frame['ask_low'] = rates_frame['low'] + spread\n",
    "# rates_frame['ask_close'] = rates_frame['close'] + spread\n",
    "\n",
    "# Display the DataFrame\n",
    "print(rates_frame)\n",
    "\n",
    "\n"
   ]
  },
  {
   "cell_type": "code",
   "execution_count": 16,
   "metadata": {},
   "outputs": [
    {
     "data": {
      "text/html": [
       "<div>\n",
       "<style scoped>\n",
       "    .dataframe tbody tr th:only-of-type {\n",
       "        vertical-align: middle;\n",
       "    }\n",
       "\n",
       "    .dataframe tbody tr th {\n",
       "        vertical-align: top;\n",
       "    }\n",
       "\n",
       "    .dataframe thead th {\n",
       "        text-align: right;\n",
       "    }\n",
       "</style>\n",
       "<table border=\"1\" class=\"dataframe\">\n",
       "  <thead>\n",
       "    <tr style=\"text-align: right;\">\n",
       "      <th></th>\n",
       "      <th>time</th>\n",
       "      <th>open</th>\n",
       "      <th>high</th>\n",
       "      <th>low</th>\n",
       "      <th>close</th>\n",
       "      <th>tick_volume</th>\n",
       "      <th>spread</th>\n",
       "      <th>real_volume</th>\n",
       "    </tr>\n",
       "  </thead>\n",
       "  <tbody>\n",
       "    <tr>\n",
       "      <th>0</th>\n",
       "      <td>2024-05-31 23:00:00</td>\n",
       "      <td>1.08501</td>\n",
       "      <td>1.08511</td>\n",
       "      <td>1.08453</td>\n",
       "      <td>1.08482</td>\n",
       "      <td>1324</td>\n",
       "      <td>18</td>\n",
       "      <td>0</td>\n",
       "    </tr>\n",
       "  </tbody>\n",
       "</table>\n",
       "</div>"
      ],
      "text/plain": [
       "                 time     open     high      low    close  tick_volume   \n",
       "0 2024-05-31 23:00:00  1.08501  1.08511  1.08453  1.08482         1324  \\\n",
       "\n",
       "   spread  real_volume  \n",
       "0      18            0  "
      ]
     },
     "execution_count": 16,
     "metadata": {},
     "output_type": "execute_result"
    }
   ],
   "source": [
    "rates_frame"
   ]
  }
 ],
 "metadata": {
  "kernelspec": {
   "display_name": "Python 3 (ipykernel)",
   "language": "python",
   "name": "python3"
  },
  "language_info": {
   "codemirror_mode": {
    "name": "ipython",
    "version": 3
   },
   "file_extension": ".py",
   "mimetype": "text/x-python",
   "name": "python",
   "nbconvert_exporter": "python",
   "pygments_lexer": "ipython3",
   "version": "3.10.0"
  }
 },
 "nbformat": 4,
 "nbformat_minor": 4
}
