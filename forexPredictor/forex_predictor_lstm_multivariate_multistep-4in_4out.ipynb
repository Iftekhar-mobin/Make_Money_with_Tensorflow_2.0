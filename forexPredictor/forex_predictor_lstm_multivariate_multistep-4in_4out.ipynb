{
 "cells": [
  {
   "cell_type": "code",
   "execution_count": 27,
   "id": "7a38a7e1",
   "metadata": {},
   "outputs": [],
   "source": [
    "import numpy as np\n",
    "import pandas as pd\n",
    "from math import sqrt\n",
    "from sklearn.impute import SimpleImputer\n",
    "from sklearn.preprocessing import MinMaxScaler, StandardScaler, LabelEncoder\n",
    "# To fetch financial data\n",
    "import yfinance as yf\n",
    "\n",
    "# For visualisation\n",
    "import matplotlib.pyplot as plt\n",
    "plt.style.use('seaborn-darkgrid')\n",
    "%matplotlib inline"
   ]
  },
  {
   "cell_type": "code",
   "execution_count": 3,
   "id": "33e54275",
   "metadata": {},
   "outputs": [
    {
     "name": "stdout",
     "output_type": "stream",
     "text": [
      "[*********************100%***********************]  1 of 1 completed\n"
     ]
    },
    {
     "data": {
      "text/html": [
       "<div>\n",
       "<style scoped>\n",
       "    .dataframe tbody tr th:only-of-type {\n",
       "        vertical-align: middle;\n",
       "    }\n",
       "\n",
       "    .dataframe tbody tr th {\n",
       "        vertical-align: top;\n",
       "    }\n",
       "\n",
       "    .dataframe thead th {\n",
       "        text-align: right;\n",
       "    }\n",
       "</style>\n",
       "<table border=\"1\" class=\"dataframe\">\n",
       "  <thead>\n",
       "    <tr style=\"text-align: right;\">\n",
       "      <th></th>\n",
       "      <th>Open</th>\n",
       "      <th>High</th>\n",
       "      <th>Low</th>\n",
       "      <th>Close</th>\n",
       "      <th>Adj Close</th>\n",
       "      <th>Volume</th>\n",
       "    </tr>\n",
       "    <tr>\n",
       "      <th>Date</th>\n",
       "      <th></th>\n",
       "      <th></th>\n",
       "      <th></th>\n",
       "      <th></th>\n",
       "      <th></th>\n",
       "      <th></th>\n",
       "    </tr>\n",
       "  </thead>\n",
       "  <tbody>\n",
       "    <tr>\n",
       "      <th>2021-12-24</th>\n",
       "      <td>1.132464</td>\n",
       "      <td>1.134430</td>\n",
       "      <td>1.130838</td>\n",
       "      <td>1.132734</td>\n",
       "      <td>1.132734</td>\n",
       "      <td>0</td>\n",
       "    </tr>\n",
       "    <tr>\n",
       "      <th>2021-12-27</th>\n",
       "      <td>1.132387</td>\n",
       "      <td>1.133500</td>\n",
       "      <td>1.130416</td>\n",
       "      <td>1.132426</td>\n",
       "      <td>1.132426</td>\n",
       "      <td>0</td>\n",
       "    </tr>\n",
       "    <tr>\n",
       "      <th>2021-12-28</th>\n",
       "      <td>1.132978</td>\n",
       "      <td>1.133600</td>\n",
       "      <td>1.129038</td>\n",
       "      <td>1.133003</td>\n",
       "      <td>1.133003</td>\n",
       "      <td>0</td>\n",
       "    </tr>\n",
       "    <tr>\n",
       "      <th>2021-12-29</th>\n",
       "      <td>1.131337</td>\n",
       "      <td>1.137001</td>\n",
       "      <td>1.127536</td>\n",
       "      <td>1.131478</td>\n",
       "      <td>1.131478</td>\n",
       "      <td>0</td>\n",
       "    </tr>\n",
       "    <tr>\n",
       "      <th>2021-12-30</th>\n",
       "      <td>1.135976</td>\n",
       "      <td>1.135976</td>\n",
       "      <td>1.130071</td>\n",
       "      <td>1.136015</td>\n",
       "      <td>1.136015</td>\n",
       "      <td>0</td>\n",
       "    </tr>\n",
       "  </tbody>\n",
       "</table>\n",
       "</div>"
      ],
      "text/plain": [
       "                Open      High       Low     Close  Adj Close  Volume\n",
       "Date                                                                 \n",
       "2021-12-24  1.132464  1.134430  1.130838  1.132734   1.132734       0\n",
       "2021-12-27  1.132387  1.133500  1.130416  1.132426   1.132426       0\n",
       "2021-12-28  1.132978  1.133600  1.129038  1.133003   1.133003       0\n",
       "2021-12-29  1.131337  1.137001  1.127536  1.131478   1.131478       0\n",
       "2021-12-30  1.135976  1.135976  1.130071  1.136015   1.136015       0"
      ]
     },
     "execution_count": 3,
     "metadata": {},
     "output_type": "execute_result"
    }
   ],
   "source": [
    "# Set the ticker as 'EURUSD=X'\n",
    "forex_data = yf.download('EURUSD=X', start='2019-01-02', end='2021-12-31')\n",
    "\n",
    "# Set the index to a datetime object\n",
    "forex_data.index = pd.to_datetime(forex_data.index)\n",
    "\n",
    "# Display the last five rows\n",
    "forex_data.tail()\n",
    "\n",
    "# Set the ticker as 'EURUSD=X'\n",
    "forex_data = yf.download('GBPUSD=X', period='120d', interval='1h')\n",
    "\n",
    "# Set the index to a datetime object\n",
    "forex_data.index = pd.to_datetime(forex_data.index)\n",
    "\n",
    "# Display the last five rows\n",
    "forex_data.tail()\n",
    "\n",
    "forex_data.to_csv('a.csv')"
   ]
  },
  {
   "cell_type": "code",
   "execution_count": 28,
   "id": "2af3c29c",
   "metadata": {},
   "outputs": [
    {
     "name": "stdout",
     "output_type": "stream",
     "text": [
      "Checkinf for NaN and Inf\n",
      "np.nan= (array([], dtype=int64), array([], dtype=int64))\n",
      "is.inf= (array([], dtype=int64), array([], dtype=int64))\n",
      "********************************************\n",
      "scaled values [[0.96718009 0.96521573 0.97892358 0.96656051]\n",
      " [0.96767054 0.96958347 0.98231184 0.97167043]\n",
      " [0.97267926 0.97117362 0.98350863 0.96999894]\n",
      " ...\n",
      " [0.02960338 0.01992157 0.02916602 0.02896081]\n",
      " [0.02855164 0.01612518 0.02901304 0.02835956]\n",
      " [0.02967831 0.01612518 0.03015792 0.02835956]]\n"
     ]
    }
   ],
   "source": [
    "# load dataset\n",
    "dataset = pd.read_csv('a.csv', header=0, usecols=['Open','High','Low','Close'])\n",
    "\n",
    "#dataset.drop('dma', axis=1, inplace=True)\n",
    "\n",
    "#print(\"column number\")\n",
    "#print(dataset.columns,len(dataset.columns),len(dataset.index))\n",
    "\n",
    "\n",
    "dt = dataset.values\n",
    "d = dt.astype(float)\n",
    "\n",
    "print(\"Checkinf for NaN and Inf\")\n",
    "print( \"np.nan=\", np.where(np.isnan(d)))\n",
    "print( \"is.inf=\", np.where(np.isinf(d)))\n",
    "\n",
    "print(\"********************************************\")\n",
    "imp = SimpleImputer(missing_values=np.nan, strategy='mean')\n",
    "imp.fit(d)\n",
    "d = imp.fit_transform(d)\n",
    "\n",
    "# normalize features\n",
    "scaler = MinMaxScaler(feature_range=(0, 1))\n",
    "scaled = scaler.fit_transform(d)\n",
    "print(\"scaled values\",scaled)\n",
    "\n",
    "# specify the number of lag hours\n",
    "n_hours = 4\n",
    "n_features = len(dataset.columns)\n",
    "n_ahead = 4\n",
    "n_obs = n_hours*n_features\n",
    "dropnan=True"
   ]
  },
  {
   "cell_type": "code",
   "execution_count": 29,
   "id": "2ee93fd2",
   "metadata": {},
   "outputs": [],
   "source": [
    "# convert series to supervised learning\n",
    "def series_to_supervised(data, n_in=1, n_out=1, dropnan=True):\n",
    "\tn_vars = 1 if type(data) is list else data.shape[1]\n",
    "\tdf = pd.DataFrame(data)\n",
    "\tcols, names = list(), list()\n",
    "\t# input sequence (t-n, ... t-1)\n",
    "\tfor i in range(n_in, 0, -1):\n",
    "\t\tcols.append(df.shift(i))\n",
    "\t\tnames += [('var%d(t-%d)' % (j+1, i)) for j in range(n_vars)]\n",
    "\t# forecast sequence (t, t+1, ... t+n)\n",
    "\tfor i in range(0, n_out):\n",
    "\t\tcols.append(df.shift(-i))\n",
    "\t\tif i == 0:\n",
    "\t\t\tnames += [('var%d(t)' % (j+1)) for j in range(n_vars)]\n",
    "\t\telse:\n",
    "\t\t\tnames += [('var%d(t+%d)' % (j+1, i)) for j in range(n_vars)]\n",
    "\t# put it all together\n",
    "\tagg = pd.concat(cols, axis=1)\n",
    "\tagg.columns = names\n",
    "\t# drop rows with NaN values\n",
    "\tif dropnan:\n",
    "\t\tagg.dropna(inplace=True)\n",
    "\treturn agg\n",
    " \n",
    "\n",
    "    "
   ]
  },
  {
   "cell_type": "code",
   "execution_count": 30,
   "id": "0eb15cd7",
   "metadata": {},
   "outputs": [
    {
     "name": "stdout",
     "output_type": "stream",
     "text": [
      "column number\n",
      "Index(['var1(t-4)', 'var2(t-4)', 'var3(t-4)', 'var4(t-4)', 'var1(t-3)',\n",
      "       'var2(t-3)', 'var3(t-3)', 'var4(t-3)', 'var1(t-2)', 'var2(t-2)',\n",
      "       'var3(t-2)', 'var4(t-2)', 'var1(t-1)', 'var2(t-1)', 'var3(t-1)',\n",
      "       'var4(t-1)', 'var1(t)', 'var2(t)', 'var3(t)', 'var4(t)', 'var1(t+1)',\n",
      "       'var2(t+1)', 'var3(t+1)', 'var4(t+1)', 'var1(t+2)', 'var2(t+2)',\n",
      "       'var3(t+2)', 'var4(t+2)', 'var1(t+3)', 'var2(t+3)', 'var3(t+3)',\n",
      "       'var4(t+3)'],\n",
      "      dtype='object') 32 2834\n"
     ]
    }
   ],
   "source": [
    "# frame as supervised learning\n",
    "reframed = series_to_supervised(scaled, n_hours, n_ahead)\n",
    "print(\"column number\")\n",
    "print(reframed.columns,len(reframed.columns), len(reframed.index))"
   ]
  },
  {
   "cell_type": "code",
   "execution_count": 32,
   "id": "3ca43c00",
   "metadata": {},
   "outputs": [
    {
     "name": "stdout",
     "output_type": "stream",
     "text": [
      "(2777, 16) 2777 (2777,)\n"
     ]
    }
   ],
   "source": [
    "# split into train and test sets\n",
    "values = reframed.values\n",
    "train_size = int(len(values) * 0.98)\n",
    "test_size = len(values) - train_size\n",
    "train, test = values[0:train_size,:], values[train_size:len(dataset),:]\n",
    "\n",
    "# split into input and outputs\n",
    "n_obs = n_hours * n_features\n",
    "train_X, train_y = train[:, :n_obs], train[:, -n_features]\n",
    "test_X, test_y = test[:, :n_obs], test[:, -n_features]\n",
    "print(train_X.shape, len(train_X), train_y.shape)\n",
    "\n",
    "# reshape input to be 3D [samples, timesteps, features]\n",
    "train_X = train_X.reshape((train_X.shape[0], n_hours, n_features))\n",
    "test_X = test_X.reshape((test_X.shape[0], n_hours, n_features))"
   ]
  },
  {
   "cell_type": "code",
   "execution_count": 33,
   "id": "5a6b27c0",
   "metadata": {},
   "outputs": [],
   "source": [
    "from numpy import concatenate\n",
    "from matplotlib import pyplot\n",
    "from tqdm import trange  \n",
    "from sklearn.preprocessing import MinMaxScaler, StandardScaler, LabelEncoder\n",
    "from sklearn.metrics import mean_squared_error\n",
    "from tensorflow.keras.models import Sequential, model_from_json\n",
    "from tensorflow.keras.layers import LSTM, Dense, Dropout, Bidirectional, RepeatVector, TimeDistributed\n",
    "from tensorflow.keras.models import load_model"
   ]
  },
  {
   "cell_type": "code",
   "execution_count": 60,
   "id": "d500cfa8",
   "metadata": {},
   "outputs": [
    {
     "name": "stdout",
     "output_type": "stream",
     "text": [
      "Train on 2777 samples, validate on 57 samples\n",
      "Epoch 1/20\n",
      "2777/2777 - 8s - loss: 0.2440 - val_loss: 0.0540\n",
      "Epoch 2/20\n",
      "2777/2777 - 2s - loss: 0.0656 - val_loss: 0.0473\n",
      "Epoch 3/20\n",
      "2777/2777 - 2s - loss: 0.0436 - val_loss: 0.0289\n",
      "Epoch 4/20\n",
      "2777/2777 - 2s - loss: 0.0397 - val_loss: 0.0231\n",
      "Epoch 5/20\n",
      "2777/2777 - 2s - loss: 0.0379 - val_loss: 0.0182\n",
      "Epoch 6/20\n",
      "2777/2777 - 2s - loss: 0.0354 - val_loss: 0.0156\n",
      "Epoch 7/20\n",
      "2777/2777 - 2s - loss: 0.0339 - val_loss: 0.0140\n",
      "Epoch 8/20\n",
      "2777/2777 - 2s - loss: 0.0299 - val_loss: 0.0133\n",
      "Epoch 9/20\n",
      "2777/2777 - 2s - loss: 0.0276 - val_loss: 0.0139\n",
      "Epoch 10/20\n",
      "2777/2777 - 2s - loss: 0.0294 - val_loss: 0.0144\n",
      "Epoch 11/20\n",
      "2777/2777 - 2s - loss: 0.0269 - val_loss: 0.0133\n",
      "Epoch 12/20\n",
      "2777/2777 - 2s - loss: 0.0271 - val_loss: 0.0132\n",
      "Epoch 13/20\n",
      "2777/2777 - 2s - loss: 0.0343 - val_loss: 0.0154\n",
      "Epoch 14/20\n",
      "2777/2777 - 2s - loss: 0.0304 - val_loss: 0.0136\n",
      "Epoch 15/20\n",
      "2777/2777 - 2s - loss: 0.0264 - val_loss: 0.0122\n",
      "Epoch 16/20\n",
      "2777/2777 - 2s - loss: 0.0270 - val_loss: 0.0135\n",
      "Epoch 17/20\n",
      "2777/2777 - 2s - loss: 0.0265 - val_loss: 0.0150\n",
      "Epoch 18/20\n",
      "2777/2777 - 2s - loss: 0.0269 - val_loss: 0.0129\n",
      "Epoch 19/20\n",
      "2777/2777 - 2s - loss: 0.0243 - val_loss: 0.0147\n",
      "Epoch 20/20\n",
      "2777/2777 - 2s - loss: 0.0258 - val_loss: 0.0120\n"
     ]
    }
   ],
   "source": [
    "model = Sequential()\n",
    "\n",
    "batchsize = 20\n",
    "# design network\n",
    "model.add(Bidirectional(LSTM(50,  activation='relu', input_shape=(n_hours, n_features), return_sequences=True)))\n",
    "model.add(Dropout(0.2))\n",
    "model.add(LSTM(20, activation='relu'))\n",
    "model.add(Dense(n_ahead))\n",
    "model.compile(loss='mae', optimizer='adam')\n",
    "\n",
    "# fit network\n",
    "history = model.fit(train_X, train_y, epochs=20, batch_size=batchsize, validation_data=(test_X, test_y), verbose=2, shuffle=False)\n"
   ]
  },
  {
   "cell_type": "code",
   "execution_count": 61,
   "id": "e37df01f",
   "metadata": {},
   "outputs": [
    {
     "data": {
      "text/plain": [
       "(57, 4)"
      ]
     },
     "execution_count": 61,
     "metadata": {},
     "output_type": "execute_result"
    }
   ],
   "source": [
    "# make a prediction\n",
    "yhat = model.predict(test_X)\n",
    "test_X.shape\n",
    "\n",
    "yhat.shape"
   ]
  },
  {
   "cell_type": "code",
   "execution_count": 62,
   "id": "89801946",
   "metadata": {},
   "outputs": [
    {
     "data": {
      "image/png": "[encoded data removed]",
      "text/plain": [
       "<Figure size 432x288 with 1 Axes>"
      ]
     },
     "metadata": {
      "needs_background": "light"
     },
     "output_type": "display_data"
    }
   ],
   "source": [
    "\n",
    "# plot history\n",
    "pyplot.plot(history.history['loss'], label='train')\n",
    "pyplot.plot(history.history['val_loss'], label='test')\n",
    "pyplot.legend()\n",
    "pyplot.show()"
   ]
  },
  {
   "cell_type": "code",
   "execution_count": 20,
   "id": "fbc98749",
   "metadata": {},
   "outputs": [
    {
     "data": {
      "text/plain": [
       "0.02674523325522106"
      ]
     },
     "execution_count": 20,
     "metadata": {},
     "output_type": "execute_result"
    }
   ],
   "source": [
    "scores"
   ]
  },
  {
   "cell_type": "code",
   "execution_count": 63,
   "id": "ee3da4ef",
   "metadata": {},
   "outputs": [
    {
     "name": "stdout",
     "output_type": "stream",
     "text": [
      "['loss'] 6.663392570176955\n"
     ]
    }
   ],
   "source": [
    "# evaluate the model\n",
    "scores = model.evaluate(train_X, train_y, verbose=0)\n",
    "print(model.metrics_names, scores*100)"
   ]
  },
  {
   "cell_type": "code",
   "execution_count": 64,
   "id": "8a37ea63",
   "metadata": {},
   "outputs": [
    {
     "name": "stdout",
     "output_type": "stream",
     "text": [
      "Saved model to disk\n"
     ]
    }
   ],
   "source": [
    "# serialize model to JSON\n",
    "model_json = model.to_json()\n",
    "with open(\"model.json\", \"w\") as json_file:\n",
    "    json_file.write(model_json)\n",
    "# serialize weights to HDF5\n",
    "model.save_weights(\"model.h5\")\n",
    "print(\"Saved model to disk\")"
   ]
  },
  {
   "cell_type": "code",
   "execution_count": 65,
   "id": "66b7ff9f",
   "metadata": {},
   "outputs": [
    {
     "name": "stdout",
     "output_type": "stream",
     "text": [
      "Loaded model from disk\n"
     ]
    }
   ],
   "source": [
    "# load json and create model\n",
    "json_file = open('model.json', 'r')\n",
    "loaded_model_json = json_file.read()\n",
    "json_file.close()\n",
    "loaded_model = model_from_json(loaded_model_json)\n",
    "# load weights into new model\n",
    "loaded_model.load_weights(\"model.h5\")\n",
    "print(\"Loaded model from disk\")\n"
   ]
  },
  {
   "cell_type": "code",
   "execution_count": 66,
   "id": "7e108bf1",
   "metadata": {},
   "outputs": [
    {
     "data": {
      "text/plain": [
       "(57, 4)"
      ]
     },
     "execution_count": 66,
     "metadata": {},
     "output_type": "execute_result"
    }
   ],
   "source": [
    "# make a prediction\n",
    "yhat = loaded_model.predict(test_X)\n",
    "test_X.shape\n",
    "\n",
    "yhat.shape"
   ]
  },
  {
   "cell_type": "code",
   "execution_count": 67,
   "id": "938c20a5",
   "metadata": {},
   "outputs": [],
   "source": [
    "test_X = test_X.reshape((test_X.shape[0], n_hours*n_features))"
   ]
  },
  {
   "cell_type": "code",
   "execution_count": 69,
   "id": "676bda10",
   "metadata": {},
   "outputs": [
    {
     "name": "stdout",
     "output_type": "stream",
     "text": [
      "Test RMSE: 0.015\n"
     ]
    }
   ],
   "source": [
    "# invert scaling for forecast\n",
    "inv_yhat = concatenate((yhat, test_X[:, -n_hours:]), axis=1)\n",
    "# inv_yhat = scaler.inverse_transform(inv_yhat)\n",
    "inv_yhat = inv_yhat[:,0]\n",
    "\n",
    "\n",
    "# invert scaling for actual\n",
    "test_y = test_y.reshape((len(test_y), 1))\n",
    "inv_y = concatenate((test_y, test_X[:, -n_hours:]), axis=1)\n",
    "# inv_y = scaler.inverse_transform(inv_y)\n",
    "inv_y = inv_y[:,0]\n",
    "# calculate RMSE\n",
    "rmse = sqrt(mean_squared_error(inv_y, inv_yhat))\n",
    "print('Test RMSE: %.3f' % rmse)"
   ]
  },
  {
   "cell_type": "code",
   "execution_count": 70,
   "id": "1e55f485",
   "metadata": {},
   "outputs": [
    {
     "data": {
      "image/png": "[encoded data removed]",
      "text/plain": [
       "<Figure size 432x288 with 1 Axes>"
      ]
     },
     "metadata": {
      "needs_background": "light"
     },
     "output_type": "display_data"
    }
   ],
   "source": [
    "    pyplot.plot(inv_yhat)\n",
    "    pyplot.plot(inv_y)\n",
    "    pyplot.show()"
   ]
  },
  {
   "cell_type": "code",
   "execution_count": 71,
   "id": "e09720be",
   "metadata": {},
   "outputs": [
    {
     "data": {
      "text/plain": [
       "[<matplotlib.lines.Line2D at 0x7fb9a22a41d0>,\n",
       " <matplotlib.lines.Line2D at 0x7fb9a227eef0>,\n",
       " <matplotlib.lines.Line2D at 0x7fb9a227ef98>,\n",
       " <matplotlib.lines.Line2D at 0x7fb9a220a080>]"
      ]
     },
     "execution_count": 71,
     "metadata": {},
     "output_type": "execute_result"
    },
    {
     "data": {
      "image/png": "[encoded data removed]",
      "text/plain": [
       "<Figure size 432x288 with 1 Axes>"
      ]
     },
     "metadata": {
      "needs_background": "light"
     },
     "output_type": "display_data"
    }
   ],
   "source": [
    "# pyplot.plot(train_X_plot[:,-4:-1])\n",
    "# pyplot.plot(trainPredict)\n",
    "# pyplot.show()\n",
    "\n",
    "pyplot.plot(test_X[:,-1])\n",
    "pyplot.plot(yhat)\n",
    "#pyplot.show()"
   ]
  },
  {
   "cell_type": "code",
   "execution_count": 72,
   "id": "17477da8",
   "metadata": {},
   "outputs": [],
   "source": [
    "def make_forecast(model, look_back_buffer: np.ndarray, timesteps: int=1, batch_size: int=1):\n",
    "    forecast_predict = np.empty((0, 1), dtype=np.float32)\n",
    "    forecast_predict[:, :] = np.nan\n",
    "    print(\"forecast_predict and lookBbuffer\", forecast_predict.shape,look_back_buffer.shape)\n",
    "    \n",
    "    num_elements = look_back_buffer.shape[0]\n",
    "    time_ahead = look_back_buffer.shape[1]\n",
    "    feature = look_back_buffer.shape[2]\n",
    "    \n",
    "    flag = 1\n",
    "    for _ in trange(timesteps, desc='predicting data\\t', mininterval=1.0):\n",
    "        # make prediction with current lookback buffer\n",
    "        #cur_predict = model.predict(look_back_buffer, batch_size)\n",
    "        cur_predict = model.predict(look_back_buffer, batch_size)\n",
    "        print(\"Current predict\", cur_predict.shape)\n",
    "        \n",
    "        if flag:\n",
    "            flag = 0\n",
    "            # add prediction to result\n",
    "            forecast_predict = np.concatenate((forecast_predict, cur_predict))\n",
    "            print(\"forecast predict flag 0:\", forecast_predict.shape)\n",
    "        else:\n",
    "            # add prediction to result\n",
    "            forecast_predict = np.concatenate((forecast_predict, cur_predict[-1:]), axis=0)\n",
    "            print(\"forecast predict flag 1:\", forecast_predict.shape)\n",
    "            \n",
    "        #‘C’ means to flaten in row-major (C-style) order.       \n",
    "        look_back_buffer = look_back_buffer.flatten()\n",
    "        look_back_buffer = np.delete(look_back_buffer, 0, axis=0)\n",
    "        print(\"look_back_buffer\",look_back_buffer.shape)\n",
    "                        \n",
    "        # cur_predict = cur_predict.flatten()\n",
    "        look_back_buffer = np.concatenate((look_back_buffer,cur_predict[-1:]))\n",
    "        look_back_buffer = look_back_buffer.reshape(num_elements,time_ahead,feature)        \n",
    "        \n",
    "    return forecast_predict"
   ]
  },
  {
   "cell_type": "code",
   "execution_count": 74,
   "id": "53f7931a",
   "metadata": {},
   "outputs": [
    {
     "data": {
      "text/plain": [
       "(57, 16)"
      ]
     },
     "execution_count": 74,
     "metadata": {},
     "output_type": "execute_result"
    }
   ],
   "source": [
    "test_X.shape"
   ]
  },
  {
   "cell_type": "code",
   "execution_count": 75,
   "id": "a45bc042",
   "metadata": {},
   "outputs": [],
   "source": [
    "test_X = test_X.reshape((test_X.shape[0], n_hours, n_features))"
   ]
  },
  {
   "cell_type": "code",
   "execution_count": 76,
   "id": "51471d84",
   "metadata": {},
   "outputs": [],
   "source": [
    "batchsize = 20\n",
    "forecast_step = 50"
   ]
  },
  {
   "cell_type": "code",
   "execution_count": 77,
   "id": "eff13db4",
   "metadata": {},
   "outputs": [
    {
     "name": "stdout",
     "output_type": "stream",
     "text": [
      "forecast_predict and lookBbuffer (0, 1) (57, 4, 4)\n"
     ]
    },
    {
     "name": "stderr",
     "output_type": "stream",
     "text": [
      "predicting data\t:   0%|          | 0/50 [00:00<?, ?it/s]"
     ]
    },
    {
     "name": "stdout",
     "output_type": "stream",
     "text": [
      "Current predict (57, 4)\n"
     ]
    },
    {
     "name": "stderr",
     "output_type": "stream",
     "text": [
      "\n"
     ]
    },
    {
     "ename": "ValueError",
     "evalue": "all the input array dimensions for the concatenation axis must match exactly, but along dimension 1, the array at index 0 has size 1 and the array at index 1 has size 4",
     "output_type": "error",
     "traceback": [
      "\u001b[0;31m---------------------------------------------------------------------------\u001b[0m",
      "\u001b[0;31mValueError\u001b[0m                                Traceback (most recent call last)",
      "\u001b[0;32m<ipython-input-77-24ad0ed271ce>\u001b[0m in \u001b[0;36m<module>\u001b[0;34m\u001b[0m\n\u001b[0;32m----> 1\u001b[0;31m \u001b[0mforecast_predict\u001b[0m \u001b[0;34m=\u001b[0m \u001b[0mmake_forecast\u001b[0m\u001b[0;34m(\u001b[0m\u001b[0mloaded_model\u001b[0m\u001b[0;34m,\u001b[0m \u001b[0mtest_X\u001b[0m\u001b[0;34m,\u001b[0m \u001b[0mtimesteps\u001b[0m\u001b[0;34m=\u001b[0m\u001b[0mforecast_step\u001b[0m\u001b[0;34m,\u001b[0m \u001b[0mbatch_size\u001b[0m\u001b[0;34m=\u001b[0m\u001b[0mbatchsize\u001b[0m\u001b[0;34m)\u001b[0m\u001b[0;34m\u001b[0m\u001b[0;34m\u001b[0m\u001b[0m\n\u001b[0m\u001b[1;32m      2\u001b[0m \u001b[0mprint\u001b[0m\u001b[0;34m(\u001b[0m\u001b[0;34m\"forecast_predict\"\u001b[0m\u001b[0;34m,\u001b[0m\u001b[0mforecast_predict\u001b[0m\u001b[0;34m.\u001b[0m\u001b[0mshape\u001b[0m\u001b[0;34m)\u001b[0m\u001b[0;34m\u001b[0m\u001b[0;34m\u001b[0m\u001b[0m\n",
      "\u001b[0;32m<ipython-input-72-1a6fb43a7321>\u001b[0m in \u001b[0;36mmake_forecast\u001b[0;34m(model, look_back_buffer, timesteps, batch_size)\u001b[0m\n\u001b[1;32m     18\u001b[0m             \u001b[0mflag\u001b[0m \u001b[0;34m=\u001b[0m \u001b[0;36m0\u001b[0m\u001b[0;34m\u001b[0m\u001b[0;34m\u001b[0m\u001b[0m\n\u001b[1;32m     19\u001b[0m             \u001b[0;31m# add prediction to result\u001b[0m\u001b[0;34m\u001b[0m\u001b[0;34m\u001b[0m\u001b[0;34m\u001b[0m\u001b[0m\n\u001b[0;32m---> 20\u001b[0;31m             \u001b[0mforecast_predict\u001b[0m \u001b[0;34m=\u001b[0m \u001b[0mnp\u001b[0m\u001b[0;34m.\u001b[0m\u001b[0mconcatenate\u001b[0m\u001b[0;34m(\u001b[0m\u001b[0;34m(\u001b[0m\u001b[0mforecast_predict\u001b[0m\u001b[0;34m,\u001b[0m \u001b[0mcur_predict\u001b[0m\u001b[0;34m)\u001b[0m\u001b[0;34m)\u001b[0m\u001b[0;34m\u001b[0m\u001b[0;34m\u001b[0m\u001b[0m\n\u001b[0m\u001b[1;32m     21\u001b[0m             \u001b[0mprint\u001b[0m\u001b[0;34m(\u001b[0m\u001b[0;34m\"forecast predict flag 0:\"\u001b[0m\u001b[0;34m,\u001b[0m \u001b[0mforecast_predict\u001b[0m\u001b[0;34m.\u001b[0m\u001b[0mshape\u001b[0m\u001b[0;34m)\u001b[0m\u001b[0;34m\u001b[0m\u001b[0;34m\u001b[0m\u001b[0m\n\u001b[1;32m     22\u001b[0m         \u001b[0;32melse\u001b[0m\u001b[0;34m:\u001b[0m\u001b[0;34m\u001b[0m\u001b[0;34m\u001b[0m\u001b[0m\n",
      "\u001b[0;32m<__array_function__ internals>\u001b[0m in \u001b[0;36mconcatenate\u001b[0;34m(*args, **kwargs)\u001b[0m\n",
      "\u001b[0;31mValueError\u001b[0m: all the input array dimensions for the concatenation axis must match exactly, but along dimension 1, the array at index 0 has size 1 and the array at index 1 has size 4"
     ]
    }
   ],
   "source": [
    "\n",
    "forecast_predict = make_forecast(loaded_model, test_X, timesteps=forecast_step, batch_size=batchsize)\n",
    "print(\"forecast_predict\",forecast_predict.shape)"
   ]
  },
  {
   "cell_type": "code",
   "execution_count": 89,
   "id": "a88b36af",
   "metadata": {},
   "outputs": [
    {
     "data": {
      "text/plain": [
       "[<matplotlib.lines.Line2D at 0x7f53d429e2b0>]"
      ]
     },
     "execution_count": 89,
     "metadata": {},
     "output_type": "execute_result"
    },
    {
     "data": {
      "image/png": "[encoded data removed]",
      "text/plain": [
       "<Figure size 432x288 with 1 Axes>"
      ]
     },
     "metadata": {
      "needs_background": "light"
     },
     "output_type": "display_data"
    }
   ],
   "source": [
    "pyplot.plot(forecast_predict)"
   ]
  },
  {
   "cell_type": "code",
   "execution_count": 32,
   "id": "183f5909",
   "metadata": {},
   "outputs": [
    {
     "ename": "ValueError",
     "evalue": "non-broadcastable output operand with shape (2270,1) doesn't match the broadcast shape (2270,4)",
     "output_type": "error",
     "traceback": [
      "\u001b[0;31m---------------------------------------------------------------------------\u001b[0m",
      "\u001b[0;31mValueError\u001b[0m                                Traceback (most recent call last)",
      "\u001b[0;32m<ipython-input-32-944a35f7eda2>\u001b[0m in \u001b[0;36m<module>\u001b[0;34m\u001b[0m\n\u001b[1;32m      1\u001b[0m \u001b[0;31m# invert predictions\u001b[0m\u001b[0;34m\u001b[0m\u001b[0;34m\u001b[0m\u001b[0;34m\u001b[0m\u001b[0m\n\u001b[1;32m      2\u001b[0m \u001b[0mtestPredict\u001b[0m \u001b[0;34m=\u001b[0m \u001b[0myhat\u001b[0m\u001b[0;34m\u001b[0m\u001b[0;34m\u001b[0m\u001b[0m\n\u001b[0;32m----> 3\u001b[0;31m \u001b[0mtrainPredict\u001b[0m \u001b[0;34m=\u001b[0m \u001b[0mscaler\u001b[0m\u001b[0;34m.\u001b[0m\u001b[0minverse_transform\u001b[0m\u001b[0;34m(\u001b[0m\u001b[0mtrainPredict\u001b[0m\u001b[0;34m)\u001b[0m\u001b[0;34m\u001b[0m\u001b[0;34m\u001b[0m\u001b[0m\n\u001b[0m\u001b[1;32m      4\u001b[0m \u001b[0mtrainY\u001b[0m \u001b[0;34m=\u001b[0m \u001b[0mscaler\u001b[0m\u001b[0;34m.\u001b[0m\u001b[0minverse_transform\u001b[0m\u001b[0;34m(\u001b[0m\u001b[0;34m[\u001b[0m\u001b[0mtrainY\u001b[0m\u001b[0;34m]\u001b[0m\u001b[0;34m)\u001b[0m\u001b[0;34m\u001b[0m\u001b[0;34m\u001b[0m\u001b[0m\n\u001b[1;32m      5\u001b[0m \u001b[0mtestPredict\u001b[0m \u001b[0;34m=\u001b[0m \u001b[0mscaler\u001b[0m\u001b[0;34m.\u001b[0m\u001b[0minverse_transform\u001b[0m\u001b[0;34m(\u001b[0m\u001b[0mtestPredict\u001b[0m\u001b[0;34m)\u001b[0m\u001b[0;34m\u001b[0m\u001b[0;34m\u001b[0m\u001b[0m\n",
      "\u001b[0;32m~/venvs/experiments/lib/python3.6/site-packages/sklearn/preprocessing/_data.py\u001b[0m in \u001b[0;36minverse_transform\u001b[0;34m(self, X)\u001b[0m\n\u001b[1;32m    459\u001b[0m                         force_all_finite=\"allow-nan\")\n\u001b[1;32m    460\u001b[0m \u001b[0;34m\u001b[0m\u001b[0m\n\u001b[0;32m--> 461\u001b[0;31m         \u001b[0mX\u001b[0m \u001b[0;34m-=\u001b[0m \u001b[0mself\u001b[0m\u001b[0;34m.\u001b[0m\u001b[0mmin_\u001b[0m\u001b[0;34m\u001b[0m\u001b[0;34m\u001b[0m\u001b[0m\n\u001b[0m\u001b[1;32m    462\u001b[0m         \u001b[0mX\u001b[0m \u001b[0;34m/=\u001b[0m \u001b[0mself\u001b[0m\u001b[0;34m.\u001b[0m\u001b[0mscale_\u001b[0m\u001b[0;34m\u001b[0m\u001b[0;34m\u001b[0m\u001b[0m\n\u001b[1;32m    463\u001b[0m         \u001b[0;32mreturn\u001b[0m \u001b[0mX\u001b[0m\u001b[0;34m\u001b[0m\u001b[0;34m\u001b[0m\u001b[0m\n",
      "\u001b[0;31mValueError\u001b[0m: non-broadcastable output operand with shape (2270,1) doesn't match the broadcast shape (2270,4)"
     ]
    }
   ],
   "source": [
    "# invert predictions\n",
    "testPredict = yhat\n",
    "trainPredict = scaler.inverse_transform(trainPredict)\n",
    "trainY = scaler.inverse_transform([trainY])\n",
    "testPredict = scaler.inverse_transform(testPredict)\n",
    "testY = scaler.inverse_transform([testY])\n",
    "\n",
    "forecast_predict = scaler.inverse_transform(forecast_predict)"
   ]
  },
  {
   "cell_type": "code",
   "execution_count": null,
   "id": "6bc3fada",
   "metadata": {},
   "outputs": [],
   "source": []
  },
  {
   "cell_type": "code",
   "execution_count": null,
   "id": "d94b84b4",
   "metadata": {},
   "outputs": [],
   "source": []
  },
  {
   "cell_type": "code",
   "execution_count": null,
   "id": "f6722cc0",
   "metadata": {},
   "outputs": [],
   "source": [
    "\n",
    "\n",
    "# calculate root mean squared error\n",
    "trainScore = math.sqrt(mean_squared_error(trainY[0], trainPredict[:,0]))\n",
    "print('Train Score: %.2f RMSE' % (trainScore))\n",
    "testScore = math.sqrt(mean_squared_error(testY[0], testPredict[:,0]))\n",
    "print('Test Score: %.2f RMSE' % (testScore))\n",
    "# shift train predictions for plotting\n",
    "trainPredictPlot = numpy.empty_like(dataset)\n",
    "trainPredictPlot[:, :] = numpy.nan\n",
    "trainPredictPlot[look_back:len(trainPredict)+look_back, :] = trainPredict\n",
    "# shift test predictions for plotting\n",
    "testPredictPlot = numpy.empty_like(dataset)\n",
    "testPredictPlot[:, :] = numpy.nan\n",
    "testPredictPlot[len(trainPredict)+(look_back*2)+1:len(dataset)-1, :] = testPredict\n",
    "# plot baseline and predictions\n",
    "plt.plot(scaler.inverse_transform(dataset), label='Data')\n",
    "plt.plot(trainPredictPlot, label='trainprediction')\n",
    "plt.plot(testPredictPlot, label='testprediction')\n",
    "plot_data(look_back, trainPredict, testPredict, forecast_predict)\n",
    "#plt.plot(forecast_predict)\n",
    "plt.show()"
   ]
  },
  {
   "cell_type": "code",
   "execution_count": 29,
   "id": "9135a05c",
   "metadata": {},
   "outputs": [
    {
     "data": {
      "image/png": "[encoded data removed]",
      "text/plain": [
       "<Figure size 432x288 with 1 Axes>"
      ]
     },
     "metadata": {
      "needs_background": "light"
     },
     "output_type": "display_data"
    }
   ],
   "source": [
    "# shift test predictions for plotting\n",
    "forecastPredictPlot = np.empty_like(yhat)\n",
    "forecastPredictPlot[:, :] = np.nan\n",
    "forecastplot = np.concatenate((forecastPredictPlot,forecast_predict))\n",
    "pyplot.plot(forecastplot)\n",
    "pyplot.show()\n"
   ]
  },
  {
   "cell_type": "code",
   "execution_count": 2,
   "id": "36df4dac",
   "metadata": {},
   "outputs": [
    {
     "data": {
      "text/plain": [
       "4"
      ]
     },
     "execution_count": 2,
     "metadata": {},
     "output_type": "execute_result"
    }
   ],
   "source": [
    "28%8"
   ]
  }
 ],
 "metadata": {
  "kernelspec": {
   "display_name": "Python 3",
   "language": "python",
   "name": "python3"
  },
  "language_info": {
   "codemirror_mode": {
    "name": "ipython",
    "version": 3
   },
   "file_extension": ".py",
   "mimetype": "text/x-python",
   "name": "python",
   "nbconvert_exporter": "python",
   "pygments_lexer": "ipython3",
   "version": "3.6.9"
  }
 },
 "nbformat": 4,
 "nbformat_minor": 5
}
